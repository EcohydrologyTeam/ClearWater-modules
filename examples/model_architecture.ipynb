{
 "cells": [
  {
   "cell_type": "markdown",
   "id": "25bd6ed5-3bd1-4592-a813-5958221d5a21",
   "metadata": {
    "tags": []
   },
   "source": [
    "# Clearwater Modules Architecture\n",
    "\n",
    "**Author:** Xavier Nogueira"
   ]
  },
  {
   "cell_type": "markdown",
   "id": "95a96e20",
   "metadata": {},
   "source": [
    "# Installation and Setup"
   ]
  },
  {
   "cell_type": "markdown",
   "id": "80133cfc",
   "metadata": {},
   "source": [
    "## Install\n",
    "\n",
    "Carefully follow our **[Installation Instructions](README.md#getting-started)**, especially including:\n",
    "- Creating a virtual environment for this repository (step 3)"
   ]
  },
  {
   "cell_type": "markdown",
   "id": "f73cfdf5",
   "metadata": {},
   "source": [
    "## Import Python Dependancies"
   ]
  },
  {
   "cell_type": "code",
   "execution_count": 1,
   "id": "663a1e5a-4311-42e7-babc-6e254a5ff9cf",
   "metadata": {
    "tags": []
   },
   "outputs": [
    {
     "data": {
      "application/javascript": "(function(root) {\n  function now() {\n    return new Date();\n  }\n\n  var force = true;\n  var py_version = '3.2.2'.replace('rc', '-rc.').replace('.dev', '-dev.');\n  var is_dev = py_version.indexOf(\"+\") !== -1 || py_version.indexOf(\"-\") !== -1;\n  var reloading = false;\n  var Bokeh = root.Bokeh;\n  var bokeh_loaded = Bokeh != null && (Bokeh.version === py_version || (Bokeh.versions !== undefined && Bokeh.versions.has(py_version)));\n\n  if (typeof (root._bokeh_timeout) === \"undefined\" || force) {\n    root._bokeh_timeout = Date.now() + 5000;\n    root._bokeh_failed_load = false;\n  }\n\n  function run_callbacks() {\n    try {\n      root._bokeh_onload_callbacks.forEach(function(callback) {\n        if (callback != null)\n          callback();\n      });\n    } finally {\n      delete root._bokeh_onload_callbacks;\n    }\n    console.debug(\"Bokeh: all callbacks have finished\");\n  }\n\n  function load_libs(css_urls, js_urls, js_modules, js_exports, callback) {\n    if (css_urls == null) css_urls = [];\n    if (js_urls == null) js_urls = [];\n    if (js_modules == null) js_modules = [];\n    if (js_exports == null) js_exports = {};\n\n    root._bokeh_onload_callbacks.push(callback);\n\n    if (root._bokeh_is_loading > 0) {\n      console.debug(\"Bokeh: BokehJS is being loaded, scheduling callback at\", now());\n      return null;\n    }\n    if (js_urls.length === 0 && js_modules.length === 0 && Object.keys(js_exports).length === 0) {\n      run_callbacks();\n      return null;\n    }\n    if (!reloading) {\n      console.debug(\"Bokeh: BokehJS not loaded, scheduling load and callback at\", now());\n    }\n\n    function on_load() {\n      root._bokeh_is_loading--;\n      if (root._bokeh_is_loading === 0) {\n        console.debug(\"Bokeh: all BokehJS libraries/stylesheets loaded\");\n        run_callbacks()\n      }\n    }\n    window._bokeh_on_load = on_load\n\n    function on_error() {\n      console.error(\"failed to load \" + url);\n    }\n\n    var skip = [];\n    if (window.requirejs) {\n      window.requirejs.config({'packages': {}, 'paths': {'jspanel': 'https://cdn.jsdelivr.net/npm/jspanel4@4.12.0/dist/jspanel', 'jspanel-modal': 'https://cdn.jsdelivr.net/npm/jspanel4@4.12.0/dist/extensions/modal/jspanel.modal', 'jspanel-tooltip': 'https://cdn.jsdelivr.net/npm/jspanel4@4.12.0/dist/extensions/tooltip/jspanel.tooltip', 'jspanel-hint': 'https://cdn.jsdelivr.net/npm/jspanel4@4.12.0/dist/extensions/hint/jspanel.hint', 'jspanel-layout': 'https://cdn.jsdelivr.net/npm/jspanel4@4.12.0/dist/extensions/layout/jspanel.layout', 'jspanel-contextmenu': 'https://cdn.jsdelivr.net/npm/jspanel4@4.12.0/dist/extensions/contextmenu/jspanel.contextmenu', 'jspanel-dock': 'https://cdn.jsdelivr.net/npm/jspanel4@4.12.0/dist/extensions/dock/jspanel.dock', 'gridstack': 'https://cdn.jsdelivr.net/npm/gridstack@7.2.3/dist/gridstack-all', 'notyf': 'https://cdn.jsdelivr.net/npm/notyf@3/notyf.min'}, 'shim': {'jspanel': {'exports': 'jsPanel'}, 'gridstack': {'exports': 'GridStack'}}});\n      require([\"jspanel\"], function(jsPanel) {\n\twindow.jsPanel = jsPanel\n\ton_load()\n      })\n      require([\"jspanel-modal\"], function() {\n\ton_load()\n      })\n      require([\"jspanel-tooltip\"], function() {\n\ton_load()\n      })\n      require([\"jspanel-hint\"], function() {\n\ton_load()\n      })\n      require([\"jspanel-layout\"], function() {\n\ton_load()\n      })\n      require([\"jspanel-contextmenu\"], function() {\n\ton_load()\n      })\n      require([\"jspanel-dock\"], function() {\n\ton_load()\n      })\n      require([\"gridstack\"], function(GridStack) {\n\twindow.GridStack = GridStack\n\ton_load()\n      })\n      require([\"notyf\"], function() {\n\ton_load()\n      })\n      root._bokeh_is_loading = css_urls.length + 9;\n    } else {\n      root._bokeh_is_loading = css_urls.length + js_urls.length + js_modules.length + Object.keys(js_exports).length;\n    }\n\n    var existing_stylesheets = []\n    var links = document.getElementsByTagName('link')\n    for (var i = 0; i < links.length; i++) {\n      var link = links[i]\n      if (link.href != null) {\n\texisting_stylesheets.push(link.href)\n      }\n    }\n    for (var i = 0; i < css_urls.length; i++) {\n      var url = css_urls[i];\n      if (existing_stylesheets.indexOf(url) !== -1) {\n\ton_load()\n\tcontinue;\n      }\n      const element = document.createElement(\"link\");\n      element.onload = on_load;\n      element.onerror = on_error;\n      element.rel = \"stylesheet\";\n      element.type = \"text/css\";\n      element.href = url;\n      console.debug(\"Bokeh: injecting link tag for BokehJS stylesheet: \", url);\n      document.body.appendChild(element);\n    }    if (((window['jsPanel'] !== undefined) && (!(window['jsPanel'] instanceof HTMLElement))) || window.requirejs) {\n      var urls = ['https://cdn.holoviz.org/panel/1.2.3/dist/bundled/floatpanel/jspanel4@4.12.0/dist/jspanel.js', 'https://cdn.holoviz.org/panel/1.2.3/dist/bundled/floatpanel/jspanel4@4.12.0/dist/extensions/modal/jspanel.modal.js', 'https://cdn.holoviz.org/panel/1.2.3/dist/bundled/floatpanel/jspanel4@4.12.0/dist/extensions/tooltip/jspanel.tooltip.js', 'https://cdn.holoviz.org/panel/1.2.3/dist/bundled/floatpanel/jspanel4@4.12.0/dist/extensions/hint/jspanel.hint.js', 'https://cdn.holoviz.org/panel/1.2.3/dist/bundled/floatpanel/jspanel4@4.12.0/dist/extensions/layout/jspanel.layout.js', 'https://cdn.holoviz.org/panel/1.2.3/dist/bundled/floatpanel/jspanel4@4.12.0/dist/extensions/contextmenu/jspanel.contextmenu.js', 'https://cdn.holoviz.org/panel/1.2.3/dist/bundled/floatpanel/jspanel4@4.12.0/dist/extensions/dock/jspanel.dock.js'];\n      for (var i = 0; i < urls.length; i++) {\n        skip.push(urls[i])\n      }\n    }    if (((window['GridStack'] !== undefined) && (!(window['GridStack'] instanceof HTMLElement))) || window.requirejs) {\n      var urls = ['https://cdn.holoviz.org/panel/1.2.3/dist/bundled/gridstack/gridstack@7.2.3/dist/gridstack-all.js'];\n      for (var i = 0; i < urls.length; i++) {\n        skip.push(urls[i])\n      }\n    }    if (((window['Notyf'] !== undefined) && (!(window['Notyf'] instanceof HTMLElement))) || window.requirejs) {\n      var urls = ['https://cdn.holoviz.org/panel/1.2.3/dist/bundled/notificationarea/notyf@3/notyf.min.js'];\n      for (var i = 0; i < urls.length; i++) {\n        skip.push(urls[i])\n      }\n    }    var existing_scripts = []\n    var scripts = document.getElementsByTagName('script')\n    for (var i = 0; i < scripts.length; i++) {\n      var script = scripts[i]\n      if (script.src != null) {\n\texisting_scripts.push(script.src)\n      }\n    }\n    for (var i = 0; i < js_urls.length; i++) {\n      var url = js_urls[i];\n      if (skip.indexOf(url) !== -1 || existing_scripts.indexOf(url) !== -1) {\n\tif (!window.requirejs) {\n\t  on_load();\n\t}\n\tcontinue;\n      }\n      var element = document.createElement('script');\n      element.onload = on_load;\n      element.onerror = on_error;\n      element.async = false;\n      element.src = url;\n      console.debug(\"Bokeh: injecting script tag for BokehJS library: \", url);\n      document.head.appendChild(element);\n    }\n    for (var i = 0; i < js_modules.length; i++) {\n      var url = js_modules[i];\n      if (skip.indexOf(url) !== -1 || existing_scripts.indexOf(url) !== -1) {\n\tif (!window.requirejs) {\n\t  on_load();\n\t}\n\tcontinue;\n      }\n      var element = document.createElement('script');\n      element.onload = on_load;\n      element.onerror = on_error;\n      element.async = false;\n      element.src = url;\n      element.type = \"module\";\n      console.debug(\"Bokeh: injecting script tag for BokehJS library: \", url);\n      document.head.appendChild(element);\n    }\n    for (const name in js_exports) {\n      var url = js_exports[name];\n      if (skip.indexOf(url) >= 0 || root[name] != null) {\n\tif (!window.requirejs) {\n\t  on_load();\n\t}\n\tcontinue;\n      }\n      var element = document.createElement('script');\n      element.onerror = on_error;\n      element.async = false;\n      element.type = \"module\";\n      console.debug(\"Bokeh: injecting script tag for BokehJS library: \", url);\n      element.textContent = `\n      import ${name} from \"${url}\"\n      window.${name} = ${name}\n      window._bokeh_on_load()\n      `\n      document.head.appendChild(element);\n    }\n    if (!js_urls.length && !js_modules.length) {\n      on_load()\n    }\n  };\n\n  function inject_raw_css(css) {\n    const element = document.createElement(\"style\");\n    element.appendChild(document.createTextNode(css));\n    document.body.appendChild(element);\n  }\n\n  var js_urls = [\"https://cdn.bokeh.org/bokeh/release/bokeh-3.2.2.min.js\", \"https://cdn.bokeh.org/bokeh/release/bokeh-gl-3.2.2.min.js\", \"https://cdn.bokeh.org/bokeh/release/bokeh-widgets-3.2.2.min.js\", \"https://cdn.bokeh.org/bokeh/release/bokeh-tables-3.2.2.min.js\", \"https://cdn.holoviz.org/panel/1.2.3/dist/panel.min.js\"];\n  var js_modules = [];\n  var js_exports = {};\n  var css_urls = [];\n  var inline_js = [    function(Bokeh) {\n      Bokeh.set_log_level(\"info\");\n    },\nfunction(Bokeh) {} // ensure no trailing comma for IE\n  ];\n\n  function run_inline_js() {\n    if ((root.Bokeh !== undefined) || (force === true)) {\n      for (var i = 0; i < inline_js.length; i++) {\n        inline_js[i].call(root, root.Bokeh);\n      }\n      // Cache old bokeh versions\n      if (Bokeh != undefined && !reloading) {\n\tvar NewBokeh = root.Bokeh;\n\tif (Bokeh.versions === undefined) {\n\t  Bokeh.versions = new Map();\n\t}\n\tif (NewBokeh.version !== Bokeh.version) {\n\t  Bokeh.versions.set(NewBokeh.version, NewBokeh)\n\t}\n\troot.Bokeh = Bokeh;\n      }} else if (Date.now() < root._bokeh_timeout) {\n      setTimeout(run_inline_js, 100);\n    } else if (!root._bokeh_failed_load) {\n      console.log(\"Bokeh: BokehJS failed to load within specified timeout.\");\n      root._bokeh_failed_load = true;\n    }\n    root._bokeh_is_initializing = false\n  }\n\n  function load_or_wait() {\n    // Implement a backoff loop that tries to ensure we do not load multiple\n    // versions of Bokeh and its dependencies at the same time.\n    // In recent versions we use the root._bokeh_is_initializing flag\n    // to determine whether there is an ongoing attempt to initialize\n    // bokeh, however for backward compatibility we also try to ensure\n    // that we do not start loading a newer (Panel>=1.0 and Bokeh>3) version\n    // before older versions are fully initialized.\n    if (root._bokeh_is_initializing && Date.now() > root._bokeh_timeout) {\n      root._bokeh_is_initializing = false;\n      root._bokeh_onload_callbacks = undefined;\n      console.log(\"Bokeh: BokehJS was loaded multiple times but one version failed to initialize.\");\n      load_or_wait();\n    } else if (root._bokeh_is_initializing || (typeof root._bokeh_is_initializing === \"undefined\" && root._bokeh_onload_callbacks !== undefined)) {\n      setTimeout(load_or_wait, 100);\n    } else {\n      Bokeh = root.Bokeh;\n      bokeh_loaded = Bokeh != null && (Bokeh.version === py_version || (Bokeh.versions !== undefined && Bokeh.versions.has(py_version)));\n      root._bokeh_is_initializing = true\n      root._bokeh_onload_callbacks = []\n      if (!reloading && (!bokeh_loaded || is_dev)) {\n\troot.Bokeh = undefined;\n      }\n      load_libs(css_urls, js_urls, js_modules, js_exports, function() {\n\tconsole.debug(\"Bokeh: BokehJS plotting callback run at\", now());\n\trun_inline_js();\n      });\n    }\n  }\n  // Give older versions of the autoload script a head-start to ensure\n  // they initialize before we start loading newer version.\n  setTimeout(load_or_wait, 100)\n}(window));",
      "application/vnd.holoviews_load.v0+json": ""
     },
     "metadata": {},
     "output_type": "display_data"
    },
    {
     "data": {
      "application/javascript": "\nif ((window.PyViz === undefined) || (window.PyViz instanceof HTMLElement)) {\n  window.PyViz = {comms: {}, comm_status:{}, kernels:{}, receivers: {}, plot_index: []}\n}\n\n\n    function JupyterCommManager() {\n    }\n\n    JupyterCommManager.prototype.register_target = function(plot_id, comm_id, msg_handler) {\n      if (window.comm_manager || ((window.Jupyter !== undefined) && (Jupyter.notebook.kernel != null))) {\n        var comm_manager = window.comm_manager || Jupyter.notebook.kernel.comm_manager;\n        comm_manager.register_target(comm_id, function(comm) {\n          comm.on_msg(msg_handler);\n        });\n      } else if ((plot_id in window.PyViz.kernels) && (window.PyViz.kernels[plot_id])) {\n        window.PyViz.kernels[plot_id].registerCommTarget(comm_id, function(comm) {\n          comm.onMsg = msg_handler;\n        });\n      } else if (typeof google != 'undefined' && google.colab.kernel != null) {\n        google.colab.kernel.comms.registerTarget(comm_id, (comm) => {\n          var messages = comm.messages[Symbol.asyncIterator]();\n          function processIteratorResult(result) {\n            var message = result.value;\n            console.log(message)\n            var content = {data: message.data, comm_id};\n            var buffers = []\n            for (var buffer of message.buffers || []) {\n              buffers.push(new DataView(buffer))\n            }\n            var metadata = message.metadata || {};\n            var msg = {content, buffers, metadata}\n            msg_handler(msg);\n            return messages.next().then(processIteratorResult);\n          }\n          return messages.next().then(processIteratorResult);\n        })\n      }\n    }\n\n    JupyterCommManager.prototype.get_client_comm = function(plot_id, comm_id, msg_handler) {\n      if (comm_id in window.PyViz.comms) {\n        return window.PyViz.comms[comm_id];\n      } else if (window.comm_manager || ((window.Jupyter !== undefined) && (Jupyter.notebook.kernel != null))) {\n        var comm_manager = window.comm_manager || Jupyter.notebook.kernel.comm_manager;\n        var comm = comm_manager.new_comm(comm_id, {}, {}, {}, comm_id);\n        if (msg_handler) {\n          comm.on_msg(msg_handler);\n        }\n      } else if ((plot_id in window.PyViz.kernels) && (window.PyViz.kernels[plot_id])) {\n        var comm = window.PyViz.kernels[plot_id].connectToComm(comm_id);\n        comm.open();\n        if (msg_handler) {\n          comm.onMsg = msg_handler;\n        }\n      } else if (typeof google != 'undefined' && google.colab.kernel != null) {\n        var comm_promise = google.colab.kernel.comms.open(comm_id)\n        comm_promise.then((comm) => {\n          window.PyViz.comms[comm_id] = comm;\n          if (msg_handler) {\n            var messages = comm.messages[Symbol.asyncIterator]();\n            function processIteratorResult(result) {\n              var message = result.value;\n              var content = {data: message.data};\n              var metadata = message.metadata || {comm_id};\n              var msg = {content, metadata}\n              msg_handler(msg);\n              return messages.next().then(processIteratorResult);\n            }\n            return messages.next().then(processIteratorResult);\n          }\n        }) \n        var sendClosure = (data, metadata, buffers, disposeOnDone) => {\n          return comm_promise.then((comm) => {\n            comm.send(data, metadata, buffers, disposeOnDone);\n          });\n        };\n        var comm = {\n          send: sendClosure\n        };\n      }\n      window.PyViz.comms[comm_id] = comm;\n      return comm;\n    }\n    window.PyViz.comm_manager = new JupyterCommManager();\n    \n\n\nvar JS_MIME_TYPE = 'application/javascript';\nvar HTML_MIME_TYPE = 'text/html';\nvar EXEC_MIME_TYPE = 'application/vnd.holoviews_exec.v0+json';\nvar CLASS_NAME = 'output';\n\n/**\n * Render data to the DOM node\n */\nfunction render(props, node) {\n  var div = document.createElement(\"div\");\n  var script = document.createElement(\"script\");\n  node.appendChild(div);\n  node.appendChild(script);\n}\n\n/**\n * Handle when a new output is added\n */\nfunction handle_add_output(event, handle) {\n  var output_area = handle.output_area;\n  var output = handle.output;\n  if ((output.data == undefined) || (!output.data.hasOwnProperty(EXEC_MIME_TYPE))) {\n    return\n  }\n  var id = output.metadata[EXEC_MIME_TYPE][\"id\"];\n  var toinsert = output_area.element.find(\".\" + CLASS_NAME.split(' ')[0]);\n  if (id !== undefined) {\n    var nchildren = toinsert.length;\n    var html_node = toinsert[nchildren-1].children[0];\n    html_node.innerHTML = output.data[HTML_MIME_TYPE];\n    var scripts = [];\n    var nodelist = html_node.querySelectorAll(\"script\");\n    for (var i in nodelist) {\n      if (nodelist.hasOwnProperty(i)) {\n        scripts.push(nodelist[i])\n      }\n    }\n\n    scripts.forEach( function (oldScript) {\n      var newScript = document.createElement(\"script\");\n      var attrs = [];\n      var nodemap = oldScript.attributes;\n      for (var j in nodemap) {\n        if (nodemap.hasOwnProperty(j)) {\n          attrs.push(nodemap[j])\n        }\n      }\n      attrs.forEach(function(attr) { newScript.setAttribute(attr.name, attr.value) });\n      newScript.appendChild(document.createTextNode(oldScript.innerHTML));\n      oldScript.parentNode.replaceChild(newScript, oldScript);\n    });\n    if (JS_MIME_TYPE in output.data) {\n      toinsert[nchildren-1].children[1].textContent = output.data[JS_MIME_TYPE];\n    }\n    output_area._hv_plot_id = id;\n    if ((window.Bokeh !== undefined) && (id in Bokeh.index)) {\n      window.PyViz.plot_index[id] = Bokeh.index[id];\n    } else {\n      window.PyViz.plot_index[id] = null;\n    }\n  } else if (output.metadata[EXEC_MIME_TYPE][\"server_id\"] !== undefined) {\n    var bk_div = document.createElement(\"div\");\n    bk_div.innerHTML = output.data[HTML_MIME_TYPE];\n    var script_attrs = bk_div.children[0].attributes;\n    for (var i = 0; i < script_attrs.length; i++) {\n      toinsert[toinsert.length - 1].childNodes[1].setAttribute(script_attrs[i].name, script_attrs[i].value);\n    }\n    // store reference to server id on output_area\n    output_area._bokeh_server_id = output.metadata[EXEC_MIME_TYPE][\"server_id\"];\n  }\n}\n\n/**\n * Handle when an output is cleared or removed\n */\nfunction handle_clear_output(event, handle) {\n  var id = handle.cell.output_area._hv_plot_id;\n  var server_id = handle.cell.output_area._bokeh_server_id;\n  if (((id === undefined) || !(id in PyViz.plot_index)) && (server_id !== undefined)) { return; }\n  var comm = window.PyViz.comm_manager.get_client_comm(\"hv-extension-comm\", \"hv-extension-comm\", function () {});\n  if (server_id !== null) {\n    comm.send({event_type: 'server_delete', 'id': server_id});\n    return;\n  } else if (comm !== null) {\n    comm.send({event_type: 'delete', 'id': id});\n  }\n  delete PyViz.plot_index[id];\n  if ((window.Bokeh !== undefined) & (id in window.Bokeh.index)) {\n    var doc = window.Bokeh.index[id].model.document\n    doc.clear();\n    const i = window.Bokeh.documents.indexOf(doc);\n    if (i > -1) {\n      window.Bokeh.documents.splice(i, 1);\n    }\n  }\n}\n\n/**\n * Handle kernel restart event\n */\nfunction handle_kernel_cleanup(event, handle) {\n  delete PyViz.comms[\"hv-extension-comm\"];\n  window.PyViz.plot_index = {}\n}\n\n/**\n * Handle update_display_data messages\n */\nfunction handle_update_output(event, handle) {\n  handle_clear_output(event, {cell: {output_area: handle.output_area}})\n  handle_add_output(event, handle)\n}\n\nfunction register_renderer(events, OutputArea) {\n  function append_mime(data, metadata, element) {\n    // create a DOM node to render to\n    var toinsert = this.create_output_subarea(\n    metadata,\n    CLASS_NAME,\n    EXEC_MIME_TYPE\n    );\n    this.keyboard_manager.register_events(toinsert);\n    // Render to node\n    var props = {data: data, metadata: metadata[EXEC_MIME_TYPE]};\n    render(props, toinsert[0]);\n    element.append(toinsert);\n    return toinsert\n  }\n\n  events.on('output_added.OutputArea', handle_add_output);\n  events.on('output_updated.OutputArea', handle_update_output);\n  events.on('clear_output.CodeCell', handle_clear_output);\n  events.on('delete.Cell', handle_clear_output);\n  events.on('kernel_ready.Kernel', handle_kernel_cleanup);\n\n  OutputArea.prototype.register_mime_type(EXEC_MIME_TYPE, append_mime, {\n    safe: true,\n    index: 0\n  });\n}\n\nif (window.Jupyter !== undefined) {\n  try {\n    var events = require('base/js/events');\n    var OutputArea = require('notebook/js/outputarea').OutputArea;\n    if (OutputArea.prototype.mime_types().indexOf(EXEC_MIME_TYPE) == -1) {\n      register_renderer(events, OutputArea);\n    }\n  } catch(err) {\n  }\n}\n",
      "application/vnd.holoviews_load.v0+json": ""
     },
     "metadata": {},
     "output_type": "display_data"
    },
    {
     "data": {
      "text/html": [
       "<style>*[data-root-id],\n",
       "*[data-root-id] > * {\n",
       "  box-sizing: border-box;\n",
       "  font-family: var(--jp-ui-font-family);\n",
       "  font-size: var(--jp-ui-font-size1);\n",
       "  color: var(--vscode-editor-foreground, var(--jp-ui-font-color1));\n",
       "}\n",
       "\n",
       "/* Override VSCode background color */\n",
       ".cell-output-ipywidget-background:has(\n",
       "    > .cell-output-ipywidget-background > .lm-Widget > *[data-root-id]\n",
       "  ),\n",
       ".cell-output-ipywidget-background:has(> .lm-Widget > *[data-root-id]) {\n",
       "  background-color: transparent !important;\n",
       "}\n",
       "</style>"
      ]
     },
     "metadata": {},
     "output_type": "display_data"
    }
   ],
   "source": [
    "import clearwater_modules as cwm\n",
    "import clearwater_modules.sorter as sorter\n",
    "import numba\n",
    "import random\n",
    "import hvplot.xarray\n",
    "import warnings\n",
    "warnings.filterwarnings(\"ignore\")"
   ]
  },
  {
   "cell_type": "code",
   "execution_count": 2,
   "id": "01c71150",
   "metadata": {
    "tags": []
   },
   "outputs": [
    {
     "data": {
      "text/plain": [
       "['__builtins__',\n",
       " '__cached__',\n",
       " '__doc__',\n",
       " '__file__',\n",
       " '__loader__',\n",
       " '__name__',\n",
       " '__package__',\n",
       " '__path__',\n",
       " '__spec__',\n",
       " '__version__',\n",
       " 'base',\n",
       " 'nsm1',\n",
       " 'shared',\n",
       " 'sorter',\n",
       " 'tsm',\n",
       " 'utils']"
      ]
     },
     "execution_count": 2,
     "metadata": {},
     "output_type": "execute_result"
    }
   ],
   "source": [
    "# Confirm that sub-modules are imported\n",
    "dir(cwm)"
   ]
  },
  {
   "cell_type": "markdown",
   "id": "234fa8ec",
   "metadata": {},
   "source": [
    "### If you get `ModuleNotFoundError`:\n",
    "\n",
    "If you get this error:\n",
    "```python\n",
    "ModuleNotFoundError: No module named 'clearwater_modules'\n",
    "```\n",
    "Then:\n",
    "1. Run the following terminal command with your local absolute path to this repo.\n",
    "    - NOTE: Here we use Jupyter `!` magic command to run from the terminal via this notebook. \n",
    "2. Restart the kernel.\n",
    "3. Rerun the import statements above.\n",
    "\n",
    "See [4. Add your `ClearWater-modules-python` Path to Miniconda/Anaconda sites-packages](..ReadMe.md#4-add-your-clearwater-modules-python-path-to-minicondaanaconda-sites-packages)."
   ]
  },
  {
   "cell_type": "markdown",
   "id": "de2f2cd1-a5dc-4536-8b1c-5f4fbf866601",
   "metadata": {},
   "source": [
    "# Writing/using a simple `Model` sub-class example\n",
    "\n",
    "In this example we will be writing a `base.Model` sub-class that calculates the annual carbon sequestration in a forest for a given year timestep.\n",
    "\n",
    "**Note:** Do not take the calculation too literally! I got it off ChatGPT in order to find a good, simple example for the code."
   ]
  },
  {
   "cell_type": "markdown",
   "id": "a52584bf-13af-4527-87ff-dbfa1010ddc1",
   "metadata": {},
   "source": [
    "## Start by inheriting `base.Model` -> `CarbonSequestration(cwm.base.Model)`"
   ]
  },
  {
   "cell_type": "code",
   "execution_count": 1,
   "id": "a5d34d2d-03a6-41e1-92fc-9e6fba72d6f5",
   "metadata": {
    "tags": []
   },
   "outputs": [
    {
     "data": {
      "application/javascript": "(function(root) {\n  function now() {\n    return new Date();\n  }\n\n  var force = true;\n  var py_version = '3.2.2'.replace('rc', '-rc.').replace('.dev', '-dev.');\n  var is_dev = py_version.indexOf(\"+\") !== -1 || py_version.indexOf(\"-\") !== -1;\n  var reloading = false;\n  var Bokeh = root.Bokeh;\n  var bokeh_loaded = Bokeh != null && (Bokeh.version === py_version || (Bokeh.versions !== undefined && Bokeh.versions.has(py_version)));\n\n  if (typeof (root._bokeh_timeout) === \"undefined\" || force) {\n    root._bokeh_timeout = Date.now() + 5000;\n    root._bokeh_failed_load = false;\n  }\n\n  function run_callbacks() {\n    try {\n      root._bokeh_onload_callbacks.forEach(function(callback) {\n        if (callback != null)\n          callback();\n      });\n    } finally {\n      delete root._bokeh_onload_callbacks;\n    }\n    console.debug(\"Bokeh: all callbacks have finished\");\n  }\n\n  function load_libs(css_urls, js_urls, js_modules, js_exports, callback) {\n    if (css_urls == null) css_urls = [];\n    if (js_urls == null) js_urls = [];\n    if (js_modules == null) js_modules = [];\n    if (js_exports == null) js_exports = {};\n\n    root._bokeh_onload_callbacks.push(callback);\n\n    if (root._bokeh_is_loading > 0) {\n      console.debug(\"Bokeh: BokehJS is being loaded, scheduling callback at\", now());\n      return null;\n    }\n    if (js_urls.length === 0 && js_modules.length === 0 && Object.keys(js_exports).length === 0) {\n      run_callbacks();\n      return null;\n    }\n    if (!reloading) {\n      console.debug(\"Bokeh: BokehJS not loaded, scheduling load and callback at\", now());\n    }\n\n    function on_load() {\n      root._bokeh_is_loading--;\n      if (root._bokeh_is_loading === 0) {\n        console.debug(\"Bokeh: all BokehJS libraries/stylesheets loaded\");\n        run_callbacks()\n      }\n    }\n    window._bokeh_on_load = on_load\n\n    function on_error() {\n      console.error(\"failed to load \" + url);\n    }\n\n    var skip = [];\n    if (window.requirejs) {\n      window.requirejs.config({'packages': {}, 'paths': {'jspanel': 'https://cdn.jsdelivr.net/npm/jspanel4@4.12.0/dist/jspanel', 'jspanel-modal': 'https://cdn.jsdelivr.net/npm/jspanel4@4.12.0/dist/extensions/modal/jspanel.modal', 'jspanel-tooltip': 'https://cdn.jsdelivr.net/npm/jspanel4@4.12.0/dist/extensions/tooltip/jspanel.tooltip', 'jspanel-hint': 'https://cdn.jsdelivr.net/npm/jspanel4@4.12.0/dist/extensions/hint/jspanel.hint', 'jspanel-layout': 'https://cdn.jsdelivr.net/npm/jspanel4@4.12.0/dist/extensions/layout/jspanel.layout', 'jspanel-contextmenu': 'https://cdn.jsdelivr.net/npm/jspanel4@4.12.0/dist/extensions/contextmenu/jspanel.contextmenu', 'jspanel-dock': 'https://cdn.jsdelivr.net/npm/jspanel4@4.12.0/dist/extensions/dock/jspanel.dock', 'gridstack': 'https://cdn.jsdelivr.net/npm/gridstack@7.2.3/dist/gridstack-all', 'notyf': 'https://cdn.jsdelivr.net/npm/notyf@3/notyf.min'}, 'shim': {'jspanel': {'exports': 'jsPanel'}, 'gridstack': {'exports': 'GridStack'}}});\n      require([\"jspanel\"], function(jsPanel) {\n\twindow.jsPanel = jsPanel\n\ton_load()\n      })\n      require([\"jspanel-modal\"], function() {\n\ton_load()\n      })\n      require([\"jspanel-tooltip\"], function() {\n\ton_load()\n      })\n      require([\"jspanel-hint\"], function() {\n\ton_load()\n      })\n      require([\"jspanel-layout\"], function() {\n\ton_load()\n      })\n      require([\"jspanel-contextmenu\"], function() {\n\ton_load()\n      })\n      require([\"jspanel-dock\"], function() {\n\ton_load()\n      })\n      require([\"gridstack\"], function(GridStack) {\n\twindow.GridStack = GridStack\n\ton_load()\n      })\n      require([\"notyf\"], function() {\n\ton_load()\n      })\n      root._bokeh_is_loading = css_urls.length + 9;\n    } else {\n      root._bokeh_is_loading = css_urls.length + js_urls.length + js_modules.length + Object.keys(js_exports).length;\n    }\n\n    var existing_stylesheets = []\n    var links = document.getElementsByTagName('link')\n    for (var i = 0; i < links.length; i++) {\n      var link = links[i]\n      if (link.href != null) {\n\texisting_stylesheets.push(link.href)\n      }\n    }\n    for (var i = 0; i < css_urls.length; i++) {\n      var url = css_urls[i];\n      if (existing_stylesheets.indexOf(url) !== -1) {\n\ton_load()\n\tcontinue;\n      }\n      const element = document.createElement(\"link\");\n      element.onload = on_load;\n      element.onerror = on_error;\n      element.rel = \"stylesheet\";\n      element.type = \"text/css\";\n      element.href = url;\n      console.debug(\"Bokeh: injecting link tag for BokehJS stylesheet: \", url);\n      document.body.appendChild(element);\n    }    if (((window['jsPanel'] !== undefined) && (!(window['jsPanel'] instanceof HTMLElement))) || window.requirejs) {\n      var urls = ['https://cdn.holoviz.org/panel/1.2.3/dist/bundled/floatpanel/jspanel4@4.12.0/dist/jspanel.js', 'https://cdn.holoviz.org/panel/1.2.3/dist/bundled/floatpanel/jspanel4@4.12.0/dist/extensions/modal/jspanel.modal.js', 'https://cdn.holoviz.org/panel/1.2.3/dist/bundled/floatpanel/jspanel4@4.12.0/dist/extensions/tooltip/jspanel.tooltip.js', 'https://cdn.holoviz.org/panel/1.2.3/dist/bundled/floatpanel/jspanel4@4.12.0/dist/extensions/hint/jspanel.hint.js', 'https://cdn.holoviz.org/panel/1.2.3/dist/bundled/floatpanel/jspanel4@4.12.0/dist/extensions/layout/jspanel.layout.js', 'https://cdn.holoviz.org/panel/1.2.3/dist/bundled/floatpanel/jspanel4@4.12.0/dist/extensions/contextmenu/jspanel.contextmenu.js', 'https://cdn.holoviz.org/panel/1.2.3/dist/bundled/floatpanel/jspanel4@4.12.0/dist/extensions/dock/jspanel.dock.js'];\n      for (var i = 0; i < urls.length; i++) {\n        skip.push(urls[i])\n      }\n    }    if (((window['GridStack'] !== undefined) && (!(window['GridStack'] instanceof HTMLElement))) || window.requirejs) {\n      var urls = ['https://cdn.holoviz.org/panel/1.2.3/dist/bundled/gridstack/gridstack@7.2.3/dist/gridstack-all.js'];\n      for (var i = 0; i < urls.length; i++) {\n        skip.push(urls[i])\n      }\n    }    if (((window['Notyf'] !== undefined) && (!(window['Notyf'] instanceof HTMLElement))) || window.requirejs) {\n      var urls = ['https://cdn.holoviz.org/panel/1.2.3/dist/bundled/notificationarea/notyf@3/notyf.min.js'];\n      for (var i = 0; i < urls.length; i++) {\n        skip.push(urls[i])\n      }\n    }    var existing_scripts = []\n    var scripts = document.getElementsByTagName('script')\n    for (var i = 0; i < scripts.length; i++) {\n      var script = scripts[i]\n      if (script.src != null) {\n\texisting_scripts.push(script.src)\n      }\n    }\n    for (var i = 0; i < js_urls.length; i++) {\n      var url = js_urls[i];\n      if (skip.indexOf(url) !== -1 || existing_scripts.indexOf(url) !== -1) {\n\tif (!window.requirejs) {\n\t  on_load();\n\t}\n\tcontinue;\n      }\n      var element = document.createElement('script');\n      element.onload = on_load;\n      element.onerror = on_error;\n      element.async = false;\n      element.src = url;\n      console.debug(\"Bokeh: injecting script tag for BokehJS library: \", url);\n      document.head.appendChild(element);\n    }\n    for (var i = 0; i < js_modules.length; i++) {\n      var url = js_modules[i];\n      if (skip.indexOf(url) !== -1 || existing_scripts.indexOf(url) !== -1) {\n\tif (!window.requirejs) {\n\t  on_load();\n\t}\n\tcontinue;\n      }\n      var element = document.createElement('script');\n      element.onload = on_load;\n      element.onerror = on_error;\n      element.async = false;\n      element.src = url;\n      element.type = \"module\";\n      console.debug(\"Bokeh: injecting script tag for BokehJS library: \", url);\n      document.head.appendChild(element);\n    }\n    for (const name in js_exports) {\n      var url = js_exports[name];\n      if (skip.indexOf(url) >= 0 || root[name] != null) {\n\tif (!window.requirejs) {\n\t  on_load();\n\t}\n\tcontinue;\n      }\n      var element = document.createElement('script');\n      element.onerror = on_error;\n      element.async = false;\n      element.type = \"module\";\n      console.debug(\"Bokeh: injecting script tag for BokehJS library: \", url);\n      element.textContent = `\n      import ${name} from \"${url}\"\n      window.${name} = ${name}\n      window._bokeh_on_load()\n      `\n      document.head.appendChild(element);\n    }\n    if (!js_urls.length && !js_modules.length) {\n      on_load()\n    }\n  };\n\n  function inject_raw_css(css) {\n    const element = document.createElement(\"style\");\n    element.appendChild(document.createTextNode(css));\n    document.body.appendChild(element);\n  }\n\n  var js_urls = [\"https://cdn.bokeh.org/bokeh/release/bokeh-3.2.2.min.js\", \"https://cdn.bokeh.org/bokeh/release/bokeh-gl-3.2.2.min.js\", \"https://cdn.bokeh.org/bokeh/release/bokeh-widgets-3.2.2.min.js\", \"https://cdn.bokeh.org/bokeh/release/bokeh-tables-3.2.2.min.js\", \"https://cdn.holoviz.org/panel/1.2.3/dist/panel.min.js\"];\n  var js_modules = [];\n  var js_exports = {};\n  var css_urls = [];\n  var inline_js = [    function(Bokeh) {\n      Bokeh.set_log_level(\"info\");\n    },\nfunction(Bokeh) {} // ensure no trailing comma for IE\n  ];\n\n  function run_inline_js() {\n    if ((root.Bokeh !== undefined) || (force === true)) {\n      for (var i = 0; i < inline_js.length; i++) {\n        inline_js[i].call(root, root.Bokeh);\n      }\n      // Cache old bokeh versions\n      if (Bokeh != undefined && !reloading) {\n\tvar NewBokeh = root.Bokeh;\n\tif (Bokeh.versions === undefined) {\n\t  Bokeh.versions = new Map();\n\t}\n\tif (NewBokeh.version !== Bokeh.version) {\n\t  Bokeh.versions.set(NewBokeh.version, NewBokeh)\n\t}\n\troot.Bokeh = Bokeh;\n      }} else if (Date.now() < root._bokeh_timeout) {\n      setTimeout(run_inline_js, 100);\n    } else if (!root._bokeh_failed_load) {\n      console.log(\"Bokeh: BokehJS failed to load within specified timeout.\");\n      root._bokeh_failed_load = true;\n    }\n    root._bokeh_is_initializing = false\n  }\n\n  function load_or_wait() {\n    // Implement a backoff loop that tries to ensure we do not load multiple\n    // versions of Bokeh and its dependencies at the same time.\n    // In recent versions we use the root._bokeh_is_initializing flag\n    // to determine whether there is an ongoing attempt to initialize\n    // bokeh, however for backward compatibility we also try to ensure\n    // that we do not start loading a newer (Panel>=1.0 and Bokeh>3) version\n    // before older versions are fully initialized.\n    if (root._bokeh_is_initializing && Date.now() > root._bokeh_timeout) {\n      root._bokeh_is_initializing = false;\n      root._bokeh_onload_callbacks = undefined;\n      console.log(\"Bokeh: BokehJS was loaded multiple times but one version failed to initialize.\");\n      load_or_wait();\n    } else if (root._bokeh_is_initializing || (typeof root._bokeh_is_initializing === \"undefined\" && root._bokeh_onload_callbacks !== undefined)) {\n      setTimeout(load_or_wait, 100);\n    } else {\n      Bokeh = root.Bokeh;\n      bokeh_loaded = Bokeh != null && (Bokeh.version === py_version || (Bokeh.versions !== undefined && Bokeh.versions.has(py_version)));\n      root._bokeh_is_initializing = true\n      root._bokeh_onload_callbacks = []\n      if (!reloading && (!bokeh_loaded || is_dev)) {\n\troot.Bokeh = undefined;\n      }\n      load_libs(css_urls, js_urls, js_modules, js_exports, function() {\n\tconsole.debug(\"Bokeh: BokehJS plotting callback run at\", now());\n\trun_inline_js();\n      });\n    }\n  }\n  // Give older versions of the autoload script a head-start to ensure\n  // they initialize before we start loading newer version.\n  setTimeout(load_or_wait, 100)\n}(window));",
      "application/vnd.holoviews_load.v0+json": ""
     },
     "metadata": {},
     "output_type": "display_data"
    },
    {
     "data": {
      "application/javascript": "\nif ((window.PyViz === undefined) || (window.PyViz instanceof HTMLElement)) {\n  window.PyViz = {comms: {}, comm_status:{}, kernels:{}, receivers: {}, plot_index: []}\n}\n\n\n    function JupyterCommManager() {\n    }\n\n    JupyterCommManager.prototype.register_target = function(plot_id, comm_id, msg_handler) {\n      if (window.comm_manager || ((window.Jupyter !== undefined) && (Jupyter.notebook.kernel != null))) {\n        var comm_manager = window.comm_manager || Jupyter.notebook.kernel.comm_manager;\n        comm_manager.register_target(comm_id, function(comm) {\n          comm.on_msg(msg_handler);\n        });\n      } else if ((plot_id in window.PyViz.kernels) && (window.PyViz.kernels[plot_id])) {\n        window.PyViz.kernels[plot_id].registerCommTarget(comm_id, function(comm) {\n          comm.onMsg = msg_handler;\n        });\n      } else if (typeof google != 'undefined' && google.colab.kernel != null) {\n        google.colab.kernel.comms.registerTarget(comm_id, (comm) => {\n          var messages = comm.messages[Symbol.asyncIterator]();\n          function processIteratorResult(result) {\n            var message = result.value;\n            console.log(message)\n            var content = {data: message.data, comm_id};\n            var buffers = []\n            for (var buffer of message.buffers || []) {\n              buffers.push(new DataView(buffer))\n            }\n            var metadata = message.metadata || {};\n            var msg = {content, buffers, metadata}\n            msg_handler(msg);\n            return messages.next().then(processIteratorResult);\n          }\n          return messages.next().then(processIteratorResult);\n        })\n      }\n    }\n\n    JupyterCommManager.prototype.get_client_comm = function(plot_id, comm_id, msg_handler) {\n      if (comm_id in window.PyViz.comms) {\n        return window.PyViz.comms[comm_id];\n      } else if (window.comm_manager || ((window.Jupyter !== undefined) && (Jupyter.notebook.kernel != null))) {\n        var comm_manager = window.comm_manager || Jupyter.notebook.kernel.comm_manager;\n        var comm = comm_manager.new_comm(comm_id, {}, {}, {}, comm_id);\n        if (msg_handler) {\n          comm.on_msg(msg_handler);\n        }\n      } else if ((plot_id in window.PyViz.kernels) && (window.PyViz.kernels[plot_id])) {\n        var comm = window.PyViz.kernels[plot_id].connectToComm(comm_id);\n        comm.open();\n        if (msg_handler) {\n          comm.onMsg = msg_handler;\n        }\n      } else if (typeof google != 'undefined' && google.colab.kernel != null) {\n        var comm_promise = google.colab.kernel.comms.open(comm_id)\n        comm_promise.then((comm) => {\n          window.PyViz.comms[comm_id] = comm;\n          if (msg_handler) {\n            var messages = comm.messages[Symbol.asyncIterator]();\n            function processIteratorResult(result) {\n              var message = result.value;\n              var content = {data: message.data};\n              var metadata = message.metadata || {comm_id};\n              var msg = {content, metadata}\n              msg_handler(msg);\n              return messages.next().then(processIteratorResult);\n            }\n            return messages.next().then(processIteratorResult);\n          }\n        }) \n        var sendClosure = (data, metadata, buffers, disposeOnDone) => {\n          return comm_promise.then((comm) => {\n            comm.send(data, metadata, buffers, disposeOnDone);\n          });\n        };\n        var comm = {\n          send: sendClosure\n        };\n      }\n      window.PyViz.comms[comm_id] = comm;\n      return comm;\n    }\n    window.PyViz.comm_manager = new JupyterCommManager();\n    \n\n\nvar JS_MIME_TYPE = 'application/javascript';\nvar HTML_MIME_TYPE = 'text/html';\nvar EXEC_MIME_TYPE = 'application/vnd.holoviews_exec.v0+json';\nvar CLASS_NAME = 'output';\n\n/**\n * Render data to the DOM node\n */\nfunction render(props, node) {\n  var div = document.createElement(\"div\");\n  var script = document.createElement(\"script\");\n  node.appendChild(div);\n  node.appendChild(script);\n}\n\n/**\n * Handle when a new output is added\n */\nfunction handle_add_output(event, handle) {\n  var output_area = handle.output_area;\n  var output = handle.output;\n  if ((output.data == undefined) || (!output.data.hasOwnProperty(EXEC_MIME_TYPE))) {\n    return\n  }\n  var id = output.metadata[EXEC_MIME_TYPE][\"id\"];\n  var toinsert = output_area.element.find(\".\" + CLASS_NAME.split(' ')[0]);\n  if (id !== undefined) {\n    var nchildren = toinsert.length;\n    var html_node = toinsert[nchildren-1].children[0];\n    html_node.innerHTML = output.data[HTML_MIME_TYPE];\n    var scripts = [];\n    var nodelist = html_node.querySelectorAll(\"script\");\n    for (var i in nodelist) {\n      if (nodelist.hasOwnProperty(i)) {\n        scripts.push(nodelist[i])\n      }\n    }\n\n    scripts.forEach( function (oldScript) {\n      var newScript = document.createElement(\"script\");\n      var attrs = [];\n      var nodemap = oldScript.attributes;\n      for (var j in nodemap) {\n        if (nodemap.hasOwnProperty(j)) {\n          attrs.push(nodemap[j])\n        }\n      }\n      attrs.forEach(function(attr) { newScript.setAttribute(attr.name, attr.value) });\n      newScript.appendChild(document.createTextNode(oldScript.innerHTML));\n      oldScript.parentNode.replaceChild(newScript, oldScript);\n    });\n    if (JS_MIME_TYPE in output.data) {\n      toinsert[nchildren-1].children[1].textContent = output.data[JS_MIME_TYPE];\n    }\n    output_area._hv_plot_id = id;\n    if ((window.Bokeh !== undefined) && (id in Bokeh.index)) {\n      window.PyViz.plot_index[id] = Bokeh.index[id];\n    } else {\n      window.PyViz.plot_index[id] = null;\n    }\n  } else if (output.metadata[EXEC_MIME_TYPE][\"server_id\"] !== undefined) {\n    var bk_div = document.createElement(\"div\");\n    bk_div.innerHTML = output.data[HTML_MIME_TYPE];\n    var script_attrs = bk_div.children[0].attributes;\n    for (var i = 0; i < script_attrs.length; i++) {\n      toinsert[toinsert.length - 1].childNodes[1].setAttribute(script_attrs[i].name, script_attrs[i].value);\n    }\n    // store reference to server id on output_area\n    output_area._bokeh_server_id = output.metadata[EXEC_MIME_TYPE][\"server_id\"];\n  }\n}\n\n/**\n * Handle when an output is cleared or removed\n */\nfunction handle_clear_output(event, handle) {\n  var id = handle.cell.output_area._hv_plot_id;\n  var server_id = handle.cell.output_area._bokeh_server_id;\n  if (((id === undefined) || !(id in PyViz.plot_index)) && (server_id !== undefined)) { return; }\n  var comm = window.PyViz.comm_manager.get_client_comm(\"hv-extension-comm\", \"hv-extension-comm\", function () {});\n  if (server_id !== null) {\n    comm.send({event_type: 'server_delete', 'id': server_id});\n    return;\n  } else if (comm !== null) {\n    comm.send({event_type: 'delete', 'id': id});\n  }\n  delete PyViz.plot_index[id];\n  if ((window.Bokeh !== undefined) & (id in window.Bokeh.index)) {\n    var doc = window.Bokeh.index[id].model.document\n    doc.clear();\n    const i = window.Bokeh.documents.indexOf(doc);\n    if (i > -1) {\n      window.Bokeh.documents.splice(i, 1);\n    }\n  }\n}\n\n/**\n * Handle kernel restart event\n */\nfunction handle_kernel_cleanup(event, handle) {\n  delete PyViz.comms[\"hv-extension-comm\"];\n  window.PyViz.plot_index = {}\n}\n\n/**\n * Handle update_display_data messages\n */\nfunction handle_update_output(event, handle) {\n  handle_clear_output(event, {cell: {output_area: handle.output_area}})\n  handle_add_output(event, handle)\n}\n\nfunction register_renderer(events, OutputArea) {\n  function append_mime(data, metadata, element) {\n    // create a DOM node to render to\n    var toinsert = this.create_output_subarea(\n    metadata,\n    CLASS_NAME,\n    EXEC_MIME_TYPE\n    );\n    this.keyboard_manager.register_events(toinsert);\n    // Render to node\n    var props = {data: data, metadata: metadata[EXEC_MIME_TYPE]};\n    render(props, toinsert[0]);\n    element.append(toinsert);\n    return toinsert\n  }\n\n  events.on('output_added.OutputArea', handle_add_output);\n  events.on('output_updated.OutputArea', handle_update_output);\n  events.on('clear_output.CodeCell', handle_clear_output);\n  events.on('delete.Cell', handle_clear_output);\n  events.on('kernel_ready.Kernel', handle_kernel_cleanup);\n\n  OutputArea.prototype.register_mime_type(EXEC_MIME_TYPE, append_mime, {\n    safe: true,\n    index: 0\n  });\n}\n\nif (window.Jupyter !== undefined) {\n  try {\n    var events = require('base/js/events');\n    var OutputArea = require('notebook/js/outputarea').OutputArea;\n    if (OutputArea.prototype.mime_types().indexOf(EXEC_MIME_TYPE) == -1) {\n      register_renderer(events, OutputArea);\n    }\n  } catch(err) {\n  }\n}\n",
      "application/vnd.holoviews_load.v0+json": ""
     },
     "metadata": {},
     "output_type": "display_data"
    },
    {
     "data": {
      "text/html": [
       "<style>*[data-root-id],\n",
       "*[data-root-id] > * {\n",
       "  box-sizing: border-box;\n",
       "  font-family: var(--jp-ui-font-family);\n",
       "  font-size: var(--jp-ui-font-size1);\n",
       "  color: var(--vscode-editor-foreground, var(--jp-ui-font-color1));\n",
       "}\n",
       "\n",
       "/* Override VSCode background color */\n",
       ".cell-output-ipywidget-background:has(\n",
       "    > .cell-output-ipywidget-background > .lm-Widget > *[data-root-id]\n",
       "  ),\n",
       ".cell-output-ipywidget-background:has(> .lm-Widget > *[data-root-id]) {\n",
       "  background-color: transparent !important;\n",
       "}\n",
       "</style>"
      ]
     },
     "metadata": {},
     "output_type": "display_data"
    },
    {
     "name": "stdout",
     "output_type": "stream",
     "text": [
      "Initializing from dicts...\n",
      "Model initialized from input dicts successfully!.\n"
     ]
    },
    {
     "data": {
      "text/html": [
       "<div><svg style=\"position: absolute; width: 0; height: 0; overflow: hidden\">\n",
       "<defs>\n",
       "<symbol id=\"icon-database\" viewBox=\"0 0 32 32\">\n",
       "<path d=\"M16 0c-8.837 0-16 2.239-16 5v4c0 2.761 7.163 5 16 5s16-2.239 16-5v-4c0-2.761-7.163-5-16-5z\"></path>\n",
       "<path d=\"M16 17c-8.837 0-16-2.239-16-5v6c0 2.761 7.163 5 16 5s16-2.239 16-5v-6c0 2.761-7.163 5-16 5z\"></path>\n",
       "<path d=\"M16 26c-8.837 0-16-2.239-16-5v6c0 2.761 7.163 5 16 5s16-2.239 16-5v-6c0 2.761-7.163 5-16 5z\"></path>\n",
       "</symbol>\n",
       "<symbol id=\"icon-file-text2\" viewBox=\"0 0 32 32\">\n",
       "<path d=\"M28.681 7.159c-0.694-0.947-1.662-2.053-2.724-3.116s-2.169-2.030-3.116-2.724c-1.612-1.182-2.393-1.319-2.841-1.319h-15.5c-1.378 0-2.5 1.121-2.5 2.5v27c0 1.378 1.122 2.5 2.5 2.5h23c1.378 0 2.5-1.122 2.5-2.5v-19.5c0-0.448-0.137-1.23-1.319-2.841zM24.543 5.457c0.959 0.959 1.712 1.825 2.268 2.543h-4.811v-4.811c0.718 0.556 1.584 1.309 2.543 2.268zM28 29.5c0 0.271-0.229 0.5-0.5 0.5h-23c-0.271 0-0.5-0.229-0.5-0.5v-27c0-0.271 0.229-0.5 0.5-0.5 0 0 15.499-0 15.5 0v7c0 0.552 0.448 1 1 1h7v19.5z\"></path>\n",
       "<path d=\"M23 26h-14c-0.552 0-1-0.448-1-1s0.448-1 1-1h14c0.552 0 1 0.448 1 1s-0.448 1-1 1z\"></path>\n",
       "<path d=\"M23 22h-14c-0.552 0-1-0.448-1-1s0.448-1 1-1h14c0.552 0 1 0.448 1 1s-0.448 1-1 1z\"></path>\n",
       "<path d=\"M23 18h-14c-0.552 0-1-0.448-1-1s0.448-1 1-1h14c0.552 0 1 0.448 1 1s-0.448 1-1 1z\"></path>\n",
       "</symbol>\n",
       "</defs>\n",
       "</svg>\n",
       "<style>/* CSS stylesheet for displaying xarray objects in jupyterlab.\n",
       " *\n",
       " */\n",
       "\n",
       ":root {\n",
       "  --xr-font-color0: var(--jp-content-font-color0, rgba(0, 0, 0, 1));\n",
       "  --xr-font-color2: var(--jp-content-font-color2, rgba(0, 0, 0, 0.54));\n",
       "  --xr-font-color3: var(--jp-content-font-color3, rgba(0, 0, 0, 0.38));\n",
       "  --xr-border-color: var(--jp-border-color2, #e0e0e0);\n",
       "  --xr-disabled-color: var(--jp-layout-color3, #bdbdbd);\n",
       "  --xr-background-color: var(--jp-layout-color0, white);\n",
       "  --xr-background-color-row-even: var(--jp-layout-color1, white);\n",
       "  --xr-background-color-row-odd: var(--jp-layout-color2, #eeeeee);\n",
       "}\n",
       "\n",
       "html[theme=dark],\n",
       "body[data-theme=dark],\n",
       "body.vscode-dark {\n",
       "  --xr-font-color0: rgba(255, 255, 255, 1);\n",
       "  --xr-font-color2: rgba(255, 255, 255, 0.54);\n",
       "  --xr-font-color3: rgba(255, 255, 255, 0.38);\n",
       "  --xr-border-color: #1F1F1F;\n",
       "  --xr-disabled-color: #515151;\n",
       "  --xr-background-color: #111111;\n",
       "  --xr-background-color-row-even: #111111;\n",
       "  --xr-background-color-row-odd: #313131;\n",
       "}\n",
       "\n",
       ".xr-wrap {\n",
       "  display: block !important;\n",
       "  min-width: 300px;\n",
       "  max-width: 700px;\n",
       "}\n",
       "\n",
       ".xr-text-repr-fallback {\n",
       "  /* fallback to plain text repr when CSS is not injected (untrusted notebook) */\n",
       "  display: none;\n",
       "}\n",
       "\n",
       ".xr-header {\n",
       "  padding-top: 6px;\n",
       "  padding-bottom: 6px;\n",
       "  margin-bottom: 4px;\n",
       "  border-bottom: solid 1px var(--xr-border-color);\n",
       "}\n",
       "\n",
       ".xr-header > div,\n",
       ".xr-header > ul {\n",
       "  display: inline;\n",
       "  margin-top: 0;\n",
       "  margin-bottom: 0;\n",
       "}\n",
       "\n",
       ".xr-obj-type,\n",
       ".xr-array-name {\n",
       "  margin-left: 2px;\n",
       "  margin-right: 10px;\n",
       "}\n",
       "\n",
       ".xr-obj-type {\n",
       "  color: var(--xr-font-color2);\n",
       "}\n",
       "\n",
       ".xr-sections {\n",
       "  padding-left: 0 !important;\n",
       "  display: grid;\n",
       "  grid-template-columns: 150px auto auto 1fr 20px 20px;\n",
       "}\n",
       "\n",
       ".xr-section-item {\n",
       "  display: contents;\n",
       "}\n",
       "\n",
       ".xr-section-item input {\n",
       "  display: none;\n",
       "}\n",
       "\n",
       ".xr-section-item input + label {\n",
       "  color: var(--xr-disabled-color);\n",
       "}\n",
       "\n",
       ".xr-section-item input:enabled + label {\n",
       "  cursor: pointer;\n",
       "  color: var(--xr-font-color2);\n",
       "}\n",
       "\n",
       ".xr-section-item input:enabled + label:hover {\n",
       "  color: var(--xr-font-color0);\n",
       "}\n",
       "\n",
       ".xr-section-summary {\n",
       "  grid-column: 1;\n",
       "  color: var(--xr-font-color2);\n",
       "  font-weight: 500;\n",
       "}\n",
       "\n",
       ".xr-section-summary > span {\n",
       "  display: inline-block;\n",
       "  padding-left: 0.5em;\n",
       "}\n",
       "\n",
       ".xr-section-summary-in:disabled + label {\n",
       "  color: var(--xr-font-color2);\n",
       "}\n",
       "\n",
       ".xr-section-summary-in + label:before {\n",
       "  display: inline-block;\n",
       "  content: '►';\n",
       "  font-size: 11px;\n",
       "  width: 15px;\n",
       "  text-align: center;\n",
       "}\n",
       "\n",
       ".xr-section-summary-in:disabled + label:before {\n",
       "  color: var(--xr-disabled-color);\n",
       "}\n",
       "\n",
       ".xr-section-summary-in:checked + label:before {\n",
       "  content: '▼';\n",
       "}\n",
       "\n",
       ".xr-section-summary-in:checked + label > span {\n",
       "  display: none;\n",
       "}\n",
       "\n",
       ".xr-section-summary,\n",
       ".xr-section-inline-details {\n",
       "  padding-top: 4px;\n",
       "  padding-bottom: 4px;\n",
       "}\n",
       "\n",
       ".xr-section-inline-details {\n",
       "  grid-column: 2 / -1;\n",
       "}\n",
       "\n",
       ".xr-section-details {\n",
       "  display: none;\n",
       "  grid-column: 1 / -1;\n",
       "  margin-bottom: 5px;\n",
       "}\n",
       "\n",
       ".xr-section-summary-in:checked ~ .xr-section-details {\n",
       "  display: contents;\n",
       "}\n",
       "\n",
       ".xr-array-wrap {\n",
       "  grid-column: 1 / -1;\n",
       "  display: grid;\n",
       "  grid-template-columns: 20px auto;\n",
       "}\n",
       "\n",
       ".xr-array-wrap > label {\n",
       "  grid-column: 1;\n",
       "  vertical-align: top;\n",
       "}\n",
       "\n",
       ".xr-preview {\n",
       "  color: var(--xr-font-color3);\n",
       "}\n",
       "\n",
       ".xr-array-preview,\n",
       ".xr-array-data {\n",
       "  padding: 0 5px !important;\n",
       "  grid-column: 2;\n",
       "}\n",
       "\n",
       ".xr-array-data,\n",
       ".xr-array-in:checked ~ .xr-array-preview {\n",
       "  display: none;\n",
       "}\n",
       "\n",
       ".xr-array-in:checked ~ .xr-array-data,\n",
       ".xr-array-preview {\n",
       "  display: inline-block;\n",
       "}\n",
       "\n",
       ".xr-dim-list {\n",
       "  display: inline-block !important;\n",
       "  list-style: none;\n",
       "  padding: 0 !important;\n",
       "  margin: 0;\n",
       "}\n",
       "\n",
       ".xr-dim-list li {\n",
       "  display: inline-block;\n",
       "  padding: 0;\n",
       "  margin: 0;\n",
       "}\n",
       "\n",
       ".xr-dim-list:before {\n",
       "  content: '(';\n",
       "}\n",
       "\n",
       ".xr-dim-list:after {\n",
       "  content: ')';\n",
       "}\n",
       "\n",
       ".xr-dim-list li:not(:last-child):after {\n",
       "  content: ',';\n",
       "  padding-right: 5px;\n",
       "}\n",
       "\n",
       ".xr-has-index {\n",
       "  font-weight: bold;\n",
       "}\n",
       "\n",
       ".xr-var-list,\n",
       ".xr-var-item {\n",
       "  display: contents;\n",
       "}\n",
       "\n",
       ".xr-var-item > div,\n",
       ".xr-var-item label,\n",
       ".xr-var-item > .xr-var-name span {\n",
       "  background-color: var(--xr-background-color-row-even);\n",
       "  margin-bottom: 0;\n",
       "}\n",
       "\n",
       ".xr-var-item > .xr-var-name:hover span {\n",
       "  padding-right: 5px;\n",
       "}\n",
       "\n",
       ".xr-var-list > li:nth-child(odd) > div,\n",
       ".xr-var-list > li:nth-child(odd) > label,\n",
       ".xr-var-list > li:nth-child(odd) > .xr-var-name span {\n",
       "  background-color: var(--xr-background-color-row-odd);\n",
       "}\n",
       "\n",
       ".xr-var-name {\n",
       "  grid-column: 1;\n",
       "}\n",
       "\n",
       ".xr-var-dims {\n",
       "  grid-column: 2;\n",
       "}\n",
       "\n",
       ".xr-var-dtype {\n",
       "  grid-column: 3;\n",
       "  text-align: right;\n",
       "  color: var(--xr-font-color2);\n",
       "}\n",
       "\n",
       ".xr-var-preview {\n",
       "  grid-column: 4;\n",
       "}\n",
       "\n",
       ".xr-index-preview {\n",
       "  grid-column: 2 / 5;\n",
       "  color: var(--xr-font-color2);\n",
       "}\n",
       "\n",
       ".xr-var-name,\n",
       ".xr-var-dims,\n",
       ".xr-var-dtype,\n",
       ".xr-preview,\n",
       ".xr-attrs dt {\n",
       "  white-space: nowrap;\n",
       "  overflow: hidden;\n",
       "  text-overflow: ellipsis;\n",
       "  padding-right: 10px;\n",
       "}\n",
       "\n",
       ".xr-var-name:hover,\n",
       ".xr-var-dims:hover,\n",
       ".xr-var-dtype:hover,\n",
       ".xr-attrs dt:hover {\n",
       "  overflow: visible;\n",
       "  width: auto;\n",
       "  z-index: 1;\n",
       "}\n",
       "\n",
       ".xr-var-attrs,\n",
       ".xr-var-data,\n",
       ".xr-index-data {\n",
       "  display: none;\n",
       "  background-color: var(--xr-background-color) !important;\n",
       "  padding-bottom: 5px !important;\n",
       "}\n",
       "\n",
       ".xr-var-attrs-in:checked ~ .xr-var-attrs,\n",
       ".xr-var-data-in:checked ~ .xr-var-data,\n",
       ".xr-index-data-in:checked ~ .xr-index-data {\n",
       "  display: block;\n",
       "}\n",
       "\n",
       ".xr-var-data > table {\n",
       "  float: right;\n",
       "}\n",
       "\n",
       ".xr-var-name span,\n",
       ".xr-var-data,\n",
       ".xr-index-name div,\n",
       ".xr-index-data,\n",
       ".xr-attrs {\n",
       "  padding-left: 25px !important;\n",
       "}\n",
       "\n",
       ".xr-attrs,\n",
       ".xr-var-attrs,\n",
       ".xr-var-data,\n",
       ".xr-index-data {\n",
       "  grid-column: 1 / -1;\n",
       "}\n",
       "\n",
       "dl.xr-attrs {\n",
       "  padding: 0;\n",
       "  margin: 0;\n",
       "  display: grid;\n",
       "  grid-template-columns: 125px auto;\n",
       "}\n",
       "\n",
       ".xr-attrs dt,\n",
       ".xr-attrs dd {\n",
       "  padding: 0;\n",
       "  margin: 0;\n",
       "  float: left;\n",
       "  padding-right: 10px;\n",
       "  width: auto;\n",
       "}\n",
       "\n",
       ".xr-attrs dt {\n",
       "  font-weight: normal;\n",
       "  grid-column: 1;\n",
       "}\n",
       "\n",
       ".xr-attrs dt:hover span {\n",
       "  display: inline-block;\n",
       "  background: var(--xr-background-color);\n",
       "  padding-right: 10px;\n",
       "}\n",
       "\n",
       ".xr-attrs dd {\n",
       "  grid-column: 2;\n",
       "  white-space: pre-wrap;\n",
       "  word-break: break-all;\n",
       "}\n",
       "\n",
       ".xr-icon-database,\n",
       ".xr-icon-file-text2,\n",
       ".xr-no-icon {\n",
       "  display: inline-block;\n",
       "  vertical-align: middle;\n",
       "  width: 1em;\n",
       "  height: 1.5em !important;\n",
       "  stroke-width: 0;\n",
       "  stroke: currentColor;\n",
       "  fill: currentColor;\n",
       "}\n",
       "</style><pre class='xr-text-repr-fallback'>&lt;xarray.Dataset&gt;\n",
       "Dimensions:            (year: 1, x: 1, y: 1)\n",
       "Coordinates:\n",
       "  * year               (year) int32 0\n",
       "  * x                  (x) float64 1.0\n",
       "  * y                  (y) float64 1.0\n",
       "Data variables: (12/31)\n",
       "    water_temp_c       (year, x, y) int32 20\n",
       "    surface_area       (year, x, y) int32 1\n",
       "    volume             (year, x, y) int32 1\n",
       "    use_sed_temp       (x, y) bool True\n",
       "    stefan_boltzmann   (x, y) int32 10\n",
       "    cp_air             (x, y) int32 1\n",
       "    ...                 ...\n",
       "    cloudiness         (x, y) float64 0.1\n",
       "    wind_speed         (x, y) int32 3\n",
       "    wind_a             (x, y) int32 1\n",
       "    wind_b             (x, y) int32 1\n",
       "    wind_c             (x, y) int32 1\n",
       "    wind_kh_kw         (x, y) int32 1</pre><div class='xr-wrap' style='display:none'><div class='xr-header'><div class='xr-obj-type'>xarray.Dataset</div></div><ul class='xr-sections'><li class='xr-section-item'><input id='section-f54a9de1-7467-4a5e-87fc-1b203c3e0dfc' class='xr-section-summary-in' type='checkbox' disabled ><label for='section-f54a9de1-7467-4a5e-87fc-1b203c3e0dfc' class='xr-section-summary'  title='Expand/collapse section'>Dimensions:</label><div class='xr-section-inline-details'><ul class='xr-dim-list'><li><span class='xr-has-index'>year</span>: 1</li><li><span class='xr-has-index'>x</span>: 1</li><li><span class='xr-has-index'>y</span>: 1</li></ul></div><div class='xr-section-details'></div></li><li class='xr-section-item'><input id='section-6e126f6d-b4ef-46e7-9726-2c976f2c10c8' class='xr-section-summary-in' type='checkbox'  checked><label for='section-6e126f6d-b4ef-46e7-9726-2c976f2c10c8' class='xr-section-summary' >Coordinates: <span>(3)</span></label><div class='xr-section-inline-details'></div><div class='xr-section-details'><ul class='xr-var-list'><li class='xr-var-item'><div class='xr-var-name'><span class='xr-has-index'>year</span></div><div class='xr-var-dims'>(year)</div><div class='xr-var-dtype'>int32</div><div class='xr-var-preview xr-preview'>0</div><input id='attrs-a6c379f0-c773-45f1-b53a-27e3c2a75ec6' class='xr-var-attrs-in' type='checkbox' disabled><label for='attrs-a6c379f0-c773-45f1-b53a-27e3c2a75ec6' title='Show/Hide attributes'><svg class='icon xr-icon-file-text2'><use xlink:href='#icon-file-text2'></use></svg></label><input id='data-42ccd4d7-2ffc-4ac7-81bf-999363590e4e' class='xr-var-data-in' type='checkbox'><label for='data-42ccd4d7-2ffc-4ac7-81bf-999363590e4e' title='Show/Hide data repr'><svg class='icon xr-icon-database'><use xlink:href='#icon-database'></use></svg></label><div class='xr-var-attrs'><dl class='xr-attrs'></dl></div><div class='xr-var-data'><pre>array([0])</pre></div></li><li class='xr-var-item'><div class='xr-var-name'><span class='xr-has-index'>x</span></div><div class='xr-var-dims'>(x)</div><div class='xr-var-dtype'>float64</div><div class='xr-var-preview xr-preview'>1.0</div><input id='attrs-03af7cc9-44bc-4b4d-9584-53fe5e4b16ea' class='xr-var-attrs-in' type='checkbox' disabled><label for='attrs-03af7cc9-44bc-4b4d-9584-53fe5e4b16ea' title='Show/Hide attributes'><svg class='icon xr-icon-file-text2'><use xlink:href='#icon-file-text2'></use></svg></label><input id='data-92232728-af1a-42ff-87c7-963f9adb55a0' class='xr-var-data-in' type='checkbox'><label for='data-92232728-af1a-42ff-87c7-963f9adb55a0' title='Show/Hide data repr'><svg class='icon xr-icon-database'><use xlink:href='#icon-database'></use></svg></label><div class='xr-var-attrs'><dl class='xr-attrs'></dl></div><div class='xr-var-data'><pre>array([1.])</pre></div></li><li class='xr-var-item'><div class='xr-var-name'><span class='xr-has-index'>y</span></div><div class='xr-var-dims'>(y)</div><div class='xr-var-dtype'>float64</div><div class='xr-var-preview xr-preview'>1.0</div><input id='attrs-4aa881cc-fd56-4c26-8bdd-37bee4d5a05a' class='xr-var-attrs-in' type='checkbox' disabled><label for='attrs-4aa881cc-fd56-4c26-8bdd-37bee4d5a05a' title='Show/Hide attributes'><svg class='icon xr-icon-file-text2'><use xlink:href='#icon-file-text2'></use></svg></label><input id='data-be7c67d9-c890-483e-a8f3-1b34e2618220' class='xr-var-data-in' type='checkbox'><label for='data-be7c67d9-c890-483e-a8f3-1b34e2618220' title='Show/Hide data repr'><svg class='icon xr-icon-database'><use xlink:href='#icon-database'></use></svg></label><div class='xr-var-attrs'><dl class='xr-attrs'></dl></div><div class='xr-var-data'><pre>array([1.])</pre></div></li></ul></div></li><li class='xr-section-item'><input id='section-9cd6ffb8-536f-410c-9145-d74a92c1b9e2' class='xr-section-summary-in' type='checkbox'  ><label for='section-9cd6ffb8-536f-410c-9145-d74a92c1b9e2' class='xr-section-summary' >Data variables: <span>(31)</span></label><div class='xr-section-inline-details'></div><div class='xr-section-details'><ul class='xr-var-list'><li class='xr-var-item'><div class='xr-var-name'><span>water_temp_c</span></div><div class='xr-var-dims'>(year, x, y)</div><div class='xr-var-dtype'>int32</div><div class='xr-var-preview xr-preview'>20</div><input id='attrs-5bf15350-81f7-4bff-a960-0b381f4bbba7' class='xr-var-attrs-in' type='checkbox' ><label for='attrs-5bf15350-81f7-4bff-a960-0b381f4bbba7' title='Show/Hide attributes'><svg class='icon xr-icon-file-text2'><use xlink:href='#icon-file-text2'></use></svg></label><input id='data-af8dc1ec-f718-42d6-b9a8-9b0b495d2ab3' class='xr-var-data-in' type='checkbox'><label for='data-af8dc1ec-f718-42d6-b9a8-9b0b495d2ab3' title='Show/Hide data repr'><svg class='icon xr-icon-database'><use xlink:href='#icon-database'></use></svg></label><div class='xr-var-attrs'><dl class='xr-attrs'><dt><span>long_name :</span></dt><dd>Water temperature</dd><dt><span>units :</span></dt><dd>degC</dd><dt><span>description :</span></dt><dd>TSM state variable for water temperature</dd></dl></div><div class='xr-var-data'><pre>array([[[20]]])</pre></div></li><li class='xr-var-item'><div class='xr-var-name'><span>surface_area</span></div><div class='xr-var-dims'>(year, x, y)</div><div class='xr-var-dtype'>int32</div><div class='xr-var-preview xr-preview'>1</div><input id='attrs-cff54109-d018-494f-806e-b943af1c3223' class='xr-var-attrs-in' type='checkbox' ><label for='attrs-cff54109-d018-494f-806e-b943af1c3223' title='Show/Hide attributes'><svg class='icon xr-icon-file-text2'><use xlink:href='#icon-file-text2'></use></svg></label><input id='data-a481677a-07bd-4296-be97-bb180ba19d48' class='xr-var-data-in' type='checkbox'><label for='data-a481677a-07bd-4296-be97-bb180ba19d48' title='Show/Hide data repr'><svg class='icon xr-icon-database'><use xlink:href='#icon-database'></use></svg></label><div class='xr-var-attrs'><dl class='xr-attrs'><dt><span>long_name :</span></dt><dd>Surface area</dd><dt><span>units :</span></dt><dd>m^2</dd><dt><span>description :</span></dt><dd>Surface area</dd></dl></div><div class='xr-var-data'><pre>array([[[1]]])</pre></div></li><li class='xr-var-item'><div class='xr-var-name'><span>volume</span></div><div class='xr-var-dims'>(year, x, y)</div><div class='xr-var-dtype'>int32</div><div class='xr-var-preview xr-preview'>1</div><input id='attrs-78b94928-b1b2-44a7-b4e8-b7f9a02a707a' class='xr-var-attrs-in' type='checkbox' ><label for='attrs-78b94928-b1b2-44a7-b4e8-b7f9a02a707a' title='Show/Hide attributes'><svg class='icon xr-icon-file-text2'><use xlink:href='#icon-file-text2'></use></svg></label><input id='data-67d3339e-a220-4710-80c8-db1d08c87015' class='xr-var-data-in' type='checkbox'><label for='data-67d3339e-a220-4710-80c8-db1d08c87015' title='Show/Hide data repr'><svg class='icon xr-icon-database'><use xlink:href='#icon-database'></use></svg></label><div class='xr-var-attrs'><dl class='xr-attrs'><dt><span>long_name :</span></dt><dd>Volume</dd><dt><span>units :</span></dt><dd>m^3</dd><dt><span>description :</span></dt><dd>Volume</dd></dl></div><div class='xr-var-data'><pre>array([[[1]]])</pre></div></li><li class='xr-var-item'><div class='xr-var-name'><span>use_sed_temp</span></div><div class='xr-var-dims'>(x, y)</div><div class='xr-var-dtype'>bool</div><div class='xr-var-preview xr-preview'>True</div><input id='attrs-7846b646-f532-46a6-87b9-72f7f76d711d' class='xr-var-attrs-in' type='checkbox' ><label for='attrs-7846b646-f532-46a6-87b9-72f7f76d711d' title='Show/Hide attributes'><svg class='icon xr-icon-file-text2'><use xlink:href='#icon-file-text2'></use></svg></label><input id='data-e6b69255-a25b-48d3-aa1a-f46bd09d3a7b' class='xr-var-data-in' type='checkbox'><label for='data-e6b69255-a25b-48d3-aa1a-f46bd09d3a7b' title='Show/Hide data repr'><svg class='icon xr-icon-database'><use xlink:href='#icon-database'></use></svg></label><div class='xr-var-attrs'><dl class='xr-attrs'><dt><span>long_name :</span></dt><dd>Use Sediment Temperature?</dd><dt><span>units :</span></dt><dd>boolean</dd><dt><span>description :</span></dt><dd>Controls whether to use/calculate sediment temperature or not.</dd></dl></div><div class='xr-var-data'><pre>array([[ True]])</pre></div></li><li class='xr-var-item'><div class='xr-var-name'><span>stefan_boltzmann</span></div><div class='xr-var-dims'>(x, y)</div><div class='xr-var-dtype'>int32</div><div class='xr-var-preview xr-preview'>10</div><input id='attrs-32bc8258-54b0-4d94-aadb-1ebf917bb4a7' class='xr-var-attrs-in' type='checkbox' ><label for='attrs-32bc8258-54b0-4d94-aadb-1ebf917bb4a7' title='Show/Hide attributes'><svg class='icon xr-icon-file-text2'><use xlink:href='#icon-file-text2'></use></svg></label><input id='data-d4cec14b-8d55-47b3-857c-6097aadaec2b' class='xr-var-data-in' type='checkbox'><label for='data-d4cec14b-8d55-47b3-857c-6097aadaec2b' title='Show/Hide data repr'><svg class='icon xr-icon-database'><use xlink:href='#icon-database'></use></svg></label><div class='xr-var-attrs'><dl class='xr-attrs'><dt><span>long_name :</span></dt><dd>Stefan-Boltzmann Constant</dd><dt><span>units :</span></dt><dd>W m-2 K-4</dd><dt><span>description :</span></dt><dd>The Stefan-Boltzmann constant.</dd></dl></div><div class='xr-var-data'><pre>array([[10]])</pre></div></li><li class='xr-var-item'><div class='xr-var-name'><span>cp_air</span></div><div class='xr-var-dims'>(x, y)</div><div class='xr-var-dtype'>int32</div><div class='xr-var-preview xr-preview'>1</div><input id='attrs-850bc8ca-ead1-4eab-8bc4-92b25f328003' class='xr-var-attrs-in' type='checkbox' ><label for='attrs-850bc8ca-ead1-4eab-8bc4-92b25f328003' title='Show/Hide attributes'><svg class='icon xr-icon-file-text2'><use xlink:href='#icon-file-text2'></use></svg></label><input id='data-ab7cd591-3f98-4708-98fc-d910c0c68812' class='xr-var-data-in' type='checkbox'><label for='data-ab7cd591-3f98-4708-98fc-d910c0c68812' title='Show/Hide data repr'><svg class='icon xr-icon-database'><use xlink:href='#icon-database'></use></svg></label><div class='xr-var-attrs'><dl class='xr-attrs'><dt><span>long_name :</span></dt><dd>Specific Heat Capacity of Air</dd><dt><span>units :</span></dt><dd>J kg-1 K-1</dd><dt><span>description :</span></dt><dd>The specific heat capacity of air.</dd></dl></div><div class='xr-var-data'><pre>array([[1]])</pre></div></li><li class='xr-var-item'><div class='xr-var-name'><span>emissivity_water</span></div><div class='xr-var-dims'>(x, y)</div><div class='xr-var-dtype'>int32</div><div class='xr-var-preview xr-preview'>1</div><input id='attrs-915b5821-0d78-4a88-b409-cd0b0708069c' class='xr-var-attrs-in' type='checkbox' ><label for='attrs-915b5821-0d78-4a88-b409-cd0b0708069c' title='Show/Hide attributes'><svg class='icon xr-icon-file-text2'><use xlink:href='#icon-file-text2'></use></svg></label><input id='data-1154962f-be6b-44a0-bcf9-577494008366' class='xr-var-data-in' type='checkbox'><label for='data-1154962f-be6b-44a0-bcf9-577494008366' title='Show/Hide data repr'><svg class='icon xr-icon-database'><use xlink:href='#icon-database'></use></svg></label><div class='xr-var-attrs'><dl class='xr-attrs'><dt><span>long_name :</span></dt><dd>Emissivity of Water</dd><dt><span>units :</span></dt><dd>1</dd><dt><span>description :</span></dt><dd>The emissivity of water.</dd></dl></div><div class='xr-var-data'><pre>array([[1]])</pre></div></li><li class='xr-var-item'><div class='xr-var-name'><span>gravity</span></div><div class='xr-var-dims'>(x, y)</div><div class='xr-var-dtype'>float64</div><div class='xr-var-preview xr-preview'>9.82</div><input id='attrs-0bedf87e-5eba-41dd-a00f-fa0bea73e533' class='xr-var-attrs-in' type='checkbox' ><label for='attrs-0bedf87e-5eba-41dd-a00f-fa0bea73e533' title='Show/Hide attributes'><svg class='icon xr-icon-file-text2'><use xlink:href='#icon-file-text2'></use></svg></label><input id='data-88b5c4a4-3a41-48eb-b202-9876ce2091af' class='xr-var-data-in' type='checkbox'><label for='data-88b5c4a4-3a41-48eb-b202-9876ce2091af' title='Show/Hide data repr'><svg class='icon xr-icon-database'><use xlink:href='#icon-database'></use></svg></label><div class='xr-var-attrs'><dl class='xr-attrs'><dt><span>long_name :</span></dt><dd>Gravity</dd><dt><span>units :</span></dt><dd>m s-2</dd><dt><span>description :</span></dt><dd>The acceleration due to gravity.</dd></dl></div><div class='xr-var-data'><pre>array([[9.82]])</pre></div></li><li class='xr-var-item'><div class='xr-var-name'><span>a0</span></div><div class='xr-var-dims'>(x, y)</div><div class='xr-var-dtype'>int32</div><div class='xr-var-preview xr-preview'>3333</div><input id='attrs-0a7a9014-34a2-48cb-8112-148072fcd97c' class='xr-var-attrs-in' type='checkbox' ><label for='attrs-0a7a9014-34a2-48cb-8112-148072fcd97c' title='Show/Hide attributes'><svg class='icon xr-icon-file-text2'><use xlink:href='#icon-file-text2'></use></svg></label><input id='data-7a820b5b-e8d5-4af9-9f71-7af3dc2adad0' class='xr-var-data-in' type='checkbox'><label for='data-7a820b5b-e8d5-4af9-9f71-7af3dc2adad0' title='Show/Hide data repr'><svg class='icon xr-icon-database'><use xlink:href='#icon-database'></use></svg></label><div class='xr-var-attrs'><dl class='xr-attrs'><dt><span>long_name :</span></dt><dd>Albedo of Water</dd><dt><span>units :</span></dt><dd>unitless</dd><dt><span>description :</span></dt><dd>The albedo of water.</dd></dl></div><div class='xr-var-data'><pre>array([[3333]])</pre></div></li><li class='xr-var-item'><div class='xr-var-name'><span>a1</span></div><div class='xr-var-dims'>(x, y)</div><div class='xr-var-dtype'>int32</div><div class='xr-var-preview xr-preview'>3333</div><input id='attrs-b50e3a13-ef1b-4ec8-918c-085ab1561a66' class='xr-var-attrs-in' type='checkbox' ><label for='attrs-b50e3a13-ef1b-4ec8-918c-085ab1561a66' title='Show/Hide attributes'><svg class='icon xr-icon-file-text2'><use xlink:href='#icon-file-text2'></use></svg></label><input id='data-1ab107df-1cb3-407d-bc61-10c0ab504afa' class='xr-var-data-in' type='checkbox'><label for='data-1ab107df-1cb3-407d-bc61-10c0ab504afa' title='Show/Hide data repr'><svg class='icon xr-icon-database'><use xlink:href='#icon-database'></use></svg></label><div class='xr-var-attrs'><dl class='xr-attrs'><dt><span>long_name :</span></dt><dd>Albedo of Water</dd><dt><span>units :</span></dt><dd>unitless</dd><dt><span>description :</span></dt><dd>The albedo of water.</dd></dl></div><div class='xr-var-data'><pre>array([[3333]])</pre></div></li><li class='xr-var-item'><div class='xr-var-name'><span>a2</span></div><div class='xr-var-dims'>(x, y)</div><div class='xr-var-dtype'>int32</div><div class='xr-var-preview xr-preview'>3333</div><input id='attrs-10f92352-e2a3-4439-9f29-28ec4f59dab1' class='xr-var-attrs-in' type='checkbox' ><label for='attrs-10f92352-e2a3-4439-9f29-28ec4f59dab1' title='Show/Hide attributes'><svg class='icon xr-icon-file-text2'><use xlink:href='#icon-file-text2'></use></svg></label><input id='data-e487547a-4883-49e6-93d4-9c771c36aade' class='xr-var-data-in' type='checkbox'><label for='data-e487547a-4883-49e6-93d4-9c771c36aade' title='Show/Hide data repr'><svg class='icon xr-icon-database'><use xlink:href='#icon-database'></use></svg></label><div class='xr-var-attrs'><dl class='xr-attrs'><dt><span>long_name :</span></dt><dd>Albedo of Water</dd><dt><span>units :</span></dt><dd>unitless</dd><dt><span>description :</span></dt><dd>The albedo of water.</dd></dl></div><div class='xr-var-data'><pre>array([[3333]])</pre></div></li><li class='xr-var-item'><div class='xr-var-name'><span>a3</span></div><div class='xr-var-dims'>(x, y)</div><div class='xr-var-dtype'>int32</div><div class='xr-var-preview xr-preview'>3333</div><input id='attrs-62dce596-13ed-4a3b-9f09-b0ed55f08eff' class='xr-var-attrs-in' type='checkbox' ><label for='attrs-62dce596-13ed-4a3b-9f09-b0ed55f08eff' title='Show/Hide attributes'><svg class='icon xr-icon-file-text2'><use xlink:href='#icon-file-text2'></use></svg></label><input id='data-1ef69201-dec7-47e9-a157-fc3837d5d419' class='xr-var-data-in' type='checkbox'><label for='data-1ef69201-dec7-47e9-a157-fc3837d5d419' title='Show/Hide data repr'><svg class='icon xr-icon-database'><use xlink:href='#icon-database'></use></svg></label><div class='xr-var-attrs'><dl class='xr-attrs'><dt><span>long_name :</span></dt><dd>Albedo of Water</dd><dt><span>units :</span></dt><dd>unitless</dd><dt><span>description :</span></dt><dd>The albedo of water.</dd></dl></div><div class='xr-var-data'><pre>array([[3333]])</pre></div></li><li class='xr-var-item'><div class='xr-var-name'><span>a4</span></div><div class='xr-var-dims'>(x, y)</div><div class='xr-var-dtype'>int32</div><div class='xr-var-preview xr-preview'>3333</div><input id='attrs-7732eb8b-0399-43a2-b399-cd4204909f07' class='xr-var-attrs-in' type='checkbox' ><label for='attrs-7732eb8b-0399-43a2-b399-cd4204909f07' title='Show/Hide attributes'><svg class='icon xr-icon-file-text2'><use xlink:href='#icon-file-text2'></use></svg></label><input id='data-aea365e2-2349-46b1-8fed-80b678a98168' class='xr-var-data-in' type='checkbox'><label for='data-aea365e2-2349-46b1-8fed-80b678a98168' title='Show/Hide data repr'><svg class='icon xr-icon-database'><use xlink:href='#icon-database'></use></svg></label><div class='xr-var-attrs'><dl class='xr-attrs'><dt><span>long_name :</span></dt><dd>Albedo of Water</dd><dt><span>units :</span></dt><dd>unitless</dd><dt><span>description :</span></dt><dd>The albedo of water.</dd></dl></div><div class='xr-var-data'><pre>array([[3333]])</pre></div></li><li class='xr-var-item'><div class='xr-var-name'><span>a5</span></div><div class='xr-var-dims'>(x, y)</div><div class='xr-var-dtype'>int32</div><div class='xr-var-preview xr-preview'>3333</div><input id='attrs-646aeb15-3c23-4102-b099-58bf3e6e486b' class='xr-var-attrs-in' type='checkbox' ><label for='attrs-646aeb15-3c23-4102-b099-58bf3e6e486b' title='Show/Hide attributes'><svg class='icon xr-icon-file-text2'><use xlink:href='#icon-file-text2'></use></svg></label><input id='data-ccb6961b-7754-49e7-84b6-84256c3051ba' class='xr-var-data-in' type='checkbox'><label for='data-ccb6961b-7754-49e7-84b6-84256c3051ba' title='Show/Hide data repr'><svg class='icon xr-icon-database'><use xlink:href='#icon-database'></use></svg></label><div class='xr-var-attrs'><dl class='xr-attrs'><dt><span>long_name :</span></dt><dd>Albedo of Water</dd><dt><span>units :</span></dt><dd>unitless</dd><dt><span>description :</span></dt><dd>The albedo of water.</dd></dl></div><div class='xr-var-data'><pre>array([[3333]])</pre></div></li><li class='xr-var-item'><div class='xr-var-name'><span>a6</span></div><div class='xr-var-dims'>(x, y)</div><div class='xr-var-dtype'>int32</div><div class='xr-var-preview xr-preview'>3333</div><input id='attrs-ae57be37-7727-4b64-ad4e-53d4a7770d62' class='xr-var-attrs-in' type='checkbox' ><label for='attrs-ae57be37-7727-4b64-ad4e-53d4a7770d62' title='Show/Hide attributes'><svg class='icon xr-icon-file-text2'><use xlink:href='#icon-file-text2'></use></svg></label><input id='data-939cf699-0c1c-423c-af31-07793d0650a0' class='xr-var-data-in' type='checkbox'><label for='data-939cf699-0c1c-423c-af31-07793d0650a0' title='Show/Hide data repr'><svg class='icon xr-icon-database'><use xlink:href='#icon-database'></use></svg></label><div class='xr-var-attrs'><dl class='xr-attrs'><dt><span>long_name :</span></dt><dd>Albedo of Water</dd><dt><span>units :</span></dt><dd>unitless</dd><dt><span>description :</span></dt><dd>The albedo of water.</dd></dl></div><div class='xr-var-data'><pre>array([[3333]])</pre></div></li><li class='xr-var-item'><div class='xr-var-name'><span>pb</span></div><div class='xr-var-dims'>(x, y)</div><div class='xr-var-dtype'>int32</div><div class='xr-var-preview xr-preview'>3333</div><input id='attrs-aed655ef-6f73-4f81-9560-635ac3c9d50f' class='xr-var-attrs-in' type='checkbox' ><label for='attrs-aed655ef-6f73-4f81-9560-635ac3c9d50f' title='Show/Hide attributes'><svg class='icon xr-icon-file-text2'><use xlink:href='#icon-file-text2'></use></svg></label><input id='data-149f01e2-277e-4a4e-b97b-15483934c8c0' class='xr-var-data-in' type='checkbox'><label for='data-149f01e2-277e-4a4e-b97b-15483934c8c0' title='Show/Hide data repr'><svg class='icon xr-icon-database'><use xlink:href='#icon-database'></use></svg></label><div class='xr-var-attrs'><dl class='xr-attrs'><dt><span>long_name :</span></dt><dd>Bulk Density of Sediment</dd><dt><span>units :</span></dt><dd>kg m-3</dd><dt><span>description :</span></dt><dd>The bulk density of sediment.</dd></dl></div><div class='xr-var-data'><pre>array([[3333]])</pre></div></li><li class='xr-var-item'><div class='xr-var-name'><span>cps</span></div><div class='xr-var-dims'>(x, y)</div><div class='xr-var-dtype'>int32</div><div class='xr-var-preview xr-preview'>3333</div><input id='attrs-f75417eb-2d70-4d3c-9bbc-e9c39ef92470' class='xr-var-attrs-in' type='checkbox' ><label for='attrs-f75417eb-2d70-4d3c-9bbc-e9c39ef92470' title='Show/Hide attributes'><svg class='icon xr-icon-file-text2'><use xlink:href='#icon-file-text2'></use></svg></label><input id='data-fe37842e-b1a1-4f80-b4f6-e2341f5dc88c' class='xr-var-data-in' type='checkbox'><label for='data-fe37842e-b1a1-4f80-b4f6-e2341f5dc88c' title='Show/Hide data repr'><svg class='icon xr-icon-database'><use xlink:href='#icon-database'></use></svg></label><div class='xr-var-attrs'><dl class='xr-attrs'><dt><span>long_name :</span></dt><dd>CPS</dd><dt><span>units :</span></dt><dd>J kg-1 K-1</dd><dt><span>description :</span></dt><dd>The CPS.</dd></dl></div><div class='xr-var-data'><pre>array([[3333]])</pre></div></li><li class='xr-var-item'><div class='xr-var-name'><span>h2</span></div><div class='xr-var-dims'>(x, y)</div><div class='xr-var-dtype'>int32</div><div class='xr-var-preview xr-preview'>3333</div><input id='attrs-2b3d0156-5085-48a7-88ed-65ff4a14e979' class='xr-var-attrs-in' type='checkbox' ><label for='attrs-2b3d0156-5085-48a7-88ed-65ff4a14e979' title='Show/Hide attributes'><svg class='icon xr-icon-file-text2'><use xlink:href='#icon-file-text2'></use></svg></label><input id='data-8318fcb9-f47b-4300-9b4e-3735e2c6a367' class='xr-var-data-in' type='checkbox'><label for='data-8318fcb9-f47b-4300-9b4e-3735e2c6a367' title='Show/Hide data repr'><svg class='icon xr-icon-database'><use xlink:href='#icon-database'></use></svg></label><div class='xr-var-attrs'><dl class='xr-attrs'><dt><span>long_name :</span></dt><dd>H2</dd><dt><span>units :</span></dt><dd>m</dd><dt><span>description :</span></dt><dd>The H2.</dd></dl></div><div class='xr-var-data'><pre>array([[3333]])</pre></div></li><li class='xr-var-item'><div class='xr-var-name'><span>alphas</span></div><div class='xr-var-dims'>(x, y)</div><div class='xr-var-dtype'>int32</div><div class='xr-var-preview xr-preview'>3333</div><input id='attrs-14c5649e-10a4-4504-83ef-bb2219b67bb3' class='xr-var-attrs-in' type='checkbox' ><label for='attrs-14c5649e-10a4-4504-83ef-bb2219b67bb3' title='Show/Hide attributes'><svg class='icon xr-icon-file-text2'><use xlink:href='#icon-file-text2'></use></svg></label><input id='data-c2e81e1d-fa30-4366-8f47-72a64c062183' class='xr-var-data-in' type='checkbox'><label for='data-c2e81e1d-fa30-4366-8f47-72a64c062183' title='Show/Hide data repr'><svg class='icon xr-icon-database'><use xlink:href='#icon-database'></use></svg></label><div class='xr-var-attrs'><dl class='xr-attrs'><dt><span>long_name :</span></dt><dd>Alphas</dd><dt><span>units :</span></dt><dd>m-1</dd><dt><span>description :</span></dt><dd>The alphas.</dd></dl></div><div class='xr-var-data'><pre>array([[3333]])</pre></div></li><li class='xr-var-item'><div class='xr-var-name'><span>richardson_option</span></div><div class='xr-var-dims'>(x, y)</div><div class='xr-var-dtype'>bool</div><div class='xr-var-preview xr-preview'>True</div><input id='attrs-07a4ef7c-a891-4e0b-86a5-3ce1a5b67c34' class='xr-var-attrs-in' type='checkbox' ><label for='attrs-07a4ef7c-a891-4e0b-86a5-3ce1a5b67c34' title='Show/Hide attributes'><svg class='icon xr-icon-file-text2'><use xlink:href='#icon-file-text2'></use></svg></label><input id='data-84e7346e-8ec8-489f-a35c-e77f1abce4e7' class='xr-var-data-in' type='checkbox'><label for='data-84e7346e-8ec8-489f-a35c-e77f1abce4e7' title='Show/Hide data repr'><svg class='icon xr-icon-database'><use xlink:href='#icon-database'></use></svg></label><div class='xr-var-attrs'><dl class='xr-attrs'><dt><span>long_name :</span></dt><dd>Richardson Option</dd><dt><span>units :</span></dt><dd>unitless</dd><dt><span>description :</span></dt><dd>The Richardson option.</dd></dl></div><div class='xr-var-data'><pre>array([[ True]])</pre></div></li><li class='xr-var-item'><div class='xr-var-name'><span>air_temp_c</span></div><div class='xr-var-dims'>(x, y)</div><div class='xr-var-dtype'>int32</div><div class='xr-var-preview xr-preview'>20</div><input id='attrs-4e84fe82-a445-4da1-a314-45c57f97a316' class='xr-var-attrs-in' type='checkbox' ><label for='attrs-4e84fe82-a445-4da1-a314-45c57f97a316' title='Show/Hide attributes'><svg class='icon xr-icon-file-text2'><use xlink:href='#icon-file-text2'></use></svg></label><input id='data-78bcdba2-c754-4a4d-8bfd-a9cb11ef2ddd' class='xr-var-data-in' type='checkbox'><label for='data-78bcdba2-c754-4a4d-8bfd-a9cb11ef2ddd' title='Show/Hide data repr'><svg class='icon xr-icon-database'><use xlink:href='#icon-database'></use></svg></label><div class='xr-var-attrs'><dl class='xr-attrs'><dt><span>long_name :</span></dt><dd>Air Temperature</dd><dt><span>units :</span></dt><dd>C</dd><dt><span>description :</span></dt><dd>The air temperature.</dd></dl></div><div class='xr-var-data'><pre>array([[20]])</pre></div></li><li class='xr-var-item'><div class='xr-var-name'><span>q_solar</span></div><div class='xr-var-dims'>(x, y)</div><div class='xr-var-dtype'>int32</div><div class='xr-var-preview xr-preview'>400</div><input id='attrs-67bbb702-ed55-45b7-bf85-d0a4d1ac23aa' class='xr-var-attrs-in' type='checkbox' ><label for='attrs-67bbb702-ed55-45b7-bf85-d0a4d1ac23aa' title='Show/Hide attributes'><svg class='icon xr-icon-file-text2'><use xlink:href='#icon-file-text2'></use></svg></label><input id='data-c4cf72af-72cc-4d02-89f8-a686eae8f678' class='xr-var-data-in' type='checkbox'><label for='data-c4cf72af-72cc-4d02-89f8-a686eae8f678' title='Show/Hide data repr'><svg class='icon xr-icon-database'><use xlink:href='#icon-database'></use></svg></label><div class='xr-var-attrs'><dl class='xr-attrs'><dt><span>long_name :</span></dt><dd>Solar Heat Flux</dd><dt><span>units :</span></dt><dd>W m-2</dd><dt><span>description :</span></dt><dd>The solar heat flux.</dd></dl></div><div class='xr-var-data'><pre>array([[400]])</pre></div></li><li class='xr-var-item'><div class='xr-var-name'><span>sed_temp_c</span></div><div class='xr-var-dims'>(x, y)</div><div class='xr-var-dtype'>int32</div><div class='xr-var-preview xr-preview'>10</div><input id='attrs-6fb7b5e1-7c49-46c8-8e62-66b8ff9e82a6' class='xr-var-attrs-in' type='checkbox' ><label for='attrs-6fb7b5e1-7c49-46c8-8e62-66b8ff9e82a6' title='Show/Hide attributes'><svg class='icon xr-icon-file-text2'><use xlink:href='#icon-file-text2'></use></svg></label><input id='data-8a7df23b-06ca-4b63-8a70-9a20d37f0ba9' class='xr-var-data-in' type='checkbox'><label for='data-8a7df23b-06ca-4b63-8a70-9a20d37f0ba9' title='Show/Hide data repr'><svg class='icon xr-icon-database'><use xlink:href='#icon-database'></use></svg></label><div class='xr-var-attrs'><dl class='xr-attrs'><dt><span>long_name :</span></dt><dd>Sediment Temperature</dd><dt><span>units :</span></dt><dd>C</dd><dt><span>description :</span></dt><dd>The sediment temperature.</dd></dl></div><div class='xr-var-data'><pre>array([[10]])</pre></div></li><li class='xr-var-item'><div class='xr-var-name'><span>eair_mb</span></div><div class='xr-var-dims'>(x, y)</div><div class='xr-var-dtype'>int32</div><div class='xr-var-preview xr-preview'>2</div><input id='attrs-d4bca8bb-bc20-4f54-89ea-cf34bda2e73f' class='xr-var-attrs-in' type='checkbox' ><label for='attrs-d4bca8bb-bc20-4f54-89ea-cf34bda2e73f' title='Show/Hide attributes'><svg class='icon xr-icon-file-text2'><use xlink:href='#icon-file-text2'></use></svg></label><input id='data-0a0155e6-3754-4c80-a1aa-b9f03b7ed3c8' class='xr-var-data-in' type='checkbox'><label for='data-0a0155e6-3754-4c80-a1aa-b9f03b7ed3c8' title='Show/Hide data repr'><svg class='icon xr-icon-database'><use xlink:href='#icon-database'></use></svg></label><div class='xr-var-attrs'><dl class='xr-attrs'><dt><span>long_name :</span></dt><dd>Eair MB</dd><dt><span>units :</span></dt><dd>mb</dd><dt><span>description :</span></dt><dd>The eair MB.</dd></dl></div><div class='xr-var-data'><pre>array([[2]])</pre></div></li><li class='xr-var-item'><div class='xr-var-name'><span>pressure_mb</span></div><div class='xr-var-dims'>(x, y)</div><div class='xr-var-dtype'>int32</div><div class='xr-var-preview xr-preview'>1035</div><input id='attrs-6cdead06-db5b-4291-8453-dda81d5778a4' class='xr-var-attrs-in' type='checkbox' ><label for='attrs-6cdead06-db5b-4291-8453-dda81d5778a4' title='Show/Hide attributes'><svg class='icon xr-icon-file-text2'><use xlink:href='#icon-file-text2'></use></svg></label><input id='data-b99765f8-8e63-47d3-a18f-5e832d47395a' class='xr-var-data-in' type='checkbox'><label for='data-b99765f8-8e63-47d3-a18f-5e832d47395a' title='Show/Hide data repr'><svg class='icon xr-icon-database'><use xlink:href='#icon-database'></use></svg></label><div class='xr-var-attrs'><dl class='xr-attrs'><dt><span>long_name :</span></dt><dd>Pressure</dd><dt><span>units :</span></dt><dd>mb</dd><dt><span>description :</span></dt><dd>The pressure.</dd></dl></div><div class='xr-var-data'><pre>array([[1035]])</pre></div></li><li class='xr-var-item'><div class='xr-var-name'><span>cloudiness</span></div><div class='xr-var-dims'>(x, y)</div><div class='xr-var-dtype'>float64</div><div class='xr-var-preview xr-preview'>0.1</div><input id='attrs-b4128a68-5369-4da1-9e5f-792b5f075f4f' class='xr-var-attrs-in' type='checkbox' ><label for='attrs-b4128a68-5369-4da1-9e5f-792b5f075f4f' title='Show/Hide attributes'><svg class='icon xr-icon-file-text2'><use xlink:href='#icon-file-text2'></use></svg></label><input id='data-5d9f5ec3-cae5-4217-b708-06efc5a15b81' class='xr-var-data-in' type='checkbox'><label for='data-5d9f5ec3-cae5-4217-b708-06efc5a15b81' title='Show/Hide data repr'><svg class='icon xr-icon-database'><use xlink:href='#icon-database'></use></svg></label><div class='xr-var-attrs'><dl class='xr-attrs'><dt><span>long_name :</span></dt><dd>Cloudiness</dd><dt><span>units :</span></dt><dd>unitless</dd><dt><span>description :</span></dt><dd>The cloudiness.</dd></dl></div><div class='xr-var-data'><pre>array([[0.1]])</pre></div></li><li class='xr-var-item'><div class='xr-var-name'><span>wind_speed</span></div><div class='xr-var-dims'>(x, y)</div><div class='xr-var-dtype'>int32</div><div class='xr-var-preview xr-preview'>3</div><input id='attrs-a80e6c58-3f86-47cd-ae76-66adb923260d' class='xr-var-attrs-in' type='checkbox' ><label for='attrs-a80e6c58-3f86-47cd-ae76-66adb923260d' title='Show/Hide attributes'><svg class='icon xr-icon-file-text2'><use xlink:href='#icon-file-text2'></use></svg></label><input id='data-df0c1814-d2bf-4ab8-b57a-85a6ac83f13e' class='xr-var-data-in' type='checkbox'><label for='data-df0c1814-d2bf-4ab8-b57a-85a6ac83f13e' title='Show/Hide data repr'><svg class='icon xr-icon-database'><use xlink:href='#icon-database'></use></svg></label><div class='xr-var-attrs'><dl class='xr-attrs'><dt><span>long_name :</span></dt><dd>Wind Speed</dd><dt><span>units :</span></dt><dd>m s-1</dd><dt><span>description :</span></dt><dd>The wind speed.</dd></dl></div><div class='xr-var-data'><pre>array([[3]])</pre></div></li><li class='xr-var-item'><div class='xr-var-name'><span>wind_a</span></div><div class='xr-var-dims'>(x, y)</div><div class='xr-var-dtype'>int32</div><div class='xr-var-preview xr-preview'>1</div><input id='attrs-c9734b41-6aed-40b4-839c-4e7441d7de5e' class='xr-var-attrs-in' type='checkbox' ><label for='attrs-c9734b41-6aed-40b4-839c-4e7441d7de5e' title='Show/Hide attributes'><svg class='icon xr-icon-file-text2'><use xlink:href='#icon-file-text2'></use></svg></label><input id='data-32b0e4e9-8723-4c36-866d-bae1c222ec16' class='xr-var-data-in' type='checkbox'><label for='data-32b0e4e9-8723-4c36-866d-bae1c222ec16' title='Show/Hide data repr'><svg class='icon xr-icon-database'><use xlink:href='#icon-database'></use></svg></label><div class='xr-var-attrs'><dl class='xr-attrs'><dt><span>long_name :</span></dt><dd>Wind A</dd><dt><span>units :</span></dt><dd>m s-1</dd><dt><span>description :</span></dt><dd>The wind A.</dd></dl></div><div class='xr-var-data'><pre>array([[1]])</pre></div></li><li class='xr-var-item'><div class='xr-var-name'><span>wind_b</span></div><div class='xr-var-dims'>(x, y)</div><div class='xr-var-dtype'>int32</div><div class='xr-var-preview xr-preview'>1</div><input id='attrs-142f028d-9c89-48f8-b2cd-a3dc186bdd75' class='xr-var-attrs-in' type='checkbox' ><label for='attrs-142f028d-9c89-48f8-b2cd-a3dc186bdd75' title='Show/Hide attributes'><svg class='icon xr-icon-file-text2'><use xlink:href='#icon-file-text2'></use></svg></label><input id='data-2149f622-3746-4858-9d9a-5ed26cb0dcab' class='xr-var-data-in' type='checkbox'><label for='data-2149f622-3746-4858-9d9a-5ed26cb0dcab' title='Show/Hide data repr'><svg class='icon xr-icon-database'><use xlink:href='#icon-database'></use></svg></label><div class='xr-var-attrs'><dl class='xr-attrs'><dt><span>long_name :</span></dt><dd>Wind B</dd><dt><span>units :</span></dt><dd>m s-1</dd><dt><span>description :</span></dt><dd>The wind B.</dd></dl></div><div class='xr-var-data'><pre>array([[1]])</pre></div></li><li class='xr-var-item'><div class='xr-var-name'><span>wind_c</span></div><div class='xr-var-dims'>(x, y)</div><div class='xr-var-dtype'>int32</div><div class='xr-var-preview xr-preview'>1</div><input id='attrs-7f446754-e471-450f-bf50-56a1ddd6b49d' class='xr-var-attrs-in' type='checkbox' ><label for='attrs-7f446754-e471-450f-bf50-56a1ddd6b49d' title='Show/Hide attributes'><svg class='icon xr-icon-file-text2'><use xlink:href='#icon-file-text2'></use></svg></label><input id='data-5ba5ea83-8d3e-4800-a52b-cdcf6a4aa4cf' class='xr-var-data-in' type='checkbox'><label for='data-5ba5ea83-8d3e-4800-a52b-cdcf6a4aa4cf' title='Show/Hide data repr'><svg class='icon xr-icon-database'><use xlink:href='#icon-database'></use></svg></label><div class='xr-var-attrs'><dl class='xr-attrs'><dt><span>long_name :</span></dt><dd>Wind C</dd><dt><span>units :</span></dt><dd>m s-1</dd><dt><span>description :</span></dt><dd>The wind C.</dd></dl></div><div class='xr-var-data'><pre>array([[1]])</pre></div></li><li class='xr-var-item'><div class='xr-var-name'><span>wind_kh_kw</span></div><div class='xr-var-dims'>(x, y)</div><div class='xr-var-dtype'>int32</div><div class='xr-var-preview xr-preview'>1</div><input id='attrs-d38be44b-56ea-45dc-8c3f-2ca3879106d0' class='xr-var-attrs-in' type='checkbox' ><label for='attrs-d38be44b-56ea-45dc-8c3f-2ca3879106d0' title='Show/Hide attributes'><svg class='icon xr-icon-file-text2'><use xlink:href='#icon-file-text2'></use></svg></label><input id='data-5ed1320b-dfc7-47f2-8098-3ed878a0ec37' class='xr-var-data-in' type='checkbox'><label for='data-5ed1320b-dfc7-47f2-8098-3ed878a0ec37' title='Show/Hide data repr'><svg class='icon xr-icon-database'><use xlink:href='#icon-database'></use></svg></label><div class='xr-var-attrs'><dl class='xr-attrs'><dt><span>long_name :</span></dt><dd>Wind KH KW</dd><dt><span>units :</span></dt><dd>m s-1</dd><dt><span>description :</span></dt><dd>The wind KH KW.</dd></dl></div><div class='xr-var-data'><pre>array([[1]])</pre></div></li></ul></div></li><li class='xr-section-item'><input id='section-8f33b8cc-9874-421c-bd94-bf8518898591' class='xr-section-summary-in' type='checkbox'  ><label for='section-8f33b8cc-9874-421c-bd94-bf8518898591' class='xr-section-summary' >Indexes: <span>(3)</span></label><div class='xr-section-inline-details'></div><div class='xr-section-details'><ul class='xr-var-list'><li class='xr-var-item'><div class='xr-index-name'><div>year</div></div><div class='xr-index-preview'>PandasIndex</div><div></div><input id='index-eaf228da-a011-4d68-b08e-b02c2b2535f2' class='xr-index-data-in' type='checkbox'/><label for='index-eaf228da-a011-4d68-b08e-b02c2b2535f2' title='Show/Hide index repr'><svg class='icon xr-icon-database'><use xlink:href='#icon-database'></use></svg></label><div class='xr-index-data'><pre>PandasIndex(Index([0], dtype=&#x27;int32&#x27;, name=&#x27;year&#x27;))</pre></div></li><li class='xr-var-item'><div class='xr-index-name'><div>x</div></div><div class='xr-index-preview'>PandasIndex</div><div></div><input id='index-0b04af84-e873-4ad8-9ade-41f7e0b9878b' class='xr-index-data-in' type='checkbox'/><label for='index-0b04af84-e873-4ad8-9ade-41f7e0b9878b' title='Show/Hide index repr'><svg class='icon xr-icon-database'><use xlink:href='#icon-database'></use></svg></label><div class='xr-index-data'><pre>PandasIndex(Index([1.0], dtype=&#x27;float64&#x27;, name=&#x27;x&#x27;))</pre></div></li><li class='xr-var-item'><div class='xr-index-name'><div>y</div></div><div class='xr-index-preview'>PandasIndex</div><div></div><input id='index-b6e06d07-5775-4ea5-bc59-3443493697ca' class='xr-index-data-in' type='checkbox'/><label for='index-b6e06d07-5775-4ea5-bc59-3443493697ca' title='Show/Hide index repr'><svg class='icon xr-icon-database'><use xlink:href='#icon-database'></use></svg></label><div class='xr-index-data'><pre>PandasIndex(Index([1.0], dtype=&#x27;float64&#x27;, name=&#x27;y&#x27;))</pre></div></li></ul></div></li><li class='xr-section-item'><input id='section-c20db599-5145-4c6d-8eb2-23ebfee0ee74' class='xr-section-summary-in' type='checkbox' disabled ><label for='section-c20db599-5145-4c6d-8eb2-23ebfee0ee74' class='xr-section-summary'  title='Expand/collapse section'>Attributes: <span>(0)</span></label><div class='xr-section-inline-details'></div><div class='xr-section-details'><dl class='xr-attrs'></dl></div></li></ul></div></div>"
      ],
      "text/plain": [
       "<xarray.Dataset>\n",
       "Dimensions:            (year: 1, x: 1, y: 1)\n",
       "Coordinates:\n",
       "  * year               (year) int32 0\n",
       "  * x                  (x) float64 1.0\n",
       "  * y                  (y) float64 1.0\n",
       "Data variables: (12/31)\n",
       "    water_temp_c       (year, x, y) int32 20\n",
       "    surface_area       (year, x, y) int32 1\n",
       "    volume             (year, x, y) int32 1\n",
       "    use_sed_temp       (x, y) bool True\n",
       "    stefan_boltzmann   (x, y) int32 10\n",
       "    cp_air             (x, y) int32 1\n",
       "    ...                 ...\n",
       "    cloudiness         (x, y) float64 0.1\n",
       "    wind_speed         (x, y) int32 3\n",
       "    wind_a             (x, y) int32 1\n",
       "    wind_b             (x, y) int32 1\n",
       "    wind_c             (x, y) int32 1\n",
       "    wind_kh_kw         (x, y) int32 1"
      ]
     },
     "execution_count": 1,
     "metadata": {},
     "output_type": "execute_result"
    }
   ],
   "source": [
    "import clearwater_modules as cwm\n",
    "import clearwater_modules.sorter as sorter\n",
    "import numba\n",
    "import random\n",
    "import hvplot.xarray\n",
    "import warnings\n",
    "warnings.filterwarnings(\"ignore\")\n",
    "\n",
    "initial_state_values = {'water_temp_c': 20, 'surface_area': 1, 'volume': 1}\n",
    "meteo_parameters = {\n",
    "    'air_temp_c': 20,\n",
    "    'q_solar': 400,\n",
    "    'sed_temp_c': 10,\n",
    "    'eair_mb': 2,\n",
    "    'pressure_mb': 1035,\n",
    "    'cloudiness': .1,\n",
    "    'wind_speed': 3,\n",
    "    'wind_a': 1,\n",
    "    'wind_b': 1,\n",
    "    'wind_c': 1,\n",
    "    'wind_kh_kw': 1\n",
    "}\n",
    "\n",
    "temp_parameters = {\n",
    "    'use_sed_temp': False,\n",
    "    'stefan_boltzmann': 10,\n",
    "    'cp_air': 1,\n",
    "    'emissivity_water': 1,\n",
    "    'gravity': 9.82,\n",
    "    'a0': 3333,\n",
    "    'a1': 3333,\n",
    "    'a2': 3333,\n",
    "    'a3': 3333,\n",
    "    'a4': 3333,\n",
    "    'a5': 3333,\n",
    "    'a6': 3333,\n",
    "    'pb': 3333,\n",
    "    'cps': 3333,\n",
    "    'h2': 3333,\n",
    "    'alphas': 3333,\n",
    "    'richardson_option': True\n",
    "}\n",
    "\n",
    "tsm_model = cwm.tsm.EnergyBudget(\n",
    "    initial_state_values=initial_state_values,  # mandatory\n",
    "    temp_parameters=temp_parameters,\n",
    "    meteo_parameters=meteo_parameters,\n",
    "    track_dynamic_variables=True,  # default is true\n",
    "    hotstart_dataset=None,  # default is None\n",
    "    time_dim='year',  # default is \"timestep\"\n",
    ")\n",
    "\n",
    "#print(tsm_model.get_state_variables())\n",
    "tsm_model.dataset"
   ]
  },
  {
   "cell_type": "code",
   "execution_count": 2,
   "id": "664a7267",
   "metadata": {},
   "outputs": [
    {
     "data": {
      "text/plain": [
       "[Variable(name='water_temp_c', long_name='Water temperature', units='degC', description='TSM state variable for water temperature', use='state', process=CPUDispatcher(<function t_water_c at 0x0000017B72896700>)),\n",
       " Variable(name='surface_area', long_name='Surface area', units='m^2', description='Surface area', use='state', process=<function mock_surface_area at 0x0000017B6F68CD60>),\n",
       " Variable(name='volume', long_name='Volume', units='m^3', description='Volume', use='state', process=<function mock_volume at 0x0000017B72896C00>)]"
      ]
     },
     "execution_count": 2,
     "metadata": {},
     "output_type": "execute_result"
    }
   ],
   "source": [
    "tsm_model.get_state_variables()"
   ]
  },
  {
   "cell_type": "code",
   "execution_count": 3,
   "id": "76906763",
   "metadata": {},
   "outputs": [
    {
     "name": "stdout",
     "output_type": "stream",
     "text": [
      "Variable | Inputs\n",
      "------------------\n",
      "air_temp_k | ['air_temp_c']\n",
      "water_temp_k | ['water_temp_c']\n",
      "mixing_ratio_air | ['eair_mb', 'pressure_mb']\n",
      "density_air | ['pressure_mb', 'air_temp_k', 'mixing_ratio_air']\n",
      "density_water | ['water_temp_c']\n",
      "esat_mb | ['water_temp_k', 'a0', 'a1', 'a2', 'a3', 'a4', 'a5', 'a6']\n",
      "density_air_sat | ['water_temp_k', 'esat_mb', 'pressure_mb']\n",
      "ri_number | ['gravity', 'density_air', 'density_air_sat', 'wind_speed']\n",
      "ri_function | ['ri_number']\n",
      "lv | ['water_temp_k']\n",
      "cp_water | ['water_temp_c']\n",
      "emissivity_air | ['air_temp_k']\n",
      "wind_function | ['ri_function', 'wind_a', 'wind_b', 'wind_c', 'wind_speed']\n",
      "q_latent | ['pressure_mb', 'density_water', 'lv', 'wind_function', 'esat_mb', 'eair_mb']\n",
      "q_sensible | ['wind_kh_kw', 'cp_air', 'density_water', 'wind_function', 'air_temp_k', 'water_temp_k']\n",
      "q_sediment | ['use_sed_temp', 'pb', 'cps', 'alphas', 'h2', 'sed_temp_c', 'water_temp_c']\n",
      "dTdt_sediment_c | ['use_sed_temp', 'alphas', 'h2', 'water_temp_c', 'sed_temp_c']\n",
      "q_longwave_down | ['air_temp_k', 'emissivity_air', 'cloudiness', 'stefan_boltzmann']\n",
      "q_longwave_up | ['water_temp_k', 'emissivity_water', 'stefan_boltzmann']\n",
      "surface_area | ['surface_area']\n",
      "volume | ['volume']\n",
      "q_net | ['q_sensible', 'q_latent', 'q_longwave_up', 'q_longwave_down', 'q_solar', 'q_sediment']\n",
      "dTdt_water_c | ['q_net', 'surface_area', 'volume', 'density_water', 'cp_water']\n",
      "water_temp_c | ['water_temp_c', 'dTdt_water_c']\n"
     ]
    }
   ],
   "source": [
    "print('Variable | Inputs\\n------------------')\n",
    "for i in tsm_model.computation_order:\n",
    "    print(f'{i.name} | {sorter.get_process_args(i.process)}')"
   ]
  },
  {
   "cell_type": "code",
   "execution_count": 4,
   "id": "af03305c",
   "metadata": {},
   "outputs": [
    {
     "data": {
      "text/html": [
       "<div><svg style=\"position: absolute; width: 0; height: 0; overflow: hidden\">\n",
       "<defs>\n",
       "<symbol id=\"icon-database\" viewBox=\"0 0 32 32\">\n",
       "<path d=\"M16 0c-8.837 0-16 2.239-16 5v4c0 2.761 7.163 5 16 5s16-2.239 16-5v-4c0-2.761-7.163-5-16-5z\"></path>\n",
       "<path d=\"M16 17c-8.837 0-16-2.239-16-5v6c0 2.761 7.163 5 16 5s16-2.239 16-5v-6c0 2.761-7.163 5-16 5z\"></path>\n",
       "<path d=\"M16 26c-8.837 0-16-2.239-16-5v6c0 2.761 7.163 5 16 5s16-2.239 16-5v-6c0 2.761-7.163 5-16 5z\"></path>\n",
       "</symbol>\n",
       "<symbol id=\"icon-file-text2\" viewBox=\"0 0 32 32\">\n",
       "<path d=\"M28.681 7.159c-0.694-0.947-1.662-2.053-2.724-3.116s-2.169-2.030-3.116-2.724c-1.612-1.182-2.393-1.319-2.841-1.319h-15.5c-1.378 0-2.5 1.121-2.5 2.5v27c0 1.378 1.122 2.5 2.5 2.5h23c1.378 0 2.5-1.122 2.5-2.5v-19.5c0-0.448-0.137-1.23-1.319-2.841zM24.543 5.457c0.959 0.959 1.712 1.825 2.268 2.543h-4.811v-4.811c0.718 0.556 1.584 1.309 2.543 2.268zM28 29.5c0 0.271-0.229 0.5-0.5 0.5h-23c-0.271 0-0.5-0.229-0.5-0.5v-27c0-0.271 0.229-0.5 0.5-0.5 0 0 15.499-0 15.5 0v7c0 0.552 0.448 1 1 1h7v19.5z\"></path>\n",
       "<path d=\"M23 26h-14c-0.552 0-1-0.448-1-1s0.448-1 1-1h14c0.552 0 1 0.448 1 1s-0.448 1-1 1z\"></path>\n",
       "<path d=\"M23 22h-14c-0.552 0-1-0.448-1-1s0.448-1 1-1h14c0.552 0 1 0.448 1 1s-0.448 1-1 1z\"></path>\n",
       "<path d=\"M23 18h-14c-0.552 0-1-0.448-1-1s0.448-1 1-1h14c0.552 0 1 0.448 1 1s-0.448 1-1 1z\"></path>\n",
       "</symbol>\n",
       "</defs>\n",
       "</svg>\n",
       "<style>/* CSS stylesheet for displaying xarray objects in jupyterlab.\n",
       " *\n",
       " */\n",
       "\n",
       ":root {\n",
       "  --xr-font-color0: var(--jp-content-font-color0, rgba(0, 0, 0, 1));\n",
       "  --xr-font-color2: var(--jp-content-font-color2, rgba(0, 0, 0, 0.54));\n",
       "  --xr-font-color3: var(--jp-content-font-color3, rgba(0, 0, 0, 0.38));\n",
       "  --xr-border-color: var(--jp-border-color2, #e0e0e0);\n",
       "  --xr-disabled-color: var(--jp-layout-color3, #bdbdbd);\n",
       "  --xr-background-color: var(--jp-layout-color0, white);\n",
       "  --xr-background-color-row-even: var(--jp-layout-color1, white);\n",
       "  --xr-background-color-row-odd: var(--jp-layout-color2, #eeeeee);\n",
       "}\n",
       "\n",
       "html[theme=dark],\n",
       "body[data-theme=dark],\n",
       "body.vscode-dark {\n",
       "  --xr-font-color0: rgba(255, 255, 255, 1);\n",
       "  --xr-font-color2: rgba(255, 255, 255, 0.54);\n",
       "  --xr-font-color3: rgba(255, 255, 255, 0.38);\n",
       "  --xr-border-color: #1F1F1F;\n",
       "  --xr-disabled-color: #515151;\n",
       "  --xr-background-color: #111111;\n",
       "  --xr-background-color-row-even: #111111;\n",
       "  --xr-background-color-row-odd: #313131;\n",
       "}\n",
       "\n",
       ".xr-wrap {\n",
       "  display: block !important;\n",
       "  min-width: 300px;\n",
       "  max-width: 700px;\n",
       "}\n",
       "\n",
       ".xr-text-repr-fallback {\n",
       "  /* fallback to plain text repr when CSS is not injected (untrusted notebook) */\n",
       "  display: none;\n",
       "}\n",
       "\n",
       ".xr-header {\n",
       "  padding-top: 6px;\n",
       "  padding-bottom: 6px;\n",
       "  margin-bottom: 4px;\n",
       "  border-bottom: solid 1px var(--xr-border-color);\n",
       "}\n",
       "\n",
       ".xr-header > div,\n",
       ".xr-header > ul {\n",
       "  display: inline;\n",
       "  margin-top: 0;\n",
       "  margin-bottom: 0;\n",
       "}\n",
       "\n",
       ".xr-obj-type,\n",
       ".xr-array-name {\n",
       "  margin-left: 2px;\n",
       "  margin-right: 10px;\n",
       "}\n",
       "\n",
       ".xr-obj-type {\n",
       "  color: var(--xr-font-color2);\n",
       "}\n",
       "\n",
       ".xr-sections {\n",
       "  padding-left: 0 !important;\n",
       "  display: grid;\n",
       "  grid-template-columns: 150px auto auto 1fr 20px 20px;\n",
       "}\n",
       "\n",
       ".xr-section-item {\n",
       "  display: contents;\n",
       "}\n",
       "\n",
       ".xr-section-item input {\n",
       "  display: none;\n",
       "}\n",
       "\n",
       ".xr-section-item input + label {\n",
       "  color: var(--xr-disabled-color);\n",
       "}\n",
       "\n",
       ".xr-section-item input:enabled + label {\n",
       "  cursor: pointer;\n",
       "  color: var(--xr-font-color2);\n",
       "}\n",
       "\n",
       ".xr-section-item input:enabled + label:hover {\n",
       "  color: var(--xr-font-color0);\n",
       "}\n",
       "\n",
       ".xr-section-summary {\n",
       "  grid-column: 1;\n",
       "  color: var(--xr-font-color2);\n",
       "  font-weight: 500;\n",
       "}\n",
       "\n",
       ".xr-section-summary > span {\n",
       "  display: inline-block;\n",
       "  padding-left: 0.5em;\n",
       "}\n",
       "\n",
       ".xr-section-summary-in:disabled + label {\n",
       "  color: var(--xr-font-color2);\n",
       "}\n",
       "\n",
       ".xr-section-summary-in + label:before {\n",
       "  display: inline-block;\n",
       "  content: '►';\n",
       "  font-size: 11px;\n",
       "  width: 15px;\n",
       "  text-align: center;\n",
       "}\n",
       "\n",
       ".xr-section-summary-in:disabled + label:before {\n",
       "  color: var(--xr-disabled-color);\n",
       "}\n",
       "\n",
       ".xr-section-summary-in:checked + label:before {\n",
       "  content: '▼';\n",
       "}\n",
       "\n",
       ".xr-section-summary-in:checked + label > span {\n",
       "  display: none;\n",
       "}\n",
       "\n",
       ".xr-section-summary,\n",
       ".xr-section-inline-details {\n",
       "  padding-top: 4px;\n",
       "  padding-bottom: 4px;\n",
       "}\n",
       "\n",
       ".xr-section-inline-details {\n",
       "  grid-column: 2 / -1;\n",
       "}\n",
       "\n",
       ".xr-section-details {\n",
       "  display: none;\n",
       "  grid-column: 1 / -1;\n",
       "  margin-bottom: 5px;\n",
       "}\n",
       "\n",
       ".xr-section-summary-in:checked ~ .xr-section-details {\n",
       "  display: contents;\n",
       "}\n",
       "\n",
       ".xr-array-wrap {\n",
       "  grid-column: 1 / -1;\n",
       "  display: grid;\n",
       "  grid-template-columns: 20px auto;\n",
       "}\n",
       "\n",
       ".xr-array-wrap > label {\n",
       "  grid-column: 1;\n",
       "  vertical-align: top;\n",
       "}\n",
       "\n",
       ".xr-preview {\n",
       "  color: var(--xr-font-color3);\n",
       "}\n",
       "\n",
       ".xr-array-preview,\n",
       ".xr-array-data {\n",
       "  padding: 0 5px !important;\n",
       "  grid-column: 2;\n",
       "}\n",
       "\n",
       ".xr-array-data,\n",
       ".xr-array-in:checked ~ .xr-array-preview {\n",
       "  display: none;\n",
       "}\n",
       "\n",
       ".xr-array-in:checked ~ .xr-array-data,\n",
       ".xr-array-preview {\n",
       "  display: inline-block;\n",
       "}\n",
       "\n",
       ".xr-dim-list {\n",
       "  display: inline-block !important;\n",
       "  list-style: none;\n",
       "  padding: 0 !important;\n",
       "  margin: 0;\n",
       "}\n",
       "\n",
       ".xr-dim-list li {\n",
       "  display: inline-block;\n",
       "  padding: 0;\n",
       "  margin: 0;\n",
       "}\n",
       "\n",
       ".xr-dim-list:before {\n",
       "  content: '(';\n",
       "}\n",
       "\n",
       ".xr-dim-list:after {\n",
       "  content: ')';\n",
       "}\n",
       "\n",
       ".xr-dim-list li:not(:last-child):after {\n",
       "  content: ',';\n",
       "  padding-right: 5px;\n",
       "}\n",
       "\n",
       ".xr-has-index {\n",
       "  font-weight: bold;\n",
       "}\n",
       "\n",
       ".xr-var-list,\n",
       ".xr-var-item {\n",
       "  display: contents;\n",
       "}\n",
       "\n",
       ".xr-var-item > div,\n",
       ".xr-var-item label,\n",
       ".xr-var-item > .xr-var-name span {\n",
       "  background-color: var(--xr-background-color-row-even);\n",
       "  margin-bottom: 0;\n",
       "}\n",
       "\n",
       ".xr-var-item > .xr-var-name:hover span {\n",
       "  padding-right: 5px;\n",
       "}\n",
       "\n",
       ".xr-var-list > li:nth-child(odd) > div,\n",
       ".xr-var-list > li:nth-child(odd) > label,\n",
       ".xr-var-list > li:nth-child(odd) > .xr-var-name span {\n",
       "  background-color: var(--xr-background-color-row-odd);\n",
       "}\n",
       "\n",
       ".xr-var-name {\n",
       "  grid-column: 1;\n",
       "}\n",
       "\n",
       ".xr-var-dims {\n",
       "  grid-column: 2;\n",
       "}\n",
       "\n",
       ".xr-var-dtype {\n",
       "  grid-column: 3;\n",
       "  text-align: right;\n",
       "  color: var(--xr-font-color2);\n",
       "}\n",
       "\n",
       ".xr-var-preview {\n",
       "  grid-column: 4;\n",
       "}\n",
       "\n",
       ".xr-index-preview {\n",
       "  grid-column: 2 / 5;\n",
       "  color: var(--xr-font-color2);\n",
       "}\n",
       "\n",
       ".xr-var-name,\n",
       ".xr-var-dims,\n",
       ".xr-var-dtype,\n",
       ".xr-preview,\n",
       ".xr-attrs dt {\n",
       "  white-space: nowrap;\n",
       "  overflow: hidden;\n",
       "  text-overflow: ellipsis;\n",
       "  padding-right: 10px;\n",
       "}\n",
       "\n",
       ".xr-var-name:hover,\n",
       ".xr-var-dims:hover,\n",
       ".xr-var-dtype:hover,\n",
       ".xr-attrs dt:hover {\n",
       "  overflow: visible;\n",
       "  width: auto;\n",
       "  z-index: 1;\n",
       "}\n",
       "\n",
       ".xr-var-attrs,\n",
       ".xr-var-data,\n",
       ".xr-index-data {\n",
       "  display: none;\n",
       "  background-color: var(--xr-background-color) !important;\n",
       "  padding-bottom: 5px !important;\n",
       "}\n",
       "\n",
       ".xr-var-attrs-in:checked ~ .xr-var-attrs,\n",
       ".xr-var-data-in:checked ~ .xr-var-data,\n",
       ".xr-index-data-in:checked ~ .xr-index-data {\n",
       "  display: block;\n",
       "}\n",
       "\n",
       ".xr-var-data > table {\n",
       "  float: right;\n",
       "}\n",
       "\n",
       ".xr-var-name span,\n",
       ".xr-var-data,\n",
       ".xr-index-name div,\n",
       ".xr-index-data,\n",
       ".xr-attrs {\n",
       "  padding-left: 25px !important;\n",
       "}\n",
       "\n",
       ".xr-attrs,\n",
       ".xr-var-attrs,\n",
       ".xr-var-data,\n",
       ".xr-index-data {\n",
       "  grid-column: 1 / -1;\n",
       "}\n",
       "\n",
       "dl.xr-attrs {\n",
       "  padding: 0;\n",
       "  margin: 0;\n",
       "  display: grid;\n",
       "  grid-template-columns: 125px auto;\n",
       "}\n",
       "\n",
       ".xr-attrs dt,\n",
       ".xr-attrs dd {\n",
       "  padding: 0;\n",
       "  margin: 0;\n",
       "  float: left;\n",
       "  padding-right: 10px;\n",
       "  width: auto;\n",
       "}\n",
       "\n",
       ".xr-attrs dt {\n",
       "  font-weight: normal;\n",
       "  grid-column: 1;\n",
       "}\n",
       "\n",
       ".xr-attrs dt:hover span {\n",
       "  display: inline-block;\n",
       "  background: var(--xr-background-color);\n",
       "  padding-right: 10px;\n",
       "}\n",
       "\n",
       ".xr-attrs dd {\n",
       "  grid-column: 2;\n",
       "  white-space: pre-wrap;\n",
       "  word-break: break-all;\n",
       "}\n",
       "\n",
       ".xr-icon-database,\n",
       ".xr-icon-file-text2,\n",
       ".xr-no-icon {\n",
       "  display: inline-block;\n",
       "  vertical-align: middle;\n",
       "  width: 1em;\n",
       "  height: 1.5em !important;\n",
       "  stroke-width: 0;\n",
       "  stroke: currentColor;\n",
       "  fill: currentColor;\n",
       "}\n",
       "</style><pre class='xr-text-repr-fallback'>&lt;xarray.Dataset&gt;\n",
       "Dimensions:            (year: 2, x: 1, y: 1)\n",
       "Coordinates:\n",
       "  * year               (year) int32 0 1\n",
       "  * x                  (x) float64 1.0\n",
       "  * y                  (y) float64 1.0\n",
       "Data variables: (12/52)\n",
       "    water_temp_c       (year, x, y) float64 20.0 -7.427e+10\n",
       "    surface_area       (year, x, y) int32 1 1\n",
       "    volume             (year, x, y) int32 1 1\n",
       "    use_sed_temp       (x, y) bool True\n",
       "    stefan_boltzmann   (x, y) int32 10\n",
       "    cp_air             (x, y) int32 1\n",
       "    ...                 ...\n",
       "    q_sediment         (year, x, y) float64 nan -2.572e+03\n",
       "    dTdt_sediment_c    (year, x, y) float64 nan 0.006001\n",
       "    q_longwave_down    (year, x, y) float64 nan 5.958e+10\n",
       "    q_longwave_up      (year, x, y) float64 nan 7.386e+10\n",
       "    q_net              (year, x, y) float64 nan -3.1e+17\n",
       "    dTdt_water_c       (year, x, y) float64 nan -7.427e+10</pre><div class='xr-wrap' style='display:none'><div class='xr-header'><div class='xr-obj-type'>xarray.Dataset</div></div><ul class='xr-sections'><li class='xr-section-item'><input id='section-38318150-1f7e-4b55-ba09-ff4b4f62caeb' class='xr-section-summary-in' type='checkbox' disabled ><label for='section-38318150-1f7e-4b55-ba09-ff4b4f62caeb' class='xr-section-summary'  title='Expand/collapse section'>Dimensions:</label><div class='xr-section-inline-details'><ul class='xr-dim-list'><li><span class='xr-has-index'>year</span>: 2</li><li><span class='xr-has-index'>x</span>: 1</li><li><span class='xr-has-index'>y</span>: 1</li></ul></div><div class='xr-section-details'></div></li><li class='xr-section-item'><input id='section-0d2c787f-4556-4541-ac24-ac79f3f306f3' class='xr-section-summary-in' type='checkbox'  checked><label for='section-0d2c787f-4556-4541-ac24-ac79f3f306f3' class='xr-section-summary' >Coordinates: <span>(3)</span></label><div class='xr-section-inline-details'></div><div class='xr-section-details'><ul class='xr-var-list'><li class='xr-var-item'><div class='xr-var-name'><span class='xr-has-index'>year</span></div><div class='xr-var-dims'>(year)</div><div class='xr-var-dtype'>int32</div><div class='xr-var-preview xr-preview'>0 1</div><input id='attrs-098f5de9-c942-4d6d-a89b-7a501087b821' class='xr-var-attrs-in' type='checkbox' disabled><label for='attrs-098f5de9-c942-4d6d-a89b-7a501087b821' title='Show/Hide attributes'><svg class='icon xr-icon-file-text2'><use xlink:href='#icon-file-text2'></use></svg></label><input id='data-d7e77c93-7963-4012-bfc6-dc071ace6d18' class='xr-var-data-in' type='checkbox'><label for='data-d7e77c93-7963-4012-bfc6-dc071ace6d18' title='Show/Hide data repr'><svg class='icon xr-icon-database'><use xlink:href='#icon-database'></use></svg></label><div class='xr-var-attrs'><dl class='xr-attrs'></dl></div><div class='xr-var-data'><pre>array([0, 1])</pre></div></li><li class='xr-var-item'><div class='xr-var-name'><span class='xr-has-index'>x</span></div><div class='xr-var-dims'>(x)</div><div class='xr-var-dtype'>float64</div><div class='xr-var-preview xr-preview'>1.0</div><input id='attrs-102d2348-8dea-4dea-9a22-c03b10650e42' class='xr-var-attrs-in' type='checkbox' disabled><label for='attrs-102d2348-8dea-4dea-9a22-c03b10650e42' title='Show/Hide attributes'><svg class='icon xr-icon-file-text2'><use xlink:href='#icon-file-text2'></use></svg></label><input id='data-b27b0aed-c378-4625-a660-fae10ea9f42f' class='xr-var-data-in' type='checkbox'><label for='data-b27b0aed-c378-4625-a660-fae10ea9f42f' title='Show/Hide data repr'><svg class='icon xr-icon-database'><use xlink:href='#icon-database'></use></svg></label><div class='xr-var-attrs'><dl class='xr-attrs'></dl></div><div class='xr-var-data'><pre>array([1.])</pre></div></li><li class='xr-var-item'><div class='xr-var-name'><span class='xr-has-index'>y</span></div><div class='xr-var-dims'>(y)</div><div class='xr-var-dtype'>float64</div><div class='xr-var-preview xr-preview'>1.0</div><input id='attrs-d67c0ba2-d51c-4072-8be4-f1a2488a2dc7' class='xr-var-attrs-in' type='checkbox' disabled><label for='attrs-d67c0ba2-d51c-4072-8be4-f1a2488a2dc7' title='Show/Hide attributes'><svg class='icon xr-icon-file-text2'><use xlink:href='#icon-file-text2'></use></svg></label><input id='data-cd63c1f6-060e-463a-8e85-5c9c237ec4d0' class='xr-var-data-in' type='checkbox'><label for='data-cd63c1f6-060e-463a-8e85-5c9c237ec4d0' title='Show/Hide data repr'><svg class='icon xr-icon-database'><use xlink:href='#icon-database'></use></svg></label><div class='xr-var-attrs'><dl class='xr-attrs'></dl></div><div class='xr-var-data'><pre>array([1.])</pre></div></li></ul></div></li><li class='xr-section-item'><input id='section-c2fbbad4-31e5-45ca-84d2-227c5574f9aa' class='xr-section-summary-in' type='checkbox'  ><label for='section-c2fbbad4-31e5-45ca-84d2-227c5574f9aa' class='xr-section-summary' >Data variables: <span>(52)</span></label><div class='xr-section-inline-details'></div><div class='xr-section-details'><ul class='xr-var-list'><li class='xr-var-item'><div class='xr-var-name'><span>water_temp_c</span></div><div class='xr-var-dims'>(year, x, y)</div><div class='xr-var-dtype'>float64</div><div class='xr-var-preview xr-preview'>20.0 -7.427e+10</div><input id='attrs-1cdffb5a-903a-4f51-8275-def3a2e9afd4' class='xr-var-attrs-in' type='checkbox' ><label for='attrs-1cdffb5a-903a-4f51-8275-def3a2e9afd4' title='Show/Hide attributes'><svg class='icon xr-icon-file-text2'><use xlink:href='#icon-file-text2'></use></svg></label><input id='data-8c2b51b5-3e48-4d3c-bbbd-431bc0af0200' class='xr-var-data-in' type='checkbox'><label for='data-8c2b51b5-3e48-4d3c-bbbd-431bc0af0200' title='Show/Hide data repr'><svg class='icon xr-icon-database'><use xlink:href='#icon-database'></use></svg></label><div class='xr-var-attrs'><dl class='xr-attrs'><dt><span>long_name :</span></dt><dd>Water temperature</dd><dt><span>units :</span></dt><dd>degC</dd><dt><span>description :</span></dt><dd>TSM state variable for water temperature</dd></dl></div><div class='xr-var-data'><pre>array([[[ 2.00000000e+01]],\n",
       "\n",
       "       [[-7.42694906e+10]]])</pre></div></li><li class='xr-var-item'><div class='xr-var-name'><span>surface_area</span></div><div class='xr-var-dims'>(year, x, y)</div><div class='xr-var-dtype'>int32</div><div class='xr-var-preview xr-preview'>1 1</div><input id='attrs-5b44103a-6e85-45d9-bcd0-70e35f7d5710' class='xr-var-attrs-in' type='checkbox' ><label for='attrs-5b44103a-6e85-45d9-bcd0-70e35f7d5710' title='Show/Hide attributes'><svg class='icon xr-icon-file-text2'><use xlink:href='#icon-file-text2'></use></svg></label><input id='data-a1c213c0-d1f2-4103-a87e-a50f99ca4b72' class='xr-var-data-in' type='checkbox'><label for='data-a1c213c0-d1f2-4103-a87e-a50f99ca4b72' title='Show/Hide data repr'><svg class='icon xr-icon-database'><use xlink:href='#icon-database'></use></svg></label><div class='xr-var-attrs'><dl class='xr-attrs'><dt><span>long_name :</span></dt><dd>Surface area</dd><dt><span>units :</span></dt><dd>m^2</dd><dt><span>description :</span></dt><dd>Surface area</dd></dl></div><div class='xr-var-data'><pre>array([[[1]],\n",
       "\n",
       "       [[1]]])</pre></div></li><li class='xr-var-item'><div class='xr-var-name'><span>volume</span></div><div class='xr-var-dims'>(year, x, y)</div><div class='xr-var-dtype'>int32</div><div class='xr-var-preview xr-preview'>1 1</div><input id='attrs-a613439d-c80a-46ab-a80c-f51a2cf6a8ee' class='xr-var-attrs-in' type='checkbox' ><label for='attrs-a613439d-c80a-46ab-a80c-f51a2cf6a8ee' title='Show/Hide attributes'><svg class='icon xr-icon-file-text2'><use xlink:href='#icon-file-text2'></use></svg></label><input id='data-80f53c07-e2c7-4473-a7b1-463cfa2da97f' class='xr-var-data-in' type='checkbox'><label for='data-80f53c07-e2c7-4473-a7b1-463cfa2da97f' title='Show/Hide data repr'><svg class='icon xr-icon-database'><use xlink:href='#icon-database'></use></svg></label><div class='xr-var-attrs'><dl class='xr-attrs'><dt><span>long_name :</span></dt><dd>Volume</dd><dt><span>units :</span></dt><dd>m^3</dd><dt><span>description :</span></dt><dd>Volume</dd></dl></div><div class='xr-var-data'><pre>array([[[1]],\n",
       "\n",
       "       [[1]]])</pre></div></li><li class='xr-var-item'><div class='xr-var-name'><span>use_sed_temp</span></div><div class='xr-var-dims'>(x, y)</div><div class='xr-var-dtype'>bool</div><div class='xr-var-preview xr-preview'>True</div><input id='attrs-49807b52-cc5a-4c3e-ac20-224ac27b4a62' class='xr-var-attrs-in' type='checkbox' ><label for='attrs-49807b52-cc5a-4c3e-ac20-224ac27b4a62' title='Show/Hide attributes'><svg class='icon xr-icon-file-text2'><use xlink:href='#icon-file-text2'></use></svg></label><input id='data-9d7536d0-84ed-4331-88cd-801e9b4cfa04' class='xr-var-data-in' type='checkbox'><label for='data-9d7536d0-84ed-4331-88cd-801e9b4cfa04' title='Show/Hide data repr'><svg class='icon xr-icon-database'><use xlink:href='#icon-database'></use></svg></label><div class='xr-var-attrs'><dl class='xr-attrs'><dt><span>long_name :</span></dt><dd>Use Sediment Temperature?</dd><dt><span>units :</span></dt><dd>boolean</dd><dt><span>description :</span></dt><dd>Controls whether to use/calculate sediment temperature or not.</dd></dl></div><div class='xr-var-data'><pre>array([[ True]])</pre></div></li><li class='xr-var-item'><div class='xr-var-name'><span>stefan_boltzmann</span></div><div class='xr-var-dims'>(x, y)</div><div class='xr-var-dtype'>int32</div><div class='xr-var-preview xr-preview'>10</div><input id='attrs-b221a7ea-92fb-4c2c-b3a3-104571dc2ae6' class='xr-var-attrs-in' type='checkbox' ><label for='attrs-b221a7ea-92fb-4c2c-b3a3-104571dc2ae6' title='Show/Hide attributes'><svg class='icon xr-icon-file-text2'><use xlink:href='#icon-file-text2'></use></svg></label><input id='data-8a260eb4-95aa-4217-9f7f-537a0b181bd7' class='xr-var-data-in' type='checkbox'><label for='data-8a260eb4-95aa-4217-9f7f-537a0b181bd7' title='Show/Hide data repr'><svg class='icon xr-icon-database'><use xlink:href='#icon-database'></use></svg></label><div class='xr-var-attrs'><dl class='xr-attrs'><dt><span>long_name :</span></dt><dd>Stefan-Boltzmann Constant</dd><dt><span>units :</span></dt><dd>W m-2 K-4</dd><dt><span>description :</span></dt><dd>The Stefan-Boltzmann constant.</dd></dl></div><div class='xr-var-data'><pre>array([[10]])</pre></div></li><li class='xr-var-item'><div class='xr-var-name'><span>cp_air</span></div><div class='xr-var-dims'>(x, y)</div><div class='xr-var-dtype'>int32</div><div class='xr-var-preview xr-preview'>1</div><input id='attrs-0f064994-1028-475d-9aba-3788f1059b3b' class='xr-var-attrs-in' type='checkbox' ><label for='attrs-0f064994-1028-475d-9aba-3788f1059b3b' title='Show/Hide attributes'><svg class='icon xr-icon-file-text2'><use xlink:href='#icon-file-text2'></use></svg></label><input id='data-4bf93db3-2206-4ed9-96c4-4379ab43d64c' class='xr-var-data-in' type='checkbox'><label for='data-4bf93db3-2206-4ed9-96c4-4379ab43d64c' title='Show/Hide data repr'><svg class='icon xr-icon-database'><use xlink:href='#icon-database'></use></svg></label><div class='xr-var-attrs'><dl class='xr-attrs'><dt><span>long_name :</span></dt><dd>Specific Heat Capacity of Air</dd><dt><span>units :</span></dt><dd>J kg-1 K-1</dd><dt><span>description :</span></dt><dd>The specific heat capacity of air.</dd></dl></div><div class='xr-var-data'><pre>array([[1]])</pre></div></li><li class='xr-var-item'><div class='xr-var-name'><span>emissivity_water</span></div><div class='xr-var-dims'>(x, y)</div><div class='xr-var-dtype'>int32</div><div class='xr-var-preview xr-preview'>1</div><input id='attrs-bc2858f7-2fd0-4b07-b579-4610507f984f' class='xr-var-attrs-in' type='checkbox' ><label for='attrs-bc2858f7-2fd0-4b07-b579-4610507f984f' title='Show/Hide attributes'><svg class='icon xr-icon-file-text2'><use xlink:href='#icon-file-text2'></use></svg></label><input id='data-0f76144e-553d-4881-b9fa-f03395495fe1' class='xr-var-data-in' type='checkbox'><label for='data-0f76144e-553d-4881-b9fa-f03395495fe1' title='Show/Hide data repr'><svg class='icon xr-icon-database'><use xlink:href='#icon-database'></use></svg></label><div class='xr-var-attrs'><dl class='xr-attrs'><dt><span>long_name :</span></dt><dd>Emissivity of Water</dd><dt><span>units :</span></dt><dd>1</dd><dt><span>description :</span></dt><dd>The emissivity of water.</dd></dl></div><div class='xr-var-data'><pre>array([[1]])</pre></div></li><li class='xr-var-item'><div class='xr-var-name'><span>gravity</span></div><div class='xr-var-dims'>(x, y)</div><div class='xr-var-dtype'>float64</div><div class='xr-var-preview xr-preview'>9.82</div><input id='attrs-7f8372cc-82b9-4126-a6b7-e5393c7b8df5' class='xr-var-attrs-in' type='checkbox' ><label for='attrs-7f8372cc-82b9-4126-a6b7-e5393c7b8df5' title='Show/Hide attributes'><svg class='icon xr-icon-file-text2'><use xlink:href='#icon-file-text2'></use></svg></label><input id='data-773cee4e-c40e-4bd4-b456-af15c079e59d' class='xr-var-data-in' type='checkbox'><label for='data-773cee4e-c40e-4bd4-b456-af15c079e59d' title='Show/Hide data repr'><svg class='icon xr-icon-database'><use xlink:href='#icon-database'></use></svg></label><div class='xr-var-attrs'><dl class='xr-attrs'><dt><span>long_name :</span></dt><dd>Gravity</dd><dt><span>units :</span></dt><dd>m s-2</dd><dt><span>description :</span></dt><dd>The acceleration due to gravity.</dd></dl></div><div class='xr-var-data'><pre>array([[9.82]])</pre></div></li><li class='xr-var-item'><div class='xr-var-name'><span>a0</span></div><div class='xr-var-dims'>(x, y)</div><div class='xr-var-dtype'>int32</div><div class='xr-var-preview xr-preview'>3333</div><input id='attrs-34699a67-7124-49e3-a7ae-5b06b67682bf' class='xr-var-attrs-in' type='checkbox' ><label for='attrs-34699a67-7124-49e3-a7ae-5b06b67682bf' title='Show/Hide attributes'><svg class='icon xr-icon-file-text2'><use xlink:href='#icon-file-text2'></use></svg></label><input id='data-c58094b1-0f01-4fc9-ad28-5e09e8f81398' class='xr-var-data-in' type='checkbox'><label for='data-c58094b1-0f01-4fc9-ad28-5e09e8f81398' title='Show/Hide data repr'><svg class='icon xr-icon-database'><use xlink:href='#icon-database'></use></svg></label><div class='xr-var-attrs'><dl class='xr-attrs'><dt><span>long_name :</span></dt><dd>Albedo of Water</dd><dt><span>units :</span></dt><dd>unitless</dd><dt><span>description :</span></dt><dd>The albedo of water.</dd></dl></div><div class='xr-var-data'><pre>array([[3333]])</pre></div></li><li class='xr-var-item'><div class='xr-var-name'><span>a1</span></div><div class='xr-var-dims'>(x, y)</div><div class='xr-var-dtype'>int32</div><div class='xr-var-preview xr-preview'>3333</div><input id='attrs-39447946-9312-4e1c-a025-4b4f4f12c394' class='xr-var-attrs-in' type='checkbox' ><label for='attrs-39447946-9312-4e1c-a025-4b4f4f12c394' title='Show/Hide attributes'><svg class='icon xr-icon-file-text2'><use xlink:href='#icon-file-text2'></use></svg></label><input id='data-473d9a38-e32d-4f39-8afd-3ebbdcb8749b' class='xr-var-data-in' type='checkbox'><label for='data-473d9a38-e32d-4f39-8afd-3ebbdcb8749b' title='Show/Hide data repr'><svg class='icon xr-icon-database'><use xlink:href='#icon-database'></use></svg></label><div class='xr-var-attrs'><dl class='xr-attrs'><dt><span>long_name :</span></dt><dd>Albedo of Water</dd><dt><span>units :</span></dt><dd>unitless</dd><dt><span>description :</span></dt><dd>The albedo of water.</dd></dl></div><div class='xr-var-data'><pre>array([[3333]])</pre></div></li><li class='xr-var-item'><div class='xr-var-name'><span>a2</span></div><div class='xr-var-dims'>(x, y)</div><div class='xr-var-dtype'>int32</div><div class='xr-var-preview xr-preview'>3333</div><input id='attrs-5b99d87e-3e02-419e-871a-8fd9129ffbad' class='xr-var-attrs-in' type='checkbox' ><label for='attrs-5b99d87e-3e02-419e-871a-8fd9129ffbad' title='Show/Hide attributes'><svg class='icon xr-icon-file-text2'><use xlink:href='#icon-file-text2'></use></svg></label><input id='data-a5a4ecc1-fa59-4ece-b5ed-81c7b65ab1ce' class='xr-var-data-in' type='checkbox'><label for='data-a5a4ecc1-fa59-4ece-b5ed-81c7b65ab1ce' title='Show/Hide data repr'><svg class='icon xr-icon-database'><use xlink:href='#icon-database'></use></svg></label><div class='xr-var-attrs'><dl class='xr-attrs'><dt><span>long_name :</span></dt><dd>Albedo of Water</dd><dt><span>units :</span></dt><dd>unitless</dd><dt><span>description :</span></dt><dd>The albedo of water.</dd></dl></div><div class='xr-var-data'><pre>array([[3333]])</pre></div></li><li class='xr-var-item'><div class='xr-var-name'><span>a3</span></div><div class='xr-var-dims'>(x, y)</div><div class='xr-var-dtype'>int32</div><div class='xr-var-preview xr-preview'>3333</div><input id='attrs-105566fd-e0eb-4d03-8810-b3557e4f4a01' class='xr-var-attrs-in' type='checkbox' ><label for='attrs-105566fd-e0eb-4d03-8810-b3557e4f4a01' title='Show/Hide attributes'><svg class='icon xr-icon-file-text2'><use xlink:href='#icon-file-text2'></use></svg></label><input id='data-5c63e1fa-1928-4b56-87b2-de6dc1a7858c' class='xr-var-data-in' type='checkbox'><label for='data-5c63e1fa-1928-4b56-87b2-de6dc1a7858c' title='Show/Hide data repr'><svg class='icon xr-icon-database'><use xlink:href='#icon-database'></use></svg></label><div class='xr-var-attrs'><dl class='xr-attrs'><dt><span>long_name :</span></dt><dd>Albedo of Water</dd><dt><span>units :</span></dt><dd>unitless</dd><dt><span>description :</span></dt><dd>The albedo of water.</dd></dl></div><div class='xr-var-data'><pre>array([[3333]])</pre></div></li><li class='xr-var-item'><div class='xr-var-name'><span>a4</span></div><div class='xr-var-dims'>(x, y)</div><div class='xr-var-dtype'>int32</div><div class='xr-var-preview xr-preview'>3333</div><input id='attrs-66deaac4-de07-4e48-89ef-a40bc188c499' class='xr-var-attrs-in' type='checkbox' ><label for='attrs-66deaac4-de07-4e48-89ef-a40bc188c499' title='Show/Hide attributes'><svg class='icon xr-icon-file-text2'><use xlink:href='#icon-file-text2'></use></svg></label><input id='data-6a147bce-b6ac-4677-a1c8-bf73476a9224' class='xr-var-data-in' type='checkbox'><label for='data-6a147bce-b6ac-4677-a1c8-bf73476a9224' title='Show/Hide data repr'><svg class='icon xr-icon-database'><use xlink:href='#icon-database'></use></svg></label><div class='xr-var-attrs'><dl class='xr-attrs'><dt><span>long_name :</span></dt><dd>Albedo of Water</dd><dt><span>units :</span></dt><dd>unitless</dd><dt><span>description :</span></dt><dd>The albedo of water.</dd></dl></div><div class='xr-var-data'><pre>array([[3333]])</pre></div></li><li class='xr-var-item'><div class='xr-var-name'><span>a5</span></div><div class='xr-var-dims'>(x, y)</div><div class='xr-var-dtype'>int32</div><div class='xr-var-preview xr-preview'>3333</div><input id='attrs-68e70e5a-ba60-4ca7-b92d-29fb075b6387' class='xr-var-attrs-in' type='checkbox' ><label for='attrs-68e70e5a-ba60-4ca7-b92d-29fb075b6387' title='Show/Hide attributes'><svg class='icon xr-icon-file-text2'><use xlink:href='#icon-file-text2'></use></svg></label><input id='data-ebc17ad0-c2b6-447b-99cc-2862e70292f4' class='xr-var-data-in' type='checkbox'><label for='data-ebc17ad0-c2b6-447b-99cc-2862e70292f4' title='Show/Hide data repr'><svg class='icon xr-icon-database'><use xlink:href='#icon-database'></use></svg></label><div class='xr-var-attrs'><dl class='xr-attrs'><dt><span>long_name :</span></dt><dd>Albedo of Water</dd><dt><span>units :</span></dt><dd>unitless</dd><dt><span>description :</span></dt><dd>The albedo of water.</dd></dl></div><div class='xr-var-data'><pre>array([[3333]])</pre></div></li><li class='xr-var-item'><div class='xr-var-name'><span>a6</span></div><div class='xr-var-dims'>(x, y)</div><div class='xr-var-dtype'>int32</div><div class='xr-var-preview xr-preview'>3333</div><input id='attrs-81db5f5a-023a-4147-992a-7e24ec3f833b' class='xr-var-attrs-in' type='checkbox' ><label for='attrs-81db5f5a-023a-4147-992a-7e24ec3f833b' title='Show/Hide attributes'><svg class='icon xr-icon-file-text2'><use xlink:href='#icon-file-text2'></use></svg></label><input id='data-49016dd5-dc52-47c8-8b5a-33f0054cfbf1' class='xr-var-data-in' type='checkbox'><label for='data-49016dd5-dc52-47c8-8b5a-33f0054cfbf1' title='Show/Hide data repr'><svg class='icon xr-icon-database'><use xlink:href='#icon-database'></use></svg></label><div class='xr-var-attrs'><dl class='xr-attrs'><dt><span>long_name :</span></dt><dd>Albedo of Water</dd><dt><span>units :</span></dt><dd>unitless</dd><dt><span>description :</span></dt><dd>The albedo of water.</dd></dl></div><div class='xr-var-data'><pre>array([[3333]])</pre></div></li><li class='xr-var-item'><div class='xr-var-name'><span>pb</span></div><div class='xr-var-dims'>(x, y)</div><div class='xr-var-dtype'>int32</div><div class='xr-var-preview xr-preview'>3333</div><input id='attrs-5409cd5b-4975-4022-9386-7eec833262f8' class='xr-var-attrs-in' type='checkbox' ><label for='attrs-5409cd5b-4975-4022-9386-7eec833262f8' title='Show/Hide attributes'><svg class='icon xr-icon-file-text2'><use xlink:href='#icon-file-text2'></use></svg></label><input id='data-dab8ccb3-24f7-43bd-9364-5ac67d99f92f' class='xr-var-data-in' type='checkbox'><label for='data-dab8ccb3-24f7-43bd-9364-5ac67d99f92f' title='Show/Hide data repr'><svg class='icon xr-icon-database'><use xlink:href='#icon-database'></use></svg></label><div class='xr-var-attrs'><dl class='xr-attrs'><dt><span>long_name :</span></dt><dd>Bulk Density of Sediment</dd><dt><span>units :</span></dt><dd>kg m-3</dd><dt><span>description :</span></dt><dd>The bulk density of sediment.</dd></dl></div><div class='xr-var-data'><pre>array([[3333]])</pre></div></li><li class='xr-var-item'><div class='xr-var-name'><span>cps</span></div><div class='xr-var-dims'>(x, y)</div><div class='xr-var-dtype'>int32</div><div class='xr-var-preview xr-preview'>3333</div><input id='attrs-a2fcf9e3-10fe-493a-bacc-3ea2e378f072' class='xr-var-attrs-in' type='checkbox' ><label for='attrs-a2fcf9e3-10fe-493a-bacc-3ea2e378f072' title='Show/Hide attributes'><svg class='icon xr-icon-file-text2'><use xlink:href='#icon-file-text2'></use></svg></label><input id='data-0db8bd0a-41b1-4297-98c0-e2c7bd2f2968' class='xr-var-data-in' type='checkbox'><label for='data-0db8bd0a-41b1-4297-98c0-e2c7bd2f2968' title='Show/Hide data repr'><svg class='icon xr-icon-database'><use xlink:href='#icon-database'></use></svg></label><div class='xr-var-attrs'><dl class='xr-attrs'><dt><span>long_name :</span></dt><dd>CPS</dd><dt><span>units :</span></dt><dd>J kg-1 K-1</dd><dt><span>description :</span></dt><dd>The CPS.</dd></dl></div><div class='xr-var-data'><pre>array([[3333]])</pre></div></li><li class='xr-var-item'><div class='xr-var-name'><span>h2</span></div><div class='xr-var-dims'>(x, y)</div><div class='xr-var-dtype'>int32</div><div class='xr-var-preview xr-preview'>3333</div><input id='attrs-71e8e1eb-6da9-4996-98a5-08ed13f123d6' class='xr-var-attrs-in' type='checkbox' ><label for='attrs-71e8e1eb-6da9-4996-98a5-08ed13f123d6' title='Show/Hide attributes'><svg class='icon xr-icon-file-text2'><use xlink:href='#icon-file-text2'></use></svg></label><input id='data-f9995d88-b296-4b05-adab-86fdf59b946a' class='xr-var-data-in' type='checkbox'><label for='data-f9995d88-b296-4b05-adab-86fdf59b946a' title='Show/Hide data repr'><svg class='icon xr-icon-database'><use xlink:href='#icon-database'></use></svg></label><div class='xr-var-attrs'><dl class='xr-attrs'><dt><span>long_name :</span></dt><dd>H2</dd><dt><span>units :</span></dt><dd>m</dd><dt><span>description :</span></dt><dd>The H2.</dd></dl></div><div class='xr-var-data'><pre>array([[3333]])</pre></div></li><li class='xr-var-item'><div class='xr-var-name'><span>alphas</span></div><div class='xr-var-dims'>(x, y)</div><div class='xr-var-dtype'>int32</div><div class='xr-var-preview xr-preview'>3333</div><input id='attrs-d0feade5-a85d-491d-842d-cbaae2fe615e' class='xr-var-attrs-in' type='checkbox' ><label for='attrs-d0feade5-a85d-491d-842d-cbaae2fe615e' title='Show/Hide attributes'><svg class='icon xr-icon-file-text2'><use xlink:href='#icon-file-text2'></use></svg></label><input id='data-b820ed44-4d7d-4c7a-8e10-67b2a66abb4a' class='xr-var-data-in' type='checkbox'><label for='data-b820ed44-4d7d-4c7a-8e10-67b2a66abb4a' title='Show/Hide data repr'><svg class='icon xr-icon-database'><use xlink:href='#icon-database'></use></svg></label><div class='xr-var-attrs'><dl class='xr-attrs'><dt><span>long_name :</span></dt><dd>Alphas</dd><dt><span>units :</span></dt><dd>m-1</dd><dt><span>description :</span></dt><dd>The alphas.</dd></dl></div><div class='xr-var-data'><pre>array([[3333]])</pre></div></li><li class='xr-var-item'><div class='xr-var-name'><span>richardson_option</span></div><div class='xr-var-dims'>(x, y)</div><div class='xr-var-dtype'>bool</div><div class='xr-var-preview xr-preview'>True</div><input id='attrs-05d20659-7dbe-4452-9092-3c0385bd7241' class='xr-var-attrs-in' type='checkbox' ><label for='attrs-05d20659-7dbe-4452-9092-3c0385bd7241' title='Show/Hide attributes'><svg class='icon xr-icon-file-text2'><use xlink:href='#icon-file-text2'></use></svg></label><input id='data-cca4a71f-458e-41a6-9e0b-acb59105e865' class='xr-var-data-in' type='checkbox'><label for='data-cca4a71f-458e-41a6-9e0b-acb59105e865' title='Show/Hide data repr'><svg class='icon xr-icon-database'><use xlink:href='#icon-database'></use></svg></label><div class='xr-var-attrs'><dl class='xr-attrs'><dt><span>long_name :</span></dt><dd>Richardson Option</dd><dt><span>units :</span></dt><dd>unitless</dd><dt><span>description :</span></dt><dd>The Richardson option.</dd></dl></div><div class='xr-var-data'><pre>array([[ True]])</pre></div></li><li class='xr-var-item'><div class='xr-var-name'><span>air_temp_c</span></div><div class='xr-var-dims'>(x, y)</div><div class='xr-var-dtype'>int32</div><div class='xr-var-preview xr-preview'>20</div><input id='attrs-92eed192-0817-475e-991c-64fb5fe007b2' class='xr-var-attrs-in' type='checkbox' ><label for='attrs-92eed192-0817-475e-991c-64fb5fe007b2' title='Show/Hide attributes'><svg class='icon xr-icon-file-text2'><use xlink:href='#icon-file-text2'></use></svg></label><input id='data-c6075354-824e-4826-98f7-53694149efad' class='xr-var-data-in' type='checkbox'><label for='data-c6075354-824e-4826-98f7-53694149efad' title='Show/Hide data repr'><svg class='icon xr-icon-database'><use xlink:href='#icon-database'></use></svg></label><div class='xr-var-attrs'><dl class='xr-attrs'><dt><span>long_name :</span></dt><dd>Air Temperature</dd><dt><span>units :</span></dt><dd>C</dd><dt><span>description :</span></dt><dd>The air temperature.</dd></dl></div><div class='xr-var-data'><pre>array([[20]])</pre></div></li><li class='xr-var-item'><div class='xr-var-name'><span>q_solar</span></div><div class='xr-var-dims'>(x, y)</div><div class='xr-var-dtype'>int32</div><div class='xr-var-preview xr-preview'>400</div><input id='attrs-aafc723e-264b-4048-920c-4b0778c02fee' class='xr-var-attrs-in' type='checkbox' ><label for='attrs-aafc723e-264b-4048-920c-4b0778c02fee' title='Show/Hide attributes'><svg class='icon xr-icon-file-text2'><use xlink:href='#icon-file-text2'></use></svg></label><input id='data-4ae1f914-4073-4aff-9895-8487445c2219' class='xr-var-data-in' type='checkbox'><label for='data-4ae1f914-4073-4aff-9895-8487445c2219' title='Show/Hide data repr'><svg class='icon xr-icon-database'><use xlink:href='#icon-database'></use></svg></label><div class='xr-var-attrs'><dl class='xr-attrs'><dt><span>long_name :</span></dt><dd>Solar Heat Flux</dd><dt><span>units :</span></dt><dd>W m-2</dd><dt><span>description :</span></dt><dd>The solar heat flux.</dd></dl></div><div class='xr-var-data'><pre>array([[400]])</pre></div></li><li class='xr-var-item'><div class='xr-var-name'><span>sed_temp_c</span></div><div class='xr-var-dims'>(x, y)</div><div class='xr-var-dtype'>int32</div><div class='xr-var-preview xr-preview'>10</div><input id='attrs-f97e2420-9d76-4e2f-a67b-186ce4f12299' class='xr-var-attrs-in' type='checkbox' ><label for='attrs-f97e2420-9d76-4e2f-a67b-186ce4f12299' title='Show/Hide attributes'><svg class='icon xr-icon-file-text2'><use xlink:href='#icon-file-text2'></use></svg></label><input id='data-88a52b0f-308d-4289-81dc-c596d4323a7e' class='xr-var-data-in' type='checkbox'><label for='data-88a52b0f-308d-4289-81dc-c596d4323a7e' title='Show/Hide data repr'><svg class='icon xr-icon-database'><use xlink:href='#icon-database'></use></svg></label><div class='xr-var-attrs'><dl class='xr-attrs'><dt><span>long_name :</span></dt><dd>Sediment Temperature</dd><dt><span>units :</span></dt><dd>C</dd><dt><span>description :</span></dt><dd>The sediment temperature.</dd></dl></div><div class='xr-var-data'><pre>array([[10]])</pre></div></li><li class='xr-var-item'><div class='xr-var-name'><span>eair_mb</span></div><div class='xr-var-dims'>(x, y)</div><div class='xr-var-dtype'>int32</div><div class='xr-var-preview xr-preview'>2</div><input id='attrs-63836c67-ad0e-48b4-989c-13aa9abb4437' class='xr-var-attrs-in' type='checkbox' ><label for='attrs-63836c67-ad0e-48b4-989c-13aa9abb4437' title='Show/Hide attributes'><svg class='icon xr-icon-file-text2'><use xlink:href='#icon-file-text2'></use></svg></label><input id='data-02f011be-d885-4772-9e4a-c345b8e1f03b' class='xr-var-data-in' type='checkbox'><label for='data-02f011be-d885-4772-9e4a-c345b8e1f03b' title='Show/Hide data repr'><svg class='icon xr-icon-database'><use xlink:href='#icon-database'></use></svg></label><div class='xr-var-attrs'><dl class='xr-attrs'><dt><span>long_name :</span></dt><dd>Eair MB</dd><dt><span>units :</span></dt><dd>mb</dd><dt><span>description :</span></dt><dd>The eair MB.</dd></dl></div><div class='xr-var-data'><pre>array([[2]])</pre></div></li><li class='xr-var-item'><div class='xr-var-name'><span>pressure_mb</span></div><div class='xr-var-dims'>(x, y)</div><div class='xr-var-dtype'>int32</div><div class='xr-var-preview xr-preview'>1035</div><input id='attrs-6dd0b887-4ba6-4bae-83f5-a1c67770180c' class='xr-var-attrs-in' type='checkbox' ><label for='attrs-6dd0b887-4ba6-4bae-83f5-a1c67770180c' title='Show/Hide attributes'><svg class='icon xr-icon-file-text2'><use xlink:href='#icon-file-text2'></use></svg></label><input id='data-00dfa004-0a9c-4928-911d-026277aab53f' class='xr-var-data-in' type='checkbox'><label for='data-00dfa004-0a9c-4928-911d-026277aab53f' title='Show/Hide data repr'><svg class='icon xr-icon-database'><use xlink:href='#icon-database'></use></svg></label><div class='xr-var-attrs'><dl class='xr-attrs'><dt><span>long_name :</span></dt><dd>Pressure</dd><dt><span>units :</span></dt><dd>mb</dd><dt><span>description :</span></dt><dd>The pressure.</dd></dl></div><div class='xr-var-data'><pre>array([[1035]])</pre></div></li><li class='xr-var-item'><div class='xr-var-name'><span>cloudiness</span></div><div class='xr-var-dims'>(x, y)</div><div class='xr-var-dtype'>float64</div><div class='xr-var-preview xr-preview'>0.1</div><input id='attrs-3edfdc53-d0c4-4507-8acd-2f97a82f69dd' class='xr-var-attrs-in' type='checkbox' ><label for='attrs-3edfdc53-d0c4-4507-8acd-2f97a82f69dd' title='Show/Hide attributes'><svg class='icon xr-icon-file-text2'><use xlink:href='#icon-file-text2'></use></svg></label><input id='data-42c40a69-1b2d-4c81-b1ab-b798172e940c' class='xr-var-data-in' type='checkbox'><label for='data-42c40a69-1b2d-4c81-b1ab-b798172e940c' title='Show/Hide data repr'><svg class='icon xr-icon-database'><use xlink:href='#icon-database'></use></svg></label><div class='xr-var-attrs'><dl class='xr-attrs'><dt><span>long_name :</span></dt><dd>Cloudiness</dd><dt><span>units :</span></dt><dd>unitless</dd><dt><span>description :</span></dt><dd>The cloudiness.</dd></dl></div><div class='xr-var-data'><pre>array([[0.1]])</pre></div></li><li class='xr-var-item'><div class='xr-var-name'><span>wind_speed</span></div><div class='xr-var-dims'>(x, y)</div><div class='xr-var-dtype'>int32</div><div class='xr-var-preview xr-preview'>3</div><input id='attrs-e246a24e-d26b-4fbb-beb4-15f637697d76' class='xr-var-attrs-in' type='checkbox' ><label for='attrs-e246a24e-d26b-4fbb-beb4-15f637697d76' title='Show/Hide attributes'><svg class='icon xr-icon-file-text2'><use xlink:href='#icon-file-text2'></use></svg></label><input id='data-a8e1d9a1-e3fa-44ed-a53f-03b5d23e5d14' class='xr-var-data-in' type='checkbox'><label for='data-a8e1d9a1-e3fa-44ed-a53f-03b5d23e5d14' title='Show/Hide data repr'><svg class='icon xr-icon-database'><use xlink:href='#icon-database'></use></svg></label><div class='xr-var-attrs'><dl class='xr-attrs'><dt><span>long_name :</span></dt><dd>Wind Speed</dd><dt><span>units :</span></dt><dd>m s-1</dd><dt><span>description :</span></dt><dd>The wind speed.</dd></dl></div><div class='xr-var-data'><pre>array([[3]])</pre></div></li><li class='xr-var-item'><div class='xr-var-name'><span>wind_a</span></div><div class='xr-var-dims'>(x, y)</div><div class='xr-var-dtype'>int32</div><div class='xr-var-preview xr-preview'>1</div><input id='attrs-a8a02209-08bf-4b04-b367-e6ef4cbd12dd' class='xr-var-attrs-in' type='checkbox' ><label for='attrs-a8a02209-08bf-4b04-b367-e6ef4cbd12dd' title='Show/Hide attributes'><svg class='icon xr-icon-file-text2'><use xlink:href='#icon-file-text2'></use></svg></label><input id='data-61aec0e0-3869-49ab-a91d-b7bf1ebf1858' class='xr-var-data-in' type='checkbox'><label for='data-61aec0e0-3869-49ab-a91d-b7bf1ebf1858' title='Show/Hide data repr'><svg class='icon xr-icon-database'><use xlink:href='#icon-database'></use></svg></label><div class='xr-var-attrs'><dl class='xr-attrs'><dt><span>long_name :</span></dt><dd>Wind A</dd><dt><span>units :</span></dt><dd>m s-1</dd><dt><span>description :</span></dt><dd>The wind A.</dd></dl></div><div class='xr-var-data'><pre>array([[1]])</pre></div></li><li class='xr-var-item'><div class='xr-var-name'><span>wind_b</span></div><div class='xr-var-dims'>(x, y)</div><div class='xr-var-dtype'>int32</div><div class='xr-var-preview xr-preview'>1</div><input id='attrs-14cd23cb-59ed-401d-bcfa-f4dffba57b2b' class='xr-var-attrs-in' type='checkbox' ><label for='attrs-14cd23cb-59ed-401d-bcfa-f4dffba57b2b' title='Show/Hide attributes'><svg class='icon xr-icon-file-text2'><use xlink:href='#icon-file-text2'></use></svg></label><input id='data-a76602d1-a7fc-43ef-8811-e5768ac6f067' class='xr-var-data-in' type='checkbox'><label for='data-a76602d1-a7fc-43ef-8811-e5768ac6f067' title='Show/Hide data repr'><svg class='icon xr-icon-database'><use xlink:href='#icon-database'></use></svg></label><div class='xr-var-attrs'><dl class='xr-attrs'><dt><span>long_name :</span></dt><dd>Wind B</dd><dt><span>units :</span></dt><dd>m s-1</dd><dt><span>description :</span></dt><dd>The wind B.</dd></dl></div><div class='xr-var-data'><pre>array([[1]])</pre></div></li><li class='xr-var-item'><div class='xr-var-name'><span>wind_c</span></div><div class='xr-var-dims'>(x, y)</div><div class='xr-var-dtype'>int32</div><div class='xr-var-preview xr-preview'>1</div><input id='attrs-eda160d3-e511-4e2d-9847-725b9b91eb0d' class='xr-var-attrs-in' type='checkbox' ><label for='attrs-eda160d3-e511-4e2d-9847-725b9b91eb0d' title='Show/Hide attributes'><svg class='icon xr-icon-file-text2'><use xlink:href='#icon-file-text2'></use></svg></label><input id='data-ff0d7b4b-951f-4506-8eb0-2eb7de3d499c' class='xr-var-data-in' type='checkbox'><label for='data-ff0d7b4b-951f-4506-8eb0-2eb7de3d499c' title='Show/Hide data repr'><svg class='icon xr-icon-database'><use xlink:href='#icon-database'></use></svg></label><div class='xr-var-attrs'><dl class='xr-attrs'><dt><span>long_name :</span></dt><dd>Wind C</dd><dt><span>units :</span></dt><dd>m s-1</dd><dt><span>description :</span></dt><dd>The wind C.</dd></dl></div><div class='xr-var-data'><pre>array([[1]])</pre></div></li><li class='xr-var-item'><div class='xr-var-name'><span>wind_kh_kw</span></div><div class='xr-var-dims'>(x, y)</div><div class='xr-var-dtype'>int32</div><div class='xr-var-preview xr-preview'>1</div><input id='attrs-5bc4c2f9-0fb6-4045-bbf1-b281648fc6d4' class='xr-var-attrs-in' type='checkbox' ><label for='attrs-5bc4c2f9-0fb6-4045-bbf1-b281648fc6d4' title='Show/Hide attributes'><svg class='icon xr-icon-file-text2'><use xlink:href='#icon-file-text2'></use></svg></label><input id='data-be7c53ce-4cb5-457b-bbaf-2adb7a1cc983' class='xr-var-data-in' type='checkbox'><label for='data-be7c53ce-4cb5-457b-bbaf-2adb7a1cc983' title='Show/Hide data repr'><svg class='icon xr-icon-database'><use xlink:href='#icon-database'></use></svg></label><div class='xr-var-attrs'><dl class='xr-attrs'><dt><span>long_name :</span></dt><dd>Wind KH KW</dd><dt><span>units :</span></dt><dd>m s-1</dd><dt><span>description :</span></dt><dd>The wind KH KW.</dd></dl></div><div class='xr-var-data'><pre>array([[1]])</pre></div></li><li class='xr-var-item'><div class='xr-var-name'><span>air_temp_k</span></div><div class='xr-var-dims'>(year, x, y)</div><div class='xr-var-dtype'>float64</div><div class='xr-var-preview xr-preview'>nan 293.2</div><input id='attrs-79d2e8cf-1648-4028-889c-a66efb3dce10' class='xr-var-attrs-in' type='checkbox' ><label for='attrs-79d2e8cf-1648-4028-889c-a66efb3dce10' title='Show/Hide attributes'><svg class='icon xr-icon-file-text2'><use xlink:href='#icon-file-text2'></use></svg></label><input id='data-ef04f93a-d9e4-45e0-a3d3-b595eae1c450' class='xr-var-data-in' type='checkbox'><label for='data-ef04f93a-d9e4-45e0-a3d3-b595eae1c450' title='Show/Hide data repr'><svg class='icon xr-icon-database'><use xlink:href='#icon-database'></use></svg></label><div class='xr-var-attrs'><dl class='xr-attrs'><dt><span>long_name :</span></dt><dd>Air temperature</dd><dt><span>units :</span></dt><dd>K</dd><dt><span>description :</span></dt><dd>Air temperature</dd></dl></div><div class='xr-var-data'><pre>array([[[   nan]],\n",
       "\n",
       "       [[293.16]]])</pre></div></li><li class='xr-var-item'><div class='xr-var-name'><span>water_temp_k</span></div><div class='xr-var-dims'>(year, x, y)</div><div class='xr-var-dtype'>float64</div><div class='xr-var-preview xr-preview'>nan 293.2</div><input id='attrs-072c27e2-1ed3-454f-8b8c-6cf87de35bf0' class='xr-var-attrs-in' type='checkbox' ><label for='attrs-072c27e2-1ed3-454f-8b8c-6cf87de35bf0' title='Show/Hide attributes'><svg class='icon xr-icon-file-text2'><use xlink:href='#icon-file-text2'></use></svg></label><input id='data-b91252b4-f2cd-4f20-9743-3fb01f865772' class='xr-var-data-in' type='checkbox'><label for='data-b91252b4-f2cd-4f20-9743-3fb01f865772' title='Show/Hide data repr'><svg class='icon xr-icon-database'><use xlink:href='#icon-database'></use></svg></label><div class='xr-var-attrs'><dl class='xr-attrs'><dt><span>long_name :</span></dt><dd>Water temperature</dd><dt><span>units :</span></dt><dd>K</dd><dt><span>description :</span></dt><dd>Water temperature</dd></dl></div><div class='xr-var-data'><pre>array([[[   nan]],\n",
       "\n",
       "       [[293.16]]])</pre></div></li><li class='xr-var-item'><div class='xr-var-name'><span>mixing_ratio_air</span></div><div class='xr-var-dims'>(year, x, y)</div><div class='xr-var-dtype'>float64</div><div class='xr-var-preview xr-preview'>nan 0.001204</div><input id='attrs-667a1a87-768d-4249-a628-10699b09baee' class='xr-var-attrs-in' type='checkbox' ><label for='attrs-667a1a87-768d-4249-a628-10699b09baee' title='Show/Hide attributes'><svg class='icon xr-icon-file-text2'><use xlink:href='#icon-file-text2'></use></svg></label><input id='data-6ebc4022-49cd-4e60-afb6-40e392cc9301' class='xr-var-data-in' type='checkbox'><label for='data-6ebc4022-49cd-4e60-afb6-40e392cc9301' title='Show/Hide data repr'><svg class='icon xr-icon-database'><use xlink:href='#icon-database'></use></svg></label><div class='xr-var-attrs'><dl class='xr-attrs'><dt><span>long_name :</span></dt><dd>Mixing ratio of air</dd><dt><span>units :</span></dt><dd>unitless</dd><dt><span>description :</span></dt><dd>Mixing ratio of air</dd></dl></div><div class='xr-var-data'><pre>array([[[       nan]],\n",
       "\n",
       "       [[0.00120426]]])</pre></div></li><li class='xr-var-item'><div class='xr-var-name'><span>density_air</span></div><div class='xr-var-dims'>(year, x, y)</div><div class='xr-var-dtype'>float64</div><div class='xr-var-preview xr-preview'>nan 1.228</div><input id='attrs-c119d209-bd55-4fe2-8c42-99bcc1d7f28b' class='xr-var-attrs-in' type='checkbox' ><label for='attrs-c119d209-bd55-4fe2-8c42-99bcc1d7f28b' title='Show/Hide attributes'><svg class='icon xr-icon-file-text2'><use xlink:href='#icon-file-text2'></use></svg></label><input id='data-bcfc14e0-040f-468c-bbaf-5576aa9fb8c0' class='xr-var-data-in' type='checkbox'><label for='data-bcfc14e0-040f-468c-bbaf-5576aa9fb8c0' title='Show/Hide data repr'><svg class='icon xr-icon-database'><use xlink:href='#icon-database'></use></svg></label><div class='xr-var-attrs'><dl class='xr-attrs'><dt><span>long_name :</span></dt><dd>Density of air</dd><dt><span>units :</span></dt><dd>kg/m^3</dd><dt><span>description :</span></dt><dd>Density of air</dd></dl></div><div class='xr-var-data'><pre>array([[[       nan]],\n",
       "\n",
       "       [[1.22771157]]])</pre></div></li><li class='xr-var-item'><div class='xr-var-name'><span>density_water</span></div><div class='xr-var-dims'>(year, x, y)</div><div class='xr-var-dtype'>float64</div><div class='xr-var-preview xr-preview'>nan 998.2</div><input id='attrs-e680100e-6ec8-4700-b86d-9ee295c92ffb' class='xr-var-attrs-in' type='checkbox' ><label for='attrs-e680100e-6ec8-4700-b86d-9ee295c92ffb' title='Show/Hide attributes'><svg class='icon xr-icon-file-text2'><use xlink:href='#icon-file-text2'></use></svg></label><input id='data-d2c3f403-0043-4f68-829c-839f739d5943' class='xr-var-data-in' type='checkbox'><label for='data-d2c3f403-0043-4f68-829c-839f739d5943' title='Show/Hide data repr'><svg class='icon xr-icon-database'><use xlink:href='#icon-database'></use></svg></label><div class='xr-var-attrs'><dl class='xr-attrs'><dt><span>long_name :</span></dt><dd>Density of water</dd><dt><span>units :</span></dt><dd>kg/m^3</dd><dt><span>description :</span></dt><dd>Density of water</dd></dl></div><div class='xr-var-data'><pre>array([[[         nan]],\n",
       "\n",
       "       [[998.20668383]]])</pre></div></li><li class='xr-var-item'><div class='xr-var-name'><span>esat_mb</span></div><div class='xr-var-dims'>(year, x, y)</div><div class='xr-var-dtype'>float64</div><div class='xr-var-preview xr-preview'>nan 2.123e+18</div><input id='attrs-fb35d8e2-2160-4f2b-8c50-998b4350fc3e' class='xr-var-attrs-in' type='checkbox' ><label for='attrs-fb35d8e2-2160-4f2b-8c50-998b4350fc3e' title='Show/Hide attributes'><svg class='icon xr-icon-file-text2'><use xlink:href='#icon-file-text2'></use></svg></label><input id='data-0dc372d2-25f4-4ad0-89ec-e1035c7d6bab' class='xr-var-data-in' type='checkbox'><label for='data-0dc372d2-25f4-4ad0-89ec-e1035c7d6bab' title='Show/Hide data repr'><svg class='icon xr-icon-database'><use xlink:href='#icon-database'></use></svg></label><div class='xr-var-attrs'><dl class='xr-attrs'><dt><span>long_name :</span></dt><dd>Saturation vapor pressure</dd><dt><span>units :</span></dt><dd>mb</dd><dt><span>description :</span></dt><dd>Saturation vapor pressure</dd></dl></div><div class='xr-var-data'><pre>array([[[           nan]],\n",
       "\n",
       "       [[2.12298805e+18]]])</pre></div></li><li class='xr-var-item'><div class='xr-var-name'><span>density_air_sat</span></div><div class='xr-var-dims'>(year, x, y)</div><div class='xr-var-dtype'>float64</div><div class='xr-var-preview xr-preview'>nan -327.1</div><input id='attrs-9be8f191-91a2-438a-9231-2b108a63d638' class='xr-var-attrs-in' type='checkbox' ><label for='attrs-9be8f191-91a2-438a-9231-2b108a63d638' title='Show/Hide attributes'><svg class='icon xr-icon-file-text2'><use xlink:href='#icon-file-text2'></use></svg></label><input id='data-194dd3b6-4c47-4d90-b412-e1d03f375f61' class='xr-var-data-in' type='checkbox'><label for='data-194dd3b6-4c47-4d90-b412-e1d03f375f61' title='Show/Hide data repr'><svg class='icon xr-icon-database'><use xlink:href='#icon-database'></use></svg></label><div class='xr-var-attrs'><dl class='xr-attrs'><dt><span>long_name :</span></dt><dd>Density of air at saturation</dd><dt><span>units :</span></dt><dd>kg/m^3</dd><dt><span>description :</span></dt><dd>Density of air at saturation</dd></dl></div><div class='xr-var-data'><pre>array([[[          nan]],\n",
       "\n",
       "       [[-327.05314984]]])</pre></div></li><li class='xr-var-item'><div class='xr-var-name'><span>ri_number</span></div><div class='xr-var-dims'>(year, x, y)</div><div class='xr-var-dtype'>float64</div><div class='xr-var-preview xr-preview'>nan 583.5</div><input id='attrs-4c6ab162-02af-408c-9e76-ec7d33074f41' class='xr-var-attrs-in' type='checkbox' ><label for='attrs-4c6ab162-02af-408c-9e76-ec7d33074f41' title='Show/Hide attributes'><svg class='icon xr-icon-file-text2'><use xlink:href='#icon-file-text2'></use></svg></label><input id='data-277b37b2-d3f1-4b46-bb6a-c645be65c4de' class='xr-var-data-in' type='checkbox'><label for='data-277b37b2-d3f1-4b46-bb6a-c645be65c4de' title='Show/Hide data repr'><svg class='icon xr-icon-database'><use xlink:href='#icon-database'></use></svg></label><div class='xr-var-attrs'><dl class='xr-attrs'><dt><span>long_name :</span></dt><dd>Richardson number</dd><dt><span>units :</span></dt><dd>unitless</dd><dt><span>description :</span></dt><dd>Richardson number</dd></dl></div><div class='xr-var-data'><pre>array([[[         nan]],\n",
       "\n",
       "       [[583.50984656]]])</pre></div></li><li class='xr-var-item'><div class='xr-var-name'><span>ri_function</span></div><div class='xr-var-dims'>(year, x, y)</div><div class='xr-var-dtype'>float64</div><div class='xr-var-preview xr-preview'>nan 0.0338</div><input id='attrs-95eccd88-cb82-4c6c-bb57-e7ae981a1735' class='xr-var-attrs-in' type='checkbox' ><label for='attrs-95eccd88-cb82-4c6c-bb57-e7ae981a1735' title='Show/Hide attributes'><svg class='icon xr-icon-file-text2'><use xlink:href='#icon-file-text2'></use></svg></label><input id='data-0adc98f9-e076-4641-980e-d23ad8a7cfe9' class='xr-var-data-in' type='checkbox'><label for='data-0adc98f9-e076-4641-980e-d23ad8a7cfe9' title='Show/Hide data repr'><svg class='icon xr-icon-database'><use xlink:href='#icon-database'></use></svg></label><div class='xr-var-attrs'><dl class='xr-attrs'><dt><span>long_name :</span></dt><dd>Richardson function</dd><dt><span>units :</span></dt><dd>unitless</dd><dt><span>description :</span></dt><dd>Richardson function</dd></dl></div><div class='xr-var-data'><pre>array([[[       nan]],\n",
       "\n",
       "       [[0.03380031]]])</pre></div></li><li class='xr-var-item'><div class='xr-var-name'><span>lv</span></div><div class='xr-var-dims'>(year, x, y)</div><div class='xr-var-dtype'>float64</div><div class='xr-var-preview xr-preview'>nan 1.801e+06</div><input id='attrs-fbe60dca-7663-4d69-85e6-8c0dbb11d28a' class='xr-var-attrs-in' type='checkbox' ><label for='attrs-fbe60dca-7663-4d69-85e6-8c0dbb11d28a' title='Show/Hide attributes'><svg class='icon xr-icon-file-text2'><use xlink:href='#icon-file-text2'></use></svg></label><input id='data-f5b0cbc6-df16-4701-8e98-06e4e6786578' class='xr-var-data-in' type='checkbox'><label for='data-f5b0cbc6-df16-4701-8e98-06e4e6786578' title='Show/Hide data repr'><svg class='icon xr-icon-database'><use xlink:href='#icon-database'></use></svg></label><div class='xr-var-attrs'><dl class='xr-attrs'><dt><span>long_name :</span></dt><dd>Latent heat of vaporization</dd><dt><span>units :</span></dt><dd>J/kg</dd><dt><span>description :</span></dt><dd>Latent heat of vaporization</dd></dl></div><div class='xr-var-data'><pre>array([[[         nan]],\n",
       "\n",
       "       [[1800595.4616]]])</pre></div></li><li class='xr-var-item'><div class='xr-var-name'><span>cp_water</span></div><div class='xr-var-dims'>(year, x, y)</div><div class='xr-var-dtype'>float64</div><div class='xr-var-preview xr-preview'>nan 4.182e+03</div><input id='attrs-a9117df1-7b75-472e-bb1b-fe6845461232' class='xr-var-attrs-in' type='checkbox' ><label for='attrs-a9117df1-7b75-472e-bb1b-fe6845461232' title='Show/Hide attributes'><svg class='icon xr-icon-file-text2'><use xlink:href='#icon-file-text2'></use></svg></label><input id='data-6ec506d4-23ea-4081-82f2-994cf514f86d' class='xr-var-data-in' type='checkbox'><label for='data-6ec506d4-23ea-4081-82f2-994cf514f86d' title='Show/Hide data repr'><svg class='icon xr-icon-database'><use xlink:href='#icon-database'></use></svg></label><div class='xr-var-attrs'><dl class='xr-attrs'><dt><span>long_name :</span></dt><dd>Specific heat of water</dd><dt><span>units :</span></dt><dd>J/kg/K</dd><dt><span>description :</span></dt><dd>Specific heat of water</dd></dl></div><div class='xr-var-data'><pre>array([[[  nan]],\n",
       "\n",
       "       [[4182.]]])</pre></div></li><li class='xr-var-item'><div class='xr-var-name'><span>emissivity_air</span></div><div class='xr-var-dims'>(year, x, y)</div><div class='xr-var-dtype'>float64</div><div class='xr-var-preview xr-preview'>nan 0.8053</div><input id='attrs-e3834368-93c3-4ec3-a196-601e2e0c84ec' class='xr-var-attrs-in' type='checkbox' ><label for='attrs-e3834368-93c3-4ec3-a196-601e2e0c84ec' title='Show/Hide attributes'><svg class='icon xr-icon-file-text2'><use xlink:href='#icon-file-text2'></use></svg></label><input id='data-4d980db8-b68f-48ab-ac8b-9c4eb53f1fee' class='xr-var-data-in' type='checkbox'><label for='data-4d980db8-b68f-48ab-ac8b-9c4eb53f1fee' title='Show/Hide data repr'><svg class='icon xr-icon-database'><use xlink:href='#icon-database'></use></svg></label><div class='xr-var-attrs'><dl class='xr-attrs'><dt><span>long_name :</span></dt><dd>Emissivity of air</dd><dt><span>units :</span></dt><dd>unitless</dd><dt><span>description :</span></dt><dd>Emissivity of air</dd></dl></div><div class='xr-var-data'><pre>array([[[      nan]],\n",
       "\n",
       "       [[0.8052839]]])</pre></div></li><li class='xr-var-item'><div class='xr-var-name'><span>wind_function</span></div><div class='xr-var-dims'>(year, x, y)</div><div class='xr-var-dtype'>float64</div><div class='xr-var-preview xr-preview'>nan 1.352e-07</div><input id='attrs-debc5d66-4e13-4908-9ae2-e99723825c54' class='xr-var-attrs-in' type='checkbox' ><label for='attrs-debc5d66-4e13-4908-9ae2-e99723825c54' title='Show/Hide attributes'><svg class='icon xr-icon-file-text2'><use xlink:href='#icon-file-text2'></use></svg></label><input id='data-12487ea0-5364-4232-b55a-e416e6ab6717' class='xr-var-data-in' type='checkbox'><label for='data-12487ea0-5364-4232-b55a-e416e6ab6717' title='Show/Hide data repr'><svg class='icon xr-icon-database'><use xlink:href='#icon-database'></use></svg></label><div class='xr-var-attrs'><dl class='xr-attrs'><dt><span>long_name :</span></dt><dd>Wind function</dd><dt><span>units :</span></dt><dd>unitless</dd><dt><span>description :</span></dt><dd>Wind function</dd></dl></div><div class='xr-var-data'><pre>array([[[           nan]],\n",
       "\n",
       "       [[1.35201254e-07]]])</pre></div></li><li class='xr-var-item'><div class='xr-var-name'><span>q_latent</span></div><div class='xr-var-dims'>(year, x, y)</div><div class='xr-var-dtype'>float64</div><div class='xr-var-preview xr-preview'>nan 3.1e+17</div><input id='attrs-210312f7-7f1e-4d06-a8eb-915e7f89f0dd' class='xr-var-attrs-in' type='checkbox' ><label for='attrs-210312f7-7f1e-4d06-a8eb-915e7f89f0dd' title='Show/Hide attributes'><svg class='icon xr-icon-file-text2'><use xlink:href='#icon-file-text2'></use></svg></label><input id='data-f5f7a72b-ae3a-44f3-b87f-9ee771137419' class='xr-var-data-in' type='checkbox'><label for='data-f5f7a72b-ae3a-44f3-b87f-9ee771137419' title='Show/Hide data repr'><svg class='icon xr-icon-database'><use xlink:href='#icon-database'></use></svg></label><div class='xr-var-attrs'><dl class='xr-attrs'><dt><span>long_name :</span></dt><dd>Latent heat flux</dd><dt><span>units :</span></dt><dd>W/m^2</dd><dt><span>description :</span></dt><dd>Latent heat flux</dd></dl></div><div class='xr-var-data'><pre>array([[[        nan]],\n",
       "\n",
       "       [[3.10038e+17]]])</pre></div></li><li class='xr-var-item'><div class='xr-var-name'><span>q_sensible</span></div><div class='xr-var-dims'>(year, x, y)</div><div class='xr-var-dtype'>float64</div><div class='xr-var-preview xr-preview'>nan 0.0</div><input id='attrs-81790d47-278f-4233-bc2f-d6e2446d3482' class='xr-var-attrs-in' type='checkbox' ><label for='attrs-81790d47-278f-4233-bc2f-d6e2446d3482' title='Show/Hide attributes'><svg class='icon xr-icon-file-text2'><use xlink:href='#icon-file-text2'></use></svg></label><input id='data-e0e9c407-287c-456b-8620-1d2d38968a8e' class='xr-var-data-in' type='checkbox'><label for='data-e0e9c407-287c-456b-8620-1d2d38968a8e' title='Show/Hide data repr'><svg class='icon xr-icon-database'><use xlink:href='#icon-database'></use></svg></label><div class='xr-var-attrs'><dl class='xr-attrs'><dt><span>long_name :</span></dt><dd>Sensible heat flux</dd><dt><span>units :</span></dt><dd>W/m^2</dd><dt><span>description :</span></dt><dd>Sensible heat flux</dd></dl></div><div class='xr-var-data'><pre>array([[[nan]],\n",
       "\n",
       "       [[ 0.]]])</pre></div></li><li class='xr-var-item'><div class='xr-var-name'><span>q_sediment</span></div><div class='xr-var-dims'>(year, x, y)</div><div class='xr-var-dtype'>float64</div><div class='xr-var-preview xr-preview'>nan -2.572e+03</div><input id='attrs-1dbf1a73-282e-49d8-ba2d-26ecc907a455' class='xr-var-attrs-in' type='checkbox' ><label for='attrs-1dbf1a73-282e-49d8-ba2d-26ecc907a455' title='Show/Hide attributes'><svg class='icon xr-icon-file-text2'><use xlink:href='#icon-file-text2'></use></svg></label><input id='data-69bc48fd-23ba-4550-a750-9007210cf71f' class='xr-var-data-in' type='checkbox'><label for='data-69bc48fd-23ba-4550-a750-9007210cf71f' title='Show/Hide data repr'><svg class='icon xr-icon-database'><use xlink:href='#icon-database'></use></svg></label><div class='xr-var-attrs'><dl class='xr-attrs'><dt><span>long_name :</span></dt><dd>Sediment heat flux</dd><dt><span>units :</span></dt><dd>W/m^2</dd><dt><span>description :</span></dt><dd>Sediment heat flux</dd></dl></div><div class='xr-var-data'><pre>array([[[           nan]],\n",
       "\n",
       "       [[-2571.50208333]]])</pre></div></li><li class='xr-var-item'><div class='xr-var-name'><span>dTdt_sediment_c</span></div><div class='xr-var-dims'>(year, x, y)</div><div class='xr-var-dtype'>float64</div><div class='xr-var-preview xr-preview'>nan 0.006001</div><input id='attrs-e1cd24c0-08c7-4fe5-99c9-85b2e4968878' class='xr-var-attrs-in' type='checkbox' ><label for='attrs-e1cd24c0-08c7-4fe5-99c9-85b2e4968878' title='Show/Hide attributes'><svg class='icon xr-icon-file-text2'><use xlink:href='#icon-file-text2'></use></svg></label><input id='data-e0e33f4a-7cd1-4071-9a04-19e2db36ec9a' class='xr-var-data-in' type='checkbox'><label for='data-e0e33f4a-7cd1-4071-9a04-19e2db36ec9a' title='Show/Hide data repr'><svg class='icon xr-icon-database'><use xlink:href='#icon-database'></use></svg></label><div class='xr-var-attrs'><dl class='xr-attrs'><dt><span>long_name :</span></dt><dd>Sediment temperature change</dd><dt><span>units :</span></dt><dd>degC</dd><dt><span>description :</span></dt><dd>Sediment temperature change</dd></dl></div><div class='xr-var-data'><pre>array([[[      nan]],\n",
       "\n",
       "       [[0.0060006]]])</pre></div></li><li class='xr-var-item'><div class='xr-var-name'><span>q_longwave_down</span></div><div class='xr-var-dims'>(year, x, y)</div><div class='xr-var-dtype'>float64</div><div class='xr-var-preview xr-preview'>nan 5.958e+10</div><input id='attrs-c0ea590c-1dfd-4066-9dc9-3205380565e7' class='xr-var-attrs-in' type='checkbox' ><label for='attrs-c0ea590c-1dfd-4066-9dc9-3205380565e7' title='Show/Hide attributes'><svg class='icon xr-icon-file-text2'><use xlink:href='#icon-file-text2'></use></svg></label><input id='data-c5f64479-5109-45c0-9407-70d448672708' class='xr-var-data-in' type='checkbox'><label for='data-c5f64479-5109-45c0-9407-70d448672708' title='Show/Hide data repr'><svg class='icon xr-icon-database'><use xlink:href='#icon-database'></use></svg></label><div class='xr-var-attrs'><dl class='xr-attrs'><dt><span>long_name :</span></dt><dd>Downwelling longwave radiation</dd><dt><span>units :</span></dt><dd>W/m2</dd><dt><span>description :</span></dt><dd>Downwelling longwave radiation</dd></dl></div><div class='xr-var-data'><pre>array([[[          nan]],\n",
       "\n",
       "       [[5.9580692e+10]]])</pre></div></li><li class='xr-var-item'><div class='xr-var-name'><span>q_longwave_up</span></div><div class='xr-var-dims'>(year, x, y)</div><div class='xr-var-dtype'>float64</div><div class='xr-var-preview xr-preview'>nan 7.386e+10</div><input id='attrs-a931f2cc-b21c-482e-b185-5b94c4780fc8' class='xr-var-attrs-in' type='checkbox' ><label for='attrs-a931f2cc-b21c-482e-b185-5b94c4780fc8' title='Show/Hide attributes'><svg class='icon xr-icon-file-text2'><use xlink:href='#icon-file-text2'></use></svg></label><input id='data-dc26bc66-596c-4b7a-8360-f36a2da6bac2' class='xr-var-data-in' type='checkbox'><label for='data-dc26bc66-596c-4b7a-8360-f36a2da6bac2' title='Show/Hide data repr'><svg class='icon xr-icon-database'><use xlink:href='#icon-database'></use></svg></label><div class='xr-var-attrs'><dl class='xr-attrs'><dt><span>long_name :</span></dt><dd>Upwelling longwave radiation</dd><dt><span>units :</span></dt><dd>W/m2</dd><dt><span>description :</span></dt><dd>Upwelling longwave radiation</dd></dl></div><div class='xr-var-data'><pre>array([[[          nan]],\n",
       "\n",
       "       [[7.3861624e+10]]])</pre></div></li><li class='xr-var-item'><div class='xr-var-name'><span>q_net</span></div><div class='xr-var-dims'>(year, x, y)</div><div class='xr-var-dtype'>float64</div><div class='xr-var-preview xr-preview'>nan -3.1e+17</div><input id='attrs-922d438d-6462-4e6b-aa3a-3a528b4a6bf3' class='xr-var-attrs-in' type='checkbox' ><label for='attrs-922d438d-6462-4e6b-aa3a-3a528b4a6bf3' title='Show/Hide attributes'><svg class='icon xr-icon-file-text2'><use xlink:href='#icon-file-text2'></use></svg></label><input id='data-c475d4c6-92bb-4d9e-bf2e-0bb83d205b07' class='xr-var-data-in' type='checkbox'><label for='data-c475d4c6-92bb-4d9e-bf2e-0bb83d205b07' title='Show/Hide data repr'><svg class='icon xr-icon-database'><use xlink:href='#icon-database'></use></svg></label><div class='xr-var-attrs'><dl class='xr-attrs'><dt><span>long_name :</span></dt><dd>Net heat flux</dd><dt><span>units :</span></dt><dd>W/m^2</dd><dt><span>description :</span></dt><dd>Net heat flux</dd></dl></div><div class='xr-var-data'><pre>array([[[            nan]],\n",
       "\n",
       "       [[-3.10038015e+17]]])</pre></div></li><li class='xr-var-item'><div class='xr-var-name'><span>dTdt_water_c</span></div><div class='xr-var-dims'>(year, x, y)</div><div class='xr-var-dtype'>float64</div><div class='xr-var-preview xr-preview'>nan -7.427e+10</div><input id='attrs-627b89e2-b52e-4f64-ad26-a4048a3d57a5' class='xr-var-attrs-in' type='checkbox' ><label for='attrs-627b89e2-b52e-4f64-ad26-a4048a3d57a5' title='Show/Hide attributes'><svg class='icon xr-icon-file-text2'><use xlink:href='#icon-file-text2'></use></svg></label><input id='data-34972906-6c81-43ac-9698-bad3f5e42f8a' class='xr-var-data-in' type='checkbox'><label for='data-34972906-6c81-43ac-9698-bad3f5e42f8a' title='Show/Hide data repr'><svg class='icon xr-icon-database'><use xlink:href='#icon-database'></use></svg></label><div class='xr-var-attrs'><dl class='xr-attrs'><dt><span>long_name :</span></dt><dd>Water temperature change</dd><dt><span>units :</span></dt><dd>degC</dd><dt><span>description :</span></dt><dd>Water temperature change</dd></dl></div><div class='xr-var-data'><pre>array([[[            nan]],\n",
       "\n",
       "       [[-7.42694906e+10]]])</pre></div></li></ul></div></li><li class='xr-section-item'><input id='section-37772420-5b15-40c6-87c4-3076fb2cdafa' class='xr-section-summary-in' type='checkbox'  ><label for='section-37772420-5b15-40c6-87c4-3076fb2cdafa' class='xr-section-summary' >Indexes: <span>(3)</span></label><div class='xr-section-inline-details'></div><div class='xr-section-details'><ul class='xr-var-list'><li class='xr-var-item'><div class='xr-index-name'><div>year</div></div><div class='xr-index-preview'>PandasIndex</div><div></div><input id='index-07f686e7-672c-42d7-9574-37edde43e080' class='xr-index-data-in' type='checkbox'/><label for='index-07f686e7-672c-42d7-9574-37edde43e080' title='Show/Hide index repr'><svg class='icon xr-icon-database'><use xlink:href='#icon-database'></use></svg></label><div class='xr-index-data'><pre>PandasIndex(Index([0, 1], dtype=&#x27;int32&#x27;, name=&#x27;year&#x27;))</pre></div></li><li class='xr-var-item'><div class='xr-index-name'><div>x</div></div><div class='xr-index-preview'>PandasIndex</div><div></div><input id='index-0e5e4d3a-3420-4106-bec3-a41280399a5e' class='xr-index-data-in' type='checkbox'/><label for='index-0e5e4d3a-3420-4106-bec3-a41280399a5e' title='Show/Hide index repr'><svg class='icon xr-icon-database'><use xlink:href='#icon-database'></use></svg></label><div class='xr-index-data'><pre>PandasIndex(Index([1.0], dtype=&#x27;float64&#x27;, name=&#x27;x&#x27;))</pre></div></li><li class='xr-var-item'><div class='xr-index-name'><div>y</div></div><div class='xr-index-preview'>PandasIndex</div><div></div><input id='index-57bb8d64-83f2-41d0-86ca-afad9ecbbc4d' class='xr-index-data-in' type='checkbox'/><label for='index-57bb8d64-83f2-41d0-86ca-afad9ecbbc4d' title='Show/Hide index repr'><svg class='icon xr-icon-database'><use xlink:href='#icon-database'></use></svg></label><div class='xr-index-data'><pre>PandasIndex(Index([1.0], dtype=&#x27;float64&#x27;, name=&#x27;y&#x27;))</pre></div></li></ul></div></li><li class='xr-section-item'><input id='section-9a1e08d4-1b16-4776-a188-ea5f3cf9e43d' class='xr-section-summary-in' type='checkbox' disabled ><label for='section-9a1e08d4-1b16-4776-a188-ea5f3cf9e43d' class='xr-section-summary'  title='Expand/collapse section'>Attributes: <span>(0)</span></label><div class='xr-section-inline-details'></div><div class='xr-section-details'><dl class='xr-attrs'></dl></div></li></ul></div></div>"
      ],
      "text/plain": [
       "<xarray.Dataset>\n",
       "Dimensions:            (year: 2, x: 1, y: 1)\n",
       "Coordinates:\n",
       "  * year               (year) int32 0 1\n",
       "  * x                  (x) float64 1.0\n",
       "  * y                  (y) float64 1.0\n",
       "Data variables: (12/52)\n",
       "    water_temp_c       (year, x, y) float64 20.0 -7.427e+10\n",
       "    surface_area       (year, x, y) int32 1 1\n",
       "    volume             (year, x, y) int32 1 1\n",
       "    use_sed_temp       (x, y) bool True\n",
       "    stefan_boltzmann   (x, y) int32 10\n",
       "    cp_air             (x, y) int32 1\n",
       "    ...                 ...\n",
       "    q_sediment         (year, x, y) float64 nan -2.572e+03\n",
       "    dTdt_sediment_c    (year, x, y) float64 nan 0.006001\n",
       "    q_longwave_down    (year, x, y) float64 nan 5.958e+10\n",
       "    q_longwave_up      (year, x, y) float64 nan 7.386e+10\n",
       "    q_net              (year, x, y) float64 nan -3.1e+17\n",
       "    dTdt_water_c       (year, x, y) float64 nan -7.427e+10"
      ]
     },
     "execution_count": 4,
     "metadata": {},
     "output_type": "execute_result"
    }
   ],
   "source": [
    "tsm_model.increment_timestep()\n",
    "tsm_model.dataset"
   ]
  },
  {
   "cell_type": "markdown",
   "id": "9b3b4c00-7a20-4446-bad9-e67577cddf87",
   "metadata": {},
   "source": [
    "## Next, use the `register_variable` decorator to add a few variables\n",
    "\n",
    "To do this, make a sub-class of `base.Variable` but with the decorator pointed at the model(s) you want to add the variables too. Note that the `models` argument of the decorator must be either a single sub-class of `base.Model`, or a list of them.\n",
    "\n",
    "Next, just write instances of the new `base.Variable` sub-class. Each variable's `use` attribute must be set to `static`, `dynamic`, and `state`. Read below about what this means / how you should split up your variables.\n",
    "\n",
    "Note that anything that needs to be calculated or input into a model should be encapsulated by a variable!"
   ]
  },
  {
   "cell_type": "code",
   "execution_count": 11,
   "id": "0b00f982-d1b8-46bd-8060-fe95799eab30",
   "metadata": {
    "tags": []
   },
   "outputs": [],
   "source": [
    "@cwm.base.register_variable(models=CarbonSequestration)\n",
    "class Variable(cwm.base.Variable):\n",
    "    ..."
   ]
  },
  {
   "cell_type": "code",
   "execution_count": 12,
   "id": "0775943a-06fc-4fbe-b3f0-f8605cab58f7",
   "metadata": {
    "tags": []
   },
   "outputs": [
    {
     "data": {
      "text/plain": [
       "['npp', 'carbon_content']"
      ]
     },
     "metadata": {},
     "output_type": "display_data"
    }
   ],
   "source": [
    "Variable(\n",
    "    name='npp',\n",
    "    long_name='Net Primary Productivity (NPP)',\n",
    "    units='g/m^2/year',\n",
    "    description='The annual average NPP of the forest ecosystem.',\n",
    "    use='static',\n",
    ")\n",
    "Variable(\n",
    "    name='carbon_content',\n",
    "    long_name='Carbon Content ratio',\n",
    "    units='ratio',\n",
    "    description='The fraction of NPP that is composed of carbon (usually around 50%, but it can vary).',\n",
    "    use='static',\n",
    ")\n",
    "\n",
    "# display the variables we have registered so far\n",
    "display(CarbonSequestration.get_variable_names())"
   ]
  },
  {
   "cell_type": "markdown",
   "id": "da67c500-7980-4241-acda-cbcc746608ab",
   "metadata": {},
   "source": [
    "### Add our static variables\n",
    "\n",
    "**Working Definition:** Static variables are any variables that will not change across the course of a simulation, regardless of how many time-steps are run.\n",
    "\n",
    "Note that one can update static variables if they really want to by re-initializing the model class and providing new static variable inputs.\n",
    "\n",
    "Here we will use the following static variables:\n",
    "1. **Net Primary Productivity (NPP)**: The average annual NPP of the forest ecosystem (g/m²/year).\n",
    "2. **Carbon Content**: The fraction of NPP that is composed of carbon (usually around 50%, but it can vary)."
   ]
  },
  {
   "cell_type": "markdown",
   "id": "619d0f25-5048-4b50-a3f6-d36b468abb77",
   "metadata": {},
   "source": [
    "### Add our dynamic variables\n",
    "\n",
    "**Working Definition:** Dynamic variables are any intermediate variable calculation that don't need to be passed to the next timestep. All dynamic variables need to be associated with a function via the optional `Variable.process` attribute. This \"process\" function is used to calculate them. **Importantly, the arguments of said function should match the variable names that will be passed in!**\n",
    "\n",
    "In this simple example we will have only one dynamic variable:\n",
    "1. **Annual carbon sequestration** (delta_C_annual):\n",
    "\n",
    "   `delta_C_annual = npp * carbon_content * forest_area`"
   ]
  },
  {
   "cell_type": "code",
   "execution_count": null,
   "id": "f622cae1-4e0b-493e-8458-d441f5d125a2",
   "metadata": {
    "tags": []
   },
   "outputs": [],
   "source": [
    "@numba.njit\n",
    "def delta_C_annual(\n",
    "    npp: float,\n",
    "    carbon_content: float,\n",
    "    forest_area: float,\n",
    ") -> float:\n",
    "    return npp * carbon_content * forest_area"
   ]
  },
  {
   "cell_type": "code",
   "execution_count": null,
   "id": "774efcc3-3a9a-4f74-a1a9-3663daf21dd5",
   "metadata": {
    "tags": []
   },
   "outputs": [],
   "source": [
    "Variable(\n",
    "    name='delta_C_annual',\n",
    "    long_name='Annual Carbon Delta',\n",
    "    units='g',\n",
    "    description='Annual change in forest carbon content',\n",
    "    use='dynamic',\n",
    "    process=delta_C_annual,\n",
    ")\n",
    "\n",
    "# display the variables we have registered so far\n",
    "display(CarbonSequestration.get_variable_names())"
   ]
  },
  {
   "cell_type": "markdown",
   "id": "5af6cb2f-50c4-4cd9-91a9-a8d159595df9",
   "metadata": {},
   "source": [
    "### Add our state variable\n",
    "\n",
    "**Working Definition:** A state variable is the main input/output to each timestep. Notably, it can be updated between timesteps to allow interaction with other models. Our model needs to be initialized with state variable values, and no matter what settings are used in initialization, the state variable is stored in our main dataset (keep reading to see this).\n",
    "\n",
    "Our state variable is the total carbon stock of the forest, which is updated each year:\n",
    "1. **Total carbon stock** (C_total):\n",
    "\n",
    "    `C_total = C_total + delta_C_annual`\n",
    "    \n",
    "State variables also require a process function."
   ]
  },
  {
   "cell_type": "code",
   "execution_count": null,
   "id": "ac6f26ee-56d2-493f-9478-01407020b34c",
   "metadata": {
    "tags": []
   },
   "outputs": [],
   "source": [
    "@numba.njit\n",
    "def C_total(\n",
    "    C_total: float,\n",
    "    delta_C_annual: float,\n",
    ") -> float:\n",
    "    return C_total + delta_C_annual"
   ]
  },
  {
   "cell_type": "code",
   "execution_count": null,
   "id": "b8b9ba47-3c9a-4b8f-92b0-7a44182d7813",
   "metadata": {
    "tags": []
   },
   "outputs": [],
   "source": [
    "Variable(\n",
    "    name='C_total',\n",
    "    long_name='Carbon total',\n",
    "    units='g',\n",
    "    description='Total forest carbon content',\n",
    "    use='state',\n",
    "    process=C_total,\n",
    ")\n",
    "\n",
    "Variable(\n",
    "    name='forest_area',\n",
    "    long_name='Area of the forest',\n",
    "    units='m^2',\n",
    "    description='Area of the forest, may change year by year with deforestation.',\n",
    "    use='state',\n",
    "    process=forest_area,\n",
    ")\n",
    "\n",
    "# display the variables we have registered so far\n",
    "display(CarbonSequestration.get_variable_names())"
   ]
  },
  {
   "cell_type": "code",
   "execution_count": null,
   "id": "98b447fb-65fa-46bf-a52c-4a4b1390ba08",
   "metadata": {
    "tags": []
   },
   "outputs": [],
   "source": [
    "# for state variables we can see them before initialization\n",
    "display(CarbonSequestration.get_state_variables())"
   ]
  },
  {
   "cell_type": "markdown",
   "id": "95d04864-2b19-4081-a688-f6729b37a8fd",
   "metadata": {},
   "source": [
    "## Now let's instantiate our new model\n",
    "\n",
    "To instantiate a model we need to pass in a dictionary with our initial state variable values, any non-default changes to our static variables, and any other optional config settings."
   ]
  },
  {
   "cell_type": "code",
   "execution_count": null,
   "id": "f489f488-42e6-4e1d-b403-01ebf5738582",
   "metadata": {
    "tags": []
   },
   "outputs": [],
   "source": [
    "initial_state_values = {'C_total': 1000, 'forest_area': 1000}\n",
    "static_variable_values = {\n",
    "    'carbon_content': 0.5,\n",
    "    'npp': 10,\n",
    "}\n",
    "\n",
    "carbon_model = CarbonSequestration(\n",
    "    initial_state_values=initial_state_values,  # mandatory\n",
    "    static_variable_values=static_variable_values,  # mandatory/optional depending on defaults\n",
    "    track_dynamic_variables=True,  # default is true\n",
    "    hotstart_dataset=None,  # default is None\n",
    "    time_dim='year',  # default is \"timestep\"\n",
    ")"
   ]
  },
  {
   "cell_type": "markdown",
   "id": "f058c597-d808-4c1f-8c57-249ee0ba859f",
   "metadata": {
    "tags": []
   },
   "source": [
    "### All instantiated models have static, dynamic, and state variable properties"
   ]
  },
  {
   "cell_type": "code",
   "execution_count": null,
   "id": "b9316ecd-5372-4eab-8d0c-87c80c20ce90",
   "metadata": {
    "tags": []
   },
   "outputs": [],
   "source": [
    "display(carbon_model.state_variables)"
   ]
  },
  {
   "cell_type": "code",
   "execution_count": null,
   "id": "c131bccf-eb39-4abf-8e35-cfb6027c8df6",
   "metadata": {
    "tags": []
   },
   "outputs": [],
   "source": [
    "display(carbon_model.static_variables)"
   ]
  },
  {
   "cell_type": "code",
   "execution_count": null,
   "id": "37e64e74-9ec2-4d43-83ff-0f2bfdac7445",
   "metadata": {
    "tags": []
   },
   "outputs": [],
   "source": [
    "display(carbon_model.dynamic_variables)"
   ]
  },
  {
   "cell_type": "markdown",
   "id": "97639e68-ffcc-4d53-b315-4c79ce873139",
   "metadata": {
    "tags": []
   },
   "source": [
    "### One can access their \"computation order\" which is calculated using a \"dependency tree\" approach in `sorter.py`"
   ]
  },
  {
   "cell_type": "code",
   "execution_count": null,
   "id": "188344ee-ff6a-4ee0-8cde-cf0ab7817735",
   "metadata": {
    "tags": []
   },
   "outputs": [],
   "source": [
    "carbon_model.computation_order"
   ]
  },
  {
   "cell_type": "code",
   "execution_count": null,
   "id": "a2bbcfe5-5c23-4224-a505-f1fb79c2e661",
   "metadata": {
    "tags": []
   },
   "outputs": [],
   "source": [
    "print('Variable | Inputs\\n------------------')\n",
    "for i in carbon_model.computation_order:\n",
    "    print(f'{i.name} | {sorter.get_process_args(i.process)}')"
   ]
  },
  {
   "cell_type": "markdown",
   "id": "5be835a7-8a2b-4200-a962-e24147aa2e35",
   "metadata": {},
   "source": [
    "### Data is stored in `self.dataset`"
   ]
  },
  {
   "cell_type": "code",
   "execution_count": null,
   "id": "2897c1a4-520f-4a31-928e-038756da36af",
   "metadata": {
    "tags": []
   },
   "outputs": [],
   "source": [
    "carbon_model.dataset"
   ]
  },
  {
   "cell_type": "markdown",
   "id": "a7f8dabd-1f2b-4610-8280-29be9f18b016",
   "metadata": {},
   "source": [
    "## Running a timestep\n",
    "All timesteps can be run independently. Optionally, one can update the state values with a float or a `xarray.DataArray`."
   ]
  },
  {
   "cell_type": "code",
   "execution_count": null,
   "id": "09bb7808-dbca-4508-ba86-b0cb23b8f5e8",
   "metadata": {
    "tags": []
   },
   "outputs": [],
   "source": [
    "carbon_model.increment_timestep()\n",
    "carbon_model.dataset"
   ]
  },
  {
   "cell_type": "markdown",
   "id": "b824cec0-7385-4b21-937e-64af96bb10b7",
   "metadata": {},
   "source": [
    "## Running a loop of timesteps\n",
    "\n",
    "Here we run 100 years of our model with the following hypothetical:\n",
    "* For the first 50 years deforestation reduces forest area incrementally.\n",
    "* 50 years in, a program begins that ends deforestation, and the forest grows back incrementally.\n",
    "\n",
    "**This demonstrates how we can update state variables to interact with other models!**"
   ]
  },
  {
   "cell_type": "code",
   "execution_count": null,
   "id": "aec534de-846d-40d8-9d25-e4cf2e24c1b1",
   "metadata": {
    "tags": []
   },
   "outputs": [],
   "source": [
    "%%time\n",
    "for i in range(100):\n",
    "    forest_area_change = random.uniform(0.0, 25)\n",
    "    if i < 50:\n",
    "        forest_area_change = -forest_area_change\n",
    "    new_forest_area = (carbon_model.dataset.forest_area + forest_area_change).isel(year=-1)\n",
    "    carbon_model.increment_timestep(update_state_values={'forest_area': new_forest_area})\n",
    "carbon_model.dataset"
   ]
  },
  {
   "cell_type": "code",
   "execution_count": null,
   "id": "6b35b04a-9dfa-4af1-a7d3-f13e84019c3b",
   "metadata": {
    "tags": []
   },
   "outputs": [],
   "source": [
    "carbon_model.dataset.hvplot(x='year', y='delta_C_annual', title='delta_C_annual')"
   ]
  },
  {
   "cell_type": "code",
   "execution_count": null,
   "id": "49e9cb85-9d90-49c1-a308-dcb31a6f6092",
   "metadata": {
    "tags": []
   },
   "outputs": [],
   "source": [
    "carbon_model.dataset.hvplot(x='year', y='C_total', title='C_total')"
   ]
  },
  {
   "cell_type": "markdown",
   "id": "be48713d-1170-4195-b95d-35ee1c99dd3d",
   "metadata": {
    "tags": []
   },
   "source": [
    "# TSM `EnergyBudget` Example\n",
    "\n",
    "Now that we understand how the code architecture works, we can explore a real example."
   ]
  },
  {
   "cell_type": "code",
   "execution_count": null,
   "id": "d02e421d-e478-4c14-b08b-fbd8ffc82a5d",
   "metadata": {
    "tags": []
   },
   "outputs": [],
   "source": [
    "from clearwater_modules.tsm.model import EnergyBudget"
   ]
  },
  {
   "cell_type": "code",
   "execution_count": null,
   "id": "a963a7f9",
   "metadata": {
    "tags": []
   },
   "outputs": [],
   "source": [
    "# Confirm that sub-modules are imported\n",
    "dir(cwm.tsm)"
   ]
  },
  {
   "cell_type": "markdown",
   "id": "28e4266d-424e-47dc-bc26-5c2e66819b0a",
   "metadata": {
    "tags": []
   },
   "source": [
    "## Start by instantiating a `EnergyBudget`\n",
    "\n",
    "Initial state variable values are always required. To see the names/info of a model's state variables, we can use `Model.get_state_variables()`."
   ]
  },
  {
   "cell_type": "code",
   "execution_count": null,
   "id": "f6942a19-df9c-48c7-afc3-37e98d44c0d0",
   "metadata": {
    "tags": []
   },
   "outputs": [],
   "source": [
    "EnergyBudget.get_state_variables()"
   ]
  },
  {
   "cell_type": "code",
   "execution_count": null,
   "id": "be877b70-073a-4877-af10-c1ad3c386165",
   "metadata": {
    "tags": []
   },
   "outputs": [],
   "source": [
    "initial_state_values = {\n",
    "    'water_temp_c': 1.0,\n",
    "    'volume': 1.0,\n",
    "    'surface_area': 1.0,\n",
    "}"
   ]
  },
  {
   "cell_type": "code",
   "execution_count": null,
   "id": "299d062c-b981-45e6-a437-156c4a3d8388",
   "metadata": {
    "tags": []
   },
   "outputs": [],
   "source": [
    "my_model = EnergyBudget(\n",
    "    initial_state_values,\n",
    "    time_dim='my_time_step',\n",
    ")\n",
    "my_model"
   ]
  },
  {
   "cell_type": "code",
   "execution_count": null,
   "id": "5ee305a3-5990-47aa-885e-2771dda9fa5f",
   "metadata": {
    "tags": []
   },
   "outputs": [],
   "source": [
    "[i for i in dir(my_model) if i[0] != '_']"
   ]
  },
  {
   "cell_type": "markdown",
   "id": "825e288f-b51a-4590-91f0-dd706c118725",
   "metadata": {},
   "source": [
    "## TSM can be initialized with alternative met/temp parameter\n",
    "**This is an example of a model specific `__init__`**. As of now we are using the defaults."
   ]
  },
  {
   "cell_type": "code",
   "execution_count": null,
   "id": "ac36bc9f-aa8f-4e35-946e-1c69f32a3d27",
   "metadata": {
    "tags": []
   },
   "outputs": [],
   "source": [
    "my_model.met_parameters"
   ]
  },
  {
   "cell_type": "code",
   "execution_count": null,
   "id": "7411afa5-83ac-4ff7-9e95-a73a4d3a2aa8",
   "metadata": {
    "tags": []
   },
   "outputs": [],
   "source": [
    "my_model.temp_parameters"
   ]
  },
  {
   "cell_type": "code",
   "execution_count": null,
   "id": "a8da8894-a6ad-42dc-9618-dc899a1525ea",
   "metadata": {
    "tags": []
   },
   "outputs": [],
   "source": [
    "my_model.time_dim"
   ]
  },
  {
   "cell_type": "markdown",
   "id": "f74682c6-096c-4f41-b929-09027a6e335d",
   "metadata": {},
   "source": [
    "## All models have static, dynamic, and state variables"
   ]
  },
  {
   "cell_type": "code",
   "execution_count": null,
   "id": "2d0c2856-9012-4ebb-bb23-457f209c4e0f",
   "metadata": {
    "tags": []
   },
   "outputs": [],
   "source": [
    "display(my_model.static_variables)"
   ]
  },
  {
   "cell_type": "code",
   "execution_count": null,
   "id": "8f082754-055e-4c58-af74-2e2c73a023fb",
   "metadata": {
    "tags": []
   },
   "outputs": [],
   "source": [
    "display(my_model.dynamic_variables)"
   ]
  },
  {
   "cell_type": "markdown",
   "id": "7e672a66-3649-4d49-9616-232959fc3d40",
   "metadata": {},
   "source": [
    "## One can access their \"computation order\" which is calculated using a \"dependency tree\" approach in `sorter.py`"
   ]
  },
  {
   "cell_type": "code",
   "execution_count": null,
   "id": "301e91eb-fb88-468d-9a5c-5baba31cd21f",
   "metadata": {
    "tags": []
   },
   "outputs": [],
   "source": [
    "my_model.computation_order"
   ]
  },
  {
   "cell_type": "code",
   "execution_count": null,
   "id": "aca8eace-0ee4-4a3f-bb82-e3794098dbf5",
   "metadata": {
    "tags": []
   },
   "outputs": [],
   "source": [
    "for i in my_model.computation_order:\n",
    "    print(f'{i.name} | {sorter.get_process_args(i.process)}')"
   ]
  },
  {
   "cell_type": "markdown",
   "id": "f5b2234a-38b5-4ffc-a180-cf126be22544",
   "metadata": {},
   "source": [
    "## Run 5 timesteps"
   ]
  },
  {
   "cell_type": "code",
   "execution_count": null,
   "id": "aa7f69c8-d45d-4119-a353-7655327dcdb6",
   "metadata": {
    "tags": []
   },
   "outputs": [],
   "source": [
    "TIME_STEPS = 5"
   ]
  },
  {
   "cell_type": "code",
   "execution_count": null,
   "id": "bb7f2291-3df9-4464-b256-45abc8b225d0",
   "metadata": {
    "tags": []
   },
   "outputs": [],
   "source": [
    "@numba.jit(forceobj=True)\n",
    "def run_n_timesteps(time_steps: int, model: EnergyBudget):\n",
    "    for i in range(time_steps):\n",
    "        model.increment_timestep()"
   ]
  },
  {
   "cell_type": "code",
   "execution_count": null,
   "id": "b4ed28c4-301f-4fd2-9e70-e443b4ef909a",
   "metadata": {
    "tags": []
   },
   "outputs": [],
   "source": [
    "%%time\n",
    "run_n_timesteps(TIME_STEPS, my_model)"
   ]
  },
  {
   "cell_type": "code",
   "execution_count": null,
   "id": "df2bd00b-4dc0-4f1f-b527-c537c72a454a",
   "metadata": {
    "tags": []
   },
   "outputs": [],
   "source": [
    "my_model.dataset"
   ]
  }
 ],
 "metadata": {
  "kernelspec": {
   "display_name": "Python 3 (ipykernel)",
   "language": "python",
   "name": "python3"
  },
  "language_info": {
   "codemirror_mode": {
    "name": "ipython",
    "version": 3
   },
   "file_extension": ".py",
   "mimetype": "text/x-python",
   "name": "python",
   "nbconvert_exporter": "python",
   "pygments_lexer": "ipython3",
   "version": "3.11.6"
  },
  "toc-autonumbering": true
 },
 "nbformat": 4,
 "nbformat_minor": 5
}
