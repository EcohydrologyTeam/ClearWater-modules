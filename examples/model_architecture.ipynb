{
 "cells": [
  {
   "cell_type": "markdown",
   "id": "25bd6ed5-3bd1-4592-a813-5958221d5a21",
   "metadata": {
    "tags": []
   },
   "source": [
    "# Clearwater Modules Architecture\n",
    "\n",
    "**Author:** Xavier Nogueira"
   ]
  },
  {
   "cell_type": "markdown",
   "id": "95a96e20",
   "metadata": {},
   "source": [
    "# Installation and Setup"
   ]
  },
  {
   "cell_type": "markdown",
   "id": "80133cfc",
   "metadata": {},
   "source": [
    "## Install\n",
    "\n",
    "Carefully follow our **[Installation Instructions](README.md#getting-started)**, especially including:\n",
    "- Creating a virtual environment for this repository (step 3)"
   ]
  },
  {
   "cell_type": "markdown",
   "id": "f73cfdf5",
   "metadata": {},
   "source": [
    "## Import Python Dependancies"
   ]
  },
  {
   "cell_type": "code",
   "execution_count": 1,
   "id": "663a1e5a-4311-42e7-babc-6e254a5ff9cf",
   "metadata": {
    "tags": []
   },
   "outputs": [
    {
     "data": {
      "application/javascript": "(function(root) {\n  function now() {\n    return new Date();\n  }\n\n  var force = true;\n  var py_version = '3.2.2'.replace('rc', '-rc.').replace('.dev', '-dev.');\n  var is_dev = py_version.indexOf(\"+\") !== -1 || py_version.indexOf(\"-\") !== -1;\n  var reloading = false;\n  var Bokeh = root.Bokeh;\n  var bokeh_loaded = Bokeh != null && (Bokeh.version === py_version || (Bokeh.versions !== undefined && Bokeh.versions.has(py_version)));\n\n  if (typeof (root._bokeh_timeout) === \"undefined\" || force) {\n    root._bokeh_timeout = Date.now() + 5000;\n    root._bokeh_failed_load = false;\n  }\n\n  function run_callbacks() {\n    try {\n      root._bokeh_onload_callbacks.forEach(function(callback) {\n        if (callback != null)\n          callback();\n      });\n    } finally {\n      delete root._bokeh_onload_callbacks;\n    }\n    console.debug(\"Bokeh: all callbacks have finished\");\n  }\n\n  function load_libs(css_urls, js_urls, js_modules, js_exports, callback) {\n    if (css_urls == null) css_urls = [];\n    if (js_urls == null) js_urls = [];\n    if (js_modules == null) js_modules = [];\n    if (js_exports == null) js_exports = {};\n\n    root._bokeh_onload_callbacks.push(callback);\n\n    if (root._bokeh_is_loading > 0) {\n      console.debug(\"Bokeh: BokehJS is being loaded, scheduling callback at\", now());\n      return null;\n    }\n    if (js_urls.length === 0 && js_modules.length === 0 && Object.keys(js_exports).length === 0) {\n      run_callbacks();\n      return null;\n    }\n    if (!reloading) {\n      console.debug(\"Bokeh: BokehJS not loaded, scheduling load and callback at\", now());\n    }\n\n    function on_load() {\n      root._bokeh_is_loading--;\n      if (root._bokeh_is_loading === 0) {\n        console.debug(\"Bokeh: all BokehJS libraries/stylesheets loaded\");\n        run_callbacks()\n      }\n    }\n    window._bokeh_on_load = on_load\n\n    function on_error() {\n      console.error(\"failed to load \" + url);\n    }\n\n    var skip = [];\n    if (window.requirejs) {\n      window.requirejs.config({'packages': {}, 'paths': {'jspanel': 'https://cdn.jsdelivr.net/npm/jspanel4@4.12.0/dist/jspanel', 'jspanel-modal': 'https://cdn.jsdelivr.net/npm/jspanel4@4.12.0/dist/extensions/modal/jspanel.modal', 'jspanel-tooltip': 'https://cdn.jsdelivr.net/npm/jspanel4@4.12.0/dist/extensions/tooltip/jspanel.tooltip', 'jspanel-hint': 'https://cdn.jsdelivr.net/npm/jspanel4@4.12.0/dist/extensions/hint/jspanel.hint', 'jspanel-layout': 'https://cdn.jsdelivr.net/npm/jspanel4@4.12.0/dist/extensions/layout/jspanel.layout', 'jspanel-contextmenu': 'https://cdn.jsdelivr.net/npm/jspanel4@4.12.0/dist/extensions/contextmenu/jspanel.contextmenu', 'jspanel-dock': 'https://cdn.jsdelivr.net/npm/jspanel4@4.12.0/dist/extensions/dock/jspanel.dock', 'gridstack': 'https://cdn.jsdelivr.net/npm/gridstack@7.2.3/dist/gridstack-all', 'notyf': 'https://cdn.jsdelivr.net/npm/notyf@3/notyf.min'}, 'shim': {'jspanel': {'exports': 'jsPanel'}, 'gridstack': {'exports': 'GridStack'}}});\n      require([\"jspanel\"], function(jsPanel) {\n\twindow.jsPanel = jsPanel\n\ton_load()\n      })\n      require([\"jspanel-modal\"], function() {\n\ton_load()\n      })\n      require([\"jspanel-tooltip\"], function() {\n\ton_load()\n      })\n      require([\"jspanel-hint\"], function() {\n\ton_load()\n      })\n      require([\"jspanel-layout\"], function() {\n\ton_load()\n      })\n      require([\"jspanel-contextmenu\"], function() {\n\ton_load()\n      })\n      require([\"jspanel-dock\"], function() {\n\ton_load()\n      })\n      require([\"gridstack\"], function(GridStack) {\n\twindow.GridStack = GridStack\n\ton_load()\n      })\n      require([\"notyf\"], function() {\n\ton_load()\n      })\n      root._bokeh_is_loading = css_urls.length + 9;\n    } else {\n      root._bokeh_is_loading = css_urls.length + js_urls.length + js_modules.length + Object.keys(js_exports).length;\n    }\n\n    var existing_stylesheets = []\n    var links = document.getElementsByTagName('link')\n    for (var i = 0; i < links.length; i++) {\n      var link = links[i]\n      if (link.href != null) {\n\texisting_stylesheets.push(link.href)\n      }\n    }\n    for (var i = 0; i < css_urls.length; i++) {\n      var url = css_urls[i];\n      if (existing_stylesheets.indexOf(url) !== -1) {\n\ton_load()\n\tcontinue;\n      }\n      const element = document.createElement(\"link\");\n      element.onload = on_load;\n      element.onerror = on_error;\n      element.rel = \"stylesheet\";\n      element.type = \"text/css\";\n      element.href = url;\n      console.debug(\"Bokeh: injecting link tag for BokehJS stylesheet: \", url);\n      document.body.appendChild(element);\n    }    if (((window['jsPanel'] !== undefined) && (!(window['jsPanel'] instanceof HTMLElement))) || window.requirejs) {\n      var urls = ['https://cdn.holoviz.org/panel/1.2.3/dist/bundled/floatpanel/jspanel4@4.12.0/dist/jspanel.js', 'https://cdn.holoviz.org/panel/1.2.3/dist/bundled/floatpanel/jspanel4@4.12.0/dist/extensions/modal/jspanel.modal.js', 'https://cdn.holoviz.org/panel/1.2.3/dist/bundled/floatpanel/jspanel4@4.12.0/dist/extensions/tooltip/jspanel.tooltip.js', 'https://cdn.holoviz.org/panel/1.2.3/dist/bundled/floatpanel/jspanel4@4.12.0/dist/extensions/hint/jspanel.hint.js', 'https://cdn.holoviz.org/panel/1.2.3/dist/bundled/floatpanel/jspanel4@4.12.0/dist/extensions/layout/jspanel.layout.js', 'https://cdn.holoviz.org/panel/1.2.3/dist/bundled/floatpanel/jspanel4@4.12.0/dist/extensions/contextmenu/jspanel.contextmenu.js', 'https://cdn.holoviz.org/panel/1.2.3/dist/bundled/floatpanel/jspanel4@4.12.0/dist/extensions/dock/jspanel.dock.js'];\n      for (var i = 0; i < urls.length; i++) {\n        skip.push(urls[i])\n      }\n    }    if (((window['GridStack'] !== undefined) && (!(window['GridStack'] instanceof HTMLElement))) || window.requirejs) {\n      var urls = ['https://cdn.holoviz.org/panel/1.2.3/dist/bundled/gridstack/gridstack@7.2.3/dist/gridstack-all.js'];\n      for (var i = 0; i < urls.length; i++) {\n        skip.push(urls[i])\n      }\n    }    if (((window['Notyf'] !== undefined) && (!(window['Notyf'] instanceof HTMLElement))) || window.requirejs) {\n      var urls = ['https://cdn.holoviz.org/panel/1.2.3/dist/bundled/notificationarea/notyf@3/notyf.min.js'];\n      for (var i = 0; i < urls.length; i++) {\n        skip.push(urls[i])\n      }\n    }    var existing_scripts = []\n    var scripts = document.getElementsByTagName('script')\n    for (var i = 0; i < scripts.length; i++) {\n      var script = scripts[i]\n      if (script.src != null) {\n\texisting_scripts.push(script.src)\n      }\n    }\n    for (var i = 0; i < js_urls.length; i++) {\n      var url = js_urls[i];\n      if (skip.indexOf(url) !== -1 || existing_scripts.indexOf(url) !== -1) {\n\tif (!window.requirejs) {\n\t  on_load();\n\t}\n\tcontinue;\n      }\n      var element = document.createElement('script');\n      element.onload = on_load;\n      element.onerror = on_error;\n      element.async = false;\n      element.src = url;\n      console.debug(\"Bokeh: injecting script tag for BokehJS library: \", url);\n      document.head.appendChild(element);\n    }\n    for (var i = 0; i < js_modules.length; i++) {\n      var url = js_modules[i];\n      if (skip.indexOf(url) !== -1 || existing_scripts.indexOf(url) !== -1) {\n\tif (!window.requirejs) {\n\t  on_load();\n\t}\n\tcontinue;\n      }\n      var element = document.createElement('script');\n      element.onload = on_load;\n      element.onerror = on_error;\n      element.async = false;\n      element.src = url;\n      element.type = \"module\";\n      console.debug(\"Bokeh: injecting script tag for BokehJS library: \", url);\n      document.head.appendChild(element);\n    }\n    for (const name in js_exports) {\n      var url = js_exports[name];\n      if (skip.indexOf(url) >= 0 || root[name] != null) {\n\tif (!window.requirejs) {\n\t  on_load();\n\t}\n\tcontinue;\n      }\n      var element = document.createElement('script');\n      element.onerror = on_error;\n      element.async = false;\n      element.type = \"module\";\n      console.debug(\"Bokeh: injecting script tag for BokehJS library: \", url);\n      element.textContent = `\n      import ${name} from \"${url}\"\n      window.${name} = ${name}\n      window._bokeh_on_load()\n      `\n      document.head.appendChild(element);\n    }\n    if (!js_urls.length && !js_modules.length) {\n      on_load()\n    }\n  };\n\n  function inject_raw_css(css) {\n    const element = document.createElement(\"style\");\n    element.appendChild(document.createTextNode(css));\n    document.body.appendChild(element);\n  }\n\n  var js_urls = [\"https://cdn.bokeh.org/bokeh/release/bokeh-3.2.2.min.js\", \"https://cdn.bokeh.org/bokeh/release/bokeh-gl-3.2.2.min.js\", \"https://cdn.bokeh.org/bokeh/release/bokeh-widgets-3.2.2.min.js\", \"https://cdn.bokeh.org/bokeh/release/bokeh-tables-3.2.2.min.js\", \"https://cdn.holoviz.org/panel/1.2.3/dist/panel.min.js\"];\n  var js_modules = [];\n  var js_exports = {};\n  var css_urls = [];\n  var inline_js = [    function(Bokeh) {\n      Bokeh.set_log_level(\"info\");\n    },\nfunction(Bokeh) {} // ensure no trailing comma for IE\n  ];\n\n  function run_inline_js() {\n    if ((root.Bokeh !== undefined) || (force === true)) {\n      for (var i = 0; i < inline_js.length; i++) {\n        inline_js[i].call(root, root.Bokeh);\n      }\n      // Cache old bokeh versions\n      if (Bokeh != undefined && !reloading) {\n\tvar NewBokeh = root.Bokeh;\n\tif (Bokeh.versions === undefined) {\n\t  Bokeh.versions = new Map();\n\t}\n\tif (NewBokeh.version !== Bokeh.version) {\n\t  Bokeh.versions.set(NewBokeh.version, NewBokeh)\n\t}\n\troot.Bokeh = Bokeh;\n      }} else if (Date.now() < root._bokeh_timeout) {\n      setTimeout(run_inline_js, 100);\n    } else if (!root._bokeh_failed_load) {\n      console.log(\"Bokeh: BokehJS failed to load within specified timeout.\");\n      root._bokeh_failed_load = true;\n    }\n    root._bokeh_is_initializing = false\n  }\n\n  function load_or_wait() {\n    // Implement a backoff loop that tries to ensure we do not load multiple\n    // versions of Bokeh and its dependencies at the same time.\n    // In recent versions we use the root._bokeh_is_initializing flag\n    // to determine whether there is an ongoing attempt to initialize\n    // bokeh, however for backward compatibility we also try to ensure\n    // that we do not start loading a newer (Panel>=1.0 and Bokeh>3) version\n    // before older versions are fully initialized.\n    if (root._bokeh_is_initializing && Date.now() > root._bokeh_timeout) {\n      root._bokeh_is_initializing = false;\n      root._bokeh_onload_callbacks = undefined;\n      console.log(\"Bokeh: BokehJS was loaded multiple times but one version failed to initialize.\");\n      load_or_wait();\n    } else if (root._bokeh_is_initializing || (typeof root._bokeh_is_initializing === \"undefined\" && root._bokeh_onload_callbacks !== undefined)) {\n      setTimeout(load_or_wait, 100);\n    } else {\n      Bokeh = root.Bokeh;\n      bokeh_loaded = Bokeh != null && (Bokeh.version === py_version || (Bokeh.versions !== undefined && Bokeh.versions.has(py_version)));\n      root._bokeh_is_initializing = true\n      root._bokeh_onload_callbacks = []\n      if (!reloading && (!bokeh_loaded || is_dev)) {\n\troot.Bokeh = undefined;\n      }\n      load_libs(css_urls, js_urls, js_modules, js_exports, function() {\n\tconsole.debug(\"Bokeh: BokehJS plotting callback run at\", now());\n\trun_inline_js();\n      });\n    }\n  }\n  // Give older versions of the autoload script a head-start to ensure\n  // they initialize before we start loading newer version.\n  setTimeout(load_or_wait, 100)\n}(window));",
      "application/vnd.holoviews_load.v0+json": ""
     },
     "metadata": {},
     "output_type": "display_data"
    },
    {
     "data": {
      "application/javascript": "\nif ((window.PyViz === undefined) || (window.PyViz instanceof HTMLElement)) {\n  window.PyViz = {comms: {}, comm_status:{}, kernels:{}, receivers: {}, plot_index: []}\n}\n\n\n    function JupyterCommManager() {\n    }\n\n    JupyterCommManager.prototype.register_target = function(plot_id, comm_id, msg_handler) {\n      if (window.comm_manager || ((window.Jupyter !== undefined) && (Jupyter.notebook.kernel != null))) {\n        var comm_manager = window.comm_manager || Jupyter.notebook.kernel.comm_manager;\n        comm_manager.register_target(comm_id, function(comm) {\n          comm.on_msg(msg_handler);\n        });\n      } else if ((plot_id in window.PyViz.kernels) && (window.PyViz.kernels[plot_id])) {\n        window.PyViz.kernels[plot_id].registerCommTarget(comm_id, function(comm) {\n          comm.onMsg = msg_handler;\n        });\n      } else if (typeof google != 'undefined' && google.colab.kernel != null) {\n        google.colab.kernel.comms.registerTarget(comm_id, (comm) => {\n          var messages = comm.messages[Symbol.asyncIterator]();\n          function processIteratorResult(result) {\n            var message = result.value;\n            console.log(message)\n            var content = {data: message.data, comm_id};\n            var buffers = []\n            for (var buffer of message.buffers || []) {\n              buffers.push(new DataView(buffer))\n            }\n            var metadata = message.metadata || {};\n            var msg = {content, buffers, metadata}\n            msg_handler(msg);\n            return messages.next().then(processIteratorResult);\n          }\n          return messages.next().then(processIteratorResult);\n        })\n      }\n    }\n\n    JupyterCommManager.prototype.get_client_comm = function(plot_id, comm_id, msg_handler) {\n      if (comm_id in window.PyViz.comms) {\n        return window.PyViz.comms[comm_id];\n      } else if (window.comm_manager || ((window.Jupyter !== undefined) && (Jupyter.notebook.kernel != null))) {\n        var comm_manager = window.comm_manager || Jupyter.notebook.kernel.comm_manager;\n        var comm = comm_manager.new_comm(comm_id, {}, {}, {}, comm_id);\n        if (msg_handler) {\n          comm.on_msg(msg_handler);\n        }\n      } else if ((plot_id in window.PyViz.kernels) && (window.PyViz.kernels[plot_id])) {\n        var comm = window.PyViz.kernels[plot_id].connectToComm(comm_id);\n        comm.open();\n        if (msg_handler) {\n          comm.onMsg = msg_handler;\n        }\n      } else if (typeof google != 'undefined' && google.colab.kernel != null) {\n        var comm_promise = google.colab.kernel.comms.open(comm_id)\n        comm_promise.then((comm) => {\n          window.PyViz.comms[comm_id] = comm;\n          if (msg_handler) {\n            var messages = comm.messages[Symbol.asyncIterator]();\n            function processIteratorResult(result) {\n              var message = result.value;\n              var content = {data: message.data};\n              var metadata = message.metadata || {comm_id};\n              var msg = {content, metadata}\n              msg_handler(msg);\n              return messages.next().then(processIteratorResult);\n            }\n            return messages.next().then(processIteratorResult);\n          }\n        }) \n        var sendClosure = (data, metadata, buffers, disposeOnDone) => {\n          return comm_promise.then((comm) => {\n            comm.send(data, metadata, buffers, disposeOnDone);\n          });\n        };\n        var comm = {\n          send: sendClosure\n        };\n      }\n      window.PyViz.comms[comm_id] = comm;\n      return comm;\n    }\n    window.PyViz.comm_manager = new JupyterCommManager();\n    \n\n\nvar JS_MIME_TYPE = 'application/javascript';\nvar HTML_MIME_TYPE = 'text/html';\nvar EXEC_MIME_TYPE = 'application/vnd.holoviews_exec.v0+json';\nvar CLASS_NAME = 'output';\n\n/**\n * Render data to the DOM node\n */\nfunction render(props, node) {\n  var div = document.createElement(\"div\");\n  var script = document.createElement(\"script\");\n  node.appendChild(div);\n  node.appendChild(script);\n}\n\n/**\n * Handle when a new output is added\n */\nfunction handle_add_output(event, handle) {\n  var output_area = handle.output_area;\n  var output = handle.output;\n  if ((output.data == undefined) || (!output.data.hasOwnProperty(EXEC_MIME_TYPE))) {\n    return\n  }\n  var id = output.metadata[EXEC_MIME_TYPE][\"id\"];\n  var toinsert = output_area.element.find(\".\" + CLASS_NAME.split(' ')[0]);\n  if (id !== undefined) {\n    var nchildren = toinsert.length;\n    var html_node = toinsert[nchildren-1].children[0];\n    html_node.innerHTML = output.data[HTML_MIME_TYPE];\n    var scripts = [];\n    var nodelist = html_node.querySelectorAll(\"script\");\n    for (var i in nodelist) {\n      if (nodelist.hasOwnProperty(i)) {\n        scripts.push(nodelist[i])\n      }\n    }\n\n    scripts.forEach( function (oldScript) {\n      var newScript = document.createElement(\"script\");\n      var attrs = [];\n      var nodemap = oldScript.attributes;\n      for (var j in nodemap) {\n        if (nodemap.hasOwnProperty(j)) {\n          attrs.push(nodemap[j])\n        }\n      }\n      attrs.forEach(function(attr) { newScript.setAttribute(attr.name, attr.value) });\n      newScript.appendChild(document.createTextNode(oldScript.innerHTML));\n      oldScript.parentNode.replaceChild(newScript, oldScript);\n    });\n    if (JS_MIME_TYPE in output.data) {\n      toinsert[nchildren-1].children[1].textContent = output.data[JS_MIME_TYPE];\n    }\n    output_area._hv_plot_id = id;\n    if ((window.Bokeh !== undefined) && (id in Bokeh.index)) {\n      window.PyViz.plot_index[id] = Bokeh.index[id];\n    } else {\n      window.PyViz.plot_index[id] = null;\n    }\n  } else if (output.metadata[EXEC_MIME_TYPE][\"server_id\"] !== undefined) {\n    var bk_div = document.createElement(\"div\");\n    bk_div.innerHTML = output.data[HTML_MIME_TYPE];\n    var script_attrs = bk_div.children[0].attributes;\n    for (var i = 0; i < script_attrs.length; i++) {\n      toinsert[toinsert.length - 1].childNodes[1].setAttribute(script_attrs[i].name, script_attrs[i].value);\n    }\n    // store reference to server id on output_area\n    output_area._bokeh_server_id = output.metadata[EXEC_MIME_TYPE][\"server_id\"];\n  }\n}\n\n/**\n * Handle when an output is cleared or removed\n */\nfunction handle_clear_output(event, handle) {\n  var id = handle.cell.output_area._hv_plot_id;\n  var server_id = handle.cell.output_area._bokeh_server_id;\n  if (((id === undefined) || !(id in PyViz.plot_index)) && (server_id !== undefined)) { return; }\n  var comm = window.PyViz.comm_manager.get_client_comm(\"hv-extension-comm\", \"hv-extension-comm\", function () {});\n  if (server_id !== null) {\n    comm.send({event_type: 'server_delete', 'id': server_id});\n    return;\n  } else if (comm !== null) {\n    comm.send({event_type: 'delete', 'id': id});\n  }\n  delete PyViz.plot_index[id];\n  if ((window.Bokeh !== undefined) & (id in window.Bokeh.index)) {\n    var doc = window.Bokeh.index[id].model.document\n    doc.clear();\n    const i = window.Bokeh.documents.indexOf(doc);\n    if (i > -1) {\n      window.Bokeh.documents.splice(i, 1);\n    }\n  }\n}\n\n/**\n * Handle kernel restart event\n */\nfunction handle_kernel_cleanup(event, handle) {\n  delete PyViz.comms[\"hv-extension-comm\"];\n  window.PyViz.plot_index = {}\n}\n\n/**\n * Handle update_display_data messages\n */\nfunction handle_update_output(event, handle) {\n  handle_clear_output(event, {cell: {output_area: handle.output_area}})\n  handle_add_output(event, handle)\n}\n\nfunction register_renderer(events, OutputArea) {\n  function append_mime(data, metadata, element) {\n    // create a DOM node to render to\n    var toinsert = this.create_output_subarea(\n    metadata,\n    CLASS_NAME,\n    EXEC_MIME_TYPE\n    );\n    this.keyboard_manager.register_events(toinsert);\n    // Render to node\n    var props = {data: data, metadata: metadata[EXEC_MIME_TYPE]};\n    render(props, toinsert[0]);\n    element.append(toinsert);\n    return toinsert\n  }\n\n  events.on('output_added.OutputArea', handle_add_output);\n  events.on('output_updated.OutputArea', handle_update_output);\n  events.on('clear_output.CodeCell', handle_clear_output);\n  events.on('delete.Cell', handle_clear_output);\n  events.on('kernel_ready.Kernel', handle_kernel_cleanup);\n\n  OutputArea.prototype.register_mime_type(EXEC_MIME_TYPE, append_mime, {\n    safe: true,\n    index: 0\n  });\n}\n\nif (window.Jupyter !== undefined) {\n  try {\n    var events = require('base/js/events');\n    var OutputArea = require('notebook/js/outputarea').OutputArea;\n    if (OutputArea.prototype.mime_types().indexOf(EXEC_MIME_TYPE) == -1) {\n      register_renderer(events, OutputArea);\n    }\n  } catch(err) {\n  }\n}\n",
      "application/vnd.holoviews_load.v0+json": ""
     },
     "metadata": {},
     "output_type": "display_data"
    },
    {
     "data": {
      "text/html": [
       "<style>*[data-root-id],\n",
       "*[data-root-id] > * {\n",
       "  box-sizing: border-box;\n",
       "  font-family: var(--jp-ui-font-family);\n",
       "  font-size: var(--jp-ui-font-size1);\n",
       "  color: var(--vscode-editor-foreground, var(--jp-ui-font-color1));\n",
       "}\n",
       "\n",
       "/* Override VSCode background color */\n",
       ".cell-output-ipywidget-background:has(\n",
       "    > .cell-output-ipywidget-background > .lm-Widget > *[data-root-id]\n",
       "  ),\n",
       ".cell-output-ipywidget-background:has(> .lm-Widget > *[data-root-id]) {\n",
       "  background-color: transparent !important;\n",
       "}\n",
       "</style>"
      ]
     },
     "metadata": {},
     "output_type": "display_data"
    }
   ],
   "source": [
    "import clearwater_modules as cwm\n",
    "import clearwater_modules.sorter as sorter\n",
    "import numba\n",
    "import random\n",
    "import hvplot.xarray\n",
    "import warnings\n",
    "warnings.filterwarnings(\"ignore\")"
   ]
  },
  {
   "cell_type": "code",
   "execution_count": 2,
   "id": "01c71150",
   "metadata": {
    "tags": []
   },
   "outputs": [
    {
     "data": {
      "text/plain": [
       "['__builtins__',\n",
       " '__cached__',\n",
       " '__doc__',\n",
       " '__file__',\n",
       " '__loader__',\n",
       " '__name__',\n",
       " '__package__',\n",
       " '__path__',\n",
       " '__spec__',\n",
       " '__version__',\n",
       " 'base',\n",
       " 'nsm1',\n",
       " 'shared',\n",
       " 'sorter',\n",
       " 'tsm',\n",
       " 'utils']"
      ]
     },
     "execution_count": 2,
     "metadata": {},
     "output_type": "execute_result"
    }
   ],
   "source": [
    "# Confirm that sub-modules are imported\n",
    "dir(cwm)"
   ]
  },
  {
   "cell_type": "markdown",
   "id": "234fa8ec",
   "metadata": {},
   "source": [
    "### If you get `ModuleNotFoundError`:\n",
    "\n",
    "If you get this error:\n",
    "```python\n",
    "ModuleNotFoundError: No module named 'clearwater_modules'\n",
    "```\n",
    "Then:\n",
    "1. Run the following terminal command with your local absolute path to this repo.\n",
    "    - NOTE: Here we use Jupyter `!` magic command to run from the terminal via this notebook. \n",
    "2. Restart the kernel.\n",
    "3. Rerun the import statements above.\n",
    "\n",
    "See [4. Add your `ClearWater-modules-python` Path to Miniconda/Anaconda sites-packages](..ReadMe.md#4-add-your-clearwater-modules-python-path-to-minicondaanaconda-sites-packages)."
   ]
  },
  {
   "cell_type": "markdown",
   "id": "de2f2cd1-a5dc-4536-8b1c-5f4fbf866601",
   "metadata": {},
   "source": [
    "# Writing/using a simple `Model` sub-class example\n",
    "\n",
    "In this example we will be writing a `base.Model` sub-class that calculates the annual carbon sequestration in a forest for a given year timestep.\n",
    "\n",
    "**Note:** Do not take the calculation too literally! I got it off ChatGPT in order to find a good, simple example for the code."
   ]
  },
  {
   "cell_type": "markdown",
   "id": "a52584bf-13af-4527-87ff-dbfa1010ddc1",
   "metadata": {},
   "source": [
    "## Start by inheriting `base.Model` -> `CarbonSequestration(cwm.base.Model)`"
   ]
  },
  {
   "cell_type": "code",
   "execution_count": 1,
   "id": "a5d34d2d-03a6-41e1-92fc-9e6fba72d6f5",
   "metadata": {
    "tags": []
   },
   "outputs": [
    {
     "data": {
      "application/javascript": "(function(root) {\n  function now() {\n    return new Date();\n  }\n\n  var force = true;\n  var py_version = '3.2.2'.replace('rc', '-rc.').replace('.dev', '-dev.');\n  var is_dev = py_version.indexOf(\"+\") !== -1 || py_version.indexOf(\"-\") !== -1;\n  var reloading = false;\n  var Bokeh = root.Bokeh;\n  var bokeh_loaded = Bokeh != null && (Bokeh.version === py_version || (Bokeh.versions !== undefined && Bokeh.versions.has(py_version)));\n\n  if (typeof (root._bokeh_timeout) === \"undefined\" || force) {\n    root._bokeh_timeout = Date.now() + 5000;\n    root._bokeh_failed_load = false;\n  }\n\n  function run_callbacks() {\n    try {\n      root._bokeh_onload_callbacks.forEach(function(callback) {\n        if (callback != null)\n          callback();\n      });\n    } finally {\n      delete root._bokeh_onload_callbacks;\n    }\n    console.debug(\"Bokeh: all callbacks have finished\");\n  }\n\n  function load_libs(css_urls, js_urls, js_modules, js_exports, callback) {\n    if (css_urls == null) css_urls = [];\n    if (js_urls == null) js_urls = [];\n    if (js_modules == null) js_modules = [];\n    if (js_exports == null) js_exports = {};\n\n    root._bokeh_onload_callbacks.push(callback);\n\n    if (root._bokeh_is_loading > 0) {\n      console.debug(\"Bokeh: BokehJS is being loaded, scheduling callback at\", now());\n      return null;\n    }\n    if (js_urls.length === 0 && js_modules.length === 0 && Object.keys(js_exports).length === 0) {\n      run_callbacks();\n      return null;\n    }\n    if (!reloading) {\n      console.debug(\"Bokeh: BokehJS not loaded, scheduling load and callback at\", now());\n    }\n\n    function on_load() {\n      root._bokeh_is_loading--;\n      if (root._bokeh_is_loading === 0) {\n        console.debug(\"Bokeh: all BokehJS libraries/stylesheets loaded\");\n        run_callbacks()\n      }\n    }\n    window._bokeh_on_load = on_load\n\n    function on_error() {\n      console.error(\"failed to load \" + url);\n    }\n\n    var skip = [];\n    if (window.requirejs) {\n      window.requirejs.config({'packages': {}, 'paths': {'jspanel': 'https://cdn.jsdelivr.net/npm/jspanel4@4.12.0/dist/jspanel', 'jspanel-modal': 'https://cdn.jsdelivr.net/npm/jspanel4@4.12.0/dist/extensions/modal/jspanel.modal', 'jspanel-tooltip': 'https://cdn.jsdelivr.net/npm/jspanel4@4.12.0/dist/extensions/tooltip/jspanel.tooltip', 'jspanel-hint': 'https://cdn.jsdelivr.net/npm/jspanel4@4.12.0/dist/extensions/hint/jspanel.hint', 'jspanel-layout': 'https://cdn.jsdelivr.net/npm/jspanel4@4.12.0/dist/extensions/layout/jspanel.layout', 'jspanel-contextmenu': 'https://cdn.jsdelivr.net/npm/jspanel4@4.12.0/dist/extensions/contextmenu/jspanel.contextmenu', 'jspanel-dock': 'https://cdn.jsdelivr.net/npm/jspanel4@4.12.0/dist/extensions/dock/jspanel.dock', 'gridstack': 'https://cdn.jsdelivr.net/npm/gridstack@7.2.3/dist/gridstack-all', 'notyf': 'https://cdn.jsdelivr.net/npm/notyf@3/notyf.min'}, 'shim': {'jspanel': {'exports': 'jsPanel'}, 'gridstack': {'exports': 'GridStack'}}});\n      require([\"jspanel\"], function(jsPanel) {\n\twindow.jsPanel = jsPanel\n\ton_load()\n      })\n      require([\"jspanel-modal\"], function() {\n\ton_load()\n      })\n      require([\"jspanel-tooltip\"], function() {\n\ton_load()\n      })\n      require([\"jspanel-hint\"], function() {\n\ton_load()\n      })\n      require([\"jspanel-layout\"], function() {\n\ton_load()\n      })\n      require([\"jspanel-contextmenu\"], function() {\n\ton_load()\n      })\n      require([\"jspanel-dock\"], function() {\n\ton_load()\n      })\n      require([\"gridstack\"], function(GridStack) {\n\twindow.GridStack = GridStack\n\ton_load()\n      })\n      require([\"notyf\"], function() {\n\ton_load()\n      })\n      root._bokeh_is_loading = css_urls.length + 9;\n    } else {\n      root._bokeh_is_loading = css_urls.length + js_urls.length + js_modules.length + Object.keys(js_exports).length;\n    }\n\n    var existing_stylesheets = []\n    var links = document.getElementsByTagName('link')\n    for (var i = 0; i < links.length; i++) {\n      var link = links[i]\n      if (link.href != null) {\n\texisting_stylesheets.push(link.href)\n      }\n    }\n    for (var i = 0; i < css_urls.length; i++) {\n      var url = css_urls[i];\n      if (existing_stylesheets.indexOf(url) !== -1) {\n\ton_load()\n\tcontinue;\n      }\n      const element = document.createElement(\"link\");\n      element.onload = on_load;\n      element.onerror = on_error;\n      element.rel = \"stylesheet\";\n      element.type = \"text/css\";\n      element.href = url;\n      console.debug(\"Bokeh: injecting link tag for BokehJS stylesheet: \", url);\n      document.body.appendChild(element);\n    }    if (((window['jsPanel'] !== undefined) && (!(window['jsPanel'] instanceof HTMLElement))) || window.requirejs) {\n      var urls = ['https://cdn.holoviz.org/panel/1.2.3/dist/bundled/floatpanel/jspanel4@4.12.0/dist/jspanel.js', 'https://cdn.holoviz.org/panel/1.2.3/dist/bundled/floatpanel/jspanel4@4.12.0/dist/extensions/modal/jspanel.modal.js', 'https://cdn.holoviz.org/panel/1.2.3/dist/bundled/floatpanel/jspanel4@4.12.0/dist/extensions/tooltip/jspanel.tooltip.js', 'https://cdn.holoviz.org/panel/1.2.3/dist/bundled/floatpanel/jspanel4@4.12.0/dist/extensions/hint/jspanel.hint.js', 'https://cdn.holoviz.org/panel/1.2.3/dist/bundled/floatpanel/jspanel4@4.12.0/dist/extensions/layout/jspanel.layout.js', 'https://cdn.holoviz.org/panel/1.2.3/dist/bundled/floatpanel/jspanel4@4.12.0/dist/extensions/contextmenu/jspanel.contextmenu.js', 'https://cdn.holoviz.org/panel/1.2.3/dist/bundled/floatpanel/jspanel4@4.12.0/dist/extensions/dock/jspanel.dock.js'];\n      for (var i = 0; i < urls.length; i++) {\n        skip.push(urls[i])\n      }\n    }    if (((window['GridStack'] !== undefined) && (!(window['GridStack'] instanceof HTMLElement))) || window.requirejs) {\n      var urls = ['https://cdn.holoviz.org/panel/1.2.3/dist/bundled/gridstack/gridstack@7.2.3/dist/gridstack-all.js'];\n      for (var i = 0; i < urls.length; i++) {\n        skip.push(urls[i])\n      }\n    }    if (((window['Notyf'] !== undefined) && (!(window['Notyf'] instanceof HTMLElement))) || window.requirejs) {\n      var urls = ['https://cdn.holoviz.org/panel/1.2.3/dist/bundled/notificationarea/notyf@3/notyf.min.js'];\n      for (var i = 0; i < urls.length; i++) {\n        skip.push(urls[i])\n      }\n    }    var existing_scripts = []\n    var scripts = document.getElementsByTagName('script')\n    for (var i = 0; i < scripts.length; i++) {\n      var script = scripts[i]\n      if (script.src != null) {\n\texisting_scripts.push(script.src)\n      }\n    }\n    for (var i = 0; i < js_urls.length; i++) {\n      var url = js_urls[i];\n      if (skip.indexOf(url) !== -1 || existing_scripts.indexOf(url) !== -1) {\n\tif (!window.requirejs) {\n\t  on_load();\n\t}\n\tcontinue;\n      }\n      var element = document.createElement('script');\n      element.onload = on_load;\n      element.onerror = on_error;\n      element.async = false;\n      element.src = url;\n      console.debug(\"Bokeh: injecting script tag for BokehJS library: \", url);\n      document.head.appendChild(element);\n    }\n    for (var i = 0; i < js_modules.length; i++) {\n      var url = js_modules[i];\n      if (skip.indexOf(url) !== -1 || existing_scripts.indexOf(url) !== -1) {\n\tif (!window.requirejs) {\n\t  on_load();\n\t}\n\tcontinue;\n      }\n      var element = document.createElement('script');\n      element.onload = on_load;\n      element.onerror = on_error;\n      element.async = false;\n      element.src = url;\n      element.type = \"module\";\n      console.debug(\"Bokeh: injecting script tag for BokehJS library: \", url);\n      document.head.appendChild(element);\n    }\n    for (const name in js_exports) {\n      var url = js_exports[name];\n      if (skip.indexOf(url) >= 0 || root[name] != null) {\n\tif (!window.requirejs) {\n\t  on_load();\n\t}\n\tcontinue;\n      }\n      var element = document.createElement('script');\n      element.onerror = on_error;\n      element.async = false;\n      element.type = \"module\";\n      console.debug(\"Bokeh: injecting script tag for BokehJS library: \", url);\n      element.textContent = `\n      import ${name} from \"${url}\"\n      window.${name} = ${name}\n      window._bokeh_on_load()\n      `\n      document.head.appendChild(element);\n    }\n    if (!js_urls.length && !js_modules.length) {\n      on_load()\n    }\n  };\n\n  function inject_raw_css(css) {\n    const element = document.createElement(\"style\");\n    element.appendChild(document.createTextNode(css));\n    document.body.appendChild(element);\n  }\n\n  var js_urls = [\"https://cdn.bokeh.org/bokeh/release/bokeh-3.2.2.min.js\", \"https://cdn.bokeh.org/bokeh/release/bokeh-gl-3.2.2.min.js\", \"https://cdn.bokeh.org/bokeh/release/bokeh-widgets-3.2.2.min.js\", \"https://cdn.bokeh.org/bokeh/release/bokeh-tables-3.2.2.min.js\", \"https://cdn.holoviz.org/panel/1.2.3/dist/panel.min.js\"];\n  var js_modules = [];\n  var js_exports = {};\n  var css_urls = [];\n  var inline_js = [    function(Bokeh) {\n      Bokeh.set_log_level(\"info\");\n    },\nfunction(Bokeh) {} // ensure no trailing comma for IE\n  ];\n\n  function run_inline_js() {\n    if ((root.Bokeh !== undefined) || (force === true)) {\n      for (var i = 0; i < inline_js.length; i++) {\n        inline_js[i].call(root, root.Bokeh);\n      }\n      // Cache old bokeh versions\n      if (Bokeh != undefined && !reloading) {\n\tvar NewBokeh = root.Bokeh;\n\tif (Bokeh.versions === undefined) {\n\t  Bokeh.versions = new Map();\n\t}\n\tif (NewBokeh.version !== Bokeh.version) {\n\t  Bokeh.versions.set(NewBokeh.version, NewBokeh)\n\t}\n\troot.Bokeh = Bokeh;\n      }} else if (Date.now() < root._bokeh_timeout) {\n      setTimeout(run_inline_js, 100);\n    } else if (!root._bokeh_failed_load) {\n      console.log(\"Bokeh: BokehJS failed to load within specified timeout.\");\n      root._bokeh_failed_load = true;\n    }\n    root._bokeh_is_initializing = false\n  }\n\n  function load_or_wait() {\n    // Implement a backoff loop that tries to ensure we do not load multiple\n    // versions of Bokeh and its dependencies at the same time.\n    // In recent versions we use the root._bokeh_is_initializing flag\n    // to determine whether there is an ongoing attempt to initialize\n    // bokeh, however for backward compatibility we also try to ensure\n    // that we do not start loading a newer (Panel>=1.0 and Bokeh>3) version\n    // before older versions are fully initialized.\n    if (root._bokeh_is_initializing && Date.now() > root._bokeh_timeout) {\n      root._bokeh_is_initializing = false;\n      root._bokeh_onload_callbacks = undefined;\n      console.log(\"Bokeh: BokehJS was loaded multiple times but one version failed to initialize.\");\n      load_or_wait();\n    } else if (root._bokeh_is_initializing || (typeof root._bokeh_is_initializing === \"undefined\" && root._bokeh_onload_callbacks !== undefined)) {\n      setTimeout(load_or_wait, 100);\n    } else {\n      Bokeh = root.Bokeh;\n      bokeh_loaded = Bokeh != null && (Bokeh.version === py_version || (Bokeh.versions !== undefined && Bokeh.versions.has(py_version)));\n      root._bokeh_is_initializing = true\n      root._bokeh_onload_callbacks = []\n      if (!reloading && (!bokeh_loaded || is_dev)) {\n\troot.Bokeh = undefined;\n      }\n      load_libs(css_urls, js_urls, js_modules, js_exports, function() {\n\tconsole.debug(\"Bokeh: BokehJS plotting callback run at\", now());\n\trun_inline_js();\n      });\n    }\n  }\n  // Give older versions of the autoload script a head-start to ensure\n  // they initialize before we start loading newer version.\n  setTimeout(load_or_wait, 100)\n}(window));",
      "application/vnd.holoviews_load.v0+json": ""
     },
     "metadata": {},
     "output_type": "display_data"
    },
    {
     "data": {
      "application/javascript": "\nif ((window.PyViz === undefined) || (window.PyViz instanceof HTMLElement)) {\n  window.PyViz = {comms: {}, comm_status:{}, kernels:{}, receivers: {}, plot_index: []}\n}\n\n\n    function JupyterCommManager() {\n    }\n\n    JupyterCommManager.prototype.register_target = function(plot_id, comm_id, msg_handler) {\n      if (window.comm_manager || ((window.Jupyter !== undefined) && (Jupyter.notebook.kernel != null))) {\n        var comm_manager = window.comm_manager || Jupyter.notebook.kernel.comm_manager;\n        comm_manager.register_target(comm_id, function(comm) {\n          comm.on_msg(msg_handler);\n        });\n      } else if ((plot_id in window.PyViz.kernels) && (window.PyViz.kernels[plot_id])) {\n        window.PyViz.kernels[plot_id].registerCommTarget(comm_id, function(comm) {\n          comm.onMsg = msg_handler;\n        });\n      } else if (typeof google != 'undefined' && google.colab.kernel != null) {\n        google.colab.kernel.comms.registerTarget(comm_id, (comm) => {\n          var messages = comm.messages[Symbol.asyncIterator]();\n          function processIteratorResult(result) {\n            var message = result.value;\n            console.log(message)\n            var content = {data: message.data, comm_id};\n            var buffers = []\n            for (var buffer of message.buffers || []) {\n              buffers.push(new DataView(buffer))\n            }\n            var metadata = message.metadata || {};\n            var msg = {content, buffers, metadata}\n            msg_handler(msg);\n            return messages.next().then(processIteratorResult);\n          }\n          return messages.next().then(processIteratorResult);\n        })\n      }\n    }\n\n    JupyterCommManager.prototype.get_client_comm = function(plot_id, comm_id, msg_handler) {\n      if (comm_id in window.PyViz.comms) {\n        return window.PyViz.comms[comm_id];\n      } else if (window.comm_manager || ((window.Jupyter !== undefined) && (Jupyter.notebook.kernel != null))) {\n        var comm_manager = window.comm_manager || Jupyter.notebook.kernel.comm_manager;\n        var comm = comm_manager.new_comm(comm_id, {}, {}, {}, comm_id);\n        if (msg_handler) {\n          comm.on_msg(msg_handler);\n        }\n      } else if ((plot_id in window.PyViz.kernels) && (window.PyViz.kernels[plot_id])) {\n        var comm = window.PyViz.kernels[plot_id].connectToComm(comm_id);\n        comm.open();\n        if (msg_handler) {\n          comm.onMsg = msg_handler;\n        }\n      } else if (typeof google != 'undefined' && google.colab.kernel != null) {\n        var comm_promise = google.colab.kernel.comms.open(comm_id)\n        comm_promise.then((comm) => {\n          window.PyViz.comms[comm_id] = comm;\n          if (msg_handler) {\n            var messages = comm.messages[Symbol.asyncIterator]();\n            function processIteratorResult(result) {\n              var message = result.value;\n              var content = {data: message.data};\n              var metadata = message.metadata || {comm_id};\n              var msg = {content, metadata}\n              msg_handler(msg);\n              return messages.next().then(processIteratorResult);\n            }\n            return messages.next().then(processIteratorResult);\n          }\n        }) \n        var sendClosure = (data, metadata, buffers, disposeOnDone) => {\n          return comm_promise.then((comm) => {\n            comm.send(data, metadata, buffers, disposeOnDone);\n          });\n        };\n        var comm = {\n          send: sendClosure\n        };\n      }\n      window.PyViz.comms[comm_id] = comm;\n      return comm;\n    }\n    window.PyViz.comm_manager = new JupyterCommManager();\n    \n\n\nvar JS_MIME_TYPE = 'application/javascript';\nvar HTML_MIME_TYPE = 'text/html';\nvar EXEC_MIME_TYPE = 'application/vnd.holoviews_exec.v0+json';\nvar CLASS_NAME = 'output';\n\n/**\n * Render data to the DOM node\n */\nfunction render(props, node) {\n  var div = document.createElement(\"div\");\n  var script = document.createElement(\"script\");\n  node.appendChild(div);\n  node.appendChild(script);\n}\n\n/**\n * Handle when a new output is added\n */\nfunction handle_add_output(event, handle) {\n  var output_area = handle.output_area;\n  var output = handle.output;\n  if ((output.data == undefined) || (!output.data.hasOwnProperty(EXEC_MIME_TYPE))) {\n    return\n  }\n  var id = output.metadata[EXEC_MIME_TYPE][\"id\"];\n  var toinsert = output_area.element.find(\".\" + CLASS_NAME.split(' ')[0]);\n  if (id !== undefined) {\n    var nchildren = toinsert.length;\n    var html_node = toinsert[nchildren-1].children[0];\n    html_node.innerHTML = output.data[HTML_MIME_TYPE];\n    var scripts = [];\n    var nodelist = html_node.querySelectorAll(\"script\");\n    for (var i in nodelist) {\n      if (nodelist.hasOwnProperty(i)) {\n        scripts.push(nodelist[i])\n      }\n    }\n\n    scripts.forEach( function (oldScript) {\n      var newScript = document.createElement(\"script\");\n      var attrs = [];\n      var nodemap = oldScript.attributes;\n      for (var j in nodemap) {\n        if (nodemap.hasOwnProperty(j)) {\n          attrs.push(nodemap[j])\n        }\n      }\n      attrs.forEach(function(attr) { newScript.setAttribute(attr.name, attr.value) });\n      newScript.appendChild(document.createTextNode(oldScript.innerHTML));\n      oldScript.parentNode.replaceChild(newScript, oldScript);\n    });\n    if (JS_MIME_TYPE in output.data) {\n      toinsert[nchildren-1].children[1].textContent = output.data[JS_MIME_TYPE];\n    }\n    output_area._hv_plot_id = id;\n    if ((window.Bokeh !== undefined) && (id in Bokeh.index)) {\n      window.PyViz.plot_index[id] = Bokeh.index[id];\n    } else {\n      window.PyViz.plot_index[id] = null;\n    }\n  } else if (output.metadata[EXEC_MIME_TYPE][\"server_id\"] !== undefined) {\n    var bk_div = document.createElement(\"div\");\n    bk_div.innerHTML = output.data[HTML_MIME_TYPE];\n    var script_attrs = bk_div.children[0].attributes;\n    for (var i = 0; i < script_attrs.length; i++) {\n      toinsert[toinsert.length - 1].childNodes[1].setAttribute(script_attrs[i].name, script_attrs[i].value);\n    }\n    // store reference to server id on output_area\n    output_area._bokeh_server_id = output.metadata[EXEC_MIME_TYPE][\"server_id\"];\n  }\n}\n\n/**\n * Handle when an output is cleared or removed\n */\nfunction handle_clear_output(event, handle) {\n  var id = handle.cell.output_area._hv_plot_id;\n  var server_id = handle.cell.output_area._bokeh_server_id;\n  if (((id === undefined) || !(id in PyViz.plot_index)) && (server_id !== undefined)) { return; }\n  var comm = window.PyViz.comm_manager.get_client_comm(\"hv-extension-comm\", \"hv-extension-comm\", function () {});\n  if (server_id !== null) {\n    comm.send({event_type: 'server_delete', 'id': server_id});\n    return;\n  } else if (comm !== null) {\n    comm.send({event_type: 'delete', 'id': id});\n  }\n  delete PyViz.plot_index[id];\n  if ((window.Bokeh !== undefined) & (id in window.Bokeh.index)) {\n    var doc = window.Bokeh.index[id].model.document\n    doc.clear();\n    const i = window.Bokeh.documents.indexOf(doc);\n    if (i > -1) {\n      window.Bokeh.documents.splice(i, 1);\n    }\n  }\n}\n\n/**\n * Handle kernel restart event\n */\nfunction handle_kernel_cleanup(event, handle) {\n  delete PyViz.comms[\"hv-extension-comm\"];\n  window.PyViz.plot_index = {}\n}\n\n/**\n * Handle update_display_data messages\n */\nfunction handle_update_output(event, handle) {\n  handle_clear_output(event, {cell: {output_area: handle.output_area}})\n  handle_add_output(event, handle)\n}\n\nfunction register_renderer(events, OutputArea) {\n  function append_mime(data, metadata, element) {\n    // create a DOM node to render to\n    var toinsert = this.create_output_subarea(\n    metadata,\n    CLASS_NAME,\n    EXEC_MIME_TYPE\n    );\n    this.keyboard_manager.register_events(toinsert);\n    // Render to node\n    var props = {data: data, metadata: metadata[EXEC_MIME_TYPE]};\n    render(props, toinsert[0]);\n    element.append(toinsert);\n    return toinsert\n  }\n\n  events.on('output_added.OutputArea', handle_add_output);\n  events.on('output_updated.OutputArea', handle_update_output);\n  events.on('clear_output.CodeCell', handle_clear_output);\n  events.on('delete.Cell', handle_clear_output);\n  events.on('kernel_ready.Kernel', handle_kernel_cleanup);\n\n  OutputArea.prototype.register_mime_type(EXEC_MIME_TYPE, append_mime, {\n    safe: true,\n    index: 0\n  });\n}\n\nif (window.Jupyter !== undefined) {\n  try {\n    var events = require('base/js/events');\n    var OutputArea = require('notebook/js/outputarea').OutputArea;\n    if (OutputArea.prototype.mime_types().indexOf(EXEC_MIME_TYPE) == -1) {\n      register_renderer(events, OutputArea);\n    }\n  } catch(err) {\n  }\n}\n",
      "application/vnd.holoviews_load.v0+json": ""
     },
     "metadata": {},
     "output_type": "display_data"
    },
    {
     "data": {
      "text/html": [
       "<style>*[data-root-id],\n",
       "*[data-root-id] > * {\n",
       "  box-sizing: border-box;\n",
       "  font-family: var(--jp-ui-font-family);\n",
       "  font-size: var(--jp-ui-font-size1);\n",
       "  color: var(--vscode-editor-foreground, var(--jp-ui-font-color1));\n",
       "}\n",
       "\n",
       "/* Override VSCode background color */\n",
       ".cell-output-ipywidget-background:has(\n",
       "    > .cell-output-ipywidget-background > .lm-Widget > *[data-root-id]\n",
       "  ),\n",
       ".cell-output-ipywidget-background:has(> .lm-Widget > *[data-root-id]) {\n",
       "  background-color: transparent !important;\n",
       "}\n",
       "</style>"
      ]
     },
     "metadata": {},
     "output_type": "display_data"
    },
    {
     "name": "stdout",
     "output_type": "stream",
     "text": [
      "Initializing from dicts...\n",
      "Model initialized from input dicts successfully!.\n"
     ]
    },
    {
     "data": {
      "text/html": [
       "<div><svg style=\"position: absolute; width: 0; height: 0; overflow: hidden\">\n",
       "<defs>\n",
       "<symbol id=\"icon-database\" viewBox=\"0 0 32 32\">\n",
       "<path d=\"M16 0c-8.837 0-16 2.239-16 5v4c0 2.761 7.163 5 16 5s16-2.239 16-5v-4c0-2.761-7.163-5-16-5z\"></path>\n",
       "<path d=\"M16 17c-8.837 0-16-2.239-16-5v6c0 2.761 7.163 5 16 5s16-2.239 16-5v-6c0 2.761-7.163 5-16 5z\"></path>\n",
       "<path d=\"M16 26c-8.837 0-16-2.239-16-5v6c0 2.761 7.163 5 16 5s16-2.239 16-5v-6c0 2.761-7.163 5-16 5z\"></path>\n",
       "</symbol>\n",
       "<symbol id=\"icon-file-text2\" viewBox=\"0 0 32 32\">\n",
       "<path d=\"M28.681 7.159c-0.694-0.947-1.662-2.053-2.724-3.116s-2.169-2.030-3.116-2.724c-1.612-1.182-2.393-1.319-2.841-1.319h-15.5c-1.378 0-2.5 1.121-2.5 2.5v27c0 1.378 1.122 2.5 2.5 2.5h23c1.378 0 2.5-1.122 2.5-2.5v-19.5c0-0.448-0.137-1.23-1.319-2.841zM24.543 5.457c0.959 0.959 1.712 1.825 2.268 2.543h-4.811v-4.811c0.718 0.556 1.584 1.309 2.543 2.268zM28 29.5c0 0.271-0.229 0.5-0.5 0.5h-23c-0.271 0-0.5-0.229-0.5-0.5v-27c0-0.271 0.229-0.5 0.5-0.5 0 0 15.499-0 15.5 0v7c0 0.552 0.448 1 1 1h7v19.5z\"></path>\n",
       "<path d=\"M23 26h-14c-0.552 0-1-0.448-1-1s0.448-1 1-1h14c0.552 0 1 0.448 1 1s-0.448 1-1 1z\"></path>\n",
       "<path d=\"M23 22h-14c-0.552 0-1-0.448-1-1s0.448-1 1-1h14c0.552 0 1 0.448 1 1s-0.448 1-1 1z\"></path>\n",
       "<path d=\"M23 18h-14c-0.552 0-1-0.448-1-1s0.448-1 1-1h14c0.552 0 1 0.448 1 1s-0.448 1-1 1z\"></path>\n",
       "</symbol>\n",
       "</defs>\n",
       "</svg>\n",
       "<style>/* CSS stylesheet for displaying xarray objects in jupyterlab.\n",
       " *\n",
       " */\n",
       "\n",
       ":root {\n",
       "  --xr-font-color0: var(--jp-content-font-color0, rgba(0, 0, 0, 1));\n",
       "  --xr-font-color2: var(--jp-content-font-color2, rgba(0, 0, 0, 0.54));\n",
       "  --xr-font-color3: var(--jp-content-font-color3, rgba(0, 0, 0, 0.38));\n",
       "  --xr-border-color: var(--jp-border-color2, #e0e0e0);\n",
       "  --xr-disabled-color: var(--jp-layout-color3, #bdbdbd);\n",
       "  --xr-background-color: var(--jp-layout-color0, white);\n",
       "  --xr-background-color-row-even: var(--jp-layout-color1, white);\n",
       "  --xr-background-color-row-odd: var(--jp-layout-color2, #eeeeee);\n",
       "}\n",
       "\n",
       "html[theme=dark],\n",
       "body[data-theme=dark],\n",
       "body.vscode-dark {\n",
       "  --xr-font-color0: rgba(255, 255, 255, 1);\n",
       "  --xr-font-color2: rgba(255, 255, 255, 0.54);\n",
       "  --xr-font-color3: rgba(255, 255, 255, 0.38);\n",
       "  --xr-border-color: #1F1F1F;\n",
       "  --xr-disabled-color: #515151;\n",
       "  --xr-background-color: #111111;\n",
       "  --xr-background-color-row-even: #111111;\n",
       "  --xr-background-color-row-odd: #313131;\n",
       "}\n",
       "\n",
       ".xr-wrap {\n",
       "  display: block !important;\n",
       "  min-width: 300px;\n",
       "  max-width: 700px;\n",
       "}\n",
       "\n",
       ".xr-text-repr-fallback {\n",
       "  /* fallback to plain text repr when CSS is not injected (untrusted notebook) */\n",
       "  display: none;\n",
       "}\n",
       "\n",
       ".xr-header {\n",
       "  padding-top: 6px;\n",
       "  padding-bottom: 6px;\n",
       "  margin-bottom: 4px;\n",
       "  border-bottom: solid 1px var(--xr-border-color);\n",
       "}\n",
       "\n",
       ".xr-header > div,\n",
       ".xr-header > ul {\n",
       "  display: inline;\n",
       "  margin-top: 0;\n",
       "  margin-bottom: 0;\n",
       "}\n",
       "\n",
       ".xr-obj-type,\n",
       ".xr-array-name {\n",
       "  margin-left: 2px;\n",
       "  margin-right: 10px;\n",
       "}\n",
       "\n",
       ".xr-obj-type {\n",
       "  color: var(--xr-font-color2);\n",
       "}\n",
       "\n",
       ".xr-sections {\n",
       "  padding-left: 0 !important;\n",
       "  display: grid;\n",
       "  grid-template-columns: 150px auto auto 1fr 20px 20px;\n",
       "}\n",
       "\n",
       ".xr-section-item {\n",
       "  display: contents;\n",
       "}\n",
       "\n",
       ".xr-section-item input {\n",
       "  display: none;\n",
       "}\n",
       "\n",
       ".xr-section-item input + label {\n",
       "  color: var(--xr-disabled-color);\n",
       "}\n",
       "\n",
       ".xr-section-item input:enabled + label {\n",
       "  cursor: pointer;\n",
       "  color: var(--xr-font-color2);\n",
       "}\n",
       "\n",
       ".xr-section-item input:enabled + label:hover {\n",
       "  color: var(--xr-font-color0);\n",
       "}\n",
       "\n",
       ".xr-section-summary {\n",
       "  grid-column: 1;\n",
       "  color: var(--xr-font-color2);\n",
       "  font-weight: 500;\n",
       "}\n",
       "\n",
       ".xr-section-summary > span {\n",
       "  display: inline-block;\n",
       "  padding-left: 0.5em;\n",
       "}\n",
       "\n",
       ".xr-section-summary-in:disabled + label {\n",
       "  color: var(--xr-font-color2);\n",
       "}\n",
       "\n",
       ".xr-section-summary-in + label:before {\n",
       "  display: inline-block;\n",
       "  content: '►';\n",
       "  font-size: 11px;\n",
       "  width: 15px;\n",
       "  text-align: center;\n",
       "}\n",
       "\n",
       ".xr-section-summary-in:disabled + label:before {\n",
       "  color: var(--xr-disabled-color);\n",
       "}\n",
       "\n",
       ".xr-section-summary-in:checked + label:before {\n",
       "  content: '▼';\n",
       "}\n",
       "\n",
       ".xr-section-summary-in:checked + label > span {\n",
       "  display: none;\n",
       "}\n",
       "\n",
       ".xr-section-summary,\n",
       ".xr-section-inline-details {\n",
       "  padding-top: 4px;\n",
       "  padding-bottom: 4px;\n",
       "}\n",
       "\n",
       ".xr-section-inline-details {\n",
       "  grid-column: 2 / -1;\n",
       "}\n",
       "\n",
       ".xr-section-details {\n",
       "  display: none;\n",
       "  grid-column: 1 / -1;\n",
       "  margin-bottom: 5px;\n",
       "}\n",
       "\n",
       ".xr-section-summary-in:checked ~ .xr-section-details {\n",
       "  display: contents;\n",
       "}\n",
       "\n",
       ".xr-array-wrap {\n",
       "  grid-column: 1 / -1;\n",
       "  display: grid;\n",
       "  grid-template-columns: 20px auto;\n",
       "}\n",
       "\n",
       ".xr-array-wrap > label {\n",
       "  grid-column: 1;\n",
       "  vertical-align: top;\n",
       "}\n",
       "\n",
       ".xr-preview {\n",
       "  color: var(--xr-font-color3);\n",
       "}\n",
       "\n",
       ".xr-array-preview,\n",
       ".xr-array-data {\n",
       "  padding: 0 5px !important;\n",
       "  grid-column: 2;\n",
       "}\n",
       "\n",
       ".xr-array-data,\n",
       ".xr-array-in:checked ~ .xr-array-preview {\n",
       "  display: none;\n",
       "}\n",
       "\n",
       ".xr-array-in:checked ~ .xr-array-data,\n",
       ".xr-array-preview {\n",
       "  display: inline-block;\n",
       "}\n",
       "\n",
       ".xr-dim-list {\n",
       "  display: inline-block !important;\n",
       "  list-style: none;\n",
       "  padding: 0 !important;\n",
       "  margin: 0;\n",
       "}\n",
       "\n",
       ".xr-dim-list li {\n",
       "  display: inline-block;\n",
       "  padding: 0;\n",
       "  margin: 0;\n",
       "}\n",
       "\n",
       ".xr-dim-list:before {\n",
       "  content: '(';\n",
       "}\n",
       "\n",
       ".xr-dim-list:after {\n",
       "  content: ')';\n",
       "}\n",
       "\n",
       ".xr-dim-list li:not(:last-child):after {\n",
       "  content: ',';\n",
       "  padding-right: 5px;\n",
       "}\n",
       "\n",
       ".xr-has-index {\n",
       "  font-weight: bold;\n",
       "}\n",
       "\n",
       ".xr-var-list,\n",
       ".xr-var-item {\n",
       "  display: contents;\n",
       "}\n",
       "\n",
       ".xr-var-item > div,\n",
       ".xr-var-item label,\n",
       ".xr-var-item > .xr-var-name span {\n",
       "  background-color: var(--xr-background-color-row-even);\n",
       "  margin-bottom: 0;\n",
       "}\n",
       "\n",
       ".xr-var-item > .xr-var-name:hover span {\n",
       "  padding-right: 5px;\n",
       "}\n",
       "\n",
       ".xr-var-list > li:nth-child(odd) > div,\n",
       ".xr-var-list > li:nth-child(odd) > label,\n",
       ".xr-var-list > li:nth-child(odd) > .xr-var-name span {\n",
       "  background-color: var(--xr-background-color-row-odd);\n",
       "}\n",
       "\n",
       ".xr-var-name {\n",
       "  grid-column: 1;\n",
       "}\n",
       "\n",
       ".xr-var-dims {\n",
       "  grid-column: 2;\n",
       "}\n",
       "\n",
       ".xr-var-dtype {\n",
       "  grid-column: 3;\n",
       "  text-align: right;\n",
       "  color: var(--xr-font-color2);\n",
       "}\n",
       "\n",
       ".xr-var-preview {\n",
       "  grid-column: 4;\n",
       "}\n",
       "\n",
       ".xr-index-preview {\n",
       "  grid-column: 2 / 5;\n",
       "  color: var(--xr-font-color2);\n",
       "}\n",
       "\n",
       ".xr-var-name,\n",
       ".xr-var-dims,\n",
       ".xr-var-dtype,\n",
       ".xr-preview,\n",
       ".xr-attrs dt {\n",
       "  white-space: nowrap;\n",
       "  overflow: hidden;\n",
       "  text-overflow: ellipsis;\n",
       "  padding-right: 10px;\n",
       "}\n",
       "\n",
       ".xr-var-name:hover,\n",
       ".xr-var-dims:hover,\n",
       ".xr-var-dtype:hover,\n",
       ".xr-attrs dt:hover {\n",
       "  overflow: visible;\n",
       "  width: auto;\n",
       "  z-index: 1;\n",
       "}\n",
       "\n",
       ".xr-var-attrs,\n",
       ".xr-var-data,\n",
       ".xr-index-data {\n",
       "  display: none;\n",
       "  background-color: var(--xr-background-color) !important;\n",
       "  padding-bottom: 5px !important;\n",
       "}\n",
       "\n",
       ".xr-var-attrs-in:checked ~ .xr-var-attrs,\n",
       ".xr-var-data-in:checked ~ .xr-var-data,\n",
       ".xr-index-data-in:checked ~ .xr-index-data {\n",
       "  display: block;\n",
       "}\n",
       "\n",
       ".xr-var-data > table {\n",
       "  float: right;\n",
       "}\n",
       "\n",
       ".xr-var-name span,\n",
       ".xr-var-data,\n",
       ".xr-index-name div,\n",
       ".xr-index-data,\n",
       ".xr-attrs {\n",
       "  padding-left: 25px !important;\n",
       "}\n",
       "\n",
       ".xr-attrs,\n",
       ".xr-var-attrs,\n",
       ".xr-var-data,\n",
       ".xr-index-data {\n",
       "  grid-column: 1 / -1;\n",
       "}\n",
       "\n",
       "dl.xr-attrs {\n",
       "  padding: 0;\n",
       "  margin: 0;\n",
       "  display: grid;\n",
       "  grid-template-columns: 125px auto;\n",
       "}\n",
       "\n",
       ".xr-attrs dt,\n",
       ".xr-attrs dd {\n",
       "  padding: 0;\n",
       "  margin: 0;\n",
       "  float: left;\n",
       "  padding-right: 10px;\n",
       "  width: auto;\n",
       "}\n",
       "\n",
       ".xr-attrs dt {\n",
       "  font-weight: normal;\n",
       "  grid-column: 1;\n",
       "}\n",
       "\n",
       ".xr-attrs dt:hover span {\n",
       "  display: inline-block;\n",
       "  background: var(--xr-background-color);\n",
       "  padding-right: 10px;\n",
       "}\n",
       "\n",
       ".xr-attrs dd {\n",
       "  grid-column: 2;\n",
       "  white-space: pre-wrap;\n",
       "  word-break: break-all;\n",
       "}\n",
       "\n",
       ".xr-icon-database,\n",
       ".xr-icon-file-text2,\n",
       ".xr-no-icon {\n",
       "  display: inline-block;\n",
       "  vertical-align: middle;\n",
       "  width: 1em;\n",
       "  height: 1.5em !important;\n",
       "  stroke-width: 0;\n",
       "  stroke: currentColor;\n",
       "  fill: currentColor;\n",
       "}\n",
       "</style><pre class='xr-text-repr-fallback'>&lt;xarray.Dataset&gt;\n",
       "Dimensions:            (year: 1, x: 1, y: 1)\n",
       "Coordinates:\n",
       "  * year               (year) int32 0\n",
       "  * x                  (x) float64 1.0\n",
       "  * y                  (y) float64 1.0\n",
       "Data variables: (12/31)\n",
       "    water_temp_c       (year, x, y) int32 20\n",
       "    surface_area       (year, x, y) int32 1\n",
       "    volume             (year, x, y) int32 1\n",
       "    use_sed_temp       (x, y) bool True\n",
       "    stefan_boltzmann   (x, y) int32 10\n",
       "    cp_air             (x, y) int32 1\n",
       "    ...                 ...\n",
       "    cloudiness         (x, y) float64 0.1\n",
       "    wind_speed         (x, y) int32 3\n",
       "    wind_a             (x, y) int32 1\n",
       "    wind_b             (x, y) int32 1\n",
       "    wind_c             (x, y) int32 1\n",
       "    wind_kh_kw         (x, y) int32 1</pre><div class='xr-wrap' style='display:none'><div class='xr-header'><div class='xr-obj-type'>xarray.Dataset</div></div><ul class='xr-sections'><li class='xr-section-item'><input id='section-c98cf0d0-c094-4560-9040-bb2036fa76ad' class='xr-section-summary-in' type='checkbox' disabled ><label for='section-c98cf0d0-c094-4560-9040-bb2036fa76ad' class='xr-section-summary'  title='Expand/collapse section'>Dimensions:</label><div class='xr-section-inline-details'><ul class='xr-dim-list'><li><span class='xr-has-index'>year</span>: 1</li><li><span class='xr-has-index'>x</span>: 1</li><li><span class='xr-has-index'>y</span>: 1</li></ul></div><div class='xr-section-details'></div></li><li class='xr-section-item'><input id='section-c9861c42-f663-4c96-a599-c7f7660cda29' class='xr-section-summary-in' type='checkbox'  checked><label for='section-c9861c42-f663-4c96-a599-c7f7660cda29' class='xr-section-summary' >Coordinates: <span>(3)</span></label><div class='xr-section-inline-details'></div><div class='xr-section-details'><ul class='xr-var-list'><li class='xr-var-item'><div class='xr-var-name'><span class='xr-has-index'>year</span></div><div class='xr-var-dims'>(year)</div><div class='xr-var-dtype'>int32</div><div class='xr-var-preview xr-preview'>0</div><input id='attrs-0c0dd1af-de76-4594-bbfa-e0be828789d0' class='xr-var-attrs-in' type='checkbox' disabled><label for='attrs-0c0dd1af-de76-4594-bbfa-e0be828789d0' title='Show/Hide attributes'><svg class='icon xr-icon-file-text2'><use xlink:href='#icon-file-text2'></use></svg></label><input id='data-90b4d7fc-3826-427e-bc6d-e6e932d9d92b' class='xr-var-data-in' type='checkbox'><label for='data-90b4d7fc-3826-427e-bc6d-e6e932d9d92b' title='Show/Hide data repr'><svg class='icon xr-icon-database'><use xlink:href='#icon-database'></use></svg></label><div class='xr-var-attrs'><dl class='xr-attrs'></dl></div><div class='xr-var-data'><pre>array([0])</pre></div></li><li class='xr-var-item'><div class='xr-var-name'><span class='xr-has-index'>x</span></div><div class='xr-var-dims'>(x)</div><div class='xr-var-dtype'>float64</div><div class='xr-var-preview xr-preview'>1.0</div><input id='attrs-870ef3f5-c638-4836-bf27-fb9c3e3658d2' class='xr-var-attrs-in' type='checkbox' disabled><label for='attrs-870ef3f5-c638-4836-bf27-fb9c3e3658d2' title='Show/Hide attributes'><svg class='icon xr-icon-file-text2'><use xlink:href='#icon-file-text2'></use></svg></label><input id='data-4ea704af-65d6-4fb5-9cc6-e5ab9c399eed' class='xr-var-data-in' type='checkbox'><label for='data-4ea704af-65d6-4fb5-9cc6-e5ab9c399eed' title='Show/Hide data repr'><svg class='icon xr-icon-database'><use xlink:href='#icon-database'></use></svg></label><div class='xr-var-attrs'><dl class='xr-attrs'></dl></div><div class='xr-var-data'><pre>array([1.])</pre></div></li><li class='xr-var-item'><div class='xr-var-name'><span class='xr-has-index'>y</span></div><div class='xr-var-dims'>(y)</div><div class='xr-var-dtype'>float64</div><div class='xr-var-preview xr-preview'>1.0</div><input id='attrs-84295b8a-78ef-409d-9953-f96778bf061c' class='xr-var-attrs-in' type='checkbox' disabled><label for='attrs-84295b8a-78ef-409d-9953-f96778bf061c' title='Show/Hide attributes'><svg class='icon xr-icon-file-text2'><use xlink:href='#icon-file-text2'></use></svg></label><input id='data-75b936d7-c48c-49e1-835d-5e7e11692a14' class='xr-var-data-in' type='checkbox'><label for='data-75b936d7-c48c-49e1-835d-5e7e11692a14' title='Show/Hide data repr'><svg class='icon xr-icon-database'><use xlink:href='#icon-database'></use></svg></label><div class='xr-var-attrs'><dl class='xr-attrs'></dl></div><div class='xr-var-data'><pre>array([1.])</pre></div></li></ul></div></li><li class='xr-section-item'><input id='section-3bfcb5e7-a42e-4fdc-b6be-fc5d7fc226d7' class='xr-section-summary-in' type='checkbox'  ><label for='section-3bfcb5e7-a42e-4fdc-b6be-fc5d7fc226d7' class='xr-section-summary' >Data variables: <span>(31)</span></label><div class='xr-section-inline-details'></div><div class='xr-section-details'><ul class='xr-var-list'><li class='xr-var-item'><div class='xr-var-name'><span>water_temp_c</span></div><div class='xr-var-dims'>(year, x, y)</div><div class='xr-var-dtype'>int32</div><div class='xr-var-preview xr-preview'>20</div><input id='attrs-17f51790-b94f-4a63-987a-28e4f77a797d' class='xr-var-attrs-in' type='checkbox' ><label for='attrs-17f51790-b94f-4a63-987a-28e4f77a797d' title='Show/Hide attributes'><svg class='icon xr-icon-file-text2'><use xlink:href='#icon-file-text2'></use></svg></label><input id='data-af500947-b20e-42ad-a333-a237141874ae' class='xr-var-data-in' type='checkbox'><label for='data-af500947-b20e-42ad-a333-a237141874ae' title='Show/Hide data repr'><svg class='icon xr-icon-database'><use xlink:href='#icon-database'></use></svg></label><div class='xr-var-attrs'><dl class='xr-attrs'><dt><span>long_name :</span></dt><dd>Water temperature</dd><dt><span>units :</span></dt><dd>degC</dd><dt><span>description :</span></dt><dd>TSM state variable for water temperature</dd></dl></div><div class='xr-var-data'><pre>array([[[20]]])</pre></div></li><li class='xr-var-item'><div class='xr-var-name'><span>surface_area</span></div><div class='xr-var-dims'>(year, x, y)</div><div class='xr-var-dtype'>int32</div><div class='xr-var-preview xr-preview'>1</div><input id='attrs-46223eff-d1e7-4f1a-8821-4b4f2716adc3' class='xr-var-attrs-in' type='checkbox' ><label for='attrs-46223eff-d1e7-4f1a-8821-4b4f2716adc3' title='Show/Hide attributes'><svg class='icon xr-icon-file-text2'><use xlink:href='#icon-file-text2'></use></svg></label><input id='data-1ab567ed-af20-4e79-bda5-93a63306e68b' class='xr-var-data-in' type='checkbox'><label for='data-1ab567ed-af20-4e79-bda5-93a63306e68b' title='Show/Hide data repr'><svg class='icon xr-icon-database'><use xlink:href='#icon-database'></use></svg></label><div class='xr-var-attrs'><dl class='xr-attrs'><dt><span>long_name :</span></dt><dd>Surface area</dd><dt><span>units :</span></dt><dd>m^2</dd><dt><span>description :</span></dt><dd>Surface area</dd></dl></div><div class='xr-var-data'><pre>array([[[1]]])</pre></div></li><li class='xr-var-item'><div class='xr-var-name'><span>volume</span></div><div class='xr-var-dims'>(year, x, y)</div><div class='xr-var-dtype'>int32</div><div class='xr-var-preview xr-preview'>1</div><input id='attrs-48930d44-8e10-48b6-89be-7e6a5e7df27f' class='xr-var-attrs-in' type='checkbox' ><label for='attrs-48930d44-8e10-48b6-89be-7e6a5e7df27f' title='Show/Hide attributes'><svg class='icon xr-icon-file-text2'><use xlink:href='#icon-file-text2'></use></svg></label><input id='data-5507c921-3bf3-4103-a761-29dddea0a7ce' class='xr-var-data-in' type='checkbox'><label for='data-5507c921-3bf3-4103-a761-29dddea0a7ce' title='Show/Hide data repr'><svg class='icon xr-icon-database'><use xlink:href='#icon-database'></use></svg></label><div class='xr-var-attrs'><dl class='xr-attrs'><dt><span>long_name :</span></dt><dd>Volume</dd><dt><span>units :</span></dt><dd>m^3</dd><dt><span>description :</span></dt><dd>Volume</dd></dl></div><div class='xr-var-data'><pre>array([[[1]]])</pre></div></li><li class='xr-var-item'><div class='xr-var-name'><span>use_sed_temp</span></div><div class='xr-var-dims'>(x, y)</div><div class='xr-var-dtype'>bool</div><div class='xr-var-preview xr-preview'>True</div><input id='attrs-3f7930d4-0aa0-4844-b6e0-49ef0a15ab14' class='xr-var-attrs-in' type='checkbox' ><label for='attrs-3f7930d4-0aa0-4844-b6e0-49ef0a15ab14' title='Show/Hide attributes'><svg class='icon xr-icon-file-text2'><use xlink:href='#icon-file-text2'></use></svg></label><input id='data-71a0f770-8fe0-4772-8837-69883da6e35c' class='xr-var-data-in' type='checkbox'><label for='data-71a0f770-8fe0-4772-8837-69883da6e35c' title='Show/Hide data repr'><svg class='icon xr-icon-database'><use xlink:href='#icon-database'></use></svg></label><div class='xr-var-attrs'><dl class='xr-attrs'><dt><span>long_name :</span></dt><dd>Use Sediment Temperature?</dd><dt><span>units :</span></dt><dd>boolean</dd><dt><span>description :</span></dt><dd>Controls whether to use/calculate sediment temperature or not.</dd></dl></div><div class='xr-var-data'><pre>array([[ True]])</pre></div></li><li class='xr-var-item'><div class='xr-var-name'><span>stefan_boltzmann</span></div><div class='xr-var-dims'>(x, y)</div><div class='xr-var-dtype'>int32</div><div class='xr-var-preview xr-preview'>10</div><input id='attrs-b87aa8fe-65dc-4c2d-b6e6-cde5db1bb7ab' class='xr-var-attrs-in' type='checkbox' ><label for='attrs-b87aa8fe-65dc-4c2d-b6e6-cde5db1bb7ab' title='Show/Hide attributes'><svg class='icon xr-icon-file-text2'><use xlink:href='#icon-file-text2'></use></svg></label><input id='data-341639d1-cf1d-4cf7-92c0-559244ac4204' class='xr-var-data-in' type='checkbox'><label for='data-341639d1-cf1d-4cf7-92c0-559244ac4204' title='Show/Hide data repr'><svg class='icon xr-icon-database'><use xlink:href='#icon-database'></use></svg></label><div class='xr-var-attrs'><dl class='xr-attrs'><dt><span>long_name :</span></dt><dd>Stefan-Boltzmann Constant</dd><dt><span>units :</span></dt><dd>W m-2 K-4</dd><dt><span>description :</span></dt><dd>The Stefan-Boltzmann constant.</dd></dl></div><div class='xr-var-data'><pre>array([[10]])</pre></div></li><li class='xr-var-item'><div class='xr-var-name'><span>cp_air</span></div><div class='xr-var-dims'>(x, y)</div><div class='xr-var-dtype'>int32</div><div class='xr-var-preview xr-preview'>1</div><input id='attrs-c3054cc7-1973-4c11-bd2f-d52b31121129' class='xr-var-attrs-in' type='checkbox' ><label for='attrs-c3054cc7-1973-4c11-bd2f-d52b31121129' title='Show/Hide attributes'><svg class='icon xr-icon-file-text2'><use xlink:href='#icon-file-text2'></use></svg></label><input id='data-b5b75238-09a4-430a-a42b-bc0826da9bfe' class='xr-var-data-in' type='checkbox'><label for='data-b5b75238-09a4-430a-a42b-bc0826da9bfe' title='Show/Hide data repr'><svg class='icon xr-icon-database'><use xlink:href='#icon-database'></use></svg></label><div class='xr-var-attrs'><dl class='xr-attrs'><dt><span>long_name :</span></dt><dd>Specific Heat Capacity of Air</dd><dt><span>units :</span></dt><dd>J kg-1 K-1</dd><dt><span>description :</span></dt><dd>The specific heat capacity of air.</dd></dl></div><div class='xr-var-data'><pre>array([[1]])</pre></div></li><li class='xr-var-item'><div class='xr-var-name'><span>emissivity_water</span></div><div class='xr-var-dims'>(x, y)</div><div class='xr-var-dtype'>int32</div><div class='xr-var-preview xr-preview'>1</div><input id='attrs-9d52fa17-8e86-423d-bc19-cbd3e177ed88' class='xr-var-attrs-in' type='checkbox' ><label for='attrs-9d52fa17-8e86-423d-bc19-cbd3e177ed88' title='Show/Hide attributes'><svg class='icon xr-icon-file-text2'><use xlink:href='#icon-file-text2'></use></svg></label><input id='data-f9410c03-69f0-470a-843d-bee47497d0c0' class='xr-var-data-in' type='checkbox'><label for='data-f9410c03-69f0-470a-843d-bee47497d0c0' title='Show/Hide data repr'><svg class='icon xr-icon-database'><use xlink:href='#icon-database'></use></svg></label><div class='xr-var-attrs'><dl class='xr-attrs'><dt><span>long_name :</span></dt><dd>Emissivity of Water</dd><dt><span>units :</span></dt><dd>1</dd><dt><span>description :</span></dt><dd>The emissivity of water.</dd></dl></div><div class='xr-var-data'><pre>array([[1]])</pre></div></li><li class='xr-var-item'><div class='xr-var-name'><span>gravity</span></div><div class='xr-var-dims'>(x, y)</div><div class='xr-var-dtype'>float64</div><div class='xr-var-preview xr-preview'>9.82</div><input id='attrs-aaf0bbfd-786d-4347-9493-96ef16a3eabb' class='xr-var-attrs-in' type='checkbox' ><label for='attrs-aaf0bbfd-786d-4347-9493-96ef16a3eabb' title='Show/Hide attributes'><svg class='icon xr-icon-file-text2'><use xlink:href='#icon-file-text2'></use></svg></label><input id='data-95e6be9b-ef3a-4a4d-aba5-81bfde47c33c' class='xr-var-data-in' type='checkbox'><label for='data-95e6be9b-ef3a-4a4d-aba5-81bfde47c33c' title='Show/Hide data repr'><svg class='icon xr-icon-database'><use xlink:href='#icon-database'></use></svg></label><div class='xr-var-attrs'><dl class='xr-attrs'><dt><span>long_name :</span></dt><dd>Gravity</dd><dt><span>units :</span></dt><dd>m s-2</dd><dt><span>description :</span></dt><dd>The acceleration due to gravity.</dd></dl></div><div class='xr-var-data'><pre>array([[9.82]])</pre></div></li><li class='xr-var-item'><div class='xr-var-name'><span>a0</span></div><div class='xr-var-dims'>(x, y)</div><div class='xr-var-dtype'>int32</div><div class='xr-var-preview xr-preview'>3333</div><input id='attrs-fd1eb2a5-cef6-40c3-86b0-fd32fcb0861b' class='xr-var-attrs-in' type='checkbox' ><label for='attrs-fd1eb2a5-cef6-40c3-86b0-fd32fcb0861b' title='Show/Hide attributes'><svg class='icon xr-icon-file-text2'><use xlink:href='#icon-file-text2'></use></svg></label><input id='data-45c31d24-c7f1-439a-8edf-684bb457cdc4' class='xr-var-data-in' type='checkbox'><label for='data-45c31d24-c7f1-439a-8edf-684bb457cdc4' title='Show/Hide data repr'><svg class='icon xr-icon-database'><use xlink:href='#icon-database'></use></svg></label><div class='xr-var-attrs'><dl class='xr-attrs'><dt><span>long_name :</span></dt><dd>Albedo of Water</dd><dt><span>units :</span></dt><dd>unitless</dd><dt><span>description :</span></dt><dd>The albedo of water.</dd></dl></div><div class='xr-var-data'><pre>array([[3333]])</pre></div></li><li class='xr-var-item'><div class='xr-var-name'><span>a1</span></div><div class='xr-var-dims'>(x, y)</div><div class='xr-var-dtype'>int32</div><div class='xr-var-preview xr-preview'>3333</div><input id='attrs-69f6613b-e4d9-44e3-851e-50b9dee85a77' class='xr-var-attrs-in' type='checkbox' ><label for='attrs-69f6613b-e4d9-44e3-851e-50b9dee85a77' title='Show/Hide attributes'><svg class='icon xr-icon-file-text2'><use xlink:href='#icon-file-text2'></use></svg></label><input id='data-21819874-6bbb-4754-a59c-ac39c801d565' class='xr-var-data-in' type='checkbox'><label for='data-21819874-6bbb-4754-a59c-ac39c801d565' title='Show/Hide data repr'><svg class='icon xr-icon-database'><use xlink:href='#icon-database'></use></svg></label><div class='xr-var-attrs'><dl class='xr-attrs'><dt><span>long_name :</span></dt><dd>Albedo of Water</dd><dt><span>units :</span></dt><dd>unitless</dd><dt><span>description :</span></dt><dd>The albedo of water.</dd></dl></div><div class='xr-var-data'><pre>array([[3333]])</pre></div></li><li class='xr-var-item'><div class='xr-var-name'><span>a2</span></div><div class='xr-var-dims'>(x, y)</div><div class='xr-var-dtype'>int32</div><div class='xr-var-preview xr-preview'>3333</div><input id='attrs-caf18864-276e-4b02-a204-6dc8d043a70f' class='xr-var-attrs-in' type='checkbox' ><label for='attrs-caf18864-276e-4b02-a204-6dc8d043a70f' title='Show/Hide attributes'><svg class='icon xr-icon-file-text2'><use xlink:href='#icon-file-text2'></use></svg></label><input id='data-7b8e56f1-729c-4160-96d2-185703ae5f59' class='xr-var-data-in' type='checkbox'><label for='data-7b8e56f1-729c-4160-96d2-185703ae5f59' title='Show/Hide data repr'><svg class='icon xr-icon-database'><use xlink:href='#icon-database'></use></svg></label><div class='xr-var-attrs'><dl class='xr-attrs'><dt><span>long_name :</span></dt><dd>Albedo of Water</dd><dt><span>units :</span></dt><dd>unitless</dd><dt><span>description :</span></dt><dd>The albedo of water.</dd></dl></div><div class='xr-var-data'><pre>array([[3333]])</pre></div></li><li class='xr-var-item'><div class='xr-var-name'><span>a3</span></div><div class='xr-var-dims'>(x, y)</div><div class='xr-var-dtype'>int32</div><div class='xr-var-preview xr-preview'>3333</div><input id='attrs-c255e113-c9f5-4a2a-baf9-a247804fab22' class='xr-var-attrs-in' type='checkbox' ><label for='attrs-c255e113-c9f5-4a2a-baf9-a247804fab22' title='Show/Hide attributes'><svg class='icon xr-icon-file-text2'><use xlink:href='#icon-file-text2'></use></svg></label><input id='data-f44e45cf-0aae-460e-8a6f-040195d77b13' class='xr-var-data-in' type='checkbox'><label for='data-f44e45cf-0aae-460e-8a6f-040195d77b13' title='Show/Hide data repr'><svg class='icon xr-icon-database'><use xlink:href='#icon-database'></use></svg></label><div class='xr-var-attrs'><dl class='xr-attrs'><dt><span>long_name :</span></dt><dd>Albedo of Water</dd><dt><span>units :</span></dt><dd>unitless</dd><dt><span>description :</span></dt><dd>The albedo of water.</dd></dl></div><div class='xr-var-data'><pre>array([[3333]])</pre></div></li><li class='xr-var-item'><div class='xr-var-name'><span>a4</span></div><div class='xr-var-dims'>(x, y)</div><div class='xr-var-dtype'>int32</div><div class='xr-var-preview xr-preview'>3333</div><input id='attrs-b30791ce-4df7-4198-bcd2-cad72a05cbff' class='xr-var-attrs-in' type='checkbox' ><label for='attrs-b30791ce-4df7-4198-bcd2-cad72a05cbff' title='Show/Hide attributes'><svg class='icon xr-icon-file-text2'><use xlink:href='#icon-file-text2'></use></svg></label><input id='data-bbb5d2bc-22eb-49fc-ba45-09aa777ffdac' class='xr-var-data-in' type='checkbox'><label for='data-bbb5d2bc-22eb-49fc-ba45-09aa777ffdac' title='Show/Hide data repr'><svg class='icon xr-icon-database'><use xlink:href='#icon-database'></use></svg></label><div class='xr-var-attrs'><dl class='xr-attrs'><dt><span>long_name :</span></dt><dd>Albedo of Water</dd><dt><span>units :</span></dt><dd>unitless</dd><dt><span>description :</span></dt><dd>The albedo of water.</dd></dl></div><div class='xr-var-data'><pre>array([[3333]])</pre></div></li><li class='xr-var-item'><div class='xr-var-name'><span>a5</span></div><div class='xr-var-dims'>(x, y)</div><div class='xr-var-dtype'>int32</div><div class='xr-var-preview xr-preview'>3333</div><input id='attrs-d983258d-9dbe-4887-accb-69724248992c' class='xr-var-attrs-in' type='checkbox' ><label for='attrs-d983258d-9dbe-4887-accb-69724248992c' title='Show/Hide attributes'><svg class='icon xr-icon-file-text2'><use xlink:href='#icon-file-text2'></use></svg></label><input id='data-1c3bf9d5-df34-4c03-8d22-df70c19afea3' class='xr-var-data-in' type='checkbox'><label for='data-1c3bf9d5-df34-4c03-8d22-df70c19afea3' title='Show/Hide data repr'><svg class='icon xr-icon-database'><use xlink:href='#icon-database'></use></svg></label><div class='xr-var-attrs'><dl class='xr-attrs'><dt><span>long_name :</span></dt><dd>Albedo of Water</dd><dt><span>units :</span></dt><dd>unitless</dd><dt><span>description :</span></dt><dd>The albedo of water.</dd></dl></div><div class='xr-var-data'><pre>array([[3333]])</pre></div></li><li class='xr-var-item'><div class='xr-var-name'><span>a6</span></div><div class='xr-var-dims'>(x, y)</div><div class='xr-var-dtype'>int32</div><div class='xr-var-preview xr-preview'>3333</div><input id='attrs-b39b1a0a-3cd5-4fbb-9e69-7a13b56f77c7' class='xr-var-attrs-in' type='checkbox' ><label for='attrs-b39b1a0a-3cd5-4fbb-9e69-7a13b56f77c7' title='Show/Hide attributes'><svg class='icon xr-icon-file-text2'><use xlink:href='#icon-file-text2'></use></svg></label><input id='data-5608d112-050a-418a-b787-0b9c64a56dfc' class='xr-var-data-in' type='checkbox'><label for='data-5608d112-050a-418a-b787-0b9c64a56dfc' title='Show/Hide data repr'><svg class='icon xr-icon-database'><use xlink:href='#icon-database'></use></svg></label><div class='xr-var-attrs'><dl class='xr-attrs'><dt><span>long_name :</span></dt><dd>Albedo of Water</dd><dt><span>units :</span></dt><dd>unitless</dd><dt><span>description :</span></dt><dd>The albedo of water.</dd></dl></div><div class='xr-var-data'><pre>array([[3333]])</pre></div></li><li class='xr-var-item'><div class='xr-var-name'><span>pb</span></div><div class='xr-var-dims'>(x, y)</div><div class='xr-var-dtype'>int32</div><div class='xr-var-preview xr-preview'>3333</div><input id='attrs-f084cf2d-75c7-4871-a921-e0ed42b04202' class='xr-var-attrs-in' type='checkbox' ><label for='attrs-f084cf2d-75c7-4871-a921-e0ed42b04202' title='Show/Hide attributes'><svg class='icon xr-icon-file-text2'><use xlink:href='#icon-file-text2'></use></svg></label><input id='data-9b56077a-bbe9-4b65-8df8-66f371116319' class='xr-var-data-in' type='checkbox'><label for='data-9b56077a-bbe9-4b65-8df8-66f371116319' title='Show/Hide data repr'><svg class='icon xr-icon-database'><use xlink:href='#icon-database'></use></svg></label><div class='xr-var-attrs'><dl class='xr-attrs'><dt><span>long_name :</span></dt><dd>Bulk Density of Sediment</dd><dt><span>units :</span></dt><dd>kg m-3</dd><dt><span>description :</span></dt><dd>The bulk density of sediment.</dd></dl></div><div class='xr-var-data'><pre>array([[3333]])</pre></div></li><li class='xr-var-item'><div class='xr-var-name'><span>cps</span></div><div class='xr-var-dims'>(x, y)</div><div class='xr-var-dtype'>int32</div><div class='xr-var-preview xr-preview'>3333</div><input id='attrs-377adc36-06cf-4b46-82ac-99a2c699d609' class='xr-var-attrs-in' type='checkbox' ><label for='attrs-377adc36-06cf-4b46-82ac-99a2c699d609' title='Show/Hide attributes'><svg class='icon xr-icon-file-text2'><use xlink:href='#icon-file-text2'></use></svg></label><input id='data-6aa419a4-5e54-4767-a998-a80dbb507f2b' class='xr-var-data-in' type='checkbox'><label for='data-6aa419a4-5e54-4767-a998-a80dbb507f2b' title='Show/Hide data repr'><svg class='icon xr-icon-database'><use xlink:href='#icon-database'></use></svg></label><div class='xr-var-attrs'><dl class='xr-attrs'><dt><span>long_name :</span></dt><dd>CPS</dd><dt><span>units :</span></dt><dd>J kg-1 K-1</dd><dt><span>description :</span></dt><dd>The CPS.</dd></dl></div><div class='xr-var-data'><pre>array([[3333]])</pre></div></li><li class='xr-var-item'><div class='xr-var-name'><span>h2</span></div><div class='xr-var-dims'>(x, y)</div><div class='xr-var-dtype'>int32</div><div class='xr-var-preview xr-preview'>3333</div><input id='attrs-e1fd1dba-18a8-43bd-ac1a-9a5b17467bd5' class='xr-var-attrs-in' type='checkbox' ><label for='attrs-e1fd1dba-18a8-43bd-ac1a-9a5b17467bd5' title='Show/Hide attributes'><svg class='icon xr-icon-file-text2'><use xlink:href='#icon-file-text2'></use></svg></label><input id='data-fc5567af-8cc8-4399-af8a-cb57a7b12cbb' class='xr-var-data-in' type='checkbox'><label for='data-fc5567af-8cc8-4399-af8a-cb57a7b12cbb' title='Show/Hide data repr'><svg class='icon xr-icon-database'><use xlink:href='#icon-database'></use></svg></label><div class='xr-var-attrs'><dl class='xr-attrs'><dt><span>long_name :</span></dt><dd>H2</dd><dt><span>units :</span></dt><dd>m</dd><dt><span>description :</span></dt><dd>The H2.</dd></dl></div><div class='xr-var-data'><pre>array([[3333]])</pre></div></li><li class='xr-var-item'><div class='xr-var-name'><span>alphas</span></div><div class='xr-var-dims'>(x, y)</div><div class='xr-var-dtype'>int32</div><div class='xr-var-preview xr-preview'>3333</div><input id='attrs-fc46faac-f4ca-45c2-ba26-0aeb24761bbb' class='xr-var-attrs-in' type='checkbox' ><label for='attrs-fc46faac-f4ca-45c2-ba26-0aeb24761bbb' title='Show/Hide attributes'><svg class='icon xr-icon-file-text2'><use xlink:href='#icon-file-text2'></use></svg></label><input id='data-7d4f3789-1a5b-4a8d-a886-9cc7ea5e15c6' class='xr-var-data-in' type='checkbox'><label for='data-7d4f3789-1a5b-4a8d-a886-9cc7ea5e15c6' title='Show/Hide data repr'><svg class='icon xr-icon-database'><use xlink:href='#icon-database'></use></svg></label><div class='xr-var-attrs'><dl class='xr-attrs'><dt><span>long_name :</span></dt><dd>Alphas</dd><dt><span>units :</span></dt><dd>m-1</dd><dt><span>description :</span></dt><dd>The alphas.</dd></dl></div><div class='xr-var-data'><pre>array([[3333]])</pre></div></li><li class='xr-var-item'><div class='xr-var-name'><span>richardson_option</span></div><div class='xr-var-dims'>(x, y)</div><div class='xr-var-dtype'>bool</div><div class='xr-var-preview xr-preview'>True</div><input id='attrs-4ffc1d39-7346-42b6-8e61-0a792e2bef5c' class='xr-var-attrs-in' type='checkbox' ><label for='attrs-4ffc1d39-7346-42b6-8e61-0a792e2bef5c' title='Show/Hide attributes'><svg class='icon xr-icon-file-text2'><use xlink:href='#icon-file-text2'></use></svg></label><input id='data-03b09c77-07b8-4e4a-988c-7e22204947eb' class='xr-var-data-in' type='checkbox'><label for='data-03b09c77-07b8-4e4a-988c-7e22204947eb' title='Show/Hide data repr'><svg class='icon xr-icon-database'><use xlink:href='#icon-database'></use></svg></label><div class='xr-var-attrs'><dl class='xr-attrs'><dt><span>long_name :</span></dt><dd>Richardson Option</dd><dt><span>units :</span></dt><dd>unitless</dd><dt><span>description :</span></dt><dd>The Richardson option.</dd></dl></div><div class='xr-var-data'><pre>array([[ True]])</pre></div></li><li class='xr-var-item'><div class='xr-var-name'><span>air_temp_c</span></div><div class='xr-var-dims'>(x, y)</div><div class='xr-var-dtype'>int32</div><div class='xr-var-preview xr-preview'>20</div><input id='attrs-ff1e6688-88ed-4fc3-ac80-603da4a83e36' class='xr-var-attrs-in' type='checkbox' ><label for='attrs-ff1e6688-88ed-4fc3-ac80-603da4a83e36' title='Show/Hide attributes'><svg class='icon xr-icon-file-text2'><use xlink:href='#icon-file-text2'></use></svg></label><input id='data-8285f55c-b34c-4a78-99e5-5a26ace44575' class='xr-var-data-in' type='checkbox'><label for='data-8285f55c-b34c-4a78-99e5-5a26ace44575' title='Show/Hide data repr'><svg class='icon xr-icon-database'><use xlink:href='#icon-database'></use></svg></label><div class='xr-var-attrs'><dl class='xr-attrs'><dt><span>long_name :</span></dt><dd>Air Temperature</dd><dt><span>units :</span></dt><dd>C</dd><dt><span>description :</span></dt><dd>The air temperature.</dd></dl></div><div class='xr-var-data'><pre>array([[20]])</pre></div></li><li class='xr-var-item'><div class='xr-var-name'><span>q_solar</span></div><div class='xr-var-dims'>(x, y)</div><div class='xr-var-dtype'>int32</div><div class='xr-var-preview xr-preview'>400</div><input id='attrs-088803b4-cb4b-4df7-bb82-98d45dc7ce1c' class='xr-var-attrs-in' type='checkbox' ><label for='attrs-088803b4-cb4b-4df7-bb82-98d45dc7ce1c' title='Show/Hide attributes'><svg class='icon xr-icon-file-text2'><use xlink:href='#icon-file-text2'></use></svg></label><input id='data-091672bf-c090-4e44-8f8b-8863eb2475ca' class='xr-var-data-in' type='checkbox'><label for='data-091672bf-c090-4e44-8f8b-8863eb2475ca' title='Show/Hide data repr'><svg class='icon xr-icon-database'><use xlink:href='#icon-database'></use></svg></label><div class='xr-var-attrs'><dl class='xr-attrs'><dt><span>long_name :</span></dt><dd>Solar Heat Flux</dd><dt><span>units :</span></dt><dd>W m-2</dd><dt><span>description :</span></dt><dd>The solar heat flux.</dd></dl></div><div class='xr-var-data'><pre>array([[400]])</pre></div></li><li class='xr-var-item'><div class='xr-var-name'><span>sed_temp_c</span></div><div class='xr-var-dims'>(x, y)</div><div class='xr-var-dtype'>int32</div><div class='xr-var-preview xr-preview'>10</div><input id='attrs-d9d8d9ed-138d-4312-bd5e-36f4682e4a5f' class='xr-var-attrs-in' type='checkbox' ><label for='attrs-d9d8d9ed-138d-4312-bd5e-36f4682e4a5f' title='Show/Hide attributes'><svg class='icon xr-icon-file-text2'><use xlink:href='#icon-file-text2'></use></svg></label><input id='data-4be13a64-bfb4-430c-98c0-5209068a4833' class='xr-var-data-in' type='checkbox'><label for='data-4be13a64-bfb4-430c-98c0-5209068a4833' title='Show/Hide data repr'><svg class='icon xr-icon-database'><use xlink:href='#icon-database'></use></svg></label><div class='xr-var-attrs'><dl class='xr-attrs'><dt><span>long_name :</span></dt><dd>Sediment Temperature</dd><dt><span>units :</span></dt><dd>C</dd><dt><span>description :</span></dt><dd>The sediment temperature.</dd></dl></div><div class='xr-var-data'><pre>array([[10]])</pre></div></li><li class='xr-var-item'><div class='xr-var-name'><span>eair_mb</span></div><div class='xr-var-dims'>(x, y)</div><div class='xr-var-dtype'>int32</div><div class='xr-var-preview xr-preview'>2</div><input id='attrs-6dbc7a24-de6f-4bbc-b22c-c014b5491d97' class='xr-var-attrs-in' type='checkbox' ><label for='attrs-6dbc7a24-de6f-4bbc-b22c-c014b5491d97' title='Show/Hide attributes'><svg class='icon xr-icon-file-text2'><use xlink:href='#icon-file-text2'></use></svg></label><input id='data-0915b3f4-3192-4791-b35d-0604d9a4b3b5' class='xr-var-data-in' type='checkbox'><label for='data-0915b3f4-3192-4791-b35d-0604d9a4b3b5' title='Show/Hide data repr'><svg class='icon xr-icon-database'><use xlink:href='#icon-database'></use></svg></label><div class='xr-var-attrs'><dl class='xr-attrs'><dt><span>long_name :</span></dt><dd>Eair MB</dd><dt><span>units :</span></dt><dd>mb</dd><dt><span>description :</span></dt><dd>The eair MB.</dd></dl></div><div class='xr-var-data'><pre>array([[2]])</pre></div></li><li class='xr-var-item'><div class='xr-var-name'><span>pressure_mb</span></div><div class='xr-var-dims'>(x, y)</div><div class='xr-var-dtype'>int32</div><div class='xr-var-preview xr-preview'>1035</div><input id='attrs-8eb4d86a-6608-4ca4-8dea-c2f9ca3535e5' class='xr-var-attrs-in' type='checkbox' ><label for='attrs-8eb4d86a-6608-4ca4-8dea-c2f9ca3535e5' title='Show/Hide attributes'><svg class='icon xr-icon-file-text2'><use xlink:href='#icon-file-text2'></use></svg></label><input id='data-d3958bb7-5b6c-4001-9a91-7d5a64958313' class='xr-var-data-in' type='checkbox'><label for='data-d3958bb7-5b6c-4001-9a91-7d5a64958313' title='Show/Hide data repr'><svg class='icon xr-icon-database'><use xlink:href='#icon-database'></use></svg></label><div class='xr-var-attrs'><dl class='xr-attrs'><dt><span>long_name :</span></dt><dd>Pressure</dd><dt><span>units :</span></dt><dd>mb</dd><dt><span>description :</span></dt><dd>The pressure.</dd></dl></div><div class='xr-var-data'><pre>array([[1035]])</pre></div></li><li class='xr-var-item'><div class='xr-var-name'><span>cloudiness</span></div><div class='xr-var-dims'>(x, y)</div><div class='xr-var-dtype'>float64</div><div class='xr-var-preview xr-preview'>0.1</div><input id='attrs-093cceed-2060-4db1-b978-f27fc920570b' class='xr-var-attrs-in' type='checkbox' ><label for='attrs-093cceed-2060-4db1-b978-f27fc920570b' title='Show/Hide attributes'><svg class='icon xr-icon-file-text2'><use xlink:href='#icon-file-text2'></use></svg></label><input id='data-3b93c3c8-aa16-4128-a84e-4d66f846fd35' class='xr-var-data-in' type='checkbox'><label for='data-3b93c3c8-aa16-4128-a84e-4d66f846fd35' title='Show/Hide data repr'><svg class='icon xr-icon-database'><use xlink:href='#icon-database'></use></svg></label><div class='xr-var-attrs'><dl class='xr-attrs'><dt><span>long_name :</span></dt><dd>Cloudiness</dd><dt><span>units :</span></dt><dd>unitless</dd><dt><span>description :</span></dt><dd>The cloudiness.</dd></dl></div><div class='xr-var-data'><pre>array([[0.1]])</pre></div></li><li class='xr-var-item'><div class='xr-var-name'><span>wind_speed</span></div><div class='xr-var-dims'>(x, y)</div><div class='xr-var-dtype'>int32</div><div class='xr-var-preview xr-preview'>3</div><input id='attrs-fd80dd60-1827-4a90-acf6-eeee49774520' class='xr-var-attrs-in' type='checkbox' ><label for='attrs-fd80dd60-1827-4a90-acf6-eeee49774520' title='Show/Hide attributes'><svg class='icon xr-icon-file-text2'><use xlink:href='#icon-file-text2'></use></svg></label><input id='data-d3d6de9c-1289-430d-b6db-8d7ea7eb8bb2' class='xr-var-data-in' type='checkbox'><label for='data-d3d6de9c-1289-430d-b6db-8d7ea7eb8bb2' title='Show/Hide data repr'><svg class='icon xr-icon-database'><use xlink:href='#icon-database'></use></svg></label><div class='xr-var-attrs'><dl class='xr-attrs'><dt><span>long_name :</span></dt><dd>Wind Speed</dd><dt><span>units :</span></dt><dd>m s-1</dd><dt><span>description :</span></dt><dd>The wind speed.</dd></dl></div><div class='xr-var-data'><pre>array([[3]])</pre></div></li><li class='xr-var-item'><div class='xr-var-name'><span>wind_a</span></div><div class='xr-var-dims'>(x, y)</div><div class='xr-var-dtype'>int32</div><div class='xr-var-preview xr-preview'>1</div><input id='attrs-e2d8d7a1-2b76-4923-85c0-4db15b7438c7' class='xr-var-attrs-in' type='checkbox' ><label for='attrs-e2d8d7a1-2b76-4923-85c0-4db15b7438c7' title='Show/Hide attributes'><svg class='icon xr-icon-file-text2'><use xlink:href='#icon-file-text2'></use></svg></label><input id='data-5fd06892-305b-426f-b0a5-c82270d99576' class='xr-var-data-in' type='checkbox'><label for='data-5fd06892-305b-426f-b0a5-c82270d99576' title='Show/Hide data repr'><svg class='icon xr-icon-database'><use xlink:href='#icon-database'></use></svg></label><div class='xr-var-attrs'><dl class='xr-attrs'><dt><span>long_name :</span></dt><dd>Wind A</dd><dt><span>units :</span></dt><dd>m s-1</dd><dt><span>description :</span></dt><dd>The wind A.</dd></dl></div><div class='xr-var-data'><pre>array([[1]])</pre></div></li><li class='xr-var-item'><div class='xr-var-name'><span>wind_b</span></div><div class='xr-var-dims'>(x, y)</div><div class='xr-var-dtype'>int32</div><div class='xr-var-preview xr-preview'>1</div><input id='attrs-c8b7cf5f-f66f-4c8b-b6ae-25382d51f29f' class='xr-var-attrs-in' type='checkbox' ><label for='attrs-c8b7cf5f-f66f-4c8b-b6ae-25382d51f29f' title='Show/Hide attributes'><svg class='icon xr-icon-file-text2'><use xlink:href='#icon-file-text2'></use></svg></label><input id='data-91f284f5-132e-461f-bc83-1c6c86d186bf' class='xr-var-data-in' type='checkbox'><label for='data-91f284f5-132e-461f-bc83-1c6c86d186bf' title='Show/Hide data repr'><svg class='icon xr-icon-database'><use xlink:href='#icon-database'></use></svg></label><div class='xr-var-attrs'><dl class='xr-attrs'><dt><span>long_name :</span></dt><dd>Wind B</dd><dt><span>units :</span></dt><dd>m s-1</dd><dt><span>description :</span></dt><dd>The wind B.</dd></dl></div><div class='xr-var-data'><pre>array([[1]])</pre></div></li><li class='xr-var-item'><div class='xr-var-name'><span>wind_c</span></div><div class='xr-var-dims'>(x, y)</div><div class='xr-var-dtype'>int32</div><div class='xr-var-preview xr-preview'>1</div><input id='attrs-a7ee3d10-afaf-4139-a75c-3e06df1fd74f' class='xr-var-attrs-in' type='checkbox' ><label for='attrs-a7ee3d10-afaf-4139-a75c-3e06df1fd74f' title='Show/Hide attributes'><svg class='icon xr-icon-file-text2'><use xlink:href='#icon-file-text2'></use></svg></label><input id='data-9b64e04e-1d67-4a23-a56a-5e9857230950' class='xr-var-data-in' type='checkbox'><label for='data-9b64e04e-1d67-4a23-a56a-5e9857230950' title='Show/Hide data repr'><svg class='icon xr-icon-database'><use xlink:href='#icon-database'></use></svg></label><div class='xr-var-attrs'><dl class='xr-attrs'><dt><span>long_name :</span></dt><dd>Wind C</dd><dt><span>units :</span></dt><dd>m s-1</dd><dt><span>description :</span></dt><dd>The wind C.</dd></dl></div><div class='xr-var-data'><pre>array([[1]])</pre></div></li><li class='xr-var-item'><div class='xr-var-name'><span>wind_kh_kw</span></div><div class='xr-var-dims'>(x, y)</div><div class='xr-var-dtype'>int32</div><div class='xr-var-preview xr-preview'>1</div><input id='attrs-250178a9-fbab-40b2-8a7b-f8c1ff4061b3' class='xr-var-attrs-in' type='checkbox' ><label for='attrs-250178a9-fbab-40b2-8a7b-f8c1ff4061b3' title='Show/Hide attributes'><svg class='icon xr-icon-file-text2'><use xlink:href='#icon-file-text2'></use></svg></label><input id='data-01c7c234-cdb3-4a5a-94a3-cd08b12c686a' class='xr-var-data-in' type='checkbox'><label for='data-01c7c234-cdb3-4a5a-94a3-cd08b12c686a' title='Show/Hide data repr'><svg class='icon xr-icon-database'><use xlink:href='#icon-database'></use></svg></label><div class='xr-var-attrs'><dl class='xr-attrs'><dt><span>long_name :</span></dt><dd>Wind KH KW</dd><dt><span>units :</span></dt><dd>m s-1</dd><dt><span>description :</span></dt><dd>The wind KH KW.</dd></dl></div><div class='xr-var-data'><pre>array([[1]])</pre></div></li></ul></div></li><li class='xr-section-item'><input id='section-957b2912-555e-483f-9fb6-34d9bdd09157' class='xr-section-summary-in' type='checkbox'  ><label for='section-957b2912-555e-483f-9fb6-34d9bdd09157' class='xr-section-summary' >Indexes: <span>(3)</span></label><div class='xr-section-inline-details'></div><div class='xr-section-details'><ul class='xr-var-list'><li class='xr-var-item'><div class='xr-index-name'><div>year</div></div><div class='xr-index-preview'>PandasIndex</div><div></div><input id='index-4e6acb5c-a7dc-471c-aa5c-a0d0ff3762d1' class='xr-index-data-in' type='checkbox'/><label for='index-4e6acb5c-a7dc-471c-aa5c-a0d0ff3762d1' title='Show/Hide index repr'><svg class='icon xr-icon-database'><use xlink:href='#icon-database'></use></svg></label><div class='xr-index-data'><pre>PandasIndex(Index([0], dtype=&#x27;int32&#x27;, name=&#x27;year&#x27;))</pre></div></li><li class='xr-var-item'><div class='xr-index-name'><div>x</div></div><div class='xr-index-preview'>PandasIndex</div><div></div><input id='index-aeddf9ec-f3b4-43f3-90a4-7e091e82fca7' class='xr-index-data-in' type='checkbox'/><label for='index-aeddf9ec-f3b4-43f3-90a4-7e091e82fca7' title='Show/Hide index repr'><svg class='icon xr-icon-database'><use xlink:href='#icon-database'></use></svg></label><div class='xr-index-data'><pre>PandasIndex(Index([1.0], dtype=&#x27;float64&#x27;, name=&#x27;x&#x27;))</pre></div></li><li class='xr-var-item'><div class='xr-index-name'><div>y</div></div><div class='xr-index-preview'>PandasIndex</div><div></div><input id='index-9cfbc3e9-25f7-4977-81f0-f157175673c9' class='xr-index-data-in' type='checkbox'/><label for='index-9cfbc3e9-25f7-4977-81f0-f157175673c9' title='Show/Hide index repr'><svg class='icon xr-icon-database'><use xlink:href='#icon-database'></use></svg></label><div class='xr-index-data'><pre>PandasIndex(Index([1.0], dtype=&#x27;float64&#x27;, name=&#x27;y&#x27;))</pre></div></li></ul></div></li><li class='xr-section-item'><input id='section-ded6907c-aeec-4a5e-afc5-33dea33093ff' class='xr-section-summary-in' type='checkbox' disabled ><label for='section-ded6907c-aeec-4a5e-afc5-33dea33093ff' class='xr-section-summary'  title='Expand/collapse section'>Attributes: <span>(0)</span></label><div class='xr-section-inline-details'></div><div class='xr-section-details'><dl class='xr-attrs'></dl></div></li></ul></div></div>"
      ],
      "text/plain": [
       "<xarray.Dataset>\n",
       "Dimensions:            (year: 1, x: 1, y: 1)\n",
       "Coordinates:\n",
       "  * year               (year) int32 0\n",
       "  * x                  (x) float64 1.0\n",
       "  * y                  (y) float64 1.0\n",
       "Data variables: (12/31)\n",
       "    water_temp_c       (year, x, y) int32 20\n",
       "    surface_area       (year, x, y) int32 1\n",
       "    volume             (year, x, y) int32 1\n",
       "    use_sed_temp       (x, y) bool True\n",
       "    stefan_boltzmann   (x, y) int32 10\n",
       "    cp_air             (x, y) int32 1\n",
       "    ...                 ...\n",
       "    cloudiness         (x, y) float64 0.1\n",
       "    wind_speed         (x, y) int32 3\n",
       "    wind_a             (x, y) int32 1\n",
       "    wind_b             (x, y) int32 1\n",
       "    wind_c             (x, y) int32 1\n",
       "    wind_kh_kw         (x, y) int32 1"
      ]
     },
     "execution_count": 1,
     "metadata": {},
     "output_type": "execute_result"
    }
   ],
   "source": [
    "import clearwater_modules as cwm\n",
    "import clearwater_modules.sorter as sorter\n",
    "import numba\n",
    "import random\n",
    "import hvplot.xarray\n",
    "import warnings\n",
    "warnings.filterwarnings(\"ignore\")\n",
    "\n",
    "initial_state_values = {'water_temp_c': 20, 'surface_area': 1, 'volume': 1}\n",
    "meteo_parameters = {\n",
    "    'air_temp_c': 20,\n",
    "    'q_solar': 400,\n",
    "    'sed_temp_c': 10,\n",
    "    'eair_mb': 2,\n",
    "    'pressure_mb': 1035,\n",
    "    'cloudiness': .1,\n",
    "    'wind_speed': 3,\n",
    "    'wind_a': 1,\n",
    "    'wind_b': 1,\n",
    "    'wind_c': 1,\n",
    "    'wind_kh_kw': 1\n",
    "}\n",
    "\n",
    "temp_parameters = {\n",
    "    'use_sed_temp': False,\n",
    "    'stefan_boltzmann': 10,\n",
    "    'cp_air': 1,\n",
    "    'emissivity_water': 1,\n",
    "    'gravity': 9.82,\n",
    "    'a0': 3333,\n",
    "    'a1': 3333,\n",
    "    'a2': 3333,\n",
    "    'a3': 3333,\n",
    "    'a4': 3333,\n",
    "    'a5': 3333,\n",
    "    'a6': 3333,\n",
    "    'pb': 3333,\n",
    "    'cps': 3333,\n",
    "    'h2': 3333,\n",
    "    'alphas': 3333,\n",
    "    'richardson_option': True\n",
    "}\n",
    "\n",
    "tsm_model = cwm.tsm.EnergyBudget(\n",
    "    initial_state_values=initial_state_values,  # mandatory\n",
    "    temp_parameters=temp_parameters,\n",
    "    meteo_parameters=meteo_parameters,\n",
    "    track_dynamic_variables=True,  # default is true\n",
    "    hotstart_dataset=None,  # default is None\n",
    "    time_dim='year',  # default is \"timestep\"\n",
    ")\n",
    "\n",
    "#print(tsm_model.get_state_variables())\n",
    "tsm_model.dataset"
   ]
  },
  {
   "cell_type": "code",
   "execution_count": 6,
   "id": "664a7267",
   "metadata": {},
   "outputs": [
    {
     "data": {
      "text/plain": [
       "[Variable(name='water_temp_c', long_name='Water temperature', units='degC', description='TSM state variable for water temperature', use='state', process=CPUDispatcher(<function t_water_c at 0x000001F5AC65DDA0>)),\n",
       " Variable(name='surface_area', long_name='Surface area', units='m^2', description='Surface area', use='state', process=<function mock_surface_area at 0x000001F5A949CD60>),\n",
       " Variable(name='volume', long_name='Volume', units='m^3', description='Volume', use='state', process=<function mock_volume at 0x000001F5AC65E2A0>)]"
      ]
     },
     "execution_count": 6,
     "metadata": {},
     "output_type": "execute_result"
    }
   ],
   "source": [
    "tsm_model.get_state_variables()"
   ]
  },
  {
   "cell_type": "code",
   "execution_count": 8,
   "id": "76906763",
   "metadata": {},
   "outputs": [
    {
     "name": "stdout",
     "output_type": "stream",
     "text": [
      "Variable | Inputs\n",
      "------------------\n",
      "air_temp_k | ['air_temp_c']\n",
      "water_temp_k | ['water_temp_c']\n",
      "mixing_ratio_air | ['eair_mb', 'pressure_mb']\n",
      "density_air | ['pressure_mb', 'air_temp_k', 'mixing_ratio_air']\n",
      "density_water | ['water_temp_c']\n",
      "esat_mb | ['water_temp_k', 'a0', 'a1', 'a2', 'a3', 'a4', 'a5', 'a6']\n",
      "density_air_sat | ['water_temp_k', 'esat_mb', 'pressure_mb']\n",
      "ri_number | ['gravity', 'density_air', 'density_air_sat', 'wind_speed']\n",
      "ri_function | ['ri_number']\n",
      "lv | ['water_temp_k']\n",
      "cp_water | ['water_temp_c']\n",
      "emissivity_air | ['air_temp_k']\n",
      "wind_function | ['ri_function', 'wind_a', 'wind_b', 'wind_c', 'wind_speed']\n",
      "q_latent | ['pressure_mb', 'density_water', 'lv', 'wind_function', 'esat_mb', 'eair_mb']\n",
      "q_sensible | ['wind_kh_kw', 'cp_air', 'density_water', 'wind_function', 'air_temp_k', 'water_temp_k']\n",
      "q_sediment | ['use_sed_temp', 'pb', 'cps', 'alphas', 'h2', 'sed_temp_c', 'water_temp_c']\n",
      "dTdt_sediment_c | ['use_sed_temp', 'alphas', 'h2', 'water_temp_c', 'sed_temp_c']\n",
      "q_longwave_down | ['air_temp_k', 'emissivity_air', 'cloudiness', 'stefan_boltzmann']\n",
      "q_longwave_up | ['water_temp_k', 'emissivity_water', 'stefan_boltzmann']\n",
      "surface_area | ['surface_area']\n",
      "volume | ['volume']\n",
      "q_net | ['q_sensible', 'q_latent', 'q_longwave_up', 'q_longwave_down', 'q_solar', 'q_sediment']\n",
      "dTdt_water_c | ['q_net', 'surface_area', 'volume', 'density_water', 'cp_water']\n",
      "water_temp_c | ['water_temp_c', 'dTdt_water_c']\n"
     ]
    }
   ],
   "source": [
    "print('Variable | Inputs\\n------------------')\n",
    "for i in tsm_model.computation_order:\n",
    "    print(f'{i.name} | {sorter.get_process_args(i.process)}')"
   ]
  },
  {
   "cell_type": "code",
   "execution_count": 12,
   "id": "af03305c",
   "metadata": {},
   "outputs": [
    {
     "data": {
      "text/html": [
       "<div><svg style=\"position: absolute; width: 0; height: 0; overflow: hidden\">\n",
       "<defs>\n",
       "<symbol id=\"icon-database\" viewBox=\"0 0 32 32\">\n",
       "<path d=\"M16 0c-8.837 0-16 2.239-16 5v4c0 2.761 7.163 5 16 5s16-2.239 16-5v-4c0-2.761-7.163-5-16-5z\"></path>\n",
       "<path d=\"M16 17c-8.837 0-16-2.239-16-5v6c0 2.761 7.163 5 16 5s16-2.239 16-5v-6c0 2.761-7.163 5-16 5z\"></path>\n",
       "<path d=\"M16 26c-8.837 0-16-2.239-16-5v6c0 2.761 7.163 5 16 5s16-2.239 16-5v-6c0 2.761-7.163 5-16 5z\"></path>\n",
       "</symbol>\n",
       "<symbol id=\"icon-file-text2\" viewBox=\"0 0 32 32\">\n",
       "<path d=\"M28.681 7.159c-0.694-0.947-1.662-2.053-2.724-3.116s-2.169-2.030-3.116-2.724c-1.612-1.182-2.393-1.319-2.841-1.319h-15.5c-1.378 0-2.5 1.121-2.5 2.5v27c0 1.378 1.122 2.5 2.5 2.5h23c1.378 0 2.5-1.122 2.5-2.5v-19.5c0-0.448-0.137-1.23-1.319-2.841zM24.543 5.457c0.959 0.959 1.712 1.825 2.268 2.543h-4.811v-4.811c0.718 0.556 1.584 1.309 2.543 2.268zM28 29.5c0 0.271-0.229 0.5-0.5 0.5h-23c-0.271 0-0.5-0.229-0.5-0.5v-27c0-0.271 0.229-0.5 0.5-0.5 0 0 15.499-0 15.5 0v7c0 0.552 0.448 1 1 1h7v19.5z\"></path>\n",
       "<path d=\"M23 26h-14c-0.552 0-1-0.448-1-1s0.448-1 1-1h14c0.552 0 1 0.448 1 1s-0.448 1-1 1z\"></path>\n",
       "<path d=\"M23 22h-14c-0.552 0-1-0.448-1-1s0.448-1 1-1h14c0.552 0 1 0.448 1 1s-0.448 1-1 1z\"></path>\n",
       "<path d=\"M23 18h-14c-0.552 0-1-0.448-1-1s0.448-1 1-1h14c0.552 0 1 0.448 1 1s-0.448 1-1 1z\"></path>\n",
       "</symbol>\n",
       "</defs>\n",
       "</svg>\n",
       "<style>/* CSS stylesheet for displaying xarray objects in jupyterlab.\n",
       " *\n",
       " */\n",
       "\n",
       ":root {\n",
       "  --xr-font-color0: var(--jp-content-font-color0, rgba(0, 0, 0, 1));\n",
       "  --xr-font-color2: var(--jp-content-font-color2, rgba(0, 0, 0, 0.54));\n",
       "  --xr-font-color3: var(--jp-content-font-color3, rgba(0, 0, 0, 0.38));\n",
       "  --xr-border-color: var(--jp-border-color2, #e0e0e0);\n",
       "  --xr-disabled-color: var(--jp-layout-color3, #bdbdbd);\n",
       "  --xr-background-color: var(--jp-layout-color0, white);\n",
       "  --xr-background-color-row-even: var(--jp-layout-color1, white);\n",
       "  --xr-background-color-row-odd: var(--jp-layout-color2, #eeeeee);\n",
       "}\n",
       "\n",
       "html[theme=dark],\n",
       "body[data-theme=dark],\n",
       "body.vscode-dark {\n",
       "  --xr-font-color0: rgba(255, 255, 255, 1);\n",
       "  --xr-font-color2: rgba(255, 255, 255, 0.54);\n",
       "  --xr-font-color3: rgba(255, 255, 255, 0.38);\n",
       "  --xr-border-color: #1F1F1F;\n",
       "  --xr-disabled-color: #515151;\n",
       "  --xr-background-color: #111111;\n",
       "  --xr-background-color-row-even: #111111;\n",
       "  --xr-background-color-row-odd: #313131;\n",
       "}\n",
       "\n",
       ".xr-wrap {\n",
       "  display: block !important;\n",
       "  min-width: 300px;\n",
       "  max-width: 700px;\n",
       "}\n",
       "\n",
       ".xr-text-repr-fallback {\n",
       "  /* fallback to plain text repr when CSS is not injected (untrusted notebook) */\n",
       "  display: none;\n",
       "}\n",
       "\n",
       ".xr-header {\n",
       "  padding-top: 6px;\n",
       "  padding-bottom: 6px;\n",
       "  margin-bottom: 4px;\n",
       "  border-bottom: solid 1px var(--xr-border-color);\n",
       "}\n",
       "\n",
       ".xr-header > div,\n",
       ".xr-header > ul {\n",
       "  display: inline;\n",
       "  margin-top: 0;\n",
       "  margin-bottom: 0;\n",
       "}\n",
       "\n",
       ".xr-obj-type,\n",
       ".xr-array-name {\n",
       "  margin-left: 2px;\n",
       "  margin-right: 10px;\n",
       "}\n",
       "\n",
       ".xr-obj-type {\n",
       "  color: var(--xr-font-color2);\n",
       "}\n",
       "\n",
       ".xr-sections {\n",
       "  padding-left: 0 !important;\n",
       "  display: grid;\n",
       "  grid-template-columns: 150px auto auto 1fr 20px 20px;\n",
       "}\n",
       "\n",
       ".xr-section-item {\n",
       "  display: contents;\n",
       "}\n",
       "\n",
       ".xr-section-item input {\n",
       "  display: none;\n",
       "}\n",
       "\n",
       ".xr-section-item input + label {\n",
       "  color: var(--xr-disabled-color);\n",
       "}\n",
       "\n",
       ".xr-section-item input:enabled + label {\n",
       "  cursor: pointer;\n",
       "  color: var(--xr-font-color2);\n",
       "}\n",
       "\n",
       ".xr-section-item input:enabled + label:hover {\n",
       "  color: var(--xr-font-color0);\n",
       "}\n",
       "\n",
       ".xr-section-summary {\n",
       "  grid-column: 1;\n",
       "  color: var(--xr-font-color2);\n",
       "  font-weight: 500;\n",
       "}\n",
       "\n",
       ".xr-section-summary > span {\n",
       "  display: inline-block;\n",
       "  padding-left: 0.5em;\n",
       "}\n",
       "\n",
       ".xr-section-summary-in:disabled + label {\n",
       "  color: var(--xr-font-color2);\n",
       "}\n",
       "\n",
       ".xr-section-summary-in + label:before {\n",
       "  display: inline-block;\n",
       "  content: '►';\n",
       "  font-size: 11px;\n",
       "  width: 15px;\n",
       "  text-align: center;\n",
       "}\n",
       "\n",
       ".xr-section-summary-in:disabled + label:before {\n",
       "  color: var(--xr-disabled-color);\n",
       "}\n",
       "\n",
       ".xr-section-summary-in:checked + label:before {\n",
       "  content: '▼';\n",
       "}\n",
       "\n",
       ".xr-section-summary-in:checked + label > span {\n",
       "  display: none;\n",
       "}\n",
       "\n",
       ".xr-section-summary,\n",
       ".xr-section-inline-details {\n",
       "  padding-top: 4px;\n",
       "  padding-bottom: 4px;\n",
       "}\n",
       "\n",
       ".xr-section-inline-details {\n",
       "  grid-column: 2 / -1;\n",
       "}\n",
       "\n",
       ".xr-section-details {\n",
       "  display: none;\n",
       "  grid-column: 1 / -1;\n",
       "  margin-bottom: 5px;\n",
       "}\n",
       "\n",
       ".xr-section-summary-in:checked ~ .xr-section-details {\n",
       "  display: contents;\n",
       "}\n",
       "\n",
       ".xr-array-wrap {\n",
       "  grid-column: 1 / -1;\n",
       "  display: grid;\n",
       "  grid-template-columns: 20px auto;\n",
       "}\n",
       "\n",
       ".xr-array-wrap > label {\n",
       "  grid-column: 1;\n",
       "  vertical-align: top;\n",
       "}\n",
       "\n",
       ".xr-preview {\n",
       "  color: var(--xr-font-color3);\n",
       "}\n",
       "\n",
       ".xr-array-preview,\n",
       ".xr-array-data {\n",
       "  padding: 0 5px !important;\n",
       "  grid-column: 2;\n",
       "}\n",
       "\n",
       ".xr-array-data,\n",
       ".xr-array-in:checked ~ .xr-array-preview {\n",
       "  display: none;\n",
       "}\n",
       "\n",
       ".xr-array-in:checked ~ .xr-array-data,\n",
       ".xr-array-preview {\n",
       "  display: inline-block;\n",
       "}\n",
       "\n",
       ".xr-dim-list {\n",
       "  display: inline-block !important;\n",
       "  list-style: none;\n",
       "  padding: 0 !important;\n",
       "  margin: 0;\n",
       "}\n",
       "\n",
       ".xr-dim-list li {\n",
       "  display: inline-block;\n",
       "  padding: 0;\n",
       "  margin: 0;\n",
       "}\n",
       "\n",
       ".xr-dim-list:before {\n",
       "  content: '(';\n",
       "}\n",
       "\n",
       ".xr-dim-list:after {\n",
       "  content: ')';\n",
       "}\n",
       "\n",
       ".xr-dim-list li:not(:last-child):after {\n",
       "  content: ',';\n",
       "  padding-right: 5px;\n",
       "}\n",
       "\n",
       ".xr-has-index {\n",
       "  font-weight: bold;\n",
       "}\n",
       "\n",
       ".xr-var-list,\n",
       ".xr-var-item {\n",
       "  display: contents;\n",
       "}\n",
       "\n",
       ".xr-var-item > div,\n",
       ".xr-var-item label,\n",
       ".xr-var-item > .xr-var-name span {\n",
       "  background-color: var(--xr-background-color-row-even);\n",
       "  margin-bottom: 0;\n",
       "}\n",
       "\n",
       ".xr-var-item > .xr-var-name:hover span {\n",
       "  padding-right: 5px;\n",
       "}\n",
       "\n",
       ".xr-var-list > li:nth-child(odd) > div,\n",
       ".xr-var-list > li:nth-child(odd) > label,\n",
       ".xr-var-list > li:nth-child(odd) > .xr-var-name span {\n",
       "  background-color: var(--xr-background-color-row-odd);\n",
       "}\n",
       "\n",
       ".xr-var-name {\n",
       "  grid-column: 1;\n",
       "}\n",
       "\n",
       ".xr-var-dims {\n",
       "  grid-column: 2;\n",
       "}\n",
       "\n",
       ".xr-var-dtype {\n",
       "  grid-column: 3;\n",
       "  text-align: right;\n",
       "  color: var(--xr-font-color2);\n",
       "}\n",
       "\n",
       ".xr-var-preview {\n",
       "  grid-column: 4;\n",
       "}\n",
       "\n",
       ".xr-index-preview {\n",
       "  grid-column: 2 / 5;\n",
       "  color: var(--xr-font-color2);\n",
       "}\n",
       "\n",
       ".xr-var-name,\n",
       ".xr-var-dims,\n",
       ".xr-var-dtype,\n",
       ".xr-preview,\n",
       ".xr-attrs dt {\n",
       "  white-space: nowrap;\n",
       "  overflow: hidden;\n",
       "  text-overflow: ellipsis;\n",
       "  padding-right: 10px;\n",
       "}\n",
       "\n",
       ".xr-var-name:hover,\n",
       ".xr-var-dims:hover,\n",
       ".xr-var-dtype:hover,\n",
       ".xr-attrs dt:hover {\n",
       "  overflow: visible;\n",
       "  width: auto;\n",
       "  z-index: 1;\n",
       "}\n",
       "\n",
       ".xr-var-attrs,\n",
       ".xr-var-data,\n",
       ".xr-index-data {\n",
       "  display: none;\n",
       "  background-color: var(--xr-background-color) !important;\n",
       "  padding-bottom: 5px !important;\n",
       "}\n",
       "\n",
       ".xr-var-attrs-in:checked ~ .xr-var-attrs,\n",
       ".xr-var-data-in:checked ~ .xr-var-data,\n",
       ".xr-index-data-in:checked ~ .xr-index-data {\n",
       "  display: block;\n",
       "}\n",
       "\n",
       ".xr-var-data > table {\n",
       "  float: right;\n",
       "}\n",
       "\n",
       ".xr-var-name span,\n",
       ".xr-var-data,\n",
       ".xr-index-name div,\n",
       ".xr-index-data,\n",
       ".xr-attrs {\n",
       "  padding-left: 25px !important;\n",
       "}\n",
       "\n",
       ".xr-attrs,\n",
       ".xr-var-attrs,\n",
       ".xr-var-data,\n",
       ".xr-index-data {\n",
       "  grid-column: 1 / -1;\n",
       "}\n",
       "\n",
       "dl.xr-attrs {\n",
       "  padding: 0;\n",
       "  margin: 0;\n",
       "  display: grid;\n",
       "  grid-template-columns: 125px auto;\n",
       "}\n",
       "\n",
       ".xr-attrs dt,\n",
       ".xr-attrs dd {\n",
       "  padding: 0;\n",
       "  margin: 0;\n",
       "  float: left;\n",
       "  padding-right: 10px;\n",
       "  width: auto;\n",
       "}\n",
       "\n",
       ".xr-attrs dt {\n",
       "  font-weight: normal;\n",
       "  grid-column: 1;\n",
       "}\n",
       "\n",
       ".xr-attrs dt:hover span {\n",
       "  display: inline-block;\n",
       "  background: var(--xr-background-color);\n",
       "  padding-right: 10px;\n",
       "}\n",
       "\n",
       ".xr-attrs dd {\n",
       "  grid-column: 2;\n",
       "  white-space: pre-wrap;\n",
       "  word-break: break-all;\n",
       "}\n",
       "\n",
       ".xr-icon-database,\n",
       ".xr-icon-file-text2,\n",
       ".xr-no-icon {\n",
       "  display: inline-block;\n",
       "  vertical-align: middle;\n",
       "  width: 1em;\n",
       "  height: 1.5em !important;\n",
       "  stroke-width: 0;\n",
       "  stroke: currentColor;\n",
       "  fill: currentColor;\n",
       "}\n",
       "</style><pre class='xr-text-repr-fallback'>&lt;xarray.Dataset&gt;\n",
       "Dimensions:            (year: 2, x: 1, y: 1)\n",
       "Coordinates:\n",
       "  * year               (year) int32 0 1\n",
       "  * x                  (x) float64 1.0\n",
       "  * y                  (y) float64 1.0\n",
       "Data variables: (12/52)\n",
       "    water_temp_c       (year, x, y) float64 20.0 -7.427e+10\n",
       "    surface_area       (year, x, y) int32 1 1\n",
       "    volume             (year, x, y) int32 1 1\n",
       "    use_sed_temp       (x, y) bool True\n",
       "    stefan_boltzmann   (x, y) int32 10\n",
       "    cp_air             (x, y) int32 1\n",
       "    ...                 ...\n",
       "    q_sediment         (year, x, y) float64 nan -2.572e+03\n",
       "    dTdt_sediment_c    (year, x, y) float64 nan 0.006001\n",
       "    q_longwave_down    (year, x, y) float64 nan 5.958e+10\n",
       "    q_longwave_up      (year, x, y) float64 nan 7.386e+10\n",
       "    q_net              (year, x, y) float64 nan -3.1e+17\n",
       "    dTdt_water_c       (year, x, y) float64 nan -7.427e+10</pre><div class='xr-wrap' style='display:none'><div class='xr-header'><div class='xr-obj-type'>xarray.Dataset</div></div><ul class='xr-sections'><li class='xr-section-item'><input id='section-18da4560-35ec-41b3-8241-a61ff0e1fa5b' class='xr-section-summary-in' type='checkbox' disabled ><label for='section-18da4560-35ec-41b3-8241-a61ff0e1fa5b' class='xr-section-summary'  title='Expand/collapse section'>Dimensions:</label><div class='xr-section-inline-details'><ul class='xr-dim-list'><li><span class='xr-has-index'>year</span>: 2</li><li><span class='xr-has-index'>x</span>: 1</li><li><span class='xr-has-index'>y</span>: 1</li></ul></div><div class='xr-section-details'></div></li><li class='xr-section-item'><input id='section-79d519d7-9b41-4c47-96b2-80553d338d44' class='xr-section-summary-in' type='checkbox'  checked><label for='section-79d519d7-9b41-4c47-96b2-80553d338d44' class='xr-section-summary' >Coordinates: <span>(3)</span></label><div class='xr-section-inline-details'></div><div class='xr-section-details'><ul class='xr-var-list'><li class='xr-var-item'><div class='xr-var-name'><span class='xr-has-index'>year</span></div><div class='xr-var-dims'>(year)</div><div class='xr-var-dtype'>int32</div><div class='xr-var-preview xr-preview'>0 1</div><input id='attrs-2fbd4102-0df8-4e83-9abe-3697bea20624' class='xr-var-attrs-in' type='checkbox' disabled><label for='attrs-2fbd4102-0df8-4e83-9abe-3697bea20624' title='Show/Hide attributes'><svg class='icon xr-icon-file-text2'><use xlink:href='#icon-file-text2'></use></svg></label><input id='data-8524e233-7397-4e07-99fb-51c9317391d0' class='xr-var-data-in' type='checkbox'><label for='data-8524e233-7397-4e07-99fb-51c9317391d0' title='Show/Hide data repr'><svg class='icon xr-icon-database'><use xlink:href='#icon-database'></use></svg></label><div class='xr-var-attrs'><dl class='xr-attrs'></dl></div><div class='xr-var-data'><pre>array([0, 1])</pre></div></li><li class='xr-var-item'><div class='xr-var-name'><span class='xr-has-index'>x</span></div><div class='xr-var-dims'>(x)</div><div class='xr-var-dtype'>float64</div><div class='xr-var-preview xr-preview'>1.0</div><input id='attrs-83985064-ce54-48dd-80a8-d2eddd024f9e' class='xr-var-attrs-in' type='checkbox' disabled><label for='attrs-83985064-ce54-48dd-80a8-d2eddd024f9e' title='Show/Hide attributes'><svg class='icon xr-icon-file-text2'><use xlink:href='#icon-file-text2'></use></svg></label><input id='data-a5a61ca3-2740-4b76-975d-c5c9ba9de4fd' class='xr-var-data-in' type='checkbox'><label for='data-a5a61ca3-2740-4b76-975d-c5c9ba9de4fd' title='Show/Hide data repr'><svg class='icon xr-icon-database'><use xlink:href='#icon-database'></use></svg></label><div class='xr-var-attrs'><dl class='xr-attrs'></dl></div><div class='xr-var-data'><pre>array([1.])</pre></div></li><li class='xr-var-item'><div class='xr-var-name'><span class='xr-has-index'>y</span></div><div class='xr-var-dims'>(y)</div><div class='xr-var-dtype'>float64</div><div class='xr-var-preview xr-preview'>1.0</div><input id='attrs-181c94f4-37b4-4e5a-bf6a-2b811b55af73' class='xr-var-attrs-in' type='checkbox' disabled><label for='attrs-181c94f4-37b4-4e5a-bf6a-2b811b55af73' title='Show/Hide attributes'><svg class='icon xr-icon-file-text2'><use xlink:href='#icon-file-text2'></use></svg></label><input id='data-c8e99429-1fc7-4974-ade1-52823cfd8734' class='xr-var-data-in' type='checkbox'><label for='data-c8e99429-1fc7-4974-ade1-52823cfd8734' title='Show/Hide data repr'><svg class='icon xr-icon-database'><use xlink:href='#icon-database'></use></svg></label><div class='xr-var-attrs'><dl class='xr-attrs'></dl></div><div class='xr-var-data'><pre>array([1.])</pre></div></li></ul></div></li><li class='xr-section-item'><input id='section-5a5e9f5a-b634-4a8a-8946-c2611dd75531' class='xr-section-summary-in' type='checkbox'  ><label for='section-5a5e9f5a-b634-4a8a-8946-c2611dd75531' class='xr-section-summary' >Data variables: <span>(52)</span></label><div class='xr-section-inline-details'></div><div class='xr-section-details'><ul class='xr-var-list'><li class='xr-var-item'><div class='xr-var-name'><span>water_temp_c</span></div><div class='xr-var-dims'>(year, x, y)</div><div class='xr-var-dtype'>float64</div><div class='xr-var-preview xr-preview'>20.0 -7.427e+10</div><input id='attrs-7af1babd-f669-40cd-86f3-30e44bfa23b2' class='xr-var-attrs-in' type='checkbox' ><label for='attrs-7af1babd-f669-40cd-86f3-30e44bfa23b2' title='Show/Hide attributes'><svg class='icon xr-icon-file-text2'><use xlink:href='#icon-file-text2'></use></svg></label><input id='data-25746ce4-cf38-4245-b03f-780de4947fa0' class='xr-var-data-in' type='checkbox'><label for='data-25746ce4-cf38-4245-b03f-780de4947fa0' title='Show/Hide data repr'><svg class='icon xr-icon-database'><use xlink:href='#icon-database'></use></svg></label><div class='xr-var-attrs'><dl class='xr-attrs'><dt><span>long_name :</span></dt><dd>Water temperature</dd><dt><span>units :</span></dt><dd>degC</dd><dt><span>description :</span></dt><dd>TSM state variable for water temperature</dd></dl></div><div class='xr-var-data'><pre>array([[[ 2.00000000e+01]],\n",
       "\n",
       "       [[-7.42694906e+10]]])</pre></div></li><li class='xr-var-item'><div class='xr-var-name'><span>surface_area</span></div><div class='xr-var-dims'>(year, x, y)</div><div class='xr-var-dtype'>int32</div><div class='xr-var-preview xr-preview'>1 1</div><input id='attrs-7f5494ea-2a07-4e42-bee2-58115877a6be' class='xr-var-attrs-in' type='checkbox' ><label for='attrs-7f5494ea-2a07-4e42-bee2-58115877a6be' title='Show/Hide attributes'><svg class='icon xr-icon-file-text2'><use xlink:href='#icon-file-text2'></use></svg></label><input id='data-79e8465a-b5bd-41e3-afc4-c8bbbac717c7' class='xr-var-data-in' type='checkbox'><label for='data-79e8465a-b5bd-41e3-afc4-c8bbbac717c7' title='Show/Hide data repr'><svg class='icon xr-icon-database'><use xlink:href='#icon-database'></use></svg></label><div class='xr-var-attrs'><dl class='xr-attrs'><dt><span>long_name :</span></dt><dd>Surface area</dd><dt><span>units :</span></dt><dd>m^2</dd><dt><span>description :</span></dt><dd>Surface area</dd></dl></div><div class='xr-var-data'><pre>array([[[1]],\n",
       "\n",
       "       [[1]]])</pre></div></li><li class='xr-var-item'><div class='xr-var-name'><span>volume</span></div><div class='xr-var-dims'>(year, x, y)</div><div class='xr-var-dtype'>int32</div><div class='xr-var-preview xr-preview'>1 1</div><input id='attrs-58e721dc-3aa8-4360-b6e2-8e0ffd94a2c9' class='xr-var-attrs-in' type='checkbox' ><label for='attrs-58e721dc-3aa8-4360-b6e2-8e0ffd94a2c9' title='Show/Hide attributes'><svg class='icon xr-icon-file-text2'><use xlink:href='#icon-file-text2'></use></svg></label><input id='data-67604dbb-4417-4fbd-b341-7651d29c5c21' class='xr-var-data-in' type='checkbox'><label for='data-67604dbb-4417-4fbd-b341-7651d29c5c21' title='Show/Hide data repr'><svg class='icon xr-icon-database'><use xlink:href='#icon-database'></use></svg></label><div class='xr-var-attrs'><dl class='xr-attrs'><dt><span>long_name :</span></dt><dd>Volume</dd><dt><span>units :</span></dt><dd>m^3</dd><dt><span>description :</span></dt><dd>Volume</dd></dl></div><div class='xr-var-data'><pre>array([[[1]],\n",
       "\n",
       "       [[1]]])</pre></div></li><li class='xr-var-item'><div class='xr-var-name'><span>use_sed_temp</span></div><div class='xr-var-dims'>(x, y)</div><div class='xr-var-dtype'>bool</div><div class='xr-var-preview xr-preview'>True</div><input id='attrs-66dbfcea-3edf-4a2a-b791-97a3a7544d0c' class='xr-var-attrs-in' type='checkbox' ><label for='attrs-66dbfcea-3edf-4a2a-b791-97a3a7544d0c' title='Show/Hide attributes'><svg class='icon xr-icon-file-text2'><use xlink:href='#icon-file-text2'></use></svg></label><input id='data-5bd534af-7413-4b66-b225-4c241a34c337' class='xr-var-data-in' type='checkbox'><label for='data-5bd534af-7413-4b66-b225-4c241a34c337' title='Show/Hide data repr'><svg class='icon xr-icon-database'><use xlink:href='#icon-database'></use></svg></label><div class='xr-var-attrs'><dl class='xr-attrs'><dt><span>long_name :</span></dt><dd>Use Sediment Temperature?</dd><dt><span>units :</span></dt><dd>boolean</dd><dt><span>description :</span></dt><dd>Controls whether to use/calculate sediment temperature or not.</dd></dl></div><div class='xr-var-data'><pre>array([[ True]])</pre></div></li><li class='xr-var-item'><div class='xr-var-name'><span>stefan_boltzmann</span></div><div class='xr-var-dims'>(x, y)</div><div class='xr-var-dtype'>int32</div><div class='xr-var-preview xr-preview'>10</div><input id='attrs-70911385-dd2d-4516-85d8-e8e4c19694c1' class='xr-var-attrs-in' type='checkbox' ><label for='attrs-70911385-dd2d-4516-85d8-e8e4c19694c1' title='Show/Hide attributes'><svg class='icon xr-icon-file-text2'><use xlink:href='#icon-file-text2'></use></svg></label><input id='data-4a91935e-a5f4-4aa1-9424-f53d161c32fc' class='xr-var-data-in' type='checkbox'><label for='data-4a91935e-a5f4-4aa1-9424-f53d161c32fc' title='Show/Hide data repr'><svg class='icon xr-icon-database'><use xlink:href='#icon-database'></use></svg></label><div class='xr-var-attrs'><dl class='xr-attrs'><dt><span>long_name :</span></dt><dd>Stefan-Boltzmann Constant</dd><dt><span>units :</span></dt><dd>W m-2 K-4</dd><dt><span>description :</span></dt><dd>The Stefan-Boltzmann constant.</dd></dl></div><div class='xr-var-data'><pre>array([[10]])</pre></div></li><li class='xr-var-item'><div class='xr-var-name'><span>cp_air</span></div><div class='xr-var-dims'>(x, y)</div><div class='xr-var-dtype'>int32</div><div class='xr-var-preview xr-preview'>1</div><input id='attrs-19412d27-6be3-4b8e-ba0e-13a51b0bc335' class='xr-var-attrs-in' type='checkbox' ><label for='attrs-19412d27-6be3-4b8e-ba0e-13a51b0bc335' title='Show/Hide attributes'><svg class='icon xr-icon-file-text2'><use xlink:href='#icon-file-text2'></use></svg></label><input id='data-e4636527-3760-4ed5-bfa8-d3c0ecea7a40' class='xr-var-data-in' type='checkbox'><label for='data-e4636527-3760-4ed5-bfa8-d3c0ecea7a40' title='Show/Hide data repr'><svg class='icon xr-icon-database'><use xlink:href='#icon-database'></use></svg></label><div class='xr-var-attrs'><dl class='xr-attrs'><dt><span>long_name :</span></dt><dd>Specific Heat Capacity of Air</dd><dt><span>units :</span></dt><dd>J kg-1 K-1</dd><dt><span>description :</span></dt><dd>The specific heat capacity of air.</dd></dl></div><div class='xr-var-data'><pre>array([[1]])</pre></div></li><li class='xr-var-item'><div class='xr-var-name'><span>emissivity_water</span></div><div class='xr-var-dims'>(x, y)</div><div class='xr-var-dtype'>int32</div><div class='xr-var-preview xr-preview'>1</div><input id='attrs-90472d94-2df3-49ba-be95-ad55febfd9f3' class='xr-var-attrs-in' type='checkbox' ><label for='attrs-90472d94-2df3-49ba-be95-ad55febfd9f3' title='Show/Hide attributes'><svg class='icon xr-icon-file-text2'><use xlink:href='#icon-file-text2'></use></svg></label><input id='data-d6ea1c6d-3817-4502-b9e6-6ae8cbde8a12' class='xr-var-data-in' type='checkbox'><label for='data-d6ea1c6d-3817-4502-b9e6-6ae8cbde8a12' title='Show/Hide data repr'><svg class='icon xr-icon-database'><use xlink:href='#icon-database'></use></svg></label><div class='xr-var-attrs'><dl class='xr-attrs'><dt><span>long_name :</span></dt><dd>Emissivity of Water</dd><dt><span>units :</span></dt><dd>1</dd><dt><span>description :</span></dt><dd>The emissivity of water.</dd></dl></div><div class='xr-var-data'><pre>array([[1]])</pre></div></li><li class='xr-var-item'><div class='xr-var-name'><span>gravity</span></div><div class='xr-var-dims'>(x, y)</div><div class='xr-var-dtype'>float64</div><div class='xr-var-preview xr-preview'>9.82</div><input id='attrs-1b451d36-eb65-4143-815f-cea73d68de09' class='xr-var-attrs-in' type='checkbox' ><label for='attrs-1b451d36-eb65-4143-815f-cea73d68de09' title='Show/Hide attributes'><svg class='icon xr-icon-file-text2'><use xlink:href='#icon-file-text2'></use></svg></label><input id='data-64f0b13d-29ac-4a5b-920e-114e14e29ef8' class='xr-var-data-in' type='checkbox'><label for='data-64f0b13d-29ac-4a5b-920e-114e14e29ef8' title='Show/Hide data repr'><svg class='icon xr-icon-database'><use xlink:href='#icon-database'></use></svg></label><div class='xr-var-attrs'><dl class='xr-attrs'><dt><span>long_name :</span></dt><dd>Gravity</dd><dt><span>units :</span></dt><dd>m s-2</dd><dt><span>description :</span></dt><dd>The acceleration due to gravity.</dd></dl></div><div class='xr-var-data'><pre>array([[9.82]])</pre></div></li><li class='xr-var-item'><div class='xr-var-name'><span>a0</span></div><div class='xr-var-dims'>(x, y)</div><div class='xr-var-dtype'>int32</div><div class='xr-var-preview xr-preview'>3333</div><input id='attrs-ec10b7a6-fa46-4ed8-955d-aebd598b2f42' class='xr-var-attrs-in' type='checkbox' ><label for='attrs-ec10b7a6-fa46-4ed8-955d-aebd598b2f42' title='Show/Hide attributes'><svg class='icon xr-icon-file-text2'><use xlink:href='#icon-file-text2'></use></svg></label><input id='data-4bb2f95b-7dcc-43a1-8363-d9647ec3888c' class='xr-var-data-in' type='checkbox'><label for='data-4bb2f95b-7dcc-43a1-8363-d9647ec3888c' title='Show/Hide data repr'><svg class='icon xr-icon-database'><use xlink:href='#icon-database'></use></svg></label><div class='xr-var-attrs'><dl class='xr-attrs'><dt><span>long_name :</span></dt><dd>Albedo of Water</dd><dt><span>units :</span></dt><dd>unitless</dd><dt><span>description :</span></dt><dd>The albedo of water.</dd></dl></div><div class='xr-var-data'><pre>array([[3333]])</pre></div></li><li class='xr-var-item'><div class='xr-var-name'><span>a1</span></div><div class='xr-var-dims'>(x, y)</div><div class='xr-var-dtype'>int32</div><div class='xr-var-preview xr-preview'>3333</div><input id='attrs-f6cb80b6-1d21-4b05-881f-9525eea6a8ab' class='xr-var-attrs-in' type='checkbox' ><label for='attrs-f6cb80b6-1d21-4b05-881f-9525eea6a8ab' title='Show/Hide attributes'><svg class='icon xr-icon-file-text2'><use xlink:href='#icon-file-text2'></use></svg></label><input id='data-59026566-7372-4624-9b89-984fb052df61' class='xr-var-data-in' type='checkbox'><label for='data-59026566-7372-4624-9b89-984fb052df61' title='Show/Hide data repr'><svg class='icon xr-icon-database'><use xlink:href='#icon-database'></use></svg></label><div class='xr-var-attrs'><dl class='xr-attrs'><dt><span>long_name :</span></dt><dd>Albedo of Water</dd><dt><span>units :</span></dt><dd>unitless</dd><dt><span>description :</span></dt><dd>The albedo of water.</dd></dl></div><div class='xr-var-data'><pre>array([[3333]])</pre></div></li><li class='xr-var-item'><div class='xr-var-name'><span>a2</span></div><div class='xr-var-dims'>(x, y)</div><div class='xr-var-dtype'>int32</div><div class='xr-var-preview xr-preview'>3333</div><input id='attrs-31acd77d-67d7-4745-981b-b0da21a7b0ed' class='xr-var-attrs-in' type='checkbox' ><label for='attrs-31acd77d-67d7-4745-981b-b0da21a7b0ed' title='Show/Hide attributes'><svg class='icon xr-icon-file-text2'><use xlink:href='#icon-file-text2'></use></svg></label><input id='data-c647ec38-40a6-4e31-addf-d3144b901f8e' class='xr-var-data-in' type='checkbox'><label for='data-c647ec38-40a6-4e31-addf-d3144b901f8e' title='Show/Hide data repr'><svg class='icon xr-icon-database'><use xlink:href='#icon-database'></use></svg></label><div class='xr-var-attrs'><dl class='xr-attrs'><dt><span>long_name :</span></dt><dd>Albedo of Water</dd><dt><span>units :</span></dt><dd>unitless</dd><dt><span>description :</span></dt><dd>The albedo of water.</dd></dl></div><div class='xr-var-data'><pre>array([[3333]])</pre></div></li><li class='xr-var-item'><div class='xr-var-name'><span>a3</span></div><div class='xr-var-dims'>(x, y)</div><div class='xr-var-dtype'>int32</div><div class='xr-var-preview xr-preview'>3333</div><input id='attrs-a55a6e29-265a-4f0e-8347-40c225025385' class='xr-var-attrs-in' type='checkbox' ><label for='attrs-a55a6e29-265a-4f0e-8347-40c225025385' title='Show/Hide attributes'><svg class='icon xr-icon-file-text2'><use xlink:href='#icon-file-text2'></use></svg></label><input id='data-905b115b-18a6-4fd3-bf75-20f0adaeb551' class='xr-var-data-in' type='checkbox'><label for='data-905b115b-18a6-4fd3-bf75-20f0adaeb551' title='Show/Hide data repr'><svg class='icon xr-icon-database'><use xlink:href='#icon-database'></use></svg></label><div class='xr-var-attrs'><dl class='xr-attrs'><dt><span>long_name :</span></dt><dd>Albedo of Water</dd><dt><span>units :</span></dt><dd>unitless</dd><dt><span>description :</span></dt><dd>The albedo of water.</dd></dl></div><div class='xr-var-data'><pre>array([[3333]])</pre></div></li><li class='xr-var-item'><div class='xr-var-name'><span>a4</span></div><div class='xr-var-dims'>(x, y)</div><div class='xr-var-dtype'>int32</div><div class='xr-var-preview xr-preview'>3333</div><input id='attrs-2cab5323-4dbd-41eb-abb8-24b02d7cc71b' class='xr-var-attrs-in' type='checkbox' ><label for='attrs-2cab5323-4dbd-41eb-abb8-24b02d7cc71b' title='Show/Hide attributes'><svg class='icon xr-icon-file-text2'><use xlink:href='#icon-file-text2'></use></svg></label><input id='data-c2a7489d-d097-4f60-af6e-4ba9a91a4e46' class='xr-var-data-in' type='checkbox'><label for='data-c2a7489d-d097-4f60-af6e-4ba9a91a4e46' title='Show/Hide data repr'><svg class='icon xr-icon-database'><use xlink:href='#icon-database'></use></svg></label><div class='xr-var-attrs'><dl class='xr-attrs'><dt><span>long_name :</span></dt><dd>Albedo of Water</dd><dt><span>units :</span></dt><dd>unitless</dd><dt><span>description :</span></dt><dd>The albedo of water.</dd></dl></div><div class='xr-var-data'><pre>array([[3333]])</pre></div></li><li class='xr-var-item'><div class='xr-var-name'><span>a5</span></div><div class='xr-var-dims'>(x, y)</div><div class='xr-var-dtype'>int32</div><div class='xr-var-preview xr-preview'>3333</div><input id='attrs-1647c98c-74f9-4098-aadd-16f84a8c392b' class='xr-var-attrs-in' type='checkbox' ><label for='attrs-1647c98c-74f9-4098-aadd-16f84a8c392b' title='Show/Hide attributes'><svg class='icon xr-icon-file-text2'><use xlink:href='#icon-file-text2'></use></svg></label><input id='data-ebbed2d4-f952-4462-8971-21a35a2c98ed' class='xr-var-data-in' type='checkbox'><label for='data-ebbed2d4-f952-4462-8971-21a35a2c98ed' title='Show/Hide data repr'><svg class='icon xr-icon-database'><use xlink:href='#icon-database'></use></svg></label><div class='xr-var-attrs'><dl class='xr-attrs'><dt><span>long_name :</span></dt><dd>Albedo of Water</dd><dt><span>units :</span></dt><dd>unitless</dd><dt><span>description :</span></dt><dd>The albedo of water.</dd></dl></div><div class='xr-var-data'><pre>array([[3333]])</pre></div></li><li class='xr-var-item'><div class='xr-var-name'><span>a6</span></div><div class='xr-var-dims'>(x, y)</div><div class='xr-var-dtype'>int32</div><div class='xr-var-preview xr-preview'>3333</div><input id='attrs-60fde5ee-6219-408c-94ac-96e9b1bc36b0' class='xr-var-attrs-in' type='checkbox' ><label for='attrs-60fde5ee-6219-408c-94ac-96e9b1bc36b0' title='Show/Hide attributes'><svg class='icon xr-icon-file-text2'><use xlink:href='#icon-file-text2'></use></svg></label><input id='data-a8d0a9c1-de4d-443d-8d90-056d3ec43449' class='xr-var-data-in' type='checkbox'><label for='data-a8d0a9c1-de4d-443d-8d90-056d3ec43449' title='Show/Hide data repr'><svg class='icon xr-icon-database'><use xlink:href='#icon-database'></use></svg></label><div class='xr-var-attrs'><dl class='xr-attrs'><dt><span>long_name :</span></dt><dd>Albedo of Water</dd><dt><span>units :</span></dt><dd>unitless</dd><dt><span>description :</span></dt><dd>The albedo of water.</dd></dl></div><div class='xr-var-data'><pre>array([[3333]])</pre></div></li><li class='xr-var-item'><div class='xr-var-name'><span>pb</span></div><div class='xr-var-dims'>(x, y)</div><div class='xr-var-dtype'>int32</div><div class='xr-var-preview xr-preview'>3333</div><input id='attrs-f9b347f4-8f63-4fbf-8ef8-55bb5cd857de' class='xr-var-attrs-in' type='checkbox' ><label for='attrs-f9b347f4-8f63-4fbf-8ef8-55bb5cd857de' title='Show/Hide attributes'><svg class='icon xr-icon-file-text2'><use xlink:href='#icon-file-text2'></use></svg></label><input id='data-7aeb3808-6879-499e-bacb-21be7eaf4acc' class='xr-var-data-in' type='checkbox'><label for='data-7aeb3808-6879-499e-bacb-21be7eaf4acc' title='Show/Hide data repr'><svg class='icon xr-icon-database'><use xlink:href='#icon-database'></use></svg></label><div class='xr-var-attrs'><dl class='xr-attrs'><dt><span>long_name :</span></dt><dd>Bulk Density of Sediment</dd><dt><span>units :</span></dt><dd>kg m-3</dd><dt><span>description :</span></dt><dd>The bulk density of sediment.</dd></dl></div><div class='xr-var-data'><pre>array([[3333]])</pre></div></li><li class='xr-var-item'><div class='xr-var-name'><span>cps</span></div><div class='xr-var-dims'>(x, y)</div><div class='xr-var-dtype'>int32</div><div class='xr-var-preview xr-preview'>3333</div><input id='attrs-68ca1f99-2779-4e77-ba7d-ec214a9a5338' class='xr-var-attrs-in' type='checkbox' ><label for='attrs-68ca1f99-2779-4e77-ba7d-ec214a9a5338' title='Show/Hide attributes'><svg class='icon xr-icon-file-text2'><use xlink:href='#icon-file-text2'></use></svg></label><input id='data-55994e5e-56ae-4b71-83d2-f2401c1370a8' class='xr-var-data-in' type='checkbox'><label for='data-55994e5e-56ae-4b71-83d2-f2401c1370a8' title='Show/Hide data repr'><svg class='icon xr-icon-database'><use xlink:href='#icon-database'></use></svg></label><div class='xr-var-attrs'><dl class='xr-attrs'><dt><span>long_name :</span></dt><dd>CPS</dd><dt><span>units :</span></dt><dd>J kg-1 K-1</dd><dt><span>description :</span></dt><dd>The CPS.</dd></dl></div><div class='xr-var-data'><pre>array([[3333]])</pre></div></li><li class='xr-var-item'><div class='xr-var-name'><span>h2</span></div><div class='xr-var-dims'>(x, y)</div><div class='xr-var-dtype'>int32</div><div class='xr-var-preview xr-preview'>3333</div><input id='attrs-2c8b1453-a47b-4dc1-ac38-b68bca546f28' class='xr-var-attrs-in' type='checkbox' ><label for='attrs-2c8b1453-a47b-4dc1-ac38-b68bca546f28' title='Show/Hide attributes'><svg class='icon xr-icon-file-text2'><use xlink:href='#icon-file-text2'></use></svg></label><input id='data-d97bf86d-5eba-46ba-a588-72b0710515b0' class='xr-var-data-in' type='checkbox'><label for='data-d97bf86d-5eba-46ba-a588-72b0710515b0' title='Show/Hide data repr'><svg class='icon xr-icon-database'><use xlink:href='#icon-database'></use></svg></label><div class='xr-var-attrs'><dl class='xr-attrs'><dt><span>long_name :</span></dt><dd>H2</dd><dt><span>units :</span></dt><dd>m</dd><dt><span>description :</span></dt><dd>The H2.</dd></dl></div><div class='xr-var-data'><pre>array([[3333]])</pre></div></li><li class='xr-var-item'><div class='xr-var-name'><span>alphas</span></div><div class='xr-var-dims'>(x, y)</div><div class='xr-var-dtype'>int32</div><div class='xr-var-preview xr-preview'>3333</div><input id='attrs-145d0d58-6ed0-45f6-9970-4733d4ea29db' class='xr-var-attrs-in' type='checkbox' ><label for='attrs-145d0d58-6ed0-45f6-9970-4733d4ea29db' title='Show/Hide attributes'><svg class='icon xr-icon-file-text2'><use xlink:href='#icon-file-text2'></use></svg></label><input id='data-f78473b7-8a7c-47fe-b871-2e6ec260b22d' class='xr-var-data-in' type='checkbox'><label for='data-f78473b7-8a7c-47fe-b871-2e6ec260b22d' title='Show/Hide data repr'><svg class='icon xr-icon-database'><use xlink:href='#icon-database'></use></svg></label><div class='xr-var-attrs'><dl class='xr-attrs'><dt><span>long_name :</span></dt><dd>Alphas</dd><dt><span>units :</span></dt><dd>m-1</dd><dt><span>description :</span></dt><dd>The alphas.</dd></dl></div><div class='xr-var-data'><pre>array([[3333]])</pre></div></li><li class='xr-var-item'><div class='xr-var-name'><span>richardson_option</span></div><div class='xr-var-dims'>(x, y)</div><div class='xr-var-dtype'>bool</div><div class='xr-var-preview xr-preview'>True</div><input id='attrs-e0f81907-9ce5-4a2b-936b-afffd023e2b3' class='xr-var-attrs-in' type='checkbox' ><label for='attrs-e0f81907-9ce5-4a2b-936b-afffd023e2b3' title='Show/Hide attributes'><svg class='icon xr-icon-file-text2'><use xlink:href='#icon-file-text2'></use></svg></label><input id='data-e7244d76-40dc-46ed-8996-9b11a9fe2765' class='xr-var-data-in' type='checkbox'><label for='data-e7244d76-40dc-46ed-8996-9b11a9fe2765' title='Show/Hide data repr'><svg class='icon xr-icon-database'><use xlink:href='#icon-database'></use></svg></label><div class='xr-var-attrs'><dl class='xr-attrs'><dt><span>long_name :</span></dt><dd>Richardson Option</dd><dt><span>units :</span></dt><dd>unitless</dd><dt><span>description :</span></dt><dd>The Richardson option.</dd></dl></div><div class='xr-var-data'><pre>array([[ True]])</pre></div></li><li class='xr-var-item'><div class='xr-var-name'><span>air_temp_c</span></div><div class='xr-var-dims'>(x, y)</div><div class='xr-var-dtype'>int32</div><div class='xr-var-preview xr-preview'>20</div><input id='attrs-467e9c33-a873-4ee2-ae26-977a44afc1fc' class='xr-var-attrs-in' type='checkbox' ><label for='attrs-467e9c33-a873-4ee2-ae26-977a44afc1fc' title='Show/Hide attributes'><svg class='icon xr-icon-file-text2'><use xlink:href='#icon-file-text2'></use></svg></label><input id='data-71d28dbf-756d-4077-b921-5941cd08b49a' class='xr-var-data-in' type='checkbox'><label for='data-71d28dbf-756d-4077-b921-5941cd08b49a' title='Show/Hide data repr'><svg class='icon xr-icon-database'><use xlink:href='#icon-database'></use></svg></label><div class='xr-var-attrs'><dl class='xr-attrs'><dt><span>long_name :</span></dt><dd>Air Temperature</dd><dt><span>units :</span></dt><dd>C</dd><dt><span>description :</span></dt><dd>The air temperature.</dd></dl></div><div class='xr-var-data'><pre>array([[20]])</pre></div></li><li class='xr-var-item'><div class='xr-var-name'><span>q_solar</span></div><div class='xr-var-dims'>(x, y)</div><div class='xr-var-dtype'>int32</div><div class='xr-var-preview xr-preview'>400</div><input id='attrs-818f9ed5-35c3-488b-951f-cc9db7416e11' class='xr-var-attrs-in' type='checkbox' ><label for='attrs-818f9ed5-35c3-488b-951f-cc9db7416e11' title='Show/Hide attributes'><svg class='icon xr-icon-file-text2'><use xlink:href='#icon-file-text2'></use></svg></label><input id='data-3d44d62b-7950-413a-9bc5-c3fbc222f639' class='xr-var-data-in' type='checkbox'><label for='data-3d44d62b-7950-413a-9bc5-c3fbc222f639' title='Show/Hide data repr'><svg class='icon xr-icon-database'><use xlink:href='#icon-database'></use></svg></label><div class='xr-var-attrs'><dl class='xr-attrs'><dt><span>long_name :</span></dt><dd>Solar Heat Flux</dd><dt><span>units :</span></dt><dd>W m-2</dd><dt><span>description :</span></dt><dd>The solar heat flux.</dd></dl></div><div class='xr-var-data'><pre>array([[400]])</pre></div></li><li class='xr-var-item'><div class='xr-var-name'><span>sed_temp_c</span></div><div class='xr-var-dims'>(x, y)</div><div class='xr-var-dtype'>int32</div><div class='xr-var-preview xr-preview'>10</div><input id='attrs-348f9d48-6861-4b2e-a75a-7008a954c746' class='xr-var-attrs-in' type='checkbox' ><label for='attrs-348f9d48-6861-4b2e-a75a-7008a954c746' title='Show/Hide attributes'><svg class='icon xr-icon-file-text2'><use xlink:href='#icon-file-text2'></use></svg></label><input id='data-a6f6059e-d1d9-48e1-bf9e-b1974c67ce07' class='xr-var-data-in' type='checkbox'><label for='data-a6f6059e-d1d9-48e1-bf9e-b1974c67ce07' title='Show/Hide data repr'><svg class='icon xr-icon-database'><use xlink:href='#icon-database'></use></svg></label><div class='xr-var-attrs'><dl class='xr-attrs'><dt><span>long_name :</span></dt><dd>Sediment Temperature</dd><dt><span>units :</span></dt><dd>C</dd><dt><span>description :</span></dt><dd>The sediment temperature.</dd></dl></div><div class='xr-var-data'><pre>array([[10]])</pre></div></li><li class='xr-var-item'><div class='xr-var-name'><span>eair_mb</span></div><div class='xr-var-dims'>(x, y)</div><div class='xr-var-dtype'>int32</div><div class='xr-var-preview xr-preview'>2</div><input id='attrs-8879501c-6573-4665-8b3e-b51ad37ff665' class='xr-var-attrs-in' type='checkbox' ><label for='attrs-8879501c-6573-4665-8b3e-b51ad37ff665' title='Show/Hide attributes'><svg class='icon xr-icon-file-text2'><use xlink:href='#icon-file-text2'></use></svg></label><input id='data-89f2d81e-601b-472c-a93c-ff7b6a0a1720' class='xr-var-data-in' type='checkbox'><label for='data-89f2d81e-601b-472c-a93c-ff7b6a0a1720' title='Show/Hide data repr'><svg class='icon xr-icon-database'><use xlink:href='#icon-database'></use></svg></label><div class='xr-var-attrs'><dl class='xr-attrs'><dt><span>long_name :</span></dt><dd>Eair MB</dd><dt><span>units :</span></dt><dd>mb</dd><dt><span>description :</span></dt><dd>The eair MB.</dd></dl></div><div class='xr-var-data'><pre>array([[2]])</pre></div></li><li class='xr-var-item'><div class='xr-var-name'><span>pressure_mb</span></div><div class='xr-var-dims'>(x, y)</div><div class='xr-var-dtype'>int32</div><div class='xr-var-preview xr-preview'>1035</div><input id='attrs-eee0687d-df48-438a-8024-aeef00d8f45d' class='xr-var-attrs-in' type='checkbox' ><label for='attrs-eee0687d-df48-438a-8024-aeef00d8f45d' title='Show/Hide attributes'><svg class='icon xr-icon-file-text2'><use xlink:href='#icon-file-text2'></use></svg></label><input id='data-6b87029f-cc07-4a21-bb1f-fd6fa374ecc3' class='xr-var-data-in' type='checkbox'><label for='data-6b87029f-cc07-4a21-bb1f-fd6fa374ecc3' title='Show/Hide data repr'><svg class='icon xr-icon-database'><use xlink:href='#icon-database'></use></svg></label><div class='xr-var-attrs'><dl class='xr-attrs'><dt><span>long_name :</span></dt><dd>Pressure</dd><dt><span>units :</span></dt><dd>mb</dd><dt><span>description :</span></dt><dd>The pressure.</dd></dl></div><div class='xr-var-data'><pre>array([[1035]])</pre></div></li><li class='xr-var-item'><div class='xr-var-name'><span>cloudiness</span></div><div class='xr-var-dims'>(x, y)</div><div class='xr-var-dtype'>float64</div><div class='xr-var-preview xr-preview'>0.1</div><input id='attrs-15befa6d-ee2b-4540-9f4d-223468cbec38' class='xr-var-attrs-in' type='checkbox' ><label for='attrs-15befa6d-ee2b-4540-9f4d-223468cbec38' title='Show/Hide attributes'><svg class='icon xr-icon-file-text2'><use xlink:href='#icon-file-text2'></use></svg></label><input id='data-ca28e776-ba1b-4961-aac5-35d0d2247364' class='xr-var-data-in' type='checkbox'><label for='data-ca28e776-ba1b-4961-aac5-35d0d2247364' title='Show/Hide data repr'><svg class='icon xr-icon-database'><use xlink:href='#icon-database'></use></svg></label><div class='xr-var-attrs'><dl class='xr-attrs'><dt><span>long_name :</span></dt><dd>Cloudiness</dd><dt><span>units :</span></dt><dd>unitless</dd><dt><span>description :</span></dt><dd>The cloudiness.</dd></dl></div><div class='xr-var-data'><pre>array([[0.1]])</pre></div></li><li class='xr-var-item'><div class='xr-var-name'><span>wind_speed</span></div><div class='xr-var-dims'>(x, y)</div><div class='xr-var-dtype'>int32</div><div class='xr-var-preview xr-preview'>3</div><input id='attrs-9e60fc4d-a7b9-4fe9-b990-f1f1cc70518b' class='xr-var-attrs-in' type='checkbox' ><label for='attrs-9e60fc4d-a7b9-4fe9-b990-f1f1cc70518b' title='Show/Hide attributes'><svg class='icon xr-icon-file-text2'><use xlink:href='#icon-file-text2'></use></svg></label><input id='data-99da6179-dfa9-4962-aa15-a82285c87452' class='xr-var-data-in' type='checkbox'><label for='data-99da6179-dfa9-4962-aa15-a82285c87452' title='Show/Hide data repr'><svg class='icon xr-icon-database'><use xlink:href='#icon-database'></use></svg></label><div class='xr-var-attrs'><dl class='xr-attrs'><dt><span>long_name :</span></dt><dd>Wind Speed</dd><dt><span>units :</span></dt><dd>m s-1</dd><dt><span>description :</span></dt><dd>The wind speed.</dd></dl></div><div class='xr-var-data'><pre>array([[3]])</pre></div></li><li class='xr-var-item'><div class='xr-var-name'><span>wind_a</span></div><div class='xr-var-dims'>(x, y)</div><div class='xr-var-dtype'>int32</div><div class='xr-var-preview xr-preview'>1</div><input id='attrs-79150f2f-b3d8-44ff-bad7-661e18a6a8c9' class='xr-var-attrs-in' type='checkbox' ><label for='attrs-79150f2f-b3d8-44ff-bad7-661e18a6a8c9' title='Show/Hide attributes'><svg class='icon xr-icon-file-text2'><use xlink:href='#icon-file-text2'></use></svg></label><input id='data-75fcce4b-7d9d-448d-8aa3-bc4193c4695b' class='xr-var-data-in' type='checkbox'><label for='data-75fcce4b-7d9d-448d-8aa3-bc4193c4695b' title='Show/Hide data repr'><svg class='icon xr-icon-database'><use xlink:href='#icon-database'></use></svg></label><div class='xr-var-attrs'><dl class='xr-attrs'><dt><span>long_name :</span></dt><dd>Wind A</dd><dt><span>units :</span></dt><dd>m s-1</dd><dt><span>description :</span></dt><dd>The wind A.</dd></dl></div><div class='xr-var-data'><pre>array([[1]])</pre></div></li><li class='xr-var-item'><div class='xr-var-name'><span>wind_b</span></div><div class='xr-var-dims'>(x, y)</div><div class='xr-var-dtype'>int32</div><div class='xr-var-preview xr-preview'>1</div><input id='attrs-9d015b93-ee4c-4337-beb0-e4b8c86c97db' class='xr-var-attrs-in' type='checkbox' ><label for='attrs-9d015b93-ee4c-4337-beb0-e4b8c86c97db' title='Show/Hide attributes'><svg class='icon xr-icon-file-text2'><use xlink:href='#icon-file-text2'></use></svg></label><input id='data-12706ba8-d65c-41c0-865d-9a2cf670f5e6' class='xr-var-data-in' type='checkbox'><label for='data-12706ba8-d65c-41c0-865d-9a2cf670f5e6' title='Show/Hide data repr'><svg class='icon xr-icon-database'><use xlink:href='#icon-database'></use></svg></label><div class='xr-var-attrs'><dl class='xr-attrs'><dt><span>long_name :</span></dt><dd>Wind B</dd><dt><span>units :</span></dt><dd>m s-1</dd><dt><span>description :</span></dt><dd>The wind B.</dd></dl></div><div class='xr-var-data'><pre>array([[1]])</pre></div></li><li class='xr-var-item'><div class='xr-var-name'><span>wind_c</span></div><div class='xr-var-dims'>(x, y)</div><div class='xr-var-dtype'>int32</div><div class='xr-var-preview xr-preview'>1</div><input id='attrs-7feb6709-e9d8-458c-a4c5-ee8c3e0fa26d' class='xr-var-attrs-in' type='checkbox' ><label for='attrs-7feb6709-e9d8-458c-a4c5-ee8c3e0fa26d' title='Show/Hide attributes'><svg class='icon xr-icon-file-text2'><use xlink:href='#icon-file-text2'></use></svg></label><input id='data-24744249-7a3c-472c-8237-bc721f08f46f' class='xr-var-data-in' type='checkbox'><label for='data-24744249-7a3c-472c-8237-bc721f08f46f' title='Show/Hide data repr'><svg class='icon xr-icon-database'><use xlink:href='#icon-database'></use></svg></label><div class='xr-var-attrs'><dl class='xr-attrs'><dt><span>long_name :</span></dt><dd>Wind C</dd><dt><span>units :</span></dt><dd>m s-1</dd><dt><span>description :</span></dt><dd>The wind C.</dd></dl></div><div class='xr-var-data'><pre>array([[1]])</pre></div></li><li class='xr-var-item'><div class='xr-var-name'><span>wind_kh_kw</span></div><div class='xr-var-dims'>(x, y)</div><div class='xr-var-dtype'>int32</div><div class='xr-var-preview xr-preview'>1</div><input id='attrs-6b34547e-3f2e-4dbd-b439-329aecd97b7e' class='xr-var-attrs-in' type='checkbox' ><label for='attrs-6b34547e-3f2e-4dbd-b439-329aecd97b7e' title='Show/Hide attributes'><svg class='icon xr-icon-file-text2'><use xlink:href='#icon-file-text2'></use></svg></label><input id='data-5e097029-89f0-453b-bb88-e98695fda86c' class='xr-var-data-in' type='checkbox'><label for='data-5e097029-89f0-453b-bb88-e98695fda86c' title='Show/Hide data repr'><svg class='icon xr-icon-database'><use xlink:href='#icon-database'></use></svg></label><div class='xr-var-attrs'><dl class='xr-attrs'><dt><span>long_name :</span></dt><dd>Wind KH KW</dd><dt><span>units :</span></dt><dd>m s-1</dd><dt><span>description :</span></dt><dd>The wind KH KW.</dd></dl></div><div class='xr-var-data'><pre>array([[1]])</pre></div></li><li class='xr-var-item'><div class='xr-var-name'><span>air_temp_k</span></div><div class='xr-var-dims'>(year, x, y)</div><div class='xr-var-dtype'>float64</div><div class='xr-var-preview xr-preview'>nan 293.2</div><input id='attrs-224063c2-9fd1-458e-a8f0-cc3c6976171b' class='xr-var-attrs-in' type='checkbox' ><label for='attrs-224063c2-9fd1-458e-a8f0-cc3c6976171b' title='Show/Hide attributes'><svg class='icon xr-icon-file-text2'><use xlink:href='#icon-file-text2'></use></svg></label><input id='data-161e5217-876e-42aa-975e-ed9778fbfc33' class='xr-var-data-in' type='checkbox'><label for='data-161e5217-876e-42aa-975e-ed9778fbfc33' title='Show/Hide data repr'><svg class='icon xr-icon-database'><use xlink:href='#icon-database'></use></svg></label><div class='xr-var-attrs'><dl class='xr-attrs'><dt><span>long_name :</span></dt><dd>Air temperature</dd><dt><span>units :</span></dt><dd>K</dd><dt><span>description :</span></dt><dd>Air temperature</dd></dl></div><div class='xr-var-data'><pre>array([[[   nan]],\n",
       "\n",
       "       [[293.16]]])</pre></div></li><li class='xr-var-item'><div class='xr-var-name'><span>water_temp_k</span></div><div class='xr-var-dims'>(year, x, y)</div><div class='xr-var-dtype'>float64</div><div class='xr-var-preview xr-preview'>nan 293.2</div><input id='attrs-e390c3b9-6084-44fd-9daa-83d65a1006cf' class='xr-var-attrs-in' type='checkbox' ><label for='attrs-e390c3b9-6084-44fd-9daa-83d65a1006cf' title='Show/Hide attributes'><svg class='icon xr-icon-file-text2'><use xlink:href='#icon-file-text2'></use></svg></label><input id='data-90d8a7b5-6173-4838-9cfd-f7fb0007f846' class='xr-var-data-in' type='checkbox'><label for='data-90d8a7b5-6173-4838-9cfd-f7fb0007f846' title='Show/Hide data repr'><svg class='icon xr-icon-database'><use xlink:href='#icon-database'></use></svg></label><div class='xr-var-attrs'><dl class='xr-attrs'><dt><span>long_name :</span></dt><dd>Water temperature</dd><dt><span>units :</span></dt><dd>K</dd><dt><span>description :</span></dt><dd>Water temperature</dd></dl></div><div class='xr-var-data'><pre>array([[[   nan]],\n",
       "\n",
       "       [[293.16]]])</pre></div></li><li class='xr-var-item'><div class='xr-var-name'><span>mixing_ratio_air</span></div><div class='xr-var-dims'>(year, x, y)</div><div class='xr-var-dtype'>float64</div><div class='xr-var-preview xr-preview'>nan 0.001204</div><input id='attrs-ddfef7e8-65a9-48e6-b56f-94c3173d3867' class='xr-var-attrs-in' type='checkbox' ><label for='attrs-ddfef7e8-65a9-48e6-b56f-94c3173d3867' title='Show/Hide attributes'><svg class='icon xr-icon-file-text2'><use xlink:href='#icon-file-text2'></use></svg></label><input id='data-116f7c33-070e-4322-b589-f6c62794d328' class='xr-var-data-in' type='checkbox'><label for='data-116f7c33-070e-4322-b589-f6c62794d328' title='Show/Hide data repr'><svg class='icon xr-icon-database'><use xlink:href='#icon-database'></use></svg></label><div class='xr-var-attrs'><dl class='xr-attrs'><dt><span>long_name :</span></dt><dd>Mixing ratio of air</dd><dt><span>units :</span></dt><dd>unitless</dd><dt><span>description :</span></dt><dd>Mixing ratio of air</dd></dl></div><div class='xr-var-data'><pre>array([[[       nan]],\n",
       "\n",
       "       [[0.00120426]]])</pre></div></li><li class='xr-var-item'><div class='xr-var-name'><span>density_air</span></div><div class='xr-var-dims'>(year, x, y)</div><div class='xr-var-dtype'>float64</div><div class='xr-var-preview xr-preview'>nan 1.228</div><input id='attrs-fff8c722-de35-4c65-8ada-f1d47264a63b' class='xr-var-attrs-in' type='checkbox' ><label for='attrs-fff8c722-de35-4c65-8ada-f1d47264a63b' title='Show/Hide attributes'><svg class='icon xr-icon-file-text2'><use xlink:href='#icon-file-text2'></use></svg></label><input id='data-5614103b-bd07-4951-aeef-c1dedf842295' class='xr-var-data-in' type='checkbox'><label for='data-5614103b-bd07-4951-aeef-c1dedf842295' title='Show/Hide data repr'><svg class='icon xr-icon-database'><use xlink:href='#icon-database'></use></svg></label><div class='xr-var-attrs'><dl class='xr-attrs'><dt><span>long_name :</span></dt><dd>Density of air</dd><dt><span>units :</span></dt><dd>kg/m^3</dd><dt><span>description :</span></dt><dd>Density of air</dd></dl></div><div class='xr-var-data'><pre>array([[[       nan]],\n",
       "\n",
       "       [[1.22771157]]])</pre></div></li><li class='xr-var-item'><div class='xr-var-name'><span>density_water</span></div><div class='xr-var-dims'>(year, x, y)</div><div class='xr-var-dtype'>float64</div><div class='xr-var-preview xr-preview'>nan 998.2</div><input id='attrs-7ac283e6-9875-4fd2-949b-5ce0101125b6' class='xr-var-attrs-in' type='checkbox' ><label for='attrs-7ac283e6-9875-4fd2-949b-5ce0101125b6' title='Show/Hide attributes'><svg class='icon xr-icon-file-text2'><use xlink:href='#icon-file-text2'></use></svg></label><input id='data-a4276df0-3024-4b5d-84bb-d6dc2b9fd4b9' class='xr-var-data-in' type='checkbox'><label for='data-a4276df0-3024-4b5d-84bb-d6dc2b9fd4b9' title='Show/Hide data repr'><svg class='icon xr-icon-database'><use xlink:href='#icon-database'></use></svg></label><div class='xr-var-attrs'><dl class='xr-attrs'><dt><span>long_name :</span></dt><dd>Density of water</dd><dt><span>units :</span></dt><dd>kg/m^3</dd><dt><span>description :</span></dt><dd>Density of water</dd></dl></div><div class='xr-var-data'><pre>array([[[         nan]],\n",
       "\n",
       "       [[998.20668383]]])</pre></div></li><li class='xr-var-item'><div class='xr-var-name'><span>esat_mb</span></div><div class='xr-var-dims'>(year, x, y)</div><div class='xr-var-dtype'>float64</div><div class='xr-var-preview xr-preview'>nan 2.123e+18</div><input id='attrs-a76eb561-0fd0-4f56-9a9d-75aef51bc4ff' class='xr-var-attrs-in' type='checkbox' ><label for='attrs-a76eb561-0fd0-4f56-9a9d-75aef51bc4ff' title='Show/Hide attributes'><svg class='icon xr-icon-file-text2'><use xlink:href='#icon-file-text2'></use></svg></label><input id='data-fbdb92d9-2b71-42e4-af74-7b4f31de0ee9' class='xr-var-data-in' type='checkbox'><label for='data-fbdb92d9-2b71-42e4-af74-7b4f31de0ee9' title='Show/Hide data repr'><svg class='icon xr-icon-database'><use xlink:href='#icon-database'></use></svg></label><div class='xr-var-attrs'><dl class='xr-attrs'><dt><span>long_name :</span></dt><dd>Saturation vapor pressure</dd><dt><span>units :</span></dt><dd>mb</dd><dt><span>description :</span></dt><dd>Saturation vapor pressure</dd></dl></div><div class='xr-var-data'><pre>array([[[           nan]],\n",
       "\n",
       "       [[2.12298805e+18]]])</pre></div></li><li class='xr-var-item'><div class='xr-var-name'><span>density_air_sat</span></div><div class='xr-var-dims'>(year, x, y)</div><div class='xr-var-dtype'>float64</div><div class='xr-var-preview xr-preview'>nan -327.1</div><input id='attrs-9ba1269a-096f-456e-8160-bf8b32e94909' class='xr-var-attrs-in' type='checkbox' ><label for='attrs-9ba1269a-096f-456e-8160-bf8b32e94909' title='Show/Hide attributes'><svg class='icon xr-icon-file-text2'><use xlink:href='#icon-file-text2'></use></svg></label><input id='data-e916ef6d-ba9d-4849-ab82-f80f60ec05ce' class='xr-var-data-in' type='checkbox'><label for='data-e916ef6d-ba9d-4849-ab82-f80f60ec05ce' title='Show/Hide data repr'><svg class='icon xr-icon-database'><use xlink:href='#icon-database'></use></svg></label><div class='xr-var-attrs'><dl class='xr-attrs'><dt><span>long_name :</span></dt><dd>Density of air at saturation</dd><dt><span>units :</span></dt><dd>kg/m^3</dd><dt><span>description :</span></dt><dd>Density of air at saturation</dd></dl></div><div class='xr-var-data'><pre>array([[[          nan]],\n",
       "\n",
       "       [[-327.05314984]]])</pre></div></li><li class='xr-var-item'><div class='xr-var-name'><span>ri_number</span></div><div class='xr-var-dims'>(year, x, y)</div><div class='xr-var-dtype'>float64</div><div class='xr-var-preview xr-preview'>nan 583.5</div><input id='attrs-618e08d9-8c7d-4bea-93b0-4e8fe6d0c414' class='xr-var-attrs-in' type='checkbox' ><label for='attrs-618e08d9-8c7d-4bea-93b0-4e8fe6d0c414' title='Show/Hide attributes'><svg class='icon xr-icon-file-text2'><use xlink:href='#icon-file-text2'></use></svg></label><input id='data-837a9b85-8249-4e73-9a23-08d25923be7a' class='xr-var-data-in' type='checkbox'><label for='data-837a9b85-8249-4e73-9a23-08d25923be7a' title='Show/Hide data repr'><svg class='icon xr-icon-database'><use xlink:href='#icon-database'></use></svg></label><div class='xr-var-attrs'><dl class='xr-attrs'><dt><span>long_name :</span></dt><dd>Richardson number</dd><dt><span>units :</span></dt><dd>unitless</dd><dt><span>description :</span></dt><dd>Richardson number</dd></dl></div><div class='xr-var-data'><pre>array([[[         nan]],\n",
       "\n",
       "       [[583.50984656]]])</pre></div></li><li class='xr-var-item'><div class='xr-var-name'><span>ri_function</span></div><div class='xr-var-dims'>(year, x, y)</div><div class='xr-var-dtype'>float64</div><div class='xr-var-preview xr-preview'>nan 0.0338</div><input id='attrs-3b558658-e752-42bd-bc24-6a02e81c4452' class='xr-var-attrs-in' type='checkbox' ><label for='attrs-3b558658-e752-42bd-bc24-6a02e81c4452' title='Show/Hide attributes'><svg class='icon xr-icon-file-text2'><use xlink:href='#icon-file-text2'></use></svg></label><input id='data-b2ead8de-b9c5-4b7c-90ef-215a9f3d6784' class='xr-var-data-in' type='checkbox'><label for='data-b2ead8de-b9c5-4b7c-90ef-215a9f3d6784' title='Show/Hide data repr'><svg class='icon xr-icon-database'><use xlink:href='#icon-database'></use></svg></label><div class='xr-var-attrs'><dl class='xr-attrs'><dt><span>long_name :</span></dt><dd>Richardson function</dd><dt><span>units :</span></dt><dd>unitless</dd><dt><span>description :</span></dt><dd>Richardson function</dd></dl></div><div class='xr-var-data'><pre>array([[[       nan]],\n",
       "\n",
       "       [[0.03380031]]])</pre></div></li><li class='xr-var-item'><div class='xr-var-name'><span>lv</span></div><div class='xr-var-dims'>(year, x, y)</div><div class='xr-var-dtype'>float64</div><div class='xr-var-preview xr-preview'>nan 1.801e+06</div><input id='attrs-04c61157-7089-41b2-b422-4f04db8ca246' class='xr-var-attrs-in' type='checkbox' ><label for='attrs-04c61157-7089-41b2-b422-4f04db8ca246' title='Show/Hide attributes'><svg class='icon xr-icon-file-text2'><use xlink:href='#icon-file-text2'></use></svg></label><input id='data-1a45db36-df58-4e80-a0cd-2f9c6b26e051' class='xr-var-data-in' type='checkbox'><label for='data-1a45db36-df58-4e80-a0cd-2f9c6b26e051' title='Show/Hide data repr'><svg class='icon xr-icon-database'><use xlink:href='#icon-database'></use></svg></label><div class='xr-var-attrs'><dl class='xr-attrs'><dt><span>long_name :</span></dt><dd>Latent heat of vaporization</dd><dt><span>units :</span></dt><dd>J/kg</dd><dt><span>description :</span></dt><dd>Latent heat of vaporization</dd></dl></div><div class='xr-var-data'><pre>array([[[         nan]],\n",
       "\n",
       "       [[1800595.4616]]])</pre></div></li><li class='xr-var-item'><div class='xr-var-name'><span>cp_water</span></div><div class='xr-var-dims'>(year, x, y)</div><div class='xr-var-dtype'>float64</div><div class='xr-var-preview xr-preview'>nan 4.182e+03</div><input id='attrs-a6dafc78-d1e4-4b14-8c27-880b292aeb42' class='xr-var-attrs-in' type='checkbox' ><label for='attrs-a6dafc78-d1e4-4b14-8c27-880b292aeb42' title='Show/Hide attributes'><svg class='icon xr-icon-file-text2'><use xlink:href='#icon-file-text2'></use></svg></label><input id='data-2bb89e0b-c69c-4367-8e44-85432378e010' class='xr-var-data-in' type='checkbox'><label for='data-2bb89e0b-c69c-4367-8e44-85432378e010' title='Show/Hide data repr'><svg class='icon xr-icon-database'><use xlink:href='#icon-database'></use></svg></label><div class='xr-var-attrs'><dl class='xr-attrs'><dt><span>long_name :</span></dt><dd>Specific heat of water</dd><dt><span>units :</span></dt><dd>J/kg/K</dd><dt><span>description :</span></dt><dd>Specific heat of water</dd></dl></div><div class='xr-var-data'><pre>array([[[  nan]],\n",
       "\n",
       "       [[4182.]]])</pre></div></li><li class='xr-var-item'><div class='xr-var-name'><span>emissivity_air</span></div><div class='xr-var-dims'>(year, x, y)</div><div class='xr-var-dtype'>float64</div><div class='xr-var-preview xr-preview'>nan 0.8053</div><input id='attrs-387be13b-f9eb-4570-abef-9089ec6cf954' class='xr-var-attrs-in' type='checkbox' ><label for='attrs-387be13b-f9eb-4570-abef-9089ec6cf954' title='Show/Hide attributes'><svg class='icon xr-icon-file-text2'><use xlink:href='#icon-file-text2'></use></svg></label><input id='data-ad389f55-0dfc-416c-9766-3ef11447438c' class='xr-var-data-in' type='checkbox'><label for='data-ad389f55-0dfc-416c-9766-3ef11447438c' title='Show/Hide data repr'><svg class='icon xr-icon-database'><use xlink:href='#icon-database'></use></svg></label><div class='xr-var-attrs'><dl class='xr-attrs'><dt><span>long_name :</span></dt><dd>Emissivity of air</dd><dt><span>units :</span></dt><dd>unitless</dd><dt><span>description :</span></dt><dd>Emissivity of air</dd></dl></div><div class='xr-var-data'><pre>array([[[      nan]],\n",
       "\n",
       "       [[0.8052839]]])</pre></div></li><li class='xr-var-item'><div class='xr-var-name'><span>wind_function</span></div><div class='xr-var-dims'>(year, x, y)</div><div class='xr-var-dtype'>float64</div><div class='xr-var-preview xr-preview'>nan 1.352e-07</div><input id='attrs-b68d4d52-3ab2-4968-a5d6-5593baf31bd6' class='xr-var-attrs-in' type='checkbox' ><label for='attrs-b68d4d52-3ab2-4968-a5d6-5593baf31bd6' title='Show/Hide attributes'><svg class='icon xr-icon-file-text2'><use xlink:href='#icon-file-text2'></use></svg></label><input id='data-7465dfd6-5d11-4f46-b37c-43302fa8b3c1' class='xr-var-data-in' type='checkbox'><label for='data-7465dfd6-5d11-4f46-b37c-43302fa8b3c1' title='Show/Hide data repr'><svg class='icon xr-icon-database'><use xlink:href='#icon-database'></use></svg></label><div class='xr-var-attrs'><dl class='xr-attrs'><dt><span>long_name :</span></dt><dd>Wind function</dd><dt><span>units :</span></dt><dd>unitless</dd><dt><span>description :</span></dt><dd>Wind function</dd></dl></div><div class='xr-var-data'><pre>array([[[           nan]],\n",
       "\n",
       "       [[1.35201254e-07]]])</pre></div></li><li class='xr-var-item'><div class='xr-var-name'><span>q_latent</span></div><div class='xr-var-dims'>(year, x, y)</div><div class='xr-var-dtype'>float64</div><div class='xr-var-preview xr-preview'>nan 3.1e+17</div><input id='attrs-a36e9d58-8648-489e-8801-82418b43d9a4' class='xr-var-attrs-in' type='checkbox' ><label for='attrs-a36e9d58-8648-489e-8801-82418b43d9a4' title='Show/Hide attributes'><svg class='icon xr-icon-file-text2'><use xlink:href='#icon-file-text2'></use></svg></label><input id='data-6016b615-aaf5-4c0c-9457-162eb21b519c' class='xr-var-data-in' type='checkbox'><label for='data-6016b615-aaf5-4c0c-9457-162eb21b519c' title='Show/Hide data repr'><svg class='icon xr-icon-database'><use xlink:href='#icon-database'></use></svg></label><div class='xr-var-attrs'><dl class='xr-attrs'><dt><span>long_name :</span></dt><dd>Latent heat flux</dd><dt><span>units :</span></dt><dd>W/m^2</dd><dt><span>description :</span></dt><dd>Latent heat flux</dd></dl></div><div class='xr-var-data'><pre>array([[[        nan]],\n",
       "\n",
       "       [[3.10038e+17]]])</pre></div></li><li class='xr-var-item'><div class='xr-var-name'><span>q_sensible</span></div><div class='xr-var-dims'>(year, x, y)</div><div class='xr-var-dtype'>float64</div><div class='xr-var-preview xr-preview'>nan 0.0</div><input id='attrs-b9dca17e-5ca1-4eb6-9f50-aaf29a83b8f1' class='xr-var-attrs-in' type='checkbox' ><label for='attrs-b9dca17e-5ca1-4eb6-9f50-aaf29a83b8f1' title='Show/Hide attributes'><svg class='icon xr-icon-file-text2'><use xlink:href='#icon-file-text2'></use></svg></label><input id='data-044ef680-3ae2-4d2e-a787-6f9d0df75194' class='xr-var-data-in' type='checkbox'><label for='data-044ef680-3ae2-4d2e-a787-6f9d0df75194' title='Show/Hide data repr'><svg class='icon xr-icon-database'><use xlink:href='#icon-database'></use></svg></label><div class='xr-var-attrs'><dl class='xr-attrs'><dt><span>long_name :</span></dt><dd>Sensible heat flux</dd><dt><span>units :</span></dt><dd>W/m^2</dd><dt><span>description :</span></dt><dd>Sensible heat flux</dd></dl></div><div class='xr-var-data'><pre>array([[[nan]],\n",
       "\n",
       "       [[ 0.]]])</pre></div></li><li class='xr-var-item'><div class='xr-var-name'><span>q_sediment</span></div><div class='xr-var-dims'>(year, x, y)</div><div class='xr-var-dtype'>float64</div><div class='xr-var-preview xr-preview'>nan -2.572e+03</div><input id='attrs-bf3b1c71-5f4c-4df0-b342-60f30193d6c9' class='xr-var-attrs-in' type='checkbox' ><label for='attrs-bf3b1c71-5f4c-4df0-b342-60f30193d6c9' title='Show/Hide attributes'><svg class='icon xr-icon-file-text2'><use xlink:href='#icon-file-text2'></use></svg></label><input id='data-1baf063a-0f7d-4fbd-9b87-226bc831fb37' class='xr-var-data-in' type='checkbox'><label for='data-1baf063a-0f7d-4fbd-9b87-226bc831fb37' title='Show/Hide data repr'><svg class='icon xr-icon-database'><use xlink:href='#icon-database'></use></svg></label><div class='xr-var-attrs'><dl class='xr-attrs'><dt><span>long_name :</span></dt><dd>Sediment heat flux</dd><dt><span>units :</span></dt><dd>W/m^2</dd><dt><span>description :</span></dt><dd>Sediment heat flux</dd></dl></div><div class='xr-var-data'><pre>array([[[           nan]],\n",
       "\n",
       "       [[-2571.50208333]]])</pre></div></li><li class='xr-var-item'><div class='xr-var-name'><span>dTdt_sediment_c</span></div><div class='xr-var-dims'>(year, x, y)</div><div class='xr-var-dtype'>float64</div><div class='xr-var-preview xr-preview'>nan 0.006001</div><input id='attrs-c61cda06-3ad2-49fe-9268-ec7059ef03da' class='xr-var-attrs-in' type='checkbox' ><label for='attrs-c61cda06-3ad2-49fe-9268-ec7059ef03da' title='Show/Hide attributes'><svg class='icon xr-icon-file-text2'><use xlink:href='#icon-file-text2'></use></svg></label><input id='data-30d42eef-359c-4de9-b8e0-b28aa75532d2' class='xr-var-data-in' type='checkbox'><label for='data-30d42eef-359c-4de9-b8e0-b28aa75532d2' title='Show/Hide data repr'><svg class='icon xr-icon-database'><use xlink:href='#icon-database'></use></svg></label><div class='xr-var-attrs'><dl class='xr-attrs'><dt><span>long_name :</span></dt><dd>Sediment temperature change</dd><dt><span>units :</span></dt><dd>degC</dd><dt><span>description :</span></dt><dd>Sediment temperature change</dd></dl></div><div class='xr-var-data'><pre>array([[[      nan]],\n",
       "\n",
       "       [[0.0060006]]])</pre></div></li><li class='xr-var-item'><div class='xr-var-name'><span>q_longwave_down</span></div><div class='xr-var-dims'>(year, x, y)</div><div class='xr-var-dtype'>float64</div><div class='xr-var-preview xr-preview'>nan 5.958e+10</div><input id='attrs-4ef6a6d8-b575-4811-888b-66745d7ee556' class='xr-var-attrs-in' type='checkbox' ><label for='attrs-4ef6a6d8-b575-4811-888b-66745d7ee556' title='Show/Hide attributes'><svg class='icon xr-icon-file-text2'><use xlink:href='#icon-file-text2'></use></svg></label><input id='data-2db8b9a2-61d5-47f1-a5a7-342b5fede51c' class='xr-var-data-in' type='checkbox'><label for='data-2db8b9a2-61d5-47f1-a5a7-342b5fede51c' title='Show/Hide data repr'><svg class='icon xr-icon-database'><use xlink:href='#icon-database'></use></svg></label><div class='xr-var-attrs'><dl class='xr-attrs'><dt><span>long_name :</span></dt><dd>Downwelling longwave radiation</dd><dt><span>units :</span></dt><dd>W/m2</dd><dt><span>description :</span></dt><dd>Downwelling longwave radiation</dd></dl></div><div class='xr-var-data'><pre>array([[[          nan]],\n",
       "\n",
       "       [[5.9580692e+10]]])</pre></div></li><li class='xr-var-item'><div class='xr-var-name'><span>q_longwave_up</span></div><div class='xr-var-dims'>(year, x, y)</div><div class='xr-var-dtype'>float64</div><div class='xr-var-preview xr-preview'>nan 7.386e+10</div><input id='attrs-b8eecd6a-ab12-4074-8141-bf3f787c59a9' class='xr-var-attrs-in' type='checkbox' ><label for='attrs-b8eecd6a-ab12-4074-8141-bf3f787c59a9' title='Show/Hide attributes'><svg class='icon xr-icon-file-text2'><use xlink:href='#icon-file-text2'></use></svg></label><input id='data-859fe37f-7287-480f-b987-34c606f17326' class='xr-var-data-in' type='checkbox'><label for='data-859fe37f-7287-480f-b987-34c606f17326' title='Show/Hide data repr'><svg class='icon xr-icon-database'><use xlink:href='#icon-database'></use></svg></label><div class='xr-var-attrs'><dl class='xr-attrs'><dt><span>long_name :</span></dt><dd>Upwelling longwave radiation</dd><dt><span>units :</span></dt><dd>W/m2</dd><dt><span>description :</span></dt><dd>Upwelling longwave radiation</dd></dl></div><div class='xr-var-data'><pre>array([[[          nan]],\n",
       "\n",
       "       [[7.3861624e+10]]])</pre></div></li><li class='xr-var-item'><div class='xr-var-name'><span>q_net</span></div><div class='xr-var-dims'>(year, x, y)</div><div class='xr-var-dtype'>float64</div><div class='xr-var-preview xr-preview'>nan -3.1e+17</div><input id='attrs-d4cc3d8c-721b-4d9e-b52e-a5426b1cd26b' class='xr-var-attrs-in' type='checkbox' ><label for='attrs-d4cc3d8c-721b-4d9e-b52e-a5426b1cd26b' title='Show/Hide attributes'><svg class='icon xr-icon-file-text2'><use xlink:href='#icon-file-text2'></use></svg></label><input id='data-e12a0cc1-2cbd-491c-8af8-f280d410dabe' class='xr-var-data-in' type='checkbox'><label for='data-e12a0cc1-2cbd-491c-8af8-f280d410dabe' title='Show/Hide data repr'><svg class='icon xr-icon-database'><use xlink:href='#icon-database'></use></svg></label><div class='xr-var-attrs'><dl class='xr-attrs'><dt><span>long_name :</span></dt><dd>Net heat flux</dd><dt><span>units :</span></dt><dd>W/m^2</dd><dt><span>description :</span></dt><dd>Net heat flux</dd></dl></div><div class='xr-var-data'><pre>array([[[            nan]],\n",
       "\n",
       "       [[-3.10038015e+17]]])</pre></div></li><li class='xr-var-item'><div class='xr-var-name'><span>dTdt_water_c</span></div><div class='xr-var-dims'>(year, x, y)</div><div class='xr-var-dtype'>float64</div><div class='xr-var-preview xr-preview'>nan -7.427e+10</div><input id='attrs-2ed0d37c-e334-490a-9fce-ca369f831149' class='xr-var-attrs-in' type='checkbox' ><label for='attrs-2ed0d37c-e334-490a-9fce-ca369f831149' title='Show/Hide attributes'><svg class='icon xr-icon-file-text2'><use xlink:href='#icon-file-text2'></use></svg></label><input id='data-46a64600-774f-4fc0-8a39-110457b20a09' class='xr-var-data-in' type='checkbox'><label for='data-46a64600-774f-4fc0-8a39-110457b20a09' title='Show/Hide data repr'><svg class='icon xr-icon-database'><use xlink:href='#icon-database'></use></svg></label><div class='xr-var-attrs'><dl class='xr-attrs'><dt><span>long_name :</span></dt><dd>Water temperature change</dd><dt><span>units :</span></dt><dd>degC</dd><dt><span>description :</span></dt><dd>Water temperature change</dd></dl></div><div class='xr-var-data'><pre>array([[[            nan]],\n",
       "\n",
       "       [[-7.42694906e+10]]])</pre></div></li></ul></div></li><li class='xr-section-item'><input id='section-0e7bb67f-bb6a-49a8-8cc3-a7c854372b78' class='xr-section-summary-in' type='checkbox'  ><label for='section-0e7bb67f-bb6a-49a8-8cc3-a7c854372b78' class='xr-section-summary' >Indexes: <span>(3)</span></label><div class='xr-section-inline-details'></div><div class='xr-section-details'><ul class='xr-var-list'><li class='xr-var-item'><div class='xr-index-name'><div>year</div></div><div class='xr-index-preview'>PandasIndex</div><div></div><input id='index-f8188243-a789-49b7-871b-63098b304b2d' class='xr-index-data-in' type='checkbox'/><label for='index-f8188243-a789-49b7-871b-63098b304b2d' title='Show/Hide index repr'><svg class='icon xr-icon-database'><use xlink:href='#icon-database'></use></svg></label><div class='xr-index-data'><pre>PandasIndex(Index([0, 1], dtype=&#x27;int32&#x27;, name=&#x27;year&#x27;))</pre></div></li><li class='xr-var-item'><div class='xr-index-name'><div>x</div></div><div class='xr-index-preview'>PandasIndex</div><div></div><input id='index-3d9cd1e8-526e-47c4-a442-f99f60b710cf' class='xr-index-data-in' type='checkbox'/><label for='index-3d9cd1e8-526e-47c4-a442-f99f60b710cf' title='Show/Hide index repr'><svg class='icon xr-icon-database'><use xlink:href='#icon-database'></use></svg></label><div class='xr-index-data'><pre>PandasIndex(Index([1.0], dtype=&#x27;float64&#x27;, name=&#x27;x&#x27;))</pre></div></li><li class='xr-var-item'><div class='xr-index-name'><div>y</div></div><div class='xr-index-preview'>PandasIndex</div><div></div><input id='index-7238e531-eb7a-44cc-89ee-4f8ac90028ef' class='xr-index-data-in' type='checkbox'/><label for='index-7238e531-eb7a-44cc-89ee-4f8ac90028ef' title='Show/Hide index repr'><svg class='icon xr-icon-database'><use xlink:href='#icon-database'></use></svg></label><div class='xr-index-data'><pre>PandasIndex(Index([1.0], dtype=&#x27;float64&#x27;, name=&#x27;y&#x27;))</pre></div></li></ul></div></li><li class='xr-section-item'><input id='section-105289b4-2b8b-42a6-b746-126716ec5d22' class='xr-section-summary-in' type='checkbox' disabled ><label for='section-105289b4-2b8b-42a6-b746-126716ec5d22' class='xr-section-summary'  title='Expand/collapse section'>Attributes: <span>(0)</span></label><div class='xr-section-inline-details'></div><div class='xr-section-details'><dl class='xr-attrs'></dl></div></li></ul></div></div>"
      ],
      "text/plain": [
       "<xarray.Dataset>\n",
       "Dimensions:            (year: 2, x: 1, y: 1)\n",
       "Coordinates:\n",
       "  * year               (year) int32 0 1\n",
       "  * x                  (x) float64 1.0\n",
       "  * y                  (y) float64 1.0\n",
       "Data variables: (12/52)\n",
       "    water_temp_c       (year, x, y) float64 20.0 -7.427e+10\n",
       "    surface_area       (year, x, y) int32 1 1\n",
       "    volume             (year, x, y) int32 1 1\n",
       "    use_sed_temp       (x, y) bool True\n",
       "    stefan_boltzmann   (x, y) int32 10\n",
       "    cp_air             (x, y) int32 1\n",
       "    ...                 ...\n",
       "    q_sediment         (year, x, y) float64 nan -2.572e+03\n",
       "    dTdt_sediment_c    (year, x, y) float64 nan 0.006001\n",
       "    q_longwave_down    (year, x, y) float64 nan 5.958e+10\n",
       "    q_longwave_up      (year, x, y) float64 nan 7.386e+10\n",
       "    q_net              (year, x, y) float64 nan -3.1e+17\n",
       "    dTdt_water_c       (year, x, y) float64 nan -7.427e+10"
      ]
     },
     "execution_count": 12,
     "metadata": {},
     "output_type": "execute_result"
    }
   ],
   "source": [
    "tsm_model.increment_timestep()\n",
    "tsm_model.dataset"
   ]
  },
  {
   "cell_type": "markdown",
   "id": "9b3b4c00-7a20-4446-bad9-e67577cddf87",
   "metadata": {},
   "source": [
    "## Next, use the `register_variable` decorator to add a few variables\n",
    "\n",
    "To do this, make a sub-class of `base.Variable` but with the decorator pointed at the model(s) you want to add the variables too. Note that the `models` argument of the decorator must be either a single sub-class of `base.Model`, or a list of them.\n",
    "\n",
    "Next, just write instances of the new `base.Variable` sub-class. Each variable's `use` attribute must be set to `static`, `dynamic`, and `state`. Read below about what this means / how you should split up your variables.\n",
    "\n",
    "Note that anything that needs to be calculated or input into a model should be encapsulated by a variable!"
   ]
  },
  {
   "cell_type": "code",
   "execution_count": 11,
   "id": "0b00f982-d1b8-46bd-8060-fe95799eab30",
   "metadata": {
    "tags": []
   },
   "outputs": [],
   "source": [
    "@cwm.base.register_variable(models=CarbonSequestration)\n",
    "class Variable(cwm.base.Variable):\n",
    "    ..."
   ]
  },
  {
   "cell_type": "code",
   "execution_count": 12,
   "id": "0775943a-06fc-4fbe-b3f0-f8605cab58f7",
   "metadata": {
    "tags": []
   },
   "outputs": [
    {
     "data": {
      "text/plain": [
       "['npp', 'carbon_content']"
      ]
     },
     "metadata": {},
     "output_type": "display_data"
    }
   ],
   "source": [
    "Variable(\n",
    "    name='npp',\n",
    "    long_name='Net Primary Productivity (NPP)',\n",
    "    units='g/m^2/year',\n",
    "    description='The annual average NPP of the forest ecosystem.',\n",
    "    use='static',\n",
    ")\n",
    "Variable(\n",
    "    name='carbon_content',\n",
    "    long_name='Carbon Content ratio',\n",
    "    units='ratio',\n",
    "    description='The fraction of NPP that is composed of carbon (usually around 50%, but it can vary).',\n",
    "    use='static',\n",
    ")\n",
    "\n",
    "# display the variables we have registered so far\n",
    "display(CarbonSequestration.get_variable_names())"
   ]
  },
  {
   "cell_type": "markdown",
   "id": "da67c500-7980-4241-acda-cbcc746608ab",
   "metadata": {},
   "source": [
    "### Add our static variables\n",
    "\n",
    "**Working Definition:** Static variables are any variables that will not change across the course of a simulation, regardless of how many time-steps are run.\n",
    "\n",
    "Note that one can update static variables if they really want to by re-initializing the model class and providing new static variable inputs.\n",
    "\n",
    "Here we will use the following static variables:\n",
    "1. **Net Primary Productivity (NPP)**: The average annual NPP of the forest ecosystem (g/m²/year).\n",
    "2. **Carbon Content**: The fraction of NPP that is composed of carbon (usually around 50%, but it can vary)."
   ]
  },
  {
   "cell_type": "markdown",
   "id": "619d0f25-5048-4b50-a3f6-d36b468abb77",
   "metadata": {},
   "source": [
    "### Add our dynamic variables\n",
    "\n",
    "**Working Definition:** Dynamic variables are any intermediate variable calculation that don't need to be passed to the next timestep. All dynamic variables need to be associated with a function via the optional `Variable.process` attribute. This \"process\" function is used to calculate them. **Importantly, the arguments of said function should match the variable names that will be passed in!**\n",
    "\n",
    "In this simple example we will have only one dynamic variable:\n",
    "1. **Annual carbon sequestration** (delta_C_annual):\n",
    "\n",
    "   `delta_C_annual = npp * carbon_content * forest_area`"
   ]
  },
  {
   "cell_type": "code",
   "execution_count": null,
   "id": "f622cae1-4e0b-493e-8458-d441f5d125a2",
   "metadata": {
    "tags": []
   },
   "outputs": [],
   "source": [
    "@numba.njit\n",
    "def delta_C_annual(\n",
    "    npp: float,\n",
    "    carbon_content: float,\n",
    "    forest_area: float,\n",
    ") -> float:\n",
    "    return npp * carbon_content * forest_area"
   ]
  },
  {
   "cell_type": "code",
   "execution_count": null,
   "id": "774efcc3-3a9a-4f74-a1a9-3663daf21dd5",
   "metadata": {
    "tags": []
   },
   "outputs": [],
   "source": [
    "Variable(\n",
    "    name='delta_C_annual',\n",
    "    long_name='Annual Carbon Delta',\n",
    "    units='g',\n",
    "    description='Annual change in forest carbon content',\n",
    "    use='dynamic',\n",
    "    process=delta_C_annual,\n",
    ")\n",
    "\n",
    "# display the variables we have registered so far\n",
    "display(CarbonSequestration.get_variable_names())"
   ]
  },
  {
   "cell_type": "markdown",
   "id": "5af6cb2f-50c4-4cd9-91a9-a8d159595df9",
   "metadata": {},
   "source": [
    "### Add our state variable\n",
    "\n",
    "**Working Definition:** A state variable is the main input/output to each timestep. Notably, it can be updated between timesteps to allow interaction with other models. Our model needs to be initialized with state variable values, and no matter what settings are used in initialization, the state variable is stored in our main dataset (keep reading to see this).\n",
    "\n",
    "Our state variable is the total carbon stock of the forest, which is updated each year:\n",
    "1. **Total carbon stock** (C_total):\n",
    "\n",
    "    `C_total = C_total + delta_C_annual`\n",
    "    \n",
    "State variables also require a process function."
   ]
  },
  {
   "cell_type": "code",
   "execution_count": null,
   "id": "ac6f26ee-56d2-493f-9478-01407020b34c",
   "metadata": {
    "tags": []
   },
   "outputs": [],
   "source": [
    "@numba.njit\n",
    "def C_total(\n",
    "    C_total: float,\n",
    "    delta_C_annual: float,\n",
    ") -> float:\n",
    "    return C_total + delta_C_annual"
   ]
  },
  {
   "cell_type": "code",
   "execution_count": null,
   "id": "b8b9ba47-3c9a-4b8f-92b0-7a44182d7813",
   "metadata": {
    "tags": []
   },
   "outputs": [],
   "source": [
    "Variable(\n",
    "    name='C_total',\n",
    "    long_name='Carbon total',\n",
    "    units='g',\n",
    "    description='Total forest carbon content',\n",
    "    use='state',\n",
    "    process=C_total,\n",
    ")\n",
    "\n",
    "Variable(\n",
    "    name='forest_area',\n",
    "    long_name='Area of the forest',\n",
    "    units='m^2',\n",
    "    description='Area of the forest, may change year by year with deforestation.',\n",
    "    use='state',\n",
    "    process=forest_area,\n",
    ")\n",
    "\n",
    "# display the variables we have registered so far\n",
    "display(CarbonSequestration.get_variable_names())"
   ]
  },
  {
   "cell_type": "code",
   "execution_count": null,
   "id": "98b447fb-65fa-46bf-a52c-4a4b1390ba08",
   "metadata": {
    "tags": []
   },
   "outputs": [],
   "source": [
    "# for state variables we can see them before initialization\n",
    "display(CarbonSequestration.get_state_variables())"
   ]
  },
  {
   "cell_type": "markdown",
   "id": "95d04864-2b19-4081-a688-f6729b37a8fd",
   "metadata": {},
   "source": [
    "## Now let's instantiate our new model\n",
    "\n",
    "To instantiate a model we need to pass in a dictionary with our initial state variable values, any non-default changes to our static variables, and any other optional config settings."
   ]
  },
  {
   "cell_type": "code",
   "execution_count": null,
   "id": "f489f488-42e6-4e1d-b403-01ebf5738582",
   "metadata": {
    "tags": []
   },
   "outputs": [],
   "source": [
    "initial_state_values = {'C_total': 1000, 'forest_area': 1000}\n",
    "static_variable_values = {\n",
    "    'carbon_content': 0.5,\n",
    "    'npp': 10,\n",
    "}\n",
    "\n",
    "carbon_model = CarbonSequestration(\n",
    "    initial_state_values=initial_state_values,  # mandatory\n",
    "    static_variable_values=static_variable_values,  # mandatory/optional depending on defaults\n",
    "    track_dynamic_variables=True,  # default is true\n",
    "    hotstart_dataset=None,  # default is None\n",
    "    time_dim='year',  # default is \"timestep\"\n",
    ")"
   ]
  },
  {
   "cell_type": "markdown",
   "id": "f058c597-d808-4c1f-8c57-249ee0ba859f",
   "metadata": {
    "tags": []
   },
   "source": [
    "### All instantiated models have static, dynamic, and state variable properties"
   ]
  },
  {
   "cell_type": "code",
   "execution_count": null,
   "id": "b9316ecd-5372-4eab-8d0c-87c80c20ce90",
   "metadata": {
    "tags": []
   },
   "outputs": [],
   "source": [
    "display(carbon_model.state_variables)"
   ]
  },
  {
   "cell_type": "code",
   "execution_count": null,
   "id": "c131bccf-eb39-4abf-8e35-cfb6027c8df6",
   "metadata": {
    "tags": []
   },
   "outputs": [],
   "source": [
    "display(carbon_model.static_variables)"
   ]
  },
  {
   "cell_type": "code",
   "execution_count": null,
   "id": "37e64e74-9ec2-4d43-83ff-0f2bfdac7445",
   "metadata": {
    "tags": []
   },
   "outputs": [],
   "source": [
    "display(carbon_model.dynamic_variables)"
   ]
  },
  {
   "cell_type": "markdown",
   "id": "97639e68-ffcc-4d53-b315-4c79ce873139",
   "metadata": {
    "tags": []
   },
   "source": [
    "### One can access their \"computation order\" which is calculated using a \"dependency tree\" approach in `sorter.py`"
   ]
  },
  {
   "cell_type": "code",
   "execution_count": null,
   "id": "188344ee-ff6a-4ee0-8cde-cf0ab7817735",
   "metadata": {
    "tags": []
   },
   "outputs": [],
   "source": [
    "carbon_model.computation_order"
   ]
  },
  {
   "cell_type": "code",
   "execution_count": null,
   "id": "a2bbcfe5-5c23-4224-a505-f1fb79c2e661",
   "metadata": {
    "tags": []
   },
   "outputs": [],
   "source": [
    "print('Variable | Inputs\\n------------------')\n",
    "for i in carbon_model.computation_order:\n",
    "    print(f'{i.name} | {sorter.get_process_args(i.process)}')"
   ]
  },
  {
   "cell_type": "markdown",
   "id": "5be835a7-8a2b-4200-a962-e24147aa2e35",
   "metadata": {},
   "source": [
    "### Data is stored in `self.dataset`"
   ]
  },
  {
   "cell_type": "code",
   "execution_count": null,
   "id": "2897c1a4-520f-4a31-928e-038756da36af",
   "metadata": {
    "tags": []
   },
   "outputs": [],
   "source": [
    "carbon_model.dataset"
   ]
  },
  {
   "cell_type": "markdown",
   "id": "a7f8dabd-1f2b-4610-8280-29be9f18b016",
   "metadata": {},
   "source": [
    "## Running a timestep\n",
    "All timesteps can be run independently. Optionally, one can update the state values with a float or a `xarray.DataArray`."
   ]
  },
  {
   "cell_type": "code",
   "execution_count": null,
   "id": "09bb7808-dbca-4508-ba86-b0cb23b8f5e8",
   "metadata": {
    "tags": []
   },
   "outputs": [],
   "source": [
    "carbon_model.increment_timestep()\n",
    "carbon_model.dataset"
   ]
  },
  {
   "cell_type": "markdown",
   "id": "b824cec0-7385-4b21-937e-64af96bb10b7",
   "metadata": {},
   "source": [
    "## Running a loop of timesteps\n",
    "\n",
    "Here we run 100 years of our model with the following hypothetical:\n",
    "* For the first 50 years deforestation reduces forest area incrementally.\n",
    "* 50 years in, a program begins that ends deforestation, and the forest grows back incrementally.\n",
    "\n",
    "**This demonstrates how we can update state variables to interact with other models!**"
   ]
  },
  {
   "cell_type": "code",
   "execution_count": null,
   "id": "aec534de-846d-40d8-9d25-e4cf2e24c1b1",
   "metadata": {
    "tags": []
   },
   "outputs": [],
   "source": [
    "%%time\n",
    "for i in range(100):\n",
    "    forest_area_change = random.uniform(0.0, 25)\n",
    "    if i < 50:\n",
    "        forest_area_change = -forest_area_change\n",
    "    new_forest_area = (carbon_model.dataset.forest_area + forest_area_change).isel(year=-1)\n",
    "    carbon_model.increment_timestep(update_state_values={'forest_area': new_forest_area})\n",
    "carbon_model.dataset"
   ]
  },
  {
   "cell_type": "code",
   "execution_count": null,
   "id": "6b35b04a-9dfa-4af1-a7d3-f13e84019c3b",
   "metadata": {
    "tags": []
   },
   "outputs": [],
   "source": [
    "carbon_model.dataset.hvplot(x='year', y='delta_C_annual', title='delta_C_annual')"
   ]
  },
  {
   "cell_type": "code",
   "execution_count": null,
   "id": "49e9cb85-9d90-49c1-a308-dcb31a6f6092",
   "metadata": {
    "tags": []
   },
   "outputs": [],
   "source": [
    "carbon_model.dataset.hvplot(x='year', y='C_total', title='C_total')"
   ]
  },
  {
   "cell_type": "markdown",
   "id": "be48713d-1170-4195-b95d-35ee1c99dd3d",
   "metadata": {
    "tags": []
   },
   "source": [
    "# TSM `EnergyBudget` Example\n",
    "\n",
    "Now that we understand how the code architecture works, we can explore a real example."
   ]
  },
  {
   "cell_type": "code",
   "execution_count": null,
   "id": "d02e421d-e478-4c14-b08b-fbd8ffc82a5d",
   "metadata": {
    "tags": []
   },
   "outputs": [],
   "source": [
    "from clearwater_modules.tsm.model import EnergyBudget"
   ]
  },
  {
   "cell_type": "code",
   "execution_count": null,
   "id": "a963a7f9",
   "metadata": {
    "tags": []
   },
   "outputs": [],
   "source": [
    "# Confirm that sub-modules are imported\n",
    "dir(cwm.tsm)"
   ]
  },
  {
   "cell_type": "markdown",
   "id": "28e4266d-424e-47dc-bc26-5c2e66819b0a",
   "metadata": {
    "tags": []
   },
   "source": [
    "## Start by instantiating a `EnergyBudget`\n",
    "\n",
    "Initial state variable values are always required. To see the names/info of a model's state variables, we can use `Model.get_state_variables()`."
   ]
  },
  {
   "cell_type": "code",
   "execution_count": null,
   "id": "f6942a19-df9c-48c7-afc3-37e98d44c0d0",
   "metadata": {
    "tags": []
   },
   "outputs": [],
   "source": [
    "EnergyBudget.get_state_variables()"
   ]
  },
  {
   "cell_type": "code",
   "execution_count": null,
   "id": "be877b70-073a-4877-af10-c1ad3c386165",
   "metadata": {
    "tags": []
   },
   "outputs": [],
   "source": [
    "initial_state_values = {\n",
    "    'water_temp_c': 1.0,\n",
    "    'volume': 1.0,\n",
    "    'surface_area': 1.0,\n",
    "}"
   ]
  },
  {
   "cell_type": "code",
   "execution_count": null,
   "id": "299d062c-b981-45e6-a437-156c4a3d8388",
   "metadata": {
    "tags": []
   },
   "outputs": [],
   "source": [
    "my_model = EnergyBudget(\n",
    "    initial_state_values,\n",
    "    time_dim='my_time_step',\n",
    ")\n",
    "my_model"
   ]
  },
  {
   "cell_type": "code",
   "execution_count": null,
   "id": "5ee305a3-5990-47aa-885e-2771dda9fa5f",
   "metadata": {
    "tags": []
   },
   "outputs": [],
   "source": [
    "[i for i in dir(my_model) if i[0] != '_']"
   ]
  },
  {
   "cell_type": "markdown",
   "id": "825e288f-b51a-4590-91f0-dd706c118725",
   "metadata": {},
   "source": [
    "## TSM can be initialized with alternative met/temp parameter\n",
    "**This is an example of a model specific `__init__`**. As of now we are using the defaults."
   ]
  },
  {
   "cell_type": "code",
   "execution_count": null,
   "id": "ac36bc9f-aa8f-4e35-946e-1c69f32a3d27",
   "metadata": {
    "tags": []
   },
   "outputs": [],
   "source": [
    "my_model.met_parameters"
   ]
  },
  {
   "cell_type": "code",
   "execution_count": null,
   "id": "7411afa5-83ac-4ff7-9e95-a73a4d3a2aa8",
   "metadata": {
    "tags": []
   },
   "outputs": [],
   "source": [
    "my_model.temp_parameters"
   ]
  },
  {
   "cell_type": "code",
   "execution_count": null,
   "id": "a8da8894-a6ad-42dc-9618-dc899a1525ea",
   "metadata": {
    "tags": []
   },
   "outputs": [],
   "source": [
    "my_model.time_dim"
   ]
  },
  {
   "cell_type": "markdown",
   "id": "f74682c6-096c-4f41-b929-09027a6e335d",
   "metadata": {},
   "source": [
    "## All models have static, dynamic, and state variables"
   ]
  },
  {
   "cell_type": "code",
   "execution_count": null,
   "id": "2d0c2856-9012-4ebb-bb23-457f209c4e0f",
   "metadata": {
    "tags": []
   },
   "outputs": [],
   "source": [
    "display(my_model.static_variables)"
   ]
  },
  {
   "cell_type": "code",
   "execution_count": null,
   "id": "8f082754-055e-4c58-af74-2e2c73a023fb",
   "metadata": {
    "tags": []
   },
   "outputs": [],
   "source": [
    "display(my_model.dynamic_variables)"
   ]
  },
  {
   "cell_type": "markdown",
   "id": "7e672a66-3649-4d49-9616-232959fc3d40",
   "metadata": {},
   "source": [
    "## One can access their \"computation order\" which is calculated using a \"dependency tree\" approach in `sorter.py`"
   ]
  },
  {
   "cell_type": "code",
   "execution_count": null,
   "id": "301e91eb-fb88-468d-9a5c-5baba31cd21f",
   "metadata": {
    "tags": []
   },
   "outputs": [],
   "source": [
    "my_model.computation_order"
   ]
  },
  {
   "cell_type": "code",
   "execution_count": null,
   "id": "aca8eace-0ee4-4a3f-bb82-e3794098dbf5",
   "metadata": {
    "tags": []
   },
   "outputs": [],
   "source": [
    "for i in my_model.computation_order:\n",
    "    print(f'{i.name} | {sorter.get_process_args(i.process)}')"
   ]
  },
  {
   "cell_type": "markdown",
   "id": "f5b2234a-38b5-4ffc-a180-cf126be22544",
   "metadata": {},
   "source": [
    "## Run 5 timesteps"
   ]
  },
  {
   "cell_type": "code",
   "execution_count": null,
   "id": "aa7f69c8-d45d-4119-a353-7655327dcdb6",
   "metadata": {
    "tags": []
   },
   "outputs": [],
   "source": [
    "TIME_STEPS = 5"
   ]
  },
  {
   "cell_type": "code",
   "execution_count": null,
   "id": "bb7f2291-3df9-4464-b256-45abc8b225d0",
   "metadata": {
    "tags": []
   },
   "outputs": [],
   "source": [
    "@numba.jit(forceobj=True)\n",
    "def run_n_timesteps(time_steps: int, model: EnergyBudget):\n",
    "    for i in range(time_steps):\n",
    "        model.increment_timestep()"
   ]
  },
  {
   "cell_type": "code",
   "execution_count": null,
   "id": "b4ed28c4-301f-4fd2-9e70-e443b4ef909a",
   "metadata": {
    "tags": []
   },
   "outputs": [],
   "source": [
    "%%time\n",
    "run_n_timesteps(TIME_STEPS, my_model)"
   ]
  },
  {
   "cell_type": "code",
   "execution_count": null,
   "id": "df2bd00b-4dc0-4f1f-b527-c537c72a454a",
   "metadata": {
    "tags": []
   },
   "outputs": [],
   "source": [
    "my_model.dataset"
   ]
  }
 ],
 "metadata": {
  "kernelspec": {
   "display_name": "Python 3 (ipykernel)",
   "language": "python",
   "name": "python3"
  },
  "language_info": {
   "codemirror_mode": {
    "name": "ipython",
    "version": 3
   },
   "file_extension": ".py",
   "mimetype": "text/x-python",
   "name": "python",
   "nbconvert_exporter": "python",
   "pygments_lexer": "ipython3",
   "version": "3.11.6"
  },
  "toc-autonumbering": true
 },
 "nbformat": 4,
 "nbformat_minor": 5
}
