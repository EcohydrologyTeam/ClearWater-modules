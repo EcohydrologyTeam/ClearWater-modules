{
 "cells": [
  {
   "cell_type": "markdown",
   "id": "25bd6ed5-3bd1-4592-a813-5958221d5a21",
   "metadata": {
    "tags": []
   },
   "source": [
    "# Clearwater Modules Architecture\n",
    "\n",
    "**Author:** Xavier Nogueira"
   ]
  },
  {
   "cell_type": "markdown",
   "id": "95a96e20",
   "metadata": {},
   "source": [
    "# Installation and Setup"
   ]
  },
  {
   "cell_type": "markdown",
   "id": "80133cfc",
   "metadata": {},
   "source": [
    "## Install\n",
    "\n",
    "Carefully follow our **[Installation Instructions](README.md#getting-started)**, especially including:\n",
    "- Creating a virtual environment for this repository (step 3)"
   ]
  },
  {
   "cell_type": "markdown",
   "id": "f73cfdf5",
   "metadata": {},
   "source": [
    "## Import Python Dependancies"
   ]
  },
  {
   "cell_type": "code",
   "execution_count": null,
   "id": "663a1e5a-4311-42e7-babc-6e254a5ff9cf",
   "metadata": {
    "tags": []
   },
   "outputs": [],
   "source": [
    "import clearwater_modules as cwm\n",
    "import clearwater_modules.sorter as sorter\n",
    "import numba\n",
    "import random\n",
    "import hvplot.xarray\n",
    "import warnings\n",
    "warnings.filterwarnings(\"ignore\")"
   ]
  },
  {
   "cell_type": "code",
   "execution_count": null,
   "id": "01c71150",
   "metadata": {
    "tags": []
   },
   "outputs": [],
   "source": [
    "# Confirm that sub-modules are imported\n",
    "dir(cwm)"
   ]
  },
  {
   "cell_type": "markdown",
   "id": "234fa8ec",
   "metadata": {},
   "source": [
    "### If you get `ModuleNotFoundError`:\n",
    "\n",
    "If you get this error:\n",
    "```python\n",
    "ModuleNotFoundError: No module named 'clearwater_modules'\n",
    "```\n",
    "Then:\n",
    "1. Run the following terminal command with your local absolute path to this repo.\n",
    "    - NOTE: Here we use Jupyter `!` magic command to run from the terminal via this notebook. \n",
    "2. Restart the kernel.\n",
    "3. Rerun the import statements above.\n",
    "\n",
    "See [4. Add your `ClearWater-modules-python` Path to Miniconda/Anaconda sites-packages](..ReadMe.md#4-add-your-clearwater-modules-python-path-to-minicondaanaconda-sites-packages)."
   ]
  },
  {
   "cell_type": "markdown",
   "id": "de2f2cd1-a5dc-4536-8b1c-5f4fbf866601",
   "metadata": {},
   "source": [
    "# Writing/using a simple `Model` sub-class example\n",
    "\n",
    "In this example we will be writing a `base.Model` sub-class that calculates the annual carbon sequestration in a forest for a given year timestep.\n",
    "\n",
    "**Note:** Do not take the calculation too literally! I got it off ChatGPT in order to find a good, simple example for the code."
   ]
  },
  {
   "cell_type": "markdown",
   "id": "a52584bf-13af-4527-87ff-dbfa1010ddc1",
   "metadata": {},
   "source": [
    "## Start by inheriting `base.Model` -> `CarbonSequestration(cwm.base.Model)`"
   ]
  },
  {
   "cell_type": "code",
   "execution_count": null,
   "id": "a5d34d2d-03a6-41e1-92fc-9e6fba72d6f5",
   "metadata": {
    "tags": []
   },
   "outputs": [],
   "source": [
    "class CarbonSequestration(cwm.base.Model):\n",
    "    _variables: list[cwm.base.Variable] = []\n",
    "    ..."
   ]
  },
  {
   "cell_type": "markdown",
   "id": "9b3b4c00-7a20-4446-bad9-e67577cddf87",
   "metadata": {},
   "source": [
    "## Next, use the `register_variable` decorator to add a few variables\n",
    "\n",
    "To do this, make a sub-class of `base.Variable` but with the decorator pointed at the model(s) you want to add the variables too. Note that the `models` argument of the decorator must be either a single sub-class of `base.Model`, or a list of them.\n",
    "\n",
    "Next, just write instances of the new `base.Variable` sub-class. Each variable's `use` attribute must be set to `static`, `dynamic`, and `state`. Read below about what this means / how you should split up your variables.\n",
    "\n",
    "Note that anything that needs to be calculated or input into a model should be encapsulated by a variable!"
   ]
  },
  {
   "cell_type": "code",
   "execution_count": null,
   "id": "0b00f982-d1b8-46bd-8060-fe95799eab30",
   "metadata": {
    "tags": []
   },
   "outputs": [],
   "source": [
    "@cwm.base.register_variable(models=CarbonSequestration)\n",
    "class Variable(cwm.base.Variable):\n",
    "    ..."
   ]
  },
  {
   "cell_type": "markdown",
   "id": "da67c500-7980-4241-acda-cbcc746608ab",
   "metadata": {},
   "source": [
    "### Add our static variables\n",
    "\n",
    "**Working Definition:** Static variables are any variables that will not change across the course of a simulation, regardless of how many time-steps are run.\n",
    "\n",
    "Note that one can update static variables if they really want to by re-initializing the model class and providing new static variable inputs.\n",
    "\n",
    "Here we will use the following static variables:\n",
    "1. **Net Primary Productivity (NPP)**: The average annual NPP of the forest ecosystem (g/m²/year).\n",
    "2. **Carbon Content**: The fraction of NPP that is composed of carbon (usually around 50%, but it can vary)."
   ]
  },
  {
   "cell_type": "code",
   "execution_count": null,
   "id": "0775943a-06fc-4fbe-b3f0-f8605cab58f7",
   "metadata": {
    "tags": []
   },
   "outputs": [],
   "source": [
    "Variable(\n",
    "    name='npp',\n",
    "    long_name='Net Primary Productivity (NPP)',\n",
    "    units='g/m^2/year',\n",
    "    description='The annual average NPP of the forest ecosystem.',\n",
    "    use='static',\n",
    ")\n",
    "Variable(\n",
    "    name='carbon_content',\n",
    "    long_name='Carbon Content ratio',\n",
    "    units='ratio',\n",
    "    description='The fraction of NPP that is composed of carbon (usually around 50%, but it can vary).',\n",
    "    use='static',\n",
    ")\n",
    "\n",
    "# display the variables we have registered so far\n",
    "display(CarbonSequestration.get_variable_names())"
   ]
  },
  {
   "cell_type": "markdown",
   "id": "619d0f25-5048-4b50-a3f6-d36b468abb77",
   "metadata": {},
   "source": [
    "### Add our dynamic variables\n",
    "\n",
    "**Working Definition:** Dynamic variables are any intermediate variable calculation that don't need to be passed to the next timestep. All dynamic variables need to be associated with a function via the optional `Variable.process` attribute. This \"process\" function is used to calculate them. **Importantly, the arguments of said function should match the variable names that will be passed in!**\n",
    "\n",
    "In this simple example we will have only one dynamic variable:\n",
    "1. **Annual carbon sequestration** (delta_C_annual):\n",
    "\n",
    "   `delta_C_annual = npp * carbon_content * forest_area`"
   ]
  },
  {
   "cell_type": "code",
   "execution_count": null,
   "id": "f622cae1-4e0b-493e-8458-d441f5d125a2",
   "metadata": {
    "tags": []
   },
   "outputs": [],
   "source": [
    "@numba.njit\n",
    "def delta_C_annual(\n",
    "    npp: float,\n",
    "    carbon_content: float,\n",
    "    forest_area: float,\n",
    ") -> float:\n",
    "    return npp * carbon_content * forest_area"
   ]
  },
  {
   "cell_type": "code",
   "execution_count": null,
   "id": "774efcc3-3a9a-4f74-a1a9-3663daf21dd5",
   "metadata": {
    "tags": []
   },
   "outputs": [],
   "source": [
    "Variable(\n",
    "    name='delta_C_annual',\n",
    "    long_name='Annual Carbon Delta',\n",
    "    units='g',\n",
    "    description='Annual change in forest carbon content',\n",
    "    use='dynamic',\n",
    "    process=delta_C_annual,\n",
    ")\n",
    "\n",
    "# display the variables we have registered so far\n",
    "display(CarbonSequestration.get_variable_names())"
   ]
  },
  {
   "cell_type": "markdown",
   "id": "5af6cb2f-50c4-4cd9-91a9-a8d159595df9",
   "metadata": {},
   "source": [
    "### Add our state variable\n",
    "\n",
    "**Working Definition:** A state variable is the main input/output to each timestep. Notably, it can be updated between timesteps to allow interaction with other models. Our model needs to be initialized with state variable values, and no matter what settings are used in initialization, the state variable is stored in our main dataset (keep reading to see this).\n",
    "\n",
    "Our state variable is the total carbon stock of the forest, which is updated each year:\n",
    "1. **Total carbon stock** (C_total):\n",
    "\n",
    "    `C_total = C_total + delta_C_annual`\n",
    "    \n",
    "State variables also require a process function."
   ]
  },
  {
   "cell_type": "code",
   "execution_count": null,
   "id": "ac6f26ee-56d2-493f-9478-01407020b34c",
   "metadata": {
    "tags": []
   },
   "outputs": [],
   "source": [
    "@numba.njit\n",
    "def C_total(\n",
    "    C_total: float,\n",
    "    delta_C_annual: float,\n",
    ") -> float:\n",
    "    return C_total + delta_C_annual"
   ]
  },
  {
   "cell_type": "code",
   "execution_count": null,
   "id": "b8b9ba47-3c9a-4b8f-92b0-7a44182d7813",
   "metadata": {
    "tags": []
   },
   "outputs": [],
   "source": [
    "Variable(\n",
    "    name='C_total',\n",
    "    long_name='Carbon total',\n",
    "    units='g',\n",
    "    description='Total forest carbon content',\n",
    "    use='state',\n",
    "    process=C_total,\n",
    ")\n",
    "\n",
    "Variable(\n",
    "    name='forest_area',\n",
    "    long_name='Area of the forest',\n",
    "    units='m^2',\n",
    "    description='Area of the forest, may change year by year with deforestation.',\n",
    "    use='state',\n",
    "    process=forest_area,\n",
    ")\n",
    "\n",
    "# display the variables we have registered so far\n",
    "display(CarbonSequestration.get_variable_names())"
   ]
  },
  {
   "cell_type": "code",
   "execution_count": null,
   "id": "98b447fb-65fa-46bf-a52c-4a4b1390ba08",
   "metadata": {
    "tags": []
   },
   "outputs": [],
   "source": [
    "# for state variables we can see them before initialization\n",
    "display(CarbonSequestration.get_state_variables())"
   ]
  },
  {
   "cell_type": "markdown",
   "id": "95d04864-2b19-4081-a688-f6729b37a8fd",
   "metadata": {},
   "source": [
    "## Now let's instantiate our new model\n",
    "\n",
    "To instantiate a model we need to pass in a dictionary with our initial state variable values, any non-default changes to our static variables, and any other optional config settings."
   ]
  },
  {
   "cell_type": "code",
   "execution_count": null,
   "id": "f489f488-42e6-4e1d-b403-01ebf5738582",
   "metadata": {
    "tags": []
   },
   "outputs": [],
   "source": [
    "initial_state_values = {'C_total': 1000, 'forest_area': 1000}\n",
    "static_variable_values = {\n",
    "    'carbon_content': 0.5,\n",
    "    'npp': 10,\n",
    "}\n",
    "\n",
    "carbon_model = CarbonSequestration(\n",
    "    initial_state_values=initial_state_values,  # mandatory\n",
    "    static_variable_values=static_variable_values,  # mandatory/optional depending on defaults\n",
    "    track_dynamic_variables=True,  # default is true\n",
    "    hotstart_dataset=None,  # default is None\n",
    "    time_dim='year',  # default is \"timestep\"\n",
    ")"
   ]
  },
  {
   "cell_type": "markdown",
   "id": "f058c597-d808-4c1f-8c57-249ee0ba859f",
   "metadata": {
    "tags": []
   },
   "source": [
    "### All instantiated models have static, dynamic, and state variable properties"
   ]
  },
  {
   "cell_type": "code",
   "execution_count": null,
   "id": "b9316ecd-5372-4eab-8d0c-87c80c20ce90",
   "metadata": {
    "tags": []
   },
   "outputs": [],
   "source": [
    "display(carbon_model.state_variables)"
   ]
  },
  {
   "cell_type": "code",
   "execution_count": null,
   "id": "c131bccf-eb39-4abf-8e35-cfb6027c8df6",
   "metadata": {
    "tags": []
   },
   "outputs": [],
   "source": [
    "display(carbon_model.static_variables)"
   ]
  },
  {
   "cell_type": "code",
   "execution_count": null,
   "id": "37e64e74-9ec2-4d43-83ff-0f2bfdac7445",
   "metadata": {
    "tags": []
   },
   "outputs": [],
   "source": [
    "display(carbon_model.dynamic_variables)"
   ]
  },
  {
   "cell_type": "markdown",
   "id": "97639e68-ffcc-4d53-b315-4c79ce873139",
   "metadata": {
    "tags": []
   },
   "source": [
    "### One can access their \"computation order\" which is calculated using a \"dependency tree\" approach in `sorter.py`"
   ]
  },
  {
   "cell_type": "code",
   "execution_count": null,
   "id": "188344ee-ff6a-4ee0-8cde-cf0ab7817735",
   "metadata": {
    "tags": []
   },
   "outputs": [],
   "source": [
    "carbon_model.computation_order"
   ]
  },
  {
   "cell_type": "code",
   "execution_count": null,
   "id": "a2bbcfe5-5c23-4224-a505-f1fb79c2e661",
   "metadata": {
    "tags": []
   },
   "outputs": [],
   "source": [
    "print('Variable | Inputs\\n------------------')\n",
    "for i in carbon_model.computation_order:\n",
    "    print(f'{i.name} | {sorter.get_process_args(i.process)}')"
   ]
  },
  {
   "cell_type": "markdown",
   "id": "5be835a7-8a2b-4200-a962-e24147aa2e35",
   "metadata": {},
   "source": [
    "### Data is stored in `self.dataset`"
   ]
  },
  {
   "cell_type": "code",
   "execution_count": null,
   "id": "2897c1a4-520f-4a31-928e-038756da36af",
   "metadata": {
    "tags": []
   },
   "outputs": [],
   "source": [
    "carbon_model.dataset"
   ]
  },
  {
   "cell_type": "markdown",
   "id": "a7f8dabd-1f2b-4610-8280-29be9f18b016",
   "metadata": {},
   "source": [
    "## Running a timestep\n",
    "All timesteps can be run independently. Optionally, one can update the state values with a float or a `xarray.DataArray`."
   ]
  },
  {
   "cell_type": "code",
   "execution_count": null,
   "id": "09bb7808-dbca-4508-ba86-b0cb23b8f5e8",
   "metadata": {
    "tags": []
   },
   "outputs": [],
   "source": [
    "carbon_model.increment_timestep()\n",
    "carbon_model.dataset"
   ]
  },
  {
   "cell_type": "markdown",
   "id": "b824cec0-7385-4b21-937e-64af96bb10b7",
   "metadata": {},
   "source": [
    "## Running a loop of timesteps\n",
    "\n",
    "Here we run 100 years of our model with the following hypothetical:\n",
    "* For the first 50 years deforestation reduces forest area incrementally.\n",
    "* 50 years in, a program begins that ends deforestation, and the forest grows back incrementally.\n",
    "\n",
    "**This demonstrates how we can update state variables to interact with other models!**"
   ]
  },
  {
   "cell_type": "code",
   "execution_count": null,
   "id": "aec534de-846d-40d8-9d25-e4cf2e24c1b1",
   "metadata": {
    "tags": []
   },
   "outputs": [],
   "source": [
    "%%time\n",
    "for i in range(100):\n",
    "    forest_area_change = random.uniform(0.0, 25)\n",
    "    if i < 50:\n",
    "        forest_area_change = -forest_area_change\n",
    "    new_forest_area = (carbon_model.dataset.forest_area + forest_area_change).isel(year=-1)\n",
    "    carbon_model.increment_timestep(update_state_values={'forest_area': new_forest_area})\n",
    "carbon_model.dataset"
   ]
  },
  {
   "cell_type": "code",
   "execution_count": null,
   "id": "6b35b04a-9dfa-4af1-a7d3-f13e84019c3b",
   "metadata": {
    "tags": []
   },
   "outputs": [],
   "source": [
    "carbon_model.dataset.hvplot(x='year', y='delta_C_annual', title='delta_C_annual')"
   ]
  },
  {
   "cell_type": "code",
   "execution_count": null,
   "id": "49e9cb85-9d90-49c1-a308-dcb31a6f6092",
   "metadata": {
    "tags": []
   },
   "outputs": [],
   "source": [
    "carbon_model.dataset.hvplot(x='year', y='C_total', title='C_total')"
   ]
  },
  {
   "cell_type": "markdown",
   "id": "be48713d-1170-4195-b95d-35ee1c99dd3d",
   "metadata": {
    "tags": []
   },
   "source": [
    "# TSM `EnergyBudget` Example\n",
    "\n",
    "Now that we understand how the code architecture works, we can explore a real example."
   ]
  },
  {
   "cell_type": "code",
   "execution_count": null,
   "id": "d02e421d-e478-4c14-b08b-fbd8ffc82a5d",
   "metadata": {
    "tags": []
   },
   "outputs": [],
   "source": [
    "from clearwater_modules.tsm.model import EnergyBudget"
   ]
  },
  {
   "cell_type": "code",
   "execution_count": null,
   "id": "a963a7f9",
   "metadata": {
    "tags": []
   },
   "outputs": [],
   "source": [
    "# Confirm that sub-modules are imported\n",
    "dir(cwm.tsm)"
   ]
  },
  {
   "cell_type": "markdown",
   "id": "28e4266d-424e-47dc-bc26-5c2e66819b0a",
   "metadata": {
    "tags": []
   },
   "source": [
    "## Start by instantiating a `EnergyBudget`\n",
    "\n",
    "Initial state variable values are always required. To see the names/info of a model's state variables, we can use `Model.get_state_variables()`."
   ]
  },
  {
   "cell_type": "code",
   "execution_count": null,
   "id": "f6942a19-df9c-48c7-afc3-37e98d44c0d0",
   "metadata": {
    "tags": []
   },
   "outputs": [],
   "source": [
    "EnergyBudget.get_state_variables()"
   ]
  },
  {
   "cell_type": "code",
   "execution_count": null,
   "id": "be877b70-073a-4877-af10-c1ad3c386165",
   "metadata": {
    "tags": []
   },
   "outputs": [],
   "source": [
    "initial_state_values = {\n",
    "    'water_temp_c': 1.0,\n",
    "    'volume': 1.0,\n",
    "    'surface_area': 1.0,\n",
    "}"
   ]
  },
  {
   "cell_type": "code",
   "execution_count": null,
   "id": "299d062c-b981-45e6-a437-156c4a3d8388",
   "metadata": {
    "tags": []
   },
   "outputs": [],
   "source": [
    "my_model = EnergyBudget(\n",
    "    initial_state_values,\n",
    "    time_dim='my_time_step',\n",
    ")\n",
    "my_model"
   ]
  },
  {
   "cell_type": "code",
   "execution_count": null,
   "id": "5ee305a3-5990-47aa-885e-2771dda9fa5f",
   "metadata": {
    "tags": []
   },
   "outputs": [],
   "source": [
    "[i for i in dir(my_model) if i[0] != '_']"
   ]
  },
  {
   "cell_type": "markdown",
   "id": "825e288f-b51a-4590-91f0-dd706c118725",
   "metadata": {},
   "source": [
    "## TSM can be initialized with alternative met/temp parameter\n",
    "**This is an example of a model specific `__init__`**. As of now we are using the defaults."
   ]
  },
  {
   "cell_type": "code",
   "execution_count": null,
   "id": "ac36bc9f-aa8f-4e35-946e-1c69f32a3d27",
   "metadata": {
    "tags": []
   },
   "outputs": [],
   "source": [
    "my_model.met_parameters"
   ]
  },
  {
   "cell_type": "code",
   "execution_count": null,
   "id": "7411afa5-83ac-4ff7-9e95-a73a4d3a2aa8",
   "metadata": {
    "tags": []
   },
   "outputs": [],
   "source": [
    "my_model.temp_parameters"
   ]
  },
  {
   "cell_type": "code",
   "execution_count": null,
   "id": "a8da8894-a6ad-42dc-9618-dc899a1525ea",
   "metadata": {
    "tags": []
   },
   "outputs": [],
   "source": [
    "my_model.time_dim"
   ]
  },
  {
   "cell_type": "markdown",
   "id": "f74682c6-096c-4f41-b929-09027a6e335d",
   "metadata": {},
   "source": [
    "## All models have static, dynamic, and state variables"
   ]
  },
  {
   "cell_type": "code",
   "execution_count": null,
   "id": "2d0c2856-9012-4ebb-bb23-457f209c4e0f",
   "metadata": {
    "tags": []
   },
   "outputs": [],
   "source": [
    "display(my_model.static_variables)"
   ]
  },
  {
   "cell_type": "code",
   "execution_count": null,
   "id": "8f082754-055e-4c58-af74-2e2c73a023fb",
   "metadata": {
    "tags": []
   },
   "outputs": [],
   "source": [
    "display(my_model.dynamic_variables)"
   ]
  },
  {
   "cell_type": "markdown",
   "id": "7e672a66-3649-4d49-9616-232959fc3d40",
   "metadata": {},
   "source": [
    "## One can access their \"computation order\" which is calculated using a \"dependency tree\" approach in `sorter.py`"
   ]
  },
  {
   "cell_type": "code",
   "execution_count": null,
   "id": "301e91eb-fb88-468d-9a5c-5baba31cd21f",
   "metadata": {
    "tags": []
   },
   "outputs": [],
   "source": [
    "my_model.computation_order"
   ]
  },
  {
   "cell_type": "code",
   "execution_count": null,
   "id": "aca8eace-0ee4-4a3f-bb82-e3794098dbf5",
   "metadata": {
    "tags": []
   },
   "outputs": [],
   "source": [
    "for i in my_model.computation_order:\n",
    "    print(f'{i.name} | {sorter.get_process_args(i.process)}')"
   ]
  },
  {
   "cell_type": "markdown",
   "id": "f5b2234a-38b5-4ffc-a180-cf126be22544",
   "metadata": {},
   "source": [
    "## Run 5 timesteps"
   ]
  },
  {
   "cell_type": "code",
   "execution_count": null,
   "id": "aa7f69c8-d45d-4119-a353-7655327dcdb6",
   "metadata": {
    "tags": []
   },
   "outputs": [],
   "source": [
    "TIME_STEPS = 5"
   ]
  },
  {
   "cell_type": "code",
   "execution_count": null,
   "id": "bb7f2291-3df9-4464-b256-45abc8b225d0",
   "metadata": {
    "tags": []
   },
   "outputs": [],
   "source": [
    "@numba.jit(forceobj=True)\n",
    "def run_n_timesteps(time_steps: int, model: EnergyBudget):\n",
    "    for i in range(time_steps):\n",
    "        model.increment_timestep()"
   ]
  },
  {
   "cell_type": "code",
   "execution_count": null,
   "id": "b4ed28c4-301f-4fd2-9e70-e443b4ef909a",
   "metadata": {
    "tags": []
   },
   "outputs": [],
   "source": [
    "%%time\n",
    "run_n_timesteps(TIME_STEPS, my_model)"
   ]
  },
  {
   "cell_type": "code",
   "execution_count": null,
   "id": "df2bd00b-4dc0-4f1f-b527-c537c72a454a",
   "metadata": {
    "tags": []
   },
   "outputs": [],
   "source": [
    "my_model.dataset"
   ]
  }
 ],
 "metadata": {
  "kernelspec": {
   "display_name": "Python 3 (ipykernel)",
   "language": "python",
   "name": "python3"
  },
  "language_info": {
   "codemirror_mode": {
    "name": "ipython",
    "version": 3
   },
   "file_extension": ".py",
   "mimetype": "text/x-python",
   "name": "python",
   "nbconvert_exporter": "python",
   "pygments_lexer": "ipython3",
   "version": "3.11.6"
  },
  "toc-autonumbering": true
 },
 "nbformat": 4,
 "nbformat_minor": 5
}
