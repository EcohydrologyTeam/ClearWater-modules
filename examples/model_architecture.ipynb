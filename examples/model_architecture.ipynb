{
 "cells": [
  {
   "cell_type": "markdown",
   "id": "25bd6ed5-3bd1-4592-a813-5958221d5a21",
   "metadata": {
    "tags": []
   },
   "source": [
    "# Clearwater Modules Architecture\n",
    "\n",
    "**Author:** Xavier Nogueira"
   ]
  },
  {
   "cell_type": "markdown",
   "id": "95a96e20",
   "metadata": {},
   "source": [
    "# Installation and Setup"
   ]
  },
  {
   "cell_type": "markdown",
   "id": "80133cfc",
   "metadata": {},
   "source": [
    "## Install\n",
    "\n",
    "Carefully follow our **[Installation Instructions](README.md#getting-started)**, especially including:\n",
    "- Creating a virtual environment for this repository (step 3)"
   ]
  },
  {
   "cell_type": "markdown",
   "id": "f73cfdf5",
   "metadata": {},
   "source": [
    "## Import Python Dependancies"
   ]
  },
  {
   "cell_type": "code",
   "execution_count": 15,
   "id": "663a1e5a-4311-42e7-babc-6e254a5ff9cf",
   "metadata": {
    "tags": []
   },
   "outputs": [],
   "source": [
    "import clearwater_modules as cwm\n",
    "import clearwater_modules.sorter as sorter\n",
    "import numba\n",
    "import random\n",
    "import hvplot.xarray\n",
    "import warnings\n",
    "warnings.filterwarnings(\"ignore\")"
   ]
  },
  {
   "cell_type": "code",
   "execution_count": 16,
   "id": "01c71150",
   "metadata": {
    "tags": []
   },
   "outputs": [
    {
     "data": {
      "text/plain": [
       "['__builtins__',\n",
       " '__cached__',\n",
       " '__doc__',\n",
       " '__file__',\n",
       " '__loader__',\n",
       " '__name__',\n",
       " '__package__',\n",
       " '__path__',\n",
       " '__spec__',\n",
       " '__version__',\n",
       " 'base',\n",
       " 'nsm1',\n",
       " 'shared',\n",
       " 'sorter',\n",
       " 'tsm',\n",
       " 'utils']"
      ]
     },
     "execution_count": 16,
     "metadata": {},
     "output_type": "execute_result"
    }
   ],
   "source": [
    "# Confirm that sub-modules are imported\n",
    "dir(cwm)"
   ]
  },
  {
   "cell_type": "markdown",
   "id": "234fa8ec",
   "metadata": {},
   "source": [
    "### If you get `ModuleNotFoundError`:\n",
    "\n",
    "If you get this error:\n",
    "```python\n",
    "ModuleNotFoundError: No module named 'clearwater_modules'\n",
    "```\n",
    "Then:\n",
    "1. Run the following terminal command with your local absolute path to this repo.\n",
    "    - NOTE: Here we use Jupyter `!` magic command to run from the terminal via this notebook. \n",
    "2. Restart the kernel.\n",
    "3. Rerun the import statements above.\n",
    "\n",
    "See [4. Add your `ClearWater-modules-python` Path to Miniconda/Anaconda sites-packages](..ReadMe.md#4-add-your-clearwater-modules-python-path-to-minicondaanaconda-sites-packages)."
   ]
  },
  {
   "cell_type": "markdown",
   "id": "de2f2cd1-a5dc-4536-8b1c-5f4fbf866601",
   "metadata": {},
   "source": [
    "# Writing/using a simple `Model` sub-class example\n",
    "\n",
    "In this example we will be writing a `base.Model` sub-class that calculates the annual carbon sequestration in a forest for a given year timestep.\n",
    "\n",
    "**Note:** Do not take the calculation too literally! I got it off ChatGPT in order to find a good, simple example for the code."
   ]
  },
  {
   "cell_type": "markdown",
   "id": "a52584bf-13af-4527-87ff-dbfa1010ddc1",
   "metadata": {},
   "source": [
    "## Start by inheriting `base.Model` -> `CarbonSequestration(cwm.base.Model)`"
   ]
  },
  {
   "cell_type": "code",
   "execution_count": 4,
   "id": "a5d34d2d-03a6-41e1-92fc-9e6fba72d6f5",
   "metadata": {
    "tags": []
   },
   "outputs": [
    {
     "name": "stdout",
     "output_type": "stream",
     "text": [
      "Initializing from dicts...\n",
      "Model initialized from input dicts successfully!.\n"
     ]
    },
    {
     "data": {
      "text/html": [
       "<div><svg style=\"position: absolute; width: 0; height: 0; overflow: hidden\">\n",
       "<defs>\n",
       "<symbol id=\"icon-database\" viewBox=\"0 0 32 32\">\n",
       "<path d=\"M16 0c-8.837 0-16 2.239-16 5v4c0 2.761 7.163 5 16 5s16-2.239 16-5v-4c0-2.761-7.163-5-16-5z\"></path>\n",
       "<path d=\"M16 17c-8.837 0-16-2.239-16-5v6c0 2.761 7.163 5 16 5s16-2.239 16-5v-6c0 2.761-7.163 5-16 5z\"></path>\n",
       "<path d=\"M16 26c-8.837 0-16-2.239-16-5v6c0 2.761 7.163 5 16 5s16-2.239 16-5v-6c0 2.761-7.163 5-16 5z\"></path>\n",
       "</symbol>\n",
       "<symbol id=\"icon-file-text2\" viewBox=\"0 0 32 32\">\n",
       "<path d=\"M28.681 7.159c-0.694-0.947-1.662-2.053-2.724-3.116s-2.169-2.030-3.116-2.724c-1.612-1.182-2.393-1.319-2.841-1.319h-15.5c-1.378 0-2.5 1.121-2.5 2.5v27c0 1.378 1.122 2.5 2.5 2.5h23c1.378 0 2.5-1.122 2.5-2.5v-19.5c0-0.448-0.137-1.23-1.319-2.841zM24.543 5.457c0.959 0.959 1.712 1.825 2.268 2.543h-4.811v-4.811c0.718 0.556 1.584 1.309 2.543 2.268zM28 29.5c0 0.271-0.229 0.5-0.5 0.5h-23c-0.271 0-0.5-0.229-0.5-0.5v-27c0-0.271 0.229-0.5 0.5-0.5 0 0 15.499-0 15.5 0v7c0 0.552 0.448 1 1 1h7v19.5z\"></path>\n",
       "<path d=\"M23 26h-14c-0.552 0-1-0.448-1-1s0.448-1 1-1h14c0.552 0 1 0.448 1 1s-0.448 1-1 1z\"></path>\n",
       "<path d=\"M23 22h-14c-0.552 0-1-0.448-1-1s0.448-1 1-1h14c0.552 0 1 0.448 1 1s-0.448 1-1 1z\"></path>\n",
       "<path d=\"M23 18h-14c-0.552 0-1-0.448-1-1s0.448-1 1-1h14c0.552 0 1 0.448 1 1s-0.448 1-1 1z\"></path>\n",
       "</symbol>\n",
       "</defs>\n",
       "</svg>\n",
       "<style>/* CSS stylesheet for displaying xarray objects in jupyterlab.\n",
       " *\n",
       " */\n",
       "\n",
       ":root {\n",
       "  --xr-font-color0: var(--jp-content-font-color0, rgba(0, 0, 0, 1));\n",
       "  --xr-font-color2: var(--jp-content-font-color2, rgba(0, 0, 0, 0.54));\n",
       "  --xr-font-color3: var(--jp-content-font-color3, rgba(0, 0, 0, 0.38));\n",
       "  --xr-border-color: var(--jp-border-color2, #e0e0e0);\n",
       "  --xr-disabled-color: var(--jp-layout-color3, #bdbdbd);\n",
       "  --xr-background-color: var(--jp-layout-color0, white);\n",
       "  --xr-background-color-row-even: var(--jp-layout-color1, white);\n",
       "  --xr-background-color-row-odd: var(--jp-layout-color2, #eeeeee);\n",
       "}\n",
       "\n",
       "html[theme=dark],\n",
       "body[data-theme=dark],\n",
       "body.vscode-dark {\n",
       "  --xr-font-color0: rgba(255, 255, 255, 1);\n",
       "  --xr-font-color2: rgba(255, 255, 255, 0.54);\n",
       "  --xr-font-color3: rgba(255, 255, 255, 0.38);\n",
       "  --xr-border-color: #1F1F1F;\n",
       "  --xr-disabled-color: #515151;\n",
       "  --xr-background-color: #111111;\n",
       "  --xr-background-color-row-even: #111111;\n",
       "  --xr-background-color-row-odd: #313131;\n",
       "}\n",
       "\n",
       ".xr-wrap {\n",
       "  display: block !important;\n",
       "  min-width: 300px;\n",
       "  max-width: 700px;\n",
       "}\n",
       "\n",
       ".xr-text-repr-fallback {\n",
       "  /* fallback to plain text repr when CSS is not injected (untrusted notebook) */\n",
       "  display: none;\n",
       "}\n",
       "\n",
       ".xr-header {\n",
       "  padding-top: 6px;\n",
       "  padding-bottom: 6px;\n",
       "  margin-bottom: 4px;\n",
       "  border-bottom: solid 1px var(--xr-border-color);\n",
       "}\n",
       "\n",
       ".xr-header > div,\n",
       ".xr-header > ul {\n",
       "  display: inline;\n",
       "  margin-top: 0;\n",
       "  margin-bottom: 0;\n",
       "}\n",
       "\n",
       ".xr-obj-type,\n",
       ".xr-array-name {\n",
       "  margin-left: 2px;\n",
       "  margin-right: 10px;\n",
       "}\n",
       "\n",
       ".xr-obj-type {\n",
       "  color: var(--xr-font-color2);\n",
       "}\n",
       "\n",
       ".xr-sections {\n",
       "  padding-left: 0 !important;\n",
       "  display: grid;\n",
       "  grid-template-columns: 150px auto auto 1fr 20px 20px;\n",
       "}\n",
       "\n",
       ".xr-section-item {\n",
       "  display: contents;\n",
       "}\n",
       "\n",
       ".xr-section-item input {\n",
       "  display: none;\n",
       "}\n",
       "\n",
       ".xr-section-item input + label {\n",
       "  color: var(--xr-disabled-color);\n",
       "}\n",
       "\n",
       ".xr-section-item input:enabled + label {\n",
       "  cursor: pointer;\n",
       "  color: var(--xr-font-color2);\n",
       "}\n",
       "\n",
       ".xr-section-item input:enabled + label:hover {\n",
       "  color: var(--xr-font-color0);\n",
       "}\n",
       "\n",
       ".xr-section-summary {\n",
       "  grid-column: 1;\n",
       "  color: var(--xr-font-color2);\n",
       "  font-weight: 500;\n",
       "}\n",
       "\n",
       ".xr-section-summary > span {\n",
       "  display: inline-block;\n",
       "  padding-left: 0.5em;\n",
       "}\n",
       "\n",
       ".xr-section-summary-in:disabled + label {\n",
       "  color: var(--xr-font-color2);\n",
       "}\n",
       "\n",
       ".xr-section-summary-in + label:before {\n",
       "  display: inline-block;\n",
       "  content: '►';\n",
       "  font-size: 11px;\n",
       "  width: 15px;\n",
       "  text-align: center;\n",
       "}\n",
       "\n",
       ".xr-section-summary-in:disabled + label:before {\n",
       "  color: var(--xr-disabled-color);\n",
       "}\n",
       "\n",
       ".xr-section-summary-in:checked + label:before {\n",
       "  content: '▼';\n",
       "}\n",
       "\n",
       ".xr-section-summary-in:checked + label > span {\n",
       "  display: none;\n",
       "}\n",
       "\n",
       ".xr-section-summary,\n",
       ".xr-section-inline-details {\n",
       "  padding-top: 4px;\n",
       "  padding-bottom: 4px;\n",
       "}\n",
       "\n",
       ".xr-section-inline-details {\n",
       "  grid-column: 2 / -1;\n",
       "}\n",
       "\n",
       ".xr-section-details {\n",
       "  display: none;\n",
       "  grid-column: 1 / -1;\n",
       "  margin-bottom: 5px;\n",
       "}\n",
       "\n",
       ".xr-section-summary-in:checked ~ .xr-section-details {\n",
       "  display: contents;\n",
       "}\n",
       "\n",
       ".xr-array-wrap {\n",
       "  grid-column: 1 / -1;\n",
       "  display: grid;\n",
       "  grid-template-columns: 20px auto;\n",
       "}\n",
       "\n",
       ".xr-array-wrap > label {\n",
       "  grid-column: 1;\n",
       "  vertical-align: top;\n",
       "}\n",
       "\n",
       ".xr-preview {\n",
       "  color: var(--xr-font-color3);\n",
       "}\n",
       "\n",
       ".xr-array-preview,\n",
       ".xr-array-data {\n",
       "  padding: 0 5px !important;\n",
       "  grid-column: 2;\n",
       "}\n",
       "\n",
       ".xr-array-data,\n",
       ".xr-array-in:checked ~ .xr-array-preview {\n",
       "  display: none;\n",
       "}\n",
       "\n",
       ".xr-array-in:checked ~ .xr-array-data,\n",
       ".xr-array-preview {\n",
       "  display: inline-block;\n",
       "}\n",
       "\n",
       ".xr-dim-list {\n",
       "  display: inline-block !important;\n",
       "  list-style: none;\n",
       "  padding: 0 !important;\n",
       "  margin: 0;\n",
       "}\n",
       "\n",
       ".xr-dim-list li {\n",
       "  display: inline-block;\n",
       "  padding: 0;\n",
       "  margin: 0;\n",
       "}\n",
       "\n",
       ".xr-dim-list:before {\n",
       "  content: '(';\n",
       "}\n",
       "\n",
       ".xr-dim-list:after {\n",
       "  content: ')';\n",
       "}\n",
       "\n",
       ".xr-dim-list li:not(:last-child):after {\n",
       "  content: ',';\n",
       "  padding-right: 5px;\n",
       "}\n",
       "\n",
       ".xr-has-index {\n",
       "  font-weight: bold;\n",
       "}\n",
       "\n",
       ".xr-var-list,\n",
       ".xr-var-item {\n",
       "  display: contents;\n",
       "}\n",
       "\n",
       ".xr-var-item > div,\n",
       ".xr-var-item label,\n",
       ".xr-var-item > .xr-var-name span {\n",
       "  background-color: var(--xr-background-color-row-even);\n",
       "  margin-bottom: 0;\n",
       "}\n",
       "\n",
       ".xr-var-item > .xr-var-name:hover span {\n",
       "  padding-right: 5px;\n",
       "}\n",
       "\n",
       ".xr-var-list > li:nth-child(odd) > div,\n",
       ".xr-var-list > li:nth-child(odd) > label,\n",
       ".xr-var-list > li:nth-child(odd) > .xr-var-name span {\n",
       "  background-color: var(--xr-background-color-row-odd);\n",
       "}\n",
       "\n",
       ".xr-var-name {\n",
       "  grid-column: 1;\n",
       "}\n",
       "\n",
       ".xr-var-dims {\n",
       "  grid-column: 2;\n",
       "}\n",
       "\n",
       ".xr-var-dtype {\n",
       "  grid-column: 3;\n",
       "  text-align: right;\n",
       "  color: var(--xr-font-color2);\n",
       "}\n",
       "\n",
       ".xr-var-preview {\n",
       "  grid-column: 4;\n",
       "}\n",
       "\n",
       ".xr-index-preview {\n",
       "  grid-column: 2 / 5;\n",
       "  color: var(--xr-font-color2);\n",
       "}\n",
       "\n",
       ".xr-var-name,\n",
       ".xr-var-dims,\n",
       ".xr-var-dtype,\n",
       ".xr-preview,\n",
       ".xr-attrs dt {\n",
       "  white-space: nowrap;\n",
       "  overflow: hidden;\n",
       "  text-overflow: ellipsis;\n",
       "  padding-right: 10px;\n",
       "}\n",
       "\n",
       ".xr-var-name:hover,\n",
       ".xr-var-dims:hover,\n",
       ".xr-var-dtype:hover,\n",
       ".xr-attrs dt:hover {\n",
       "  overflow: visible;\n",
       "  width: auto;\n",
       "  z-index: 1;\n",
       "}\n",
       "\n",
       ".xr-var-attrs,\n",
       ".xr-var-data,\n",
       ".xr-index-data {\n",
       "  display: none;\n",
       "  background-color: var(--xr-background-color) !important;\n",
       "  padding-bottom: 5px !important;\n",
       "}\n",
       "\n",
       ".xr-var-attrs-in:checked ~ .xr-var-attrs,\n",
       ".xr-var-data-in:checked ~ .xr-var-data,\n",
       ".xr-index-data-in:checked ~ .xr-index-data {\n",
       "  display: block;\n",
       "}\n",
       "\n",
       ".xr-var-data > table {\n",
       "  float: right;\n",
       "}\n",
       "\n",
       ".xr-var-name span,\n",
       ".xr-var-data,\n",
       ".xr-index-name div,\n",
       ".xr-index-data,\n",
       ".xr-attrs {\n",
       "  padding-left: 25px !important;\n",
       "}\n",
       "\n",
       ".xr-attrs,\n",
       ".xr-var-attrs,\n",
       ".xr-var-data,\n",
       ".xr-index-data {\n",
       "  grid-column: 1 / -1;\n",
       "}\n",
       "\n",
       "dl.xr-attrs {\n",
       "  padding: 0;\n",
       "  margin: 0;\n",
       "  display: grid;\n",
       "  grid-template-columns: 125px auto;\n",
       "}\n",
       "\n",
       ".xr-attrs dt,\n",
       ".xr-attrs dd {\n",
       "  padding: 0;\n",
       "  margin: 0;\n",
       "  float: left;\n",
       "  padding-right: 10px;\n",
       "  width: auto;\n",
       "}\n",
       "\n",
       ".xr-attrs dt {\n",
       "  font-weight: normal;\n",
       "  grid-column: 1;\n",
       "}\n",
       "\n",
       ".xr-attrs dt:hover span {\n",
       "  display: inline-block;\n",
       "  background: var(--xr-background-color);\n",
       "  padding-right: 10px;\n",
       "}\n",
       "\n",
       ".xr-attrs dd {\n",
       "  grid-column: 2;\n",
       "  white-space: pre-wrap;\n",
       "  word-break: break-all;\n",
       "}\n",
       "\n",
       ".xr-icon-database,\n",
       ".xr-icon-file-text2,\n",
       ".xr-no-icon {\n",
       "  display: inline-block;\n",
       "  vertical-align: middle;\n",
       "  width: 1em;\n",
       "  height: 1.5em !important;\n",
       "  stroke-width: 0;\n",
       "  stroke: currentColor;\n",
       "  fill: currentColor;\n",
       "}\n",
       "</style><pre class='xr-text-repr-fallback'>&lt;xarray.Dataset&gt;\n",
       "Dimensions:            (year: 1, x: 1, y: 1)\n",
       "Coordinates:\n",
       "  * year               (year) int32 0\n",
       "  * x                  (x) float64 1.0\n",
       "  * y                  (y) float64 1.0\n",
       "Data variables: (12/31)\n",
       "    water_temp_c       (year, x, y) int32 20\n",
       "    surface_area       (year, x, y) int32 1\n",
       "    volume             (year, x, y) int32 1\n",
       "    use_sed_temp       (x, y) bool True\n",
       "    stefan_boltzmann   (x, y) float64 5.67e-08\n",
       "    cp_air             (x, y) float64 1.005e+03\n",
       "    ...                 ...\n",
       "    cloudiness         (x, y) float64 0.1\n",
       "    wind_speed         (x, y) float64 3.0\n",
       "    wind_a             (x, y) float64 0.3\n",
       "    wind_b             (x, y) float64 1.5\n",
       "    wind_c             (x, y) float64 3.0\n",
       "    wind_kh_kw         (x, y) float64 1.0</pre><div class='xr-wrap' style='display:none'><div class='xr-header'><div class='xr-obj-type'>xarray.Dataset</div></div><ul class='xr-sections'><li class='xr-section-item'><input id='section-ea863d0f-a7b6-4e94-ba94-b2e3195a1496' class='xr-section-summary-in' type='checkbox' disabled ><label for='section-ea863d0f-a7b6-4e94-ba94-b2e3195a1496' class='xr-section-summary'  title='Expand/collapse section'>Dimensions:</label><div class='xr-section-inline-details'><ul class='xr-dim-list'><li><span class='xr-has-index'>year</span>: 1</li><li><span class='xr-has-index'>x</span>: 1</li><li><span class='xr-has-index'>y</span>: 1</li></ul></div><div class='xr-section-details'></div></li><li class='xr-section-item'><input id='section-7b69aeec-37c3-4baf-9b33-ba0325b1e8ab' class='xr-section-summary-in' type='checkbox'  checked><label for='section-7b69aeec-37c3-4baf-9b33-ba0325b1e8ab' class='xr-section-summary' >Coordinates: <span>(3)</span></label><div class='xr-section-inline-details'></div><div class='xr-section-details'><ul class='xr-var-list'><li class='xr-var-item'><div class='xr-var-name'><span class='xr-has-index'>year</span></div><div class='xr-var-dims'>(year)</div><div class='xr-var-dtype'>int32</div><div class='xr-var-preview xr-preview'>0</div><input id='attrs-acc862db-1a9f-4a7a-942b-74b838a12eae' class='xr-var-attrs-in' type='checkbox' disabled><label for='attrs-acc862db-1a9f-4a7a-942b-74b838a12eae' title='Show/Hide attributes'><svg class='icon xr-icon-file-text2'><use xlink:href='#icon-file-text2'></use></svg></label><input id='data-e165207f-3f3a-4846-b66e-5ad61105dee3' class='xr-var-data-in' type='checkbox'><label for='data-e165207f-3f3a-4846-b66e-5ad61105dee3' title='Show/Hide data repr'><svg class='icon xr-icon-database'><use xlink:href='#icon-database'></use></svg></label><div class='xr-var-attrs'><dl class='xr-attrs'></dl></div><div class='xr-var-data'><pre>array([0])</pre></div></li><li class='xr-var-item'><div class='xr-var-name'><span class='xr-has-index'>x</span></div><div class='xr-var-dims'>(x)</div><div class='xr-var-dtype'>float64</div><div class='xr-var-preview xr-preview'>1.0</div><input id='attrs-dec3759e-53ca-4fb9-9a62-adc34514ee0a' class='xr-var-attrs-in' type='checkbox' disabled><label for='attrs-dec3759e-53ca-4fb9-9a62-adc34514ee0a' title='Show/Hide attributes'><svg class='icon xr-icon-file-text2'><use xlink:href='#icon-file-text2'></use></svg></label><input id='data-fb72bbe8-5d24-4a27-9ac6-1498f2cf12aa' class='xr-var-data-in' type='checkbox'><label for='data-fb72bbe8-5d24-4a27-9ac6-1498f2cf12aa' title='Show/Hide data repr'><svg class='icon xr-icon-database'><use xlink:href='#icon-database'></use></svg></label><div class='xr-var-attrs'><dl class='xr-attrs'></dl></div><div class='xr-var-data'><pre>array([1.])</pre></div></li><li class='xr-var-item'><div class='xr-var-name'><span class='xr-has-index'>y</span></div><div class='xr-var-dims'>(y)</div><div class='xr-var-dtype'>float64</div><div class='xr-var-preview xr-preview'>1.0</div><input id='attrs-a7e5c4bc-cace-49b6-bd16-d127c680dd56' class='xr-var-attrs-in' type='checkbox' disabled><label for='attrs-a7e5c4bc-cace-49b6-bd16-d127c680dd56' title='Show/Hide attributes'><svg class='icon xr-icon-file-text2'><use xlink:href='#icon-file-text2'></use></svg></label><input id='data-5fad2f92-0a36-4722-9a88-68b8df0c8e1a' class='xr-var-data-in' type='checkbox'><label for='data-5fad2f92-0a36-4722-9a88-68b8df0c8e1a' title='Show/Hide data repr'><svg class='icon xr-icon-database'><use xlink:href='#icon-database'></use></svg></label><div class='xr-var-attrs'><dl class='xr-attrs'></dl></div><div class='xr-var-data'><pre>array([1.])</pre></div></li></ul></div></li><li class='xr-section-item'><input id='section-316b59cd-3571-479d-a99b-649fe84996d2' class='xr-section-summary-in' type='checkbox'  ><label for='section-316b59cd-3571-479d-a99b-649fe84996d2' class='xr-section-summary' >Data variables: <span>(31)</span></label><div class='xr-section-inline-details'></div><div class='xr-section-details'><ul class='xr-var-list'><li class='xr-var-item'><div class='xr-var-name'><span>water_temp_c</span></div><div class='xr-var-dims'>(year, x, y)</div><div class='xr-var-dtype'>int32</div><div class='xr-var-preview xr-preview'>20</div><input id='attrs-de78d374-21e9-4221-8004-bdcb69234d03' class='xr-var-attrs-in' type='checkbox' ><label for='attrs-de78d374-21e9-4221-8004-bdcb69234d03' title='Show/Hide attributes'><svg class='icon xr-icon-file-text2'><use xlink:href='#icon-file-text2'></use></svg></label><input id='data-6df320d7-0e26-46f5-b616-34fb2bc398a0' class='xr-var-data-in' type='checkbox'><label for='data-6df320d7-0e26-46f5-b616-34fb2bc398a0' title='Show/Hide data repr'><svg class='icon xr-icon-database'><use xlink:href='#icon-database'></use></svg></label><div class='xr-var-attrs'><dl class='xr-attrs'><dt><span>long_name :</span></dt><dd>Water temperature</dd><dt><span>units :</span></dt><dd>degC</dd><dt><span>description :</span></dt><dd>TSM state variable for water temperature</dd></dl></div><div class='xr-var-data'><pre>array([[[20]]])</pre></div></li><li class='xr-var-item'><div class='xr-var-name'><span>surface_area</span></div><div class='xr-var-dims'>(year, x, y)</div><div class='xr-var-dtype'>int32</div><div class='xr-var-preview xr-preview'>1</div><input id='attrs-f1be4a87-a2b7-459f-a7cd-c4ff8f212a99' class='xr-var-attrs-in' type='checkbox' ><label for='attrs-f1be4a87-a2b7-459f-a7cd-c4ff8f212a99' title='Show/Hide attributes'><svg class='icon xr-icon-file-text2'><use xlink:href='#icon-file-text2'></use></svg></label><input id='data-636ab028-5367-4fde-bfea-dd065a80d540' class='xr-var-data-in' type='checkbox'><label for='data-636ab028-5367-4fde-bfea-dd065a80d540' title='Show/Hide data repr'><svg class='icon xr-icon-database'><use xlink:href='#icon-database'></use></svg></label><div class='xr-var-attrs'><dl class='xr-attrs'><dt><span>long_name :</span></dt><dd>Surface area</dd><dt><span>units :</span></dt><dd>m^2</dd><dt><span>description :</span></dt><dd>Surface area</dd></dl></div><div class='xr-var-data'><pre>array([[[1]]])</pre></div></li><li class='xr-var-item'><div class='xr-var-name'><span>volume</span></div><div class='xr-var-dims'>(year, x, y)</div><div class='xr-var-dtype'>int32</div><div class='xr-var-preview xr-preview'>1</div><input id='attrs-7fead893-917d-4ca6-a59f-520e0f128095' class='xr-var-attrs-in' type='checkbox' ><label for='attrs-7fead893-917d-4ca6-a59f-520e0f128095' title='Show/Hide attributes'><svg class='icon xr-icon-file-text2'><use xlink:href='#icon-file-text2'></use></svg></label><input id='data-21a10f17-d2b0-4806-acf8-3d2f9dd6fcd9' class='xr-var-data-in' type='checkbox'><label for='data-21a10f17-d2b0-4806-acf8-3d2f9dd6fcd9' title='Show/Hide data repr'><svg class='icon xr-icon-database'><use xlink:href='#icon-database'></use></svg></label><div class='xr-var-attrs'><dl class='xr-attrs'><dt><span>long_name :</span></dt><dd>Volume</dd><dt><span>units :</span></dt><dd>m^3</dd><dt><span>description :</span></dt><dd>Volume</dd></dl></div><div class='xr-var-data'><pre>array([[[1]]])</pre></div></li><li class='xr-var-item'><div class='xr-var-name'><span>use_sed_temp</span></div><div class='xr-var-dims'>(x, y)</div><div class='xr-var-dtype'>bool</div><div class='xr-var-preview xr-preview'>True</div><input id='attrs-05aa4d80-da7b-4085-be5a-1b7877efb3cf' class='xr-var-attrs-in' type='checkbox' ><label for='attrs-05aa4d80-da7b-4085-be5a-1b7877efb3cf' title='Show/Hide attributes'><svg class='icon xr-icon-file-text2'><use xlink:href='#icon-file-text2'></use></svg></label><input id='data-0f9b1b67-f6cd-44f8-a187-3cea6edd0c52' class='xr-var-data-in' type='checkbox'><label for='data-0f9b1b67-f6cd-44f8-a187-3cea6edd0c52' title='Show/Hide data repr'><svg class='icon xr-icon-database'><use xlink:href='#icon-database'></use></svg></label><div class='xr-var-attrs'><dl class='xr-attrs'><dt><span>long_name :</span></dt><dd>Use Sediment Temperature?</dd><dt><span>units :</span></dt><dd>boolean</dd><dt><span>description :</span></dt><dd>Controls whether to use/calculate sediment temperature or not.</dd></dl></div><div class='xr-var-data'><pre>array([[ True]])</pre></div></li><li class='xr-var-item'><div class='xr-var-name'><span>stefan_boltzmann</span></div><div class='xr-var-dims'>(x, y)</div><div class='xr-var-dtype'>float64</div><div class='xr-var-preview xr-preview'>5.67e-08</div><input id='attrs-ce44e14b-ba54-4aea-9103-0719ac108805' class='xr-var-attrs-in' type='checkbox' ><label for='attrs-ce44e14b-ba54-4aea-9103-0719ac108805' title='Show/Hide attributes'><svg class='icon xr-icon-file-text2'><use xlink:href='#icon-file-text2'></use></svg></label><input id='data-82ba480f-599e-4454-a7d6-80cdbb4cefab' class='xr-var-data-in' type='checkbox'><label for='data-82ba480f-599e-4454-a7d6-80cdbb4cefab' title='Show/Hide data repr'><svg class='icon xr-icon-database'><use xlink:href='#icon-database'></use></svg></label><div class='xr-var-attrs'><dl class='xr-attrs'><dt><span>long_name :</span></dt><dd>Stefan-Boltzmann Constant</dd><dt><span>units :</span></dt><dd>W m-2 K-4</dd><dt><span>description :</span></dt><dd>The Stefan-Boltzmann constant.</dd></dl></div><div class='xr-var-data'><pre>array([[5.67e-08]])</pre></div></li><li class='xr-var-item'><div class='xr-var-name'><span>cp_air</span></div><div class='xr-var-dims'>(x, y)</div><div class='xr-var-dtype'>float64</div><div class='xr-var-preview xr-preview'>1.005e+03</div><input id='attrs-ece57c5e-6da5-441f-bd07-bcee7d0ee736' class='xr-var-attrs-in' type='checkbox' ><label for='attrs-ece57c5e-6da5-441f-bd07-bcee7d0ee736' title='Show/Hide attributes'><svg class='icon xr-icon-file-text2'><use xlink:href='#icon-file-text2'></use></svg></label><input id='data-d3777d2c-9115-42e0-a803-dcdcbe1d90dd' class='xr-var-data-in' type='checkbox'><label for='data-d3777d2c-9115-42e0-a803-dcdcbe1d90dd' title='Show/Hide data repr'><svg class='icon xr-icon-database'><use xlink:href='#icon-database'></use></svg></label><div class='xr-var-attrs'><dl class='xr-attrs'><dt><span>long_name :</span></dt><dd>Specific Heat Capacity of Air</dd><dt><span>units :</span></dt><dd>J kg-1 K-1</dd><dt><span>description :</span></dt><dd>The specific heat capacity of air.</dd></dl></div><div class='xr-var-data'><pre>array([[1005.]])</pre></div></li><li class='xr-var-item'><div class='xr-var-name'><span>emissivity_water</span></div><div class='xr-var-dims'>(x, y)</div><div class='xr-var-dtype'>float64</div><div class='xr-var-preview xr-preview'>0.97</div><input id='attrs-04be496b-9655-45ac-b856-d28d69e9b959' class='xr-var-attrs-in' type='checkbox' ><label for='attrs-04be496b-9655-45ac-b856-d28d69e9b959' title='Show/Hide attributes'><svg class='icon xr-icon-file-text2'><use xlink:href='#icon-file-text2'></use></svg></label><input id='data-5c4e38af-c77b-4eb7-aa05-4387df335784' class='xr-var-data-in' type='checkbox'><label for='data-5c4e38af-c77b-4eb7-aa05-4387df335784' title='Show/Hide data repr'><svg class='icon xr-icon-database'><use xlink:href='#icon-database'></use></svg></label><div class='xr-var-attrs'><dl class='xr-attrs'><dt><span>long_name :</span></dt><dd>Emissivity of Water</dd><dt><span>units :</span></dt><dd>1</dd><dt><span>description :</span></dt><dd>The emissivity of water.</dd></dl></div><div class='xr-var-data'><pre>array([[0.97]])</pre></div></li><li class='xr-var-item'><div class='xr-var-name'><span>gravity</span></div><div class='xr-var-dims'>(x, y)</div><div class='xr-var-dtype'>float64</div><div class='xr-var-preview xr-preview'>-9.806</div><input id='attrs-c35f32a8-ef4a-4120-9d3f-11d884b805df' class='xr-var-attrs-in' type='checkbox' ><label for='attrs-c35f32a8-ef4a-4120-9d3f-11d884b805df' title='Show/Hide attributes'><svg class='icon xr-icon-file-text2'><use xlink:href='#icon-file-text2'></use></svg></label><input id='data-ce419e09-25aa-4f1a-a0d7-e07a916d240d' class='xr-var-data-in' type='checkbox'><label for='data-ce419e09-25aa-4f1a-a0d7-e07a916d240d' title='Show/Hide data repr'><svg class='icon xr-icon-database'><use xlink:href='#icon-database'></use></svg></label><div class='xr-var-attrs'><dl class='xr-attrs'><dt><span>long_name :</span></dt><dd>Gravity</dd><dt><span>units :</span></dt><dd>m s-2</dd><dt><span>description :</span></dt><dd>The acceleration due to gravity.</dd></dl></div><div class='xr-var-data'><pre>array([[-9.806]])</pre></div></li><li class='xr-var-item'><div class='xr-var-name'><span>a0</span></div><div class='xr-var-dims'>(x, y)</div><div class='xr-var-dtype'>float64</div><div class='xr-var-preview xr-preview'>6.985e+03</div><input id='attrs-7efb5507-43ab-45b9-bb9b-41cf315297ab' class='xr-var-attrs-in' type='checkbox' ><label for='attrs-7efb5507-43ab-45b9-bb9b-41cf315297ab' title='Show/Hide attributes'><svg class='icon xr-icon-file-text2'><use xlink:href='#icon-file-text2'></use></svg></label><input id='data-779f73ff-6e08-4cf3-bc01-e0d86f878e4f' class='xr-var-data-in' type='checkbox'><label for='data-779f73ff-6e08-4cf3-bc01-e0d86f878e4f' title='Show/Hide data repr'><svg class='icon xr-icon-database'><use xlink:href='#icon-database'></use></svg></label><div class='xr-var-attrs'><dl class='xr-attrs'><dt><span>long_name :</span></dt><dd>Albedo of Water</dd><dt><span>units :</span></dt><dd>unitless</dd><dt><span>description :</span></dt><dd>The albedo of water.</dd></dl></div><div class='xr-var-data'><pre>array([[6984.505294]])</pre></div></li><li class='xr-var-item'><div class='xr-var-name'><span>a1</span></div><div class='xr-var-dims'>(x, y)</div><div class='xr-var-dtype'>float64</div><div class='xr-var-preview xr-preview'>-188.9</div><input id='attrs-5520b150-133e-4f8a-812e-d5cfd56b400e' class='xr-var-attrs-in' type='checkbox' ><label for='attrs-5520b150-133e-4f8a-812e-d5cfd56b400e' title='Show/Hide attributes'><svg class='icon xr-icon-file-text2'><use xlink:href='#icon-file-text2'></use></svg></label><input id='data-07e736d6-e7d3-4939-8d68-a105d9f31b76' class='xr-var-data-in' type='checkbox'><label for='data-07e736d6-e7d3-4939-8d68-a105d9f31b76' title='Show/Hide data repr'><svg class='icon xr-icon-database'><use xlink:href='#icon-database'></use></svg></label><div class='xr-var-attrs'><dl class='xr-attrs'><dt><span>long_name :</span></dt><dd>Albedo of Water</dd><dt><span>units :</span></dt><dd>unitless</dd><dt><span>description :</span></dt><dd>The albedo of water.</dd></dl></div><div class='xr-var-data'><pre>array([[-188.903931]])</pre></div></li><li class='xr-var-item'><div class='xr-var-name'><span>a2</span></div><div class='xr-var-dims'>(x, y)</div><div class='xr-var-dtype'>float64</div><div class='xr-var-preview xr-preview'>2.133</div><input id='attrs-30ef36c9-f04c-4567-8b5b-35941f267bc2' class='xr-var-attrs-in' type='checkbox' ><label for='attrs-30ef36c9-f04c-4567-8b5b-35941f267bc2' title='Show/Hide attributes'><svg class='icon xr-icon-file-text2'><use xlink:href='#icon-file-text2'></use></svg></label><input id='data-d1e383db-7dd4-4bff-8e6f-00bb6b9ae5dd' class='xr-var-data-in' type='checkbox'><label for='data-d1e383db-7dd4-4bff-8e6f-00bb6b9ae5dd' title='Show/Hide data repr'><svg class='icon xr-icon-database'><use xlink:href='#icon-database'></use></svg></label><div class='xr-var-attrs'><dl class='xr-attrs'><dt><span>long_name :</span></dt><dd>Albedo of Water</dd><dt><span>units :</span></dt><dd>unitless</dd><dt><span>description :</span></dt><dd>The albedo of water.</dd></dl></div><div class='xr-var-data'><pre>array([[2.13335768]])</pre></div></li><li class='xr-var-item'><div class='xr-var-name'><span>a3</span></div><div class='xr-var-dims'>(x, y)</div><div class='xr-var-dtype'>float64</div><div class='xr-var-preview xr-preview'>-0.01289</div><input id='attrs-7160c16f-efe4-491f-a7d8-a6bbd83e2fe4' class='xr-var-attrs-in' type='checkbox' ><label for='attrs-7160c16f-efe4-491f-a7d8-a6bbd83e2fe4' title='Show/Hide attributes'><svg class='icon xr-icon-file-text2'><use xlink:href='#icon-file-text2'></use></svg></label><input id='data-48cfc1ff-c1a8-4144-93e7-f5d947e0b22f' class='xr-var-data-in' type='checkbox'><label for='data-48cfc1ff-c1a8-4144-93e7-f5d947e0b22f' title='Show/Hide data repr'><svg class='icon xr-icon-database'><use xlink:href='#icon-database'></use></svg></label><div class='xr-var-attrs'><dl class='xr-attrs'><dt><span>long_name :</span></dt><dd>Albedo of Water</dd><dt><span>units :</span></dt><dd>unitless</dd><dt><span>description :</span></dt><dd>The albedo of water.</dd></dl></div><div class='xr-var-data'><pre>array([[-0.01288581]])</pre></div></li><li class='xr-var-item'><div class='xr-var-name'><span>a4</span></div><div class='xr-var-dims'>(x, y)</div><div class='xr-var-dtype'>float64</div><div class='xr-var-preview xr-preview'>4.394e-05</div><input id='attrs-0a085098-f79b-4d3f-a6d6-340cbc29501d' class='xr-var-attrs-in' type='checkbox' ><label for='attrs-0a085098-f79b-4d3f-a6d6-340cbc29501d' title='Show/Hide attributes'><svg class='icon xr-icon-file-text2'><use xlink:href='#icon-file-text2'></use></svg></label><input id='data-0671226b-fafc-4bab-800e-c04d1b501138' class='xr-var-data-in' type='checkbox'><label for='data-0671226b-fafc-4bab-800e-c04d1b501138' title='Show/Hide data repr'><svg class='icon xr-icon-database'><use xlink:href='#icon-database'></use></svg></label><div class='xr-var-attrs'><dl class='xr-attrs'><dt><span>long_name :</span></dt><dd>Albedo of Water</dd><dt><span>units :</span></dt><dd>unitless</dd><dt><span>description :</span></dt><dd>The albedo of water.</dd></dl></div><div class='xr-var-data'><pre>array([[4.39358723e-05]])</pre></div></li><li class='xr-var-item'><div class='xr-var-name'><span>a5</span></div><div class='xr-var-dims'>(x, y)</div><div class='xr-var-dtype'>float64</div><div class='xr-var-preview xr-preview'>-8.024e-08</div><input id='attrs-8c4d6bd3-d155-4f54-ba37-753df5d7caa3' class='xr-var-attrs-in' type='checkbox' ><label for='attrs-8c4d6bd3-d155-4f54-ba37-753df5d7caa3' title='Show/Hide attributes'><svg class='icon xr-icon-file-text2'><use xlink:href='#icon-file-text2'></use></svg></label><input id='data-d03c7b81-eb82-4333-b437-8179e16d46c6' class='xr-var-data-in' type='checkbox'><label for='data-d03c7b81-eb82-4333-b437-8179e16d46c6' title='Show/Hide data repr'><svg class='icon xr-icon-database'><use xlink:href='#icon-database'></use></svg></label><div class='xr-var-attrs'><dl class='xr-attrs'><dt><span>long_name :</span></dt><dd>Albedo of Water</dd><dt><span>units :</span></dt><dd>unitless</dd><dt><span>description :</span></dt><dd>The albedo of water.</dd></dl></div><div class='xr-var-data'><pre>array([[-8.02392308e-08]])</pre></div></li><li class='xr-var-item'><div class='xr-var-name'><span>a6</span></div><div class='xr-var-dims'>(x, y)</div><div class='xr-var-dtype'>float64</div><div class='xr-var-preview xr-preview'>6.137e-11</div><input id='attrs-15a337cb-ebc8-4698-860e-f33d5a5887d6' class='xr-var-attrs-in' type='checkbox' ><label for='attrs-15a337cb-ebc8-4698-860e-f33d5a5887d6' title='Show/Hide attributes'><svg class='icon xr-icon-file-text2'><use xlink:href='#icon-file-text2'></use></svg></label><input id='data-56d3d953-5813-4808-afdb-460997ff3621' class='xr-var-data-in' type='checkbox'><label for='data-56d3d953-5813-4808-afdb-460997ff3621' title='Show/Hide data repr'><svg class='icon xr-icon-database'><use xlink:href='#icon-database'></use></svg></label><div class='xr-var-attrs'><dl class='xr-attrs'><dt><span>long_name :</span></dt><dd>Albedo of Water</dd><dt><span>units :</span></dt><dd>unitless</dd><dt><span>description :</span></dt><dd>The albedo of water.</dd></dl></div><div class='xr-var-data'><pre>array([[6.13682093e-11]])</pre></div></li><li class='xr-var-item'><div class='xr-var-name'><span>pb</span></div><div class='xr-var-dims'>(x, y)</div><div class='xr-var-dtype'>float64</div><div class='xr-var-preview xr-preview'>1.6e+03</div><input id='attrs-e5c794e4-686c-412e-99d3-8e3276867a91' class='xr-var-attrs-in' type='checkbox' ><label for='attrs-e5c794e4-686c-412e-99d3-8e3276867a91' title='Show/Hide attributes'><svg class='icon xr-icon-file-text2'><use xlink:href='#icon-file-text2'></use></svg></label><input id='data-4518b19b-64f9-46e5-ba76-18e9a2ad1199' class='xr-var-data-in' type='checkbox'><label for='data-4518b19b-64f9-46e5-ba76-18e9a2ad1199' title='Show/Hide data repr'><svg class='icon xr-icon-database'><use xlink:href='#icon-database'></use></svg></label><div class='xr-var-attrs'><dl class='xr-attrs'><dt><span>long_name :</span></dt><dd>Bulk Density of Sediment</dd><dt><span>units :</span></dt><dd>kg m-3</dd><dt><span>description :</span></dt><dd>The bulk density of sediment.</dd></dl></div><div class='xr-var-data'><pre>array([[1600.]])</pre></div></li><li class='xr-var-item'><div class='xr-var-name'><span>cps</span></div><div class='xr-var-dims'>(x, y)</div><div class='xr-var-dtype'>float64</div><div class='xr-var-preview xr-preview'>1.673e+03</div><input id='attrs-5f01b209-96b0-4e67-897b-a0c234a6d345' class='xr-var-attrs-in' type='checkbox' ><label for='attrs-5f01b209-96b0-4e67-897b-a0c234a6d345' title='Show/Hide attributes'><svg class='icon xr-icon-file-text2'><use xlink:href='#icon-file-text2'></use></svg></label><input id='data-c357ec29-8f5e-4496-92ca-7d8579bb7ccc' class='xr-var-data-in' type='checkbox'><label for='data-c357ec29-8f5e-4496-92ca-7d8579bb7ccc' title='Show/Hide data repr'><svg class='icon xr-icon-database'><use xlink:href='#icon-database'></use></svg></label><div class='xr-var-attrs'><dl class='xr-attrs'><dt><span>long_name :</span></dt><dd>CPS</dd><dt><span>units :</span></dt><dd>J kg-1 K-1</dd><dt><span>description :</span></dt><dd>The CPS.</dd></dl></div><div class='xr-var-data'><pre>array([[1673.]])</pre></div></li><li class='xr-var-item'><div class='xr-var-name'><span>h2</span></div><div class='xr-var-dims'>(x, y)</div><div class='xr-var-dtype'>float64</div><div class='xr-var-preview xr-preview'>0.1</div><input id='attrs-60a5ad45-0365-4698-9869-c76fcd6d74b2' class='xr-var-attrs-in' type='checkbox' ><label for='attrs-60a5ad45-0365-4698-9869-c76fcd6d74b2' title='Show/Hide attributes'><svg class='icon xr-icon-file-text2'><use xlink:href='#icon-file-text2'></use></svg></label><input id='data-644727af-828a-4544-a939-6a312d1c0550' class='xr-var-data-in' type='checkbox'><label for='data-644727af-828a-4544-a939-6a312d1c0550' title='Show/Hide data repr'><svg class='icon xr-icon-database'><use xlink:href='#icon-database'></use></svg></label><div class='xr-var-attrs'><dl class='xr-attrs'><dt><span>long_name :</span></dt><dd>H2</dd><dt><span>units :</span></dt><dd>m</dd><dt><span>description :</span></dt><dd>The H2.</dd></dl></div><div class='xr-var-data'><pre>array([[0.1]])</pre></div></li><li class='xr-var-item'><div class='xr-var-name'><span>alphas</span></div><div class='xr-var-dims'>(x, y)</div><div class='xr-var-dtype'>float64</div><div class='xr-var-preview xr-preview'>0.0432</div><input id='attrs-943b5f8d-fec6-4a2b-80c2-97b469039a07' class='xr-var-attrs-in' type='checkbox' ><label for='attrs-943b5f8d-fec6-4a2b-80c2-97b469039a07' title='Show/Hide attributes'><svg class='icon xr-icon-file-text2'><use xlink:href='#icon-file-text2'></use></svg></label><input id='data-991a5684-6b17-4425-aa3f-b68b51a24ffd' class='xr-var-data-in' type='checkbox'><label for='data-991a5684-6b17-4425-aa3f-b68b51a24ffd' title='Show/Hide data repr'><svg class='icon xr-icon-database'><use xlink:href='#icon-database'></use></svg></label><div class='xr-var-attrs'><dl class='xr-attrs'><dt><span>long_name :</span></dt><dd>Alphas</dd><dt><span>units :</span></dt><dd>m-1</dd><dt><span>description :</span></dt><dd>The alphas.</dd></dl></div><div class='xr-var-data'><pre>array([[0.0432]])</pre></div></li><li class='xr-var-item'><div class='xr-var-name'><span>richardson_option</span></div><div class='xr-var-dims'>(x, y)</div><div class='xr-var-dtype'>bool</div><div class='xr-var-preview xr-preview'>True</div><input id='attrs-3f0eeee8-c7a6-451b-8c92-62d0abb76641' class='xr-var-attrs-in' type='checkbox' ><label for='attrs-3f0eeee8-c7a6-451b-8c92-62d0abb76641' title='Show/Hide attributes'><svg class='icon xr-icon-file-text2'><use xlink:href='#icon-file-text2'></use></svg></label><input id='data-11369427-ecf6-49e4-9c74-e8daf14fc1b7' class='xr-var-data-in' type='checkbox'><label for='data-11369427-ecf6-49e4-9c74-e8daf14fc1b7' title='Show/Hide data repr'><svg class='icon xr-icon-database'><use xlink:href='#icon-database'></use></svg></label><div class='xr-var-attrs'><dl class='xr-attrs'><dt><span>long_name :</span></dt><dd>Richardson Option</dd><dt><span>units :</span></dt><dd>unitless</dd><dt><span>description :</span></dt><dd>The Richardson option.</dd></dl></div><div class='xr-var-data'><pre>array([[ True]])</pre></div></li><li class='xr-var-item'><div class='xr-var-name'><span>air_temp_c</span></div><div class='xr-var-dims'>(x, y)</div><div class='xr-var-dtype'>float64</div><div class='xr-var-preview xr-preview'>20.0</div><input id='attrs-6c63d581-7bd3-4bc8-a126-4476d81e1119' class='xr-var-attrs-in' type='checkbox' ><label for='attrs-6c63d581-7bd3-4bc8-a126-4476d81e1119' title='Show/Hide attributes'><svg class='icon xr-icon-file-text2'><use xlink:href='#icon-file-text2'></use></svg></label><input id='data-da25ee7a-8012-4488-85cc-dc3f79722dee' class='xr-var-data-in' type='checkbox'><label for='data-da25ee7a-8012-4488-85cc-dc3f79722dee' title='Show/Hide data repr'><svg class='icon xr-icon-database'><use xlink:href='#icon-database'></use></svg></label><div class='xr-var-attrs'><dl class='xr-attrs'><dt><span>long_name :</span></dt><dd>Air Temperature</dd><dt><span>units :</span></dt><dd>C</dd><dt><span>description :</span></dt><dd>The air temperature.</dd></dl></div><div class='xr-var-data'><pre>array([[20.]])</pre></div></li><li class='xr-var-item'><div class='xr-var-name'><span>q_solar</span></div><div class='xr-var-dims'>(x, y)</div><div class='xr-var-dtype'>float64</div><div class='xr-var-preview xr-preview'>400.0</div><input id='attrs-690aeaf8-c7fb-49ec-952d-8789d1e9d42d' class='xr-var-attrs-in' type='checkbox' ><label for='attrs-690aeaf8-c7fb-49ec-952d-8789d1e9d42d' title='Show/Hide attributes'><svg class='icon xr-icon-file-text2'><use xlink:href='#icon-file-text2'></use></svg></label><input id='data-30134dbb-2702-4269-a239-090a56aa1699' class='xr-var-data-in' type='checkbox'><label for='data-30134dbb-2702-4269-a239-090a56aa1699' title='Show/Hide data repr'><svg class='icon xr-icon-database'><use xlink:href='#icon-database'></use></svg></label><div class='xr-var-attrs'><dl class='xr-attrs'><dt><span>long_name :</span></dt><dd>Solar Heat Flux</dd><dt><span>units :</span></dt><dd>W m-2</dd><dt><span>description :</span></dt><dd>The solar heat flux.</dd></dl></div><div class='xr-var-data'><pre>array([[400.]])</pre></div></li><li class='xr-var-item'><div class='xr-var-name'><span>sed_temp_c</span></div><div class='xr-var-dims'>(x, y)</div><div class='xr-var-dtype'>float64</div><div class='xr-var-preview xr-preview'>5.0</div><input id='attrs-525e97ad-ead5-40fe-9679-f54c5bd2268c' class='xr-var-attrs-in' type='checkbox' ><label for='attrs-525e97ad-ead5-40fe-9679-f54c5bd2268c' title='Show/Hide attributes'><svg class='icon xr-icon-file-text2'><use xlink:href='#icon-file-text2'></use></svg></label><input id='data-b8d57884-a6c1-489a-9162-5698c7009516' class='xr-var-data-in' type='checkbox'><label for='data-b8d57884-a6c1-489a-9162-5698c7009516' title='Show/Hide data repr'><svg class='icon xr-icon-database'><use xlink:href='#icon-database'></use></svg></label><div class='xr-var-attrs'><dl class='xr-attrs'><dt><span>long_name :</span></dt><dd>Sediment Temperature</dd><dt><span>units :</span></dt><dd>C</dd><dt><span>description :</span></dt><dd>The sediment temperature.</dd></dl></div><div class='xr-var-data'><pre>array([[5.]])</pre></div></li><li class='xr-var-item'><div class='xr-var-name'><span>eair_mb</span></div><div class='xr-var-dims'>(x, y)</div><div class='xr-var-dtype'>float64</div><div class='xr-var-preview xr-preview'>1.0</div><input id='attrs-135289bb-8848-4dba-a109-35caf4bbb303' class='xr-var-attrs-in' type='checkbox' ><label for='attrs-135289bb-8848-4dba-a109-35caf4bbb303' title='Show/Hide attributes'><svg class='icon xr-icon-file-text2'><use xlink:href='#icon-file-text2'></use></svg></label><input id='data-320ac166-60c6-4312-9389-6a4e5ca1d619' class='xr-var-data-in' type='checkbox'><label for='data-320ac166-60c6-4312-9389-6a4e5ca1d619' title='Show/Hide data repr'><svg class='icon xr-icon-database'><use xlink:href='#icon-database'></use></svg></label><div class='xr-var-attrs'><dl class='xr-attrs'><dt><span>long_name :</span></dt><dd>Eair MB</dd><dt><span>units :</span></dt><dd>mb</dd><dt><span>description :</span></dt><dd>The eair MB.</dd></dl></div><div class='xr-var-data'><pre>array([[1.]])</pre></div></li><li class='xr-var-item'><div class='xr-var-name'><span>pressure_mb</span></div><div class='xr-var-dims'>(x, y)</div><div class='xr-var-dtype'>float64</div><div class='xr-var-preview xr-preview'>1.013e+03</div><input id='attrs-de8e35b3-d96e-42a1-bda0-a642d68f5265' class='xr-var-attrs-in' type='checkbox' ><label for='attrs-de8e35b3-d96e-42a1-bda0-a642d68f5265' title='Show/Hide attributes'><svg class='icon xr-icon-file-text2'><use xlink:href='#icon-file-text2'></use></svg></label><input id='data-27bb58dc-1548-4c41-a76a-1e4f9a517462' class='xr-var-data-in' type='checkbox'><label for='data-27bb58dc-1548-4c41-a76a-1e4f9a517462' title='Show/Hide data repr'><svg class='icon xr-icon-database'><use xlink:href='#icon-database'></use></svg></label><div class='xr-var-attrs'><dl class='xr-attrs'><dt><span>long_name :</span></dt><dd>Pressure</dd><dt><span>units :</span></dt><dd>mb</dd><dt><span>description :</span></dt><dd>The pressure.</dd></dl></div><div class='xr-var-data'><pre>array([[1013.]])</pre></div></li><li class='xr-var-item'><div class='xr-var-name'><span>cloudiness</span></div><div class='xr-var-dims'>(x, y)</div><div class='xr-var-dtype'>float64</div><div class='xr-var-preview xr-preview'>0.1</div><input id='attrs-b9727315-e5f4-46f7-9dbd-514e916ede49' class='xr-var-attrs-in' type='checkbox' ><label for='attrs-b9727315-e5f4-46f7-9dbd-514e916ede49' title='Show/Hide attributes'><svg class='icon xr-icon-file-text2'><use xlink:href='#icon-file-text2'></use></svg></label><input id='data-1b151eae-2e13-464e-ab13-b0ee539bd124' class='xr-var-data-in' type='checkbox'><label for='data-1b151eae-2e13-464e-ab13-b0ee539bd124' title='Show/Hide data repr'><svg class='icon xr-icon-database'><use xlink:href='#icon-database'></use></svg></label><div class='xr-var-attrs'><dl class='xr-attrs'><dt><span>long_name :</span></dt><dd>Cloudiness</dd><dt><span>units :</span></dt><dd>unitless</dd><dt><span>description :</span></dt><dd>The cloudiness.</dd></dl></div><div class='xr-var-data'><pre>array([[0.1]])</pre></div></li><li class='xr-var-item'><div class='xr-var-name'><span>wind_speed</span></div><div class='xr-var-dims'>(x, y)</div><div class='xr-var-dtype'>float64</div><div class='xr-var-preview xr-preview'>3.0</div><input id='attrs-55c2f69f-3c1a-4547-8f2a-7fefc6cbd10a' class='xr-var-attrs-in' type='checkbox' ><label for='attrs-55c2f69f-3c1a-4547-8f2a-7fefc6cbd10a' title='Show/Hide attributes'><svg class='icon xr-icon-file-text2'><use xlink:href='#icon-file-text2'></use></svg></label><input id='data-cc423ef3-c050-46f6-8784-36a6bba35c1c' class='xr-var-data-in' type='checkbox'><label for='data-cc423ef3-c050-46f6-8784-36a6bba35c1c' title='Show/Hide data repr'><svg class='icon xr-icon-database'><use xlink:href='#icon-database'></use></svg></label><div class='xr-var-attrs'><dl class='xr-attrs'><dt><span>long_name :</span></dt><dd>Wind Speed</dd><dt><span>units :</span></dt><dd>m s-1</dd><dt><span>description :</span></dt><dd>The wind speed.</dd></dl></div><div class='xr-var-data'><pre>array([[3.]])</pre></div></li><li class='xr-var-item'><div class='xr-var-name'><span>wind_a</span></div><div class='xr-var-dims'>(x, y)</div><div class='xr-var-dtype'>float64</div><div class='xr-var-preview xr-preview'>0.3</div><input id='attrs-15a9a8ca-753d-4ff8-b6bf-6ce7c241eade' class='xr-var-attrs-in' type='checkbox' ><label for='attrs-15a9a8ca-753d-4ff8-b6bf-6ce7c241eade' title='Show/Hide attributes'><svg class='icon xr-icon-file-text2'><use xlink:href='#icon-file-text2'></use></svg></label><input id='data-99e3fc0e-1785-4516-b2fd-08778911a0cc' class='xr-var-data-in' type='checkbox'><label for='data-99e3fc0e-1785-4516-b2fd-08778911a0cc' title='Show/Hide data repr'><svg class='icon xr-icon-database'><use xlink:href='#icon-database'></use></svg></label><div class='xr-var-attrs'><dl class='xr-attrs'><dt><span>long_name :</span></dt><dd>Wind A</dd><dt><span>units :</span></dt><dd>m s-1</dd><dt><span>description :</span></dt><dd>The wind A.</dd></dl></div><div class='xr-var-data'><pre>array([[0.3]])</pre></div></li><li class='xr-var-item'><div class='xr-var-name'><span>wind_b</span></div><div class='xr-var-dims'>(x, y)</div><div class='xr-var-dtype'>float64</div><div class='xr-var-preview xr-preview'>1.5</div><input id='attrs-277bcd01-2fca-49fe-8d13-f96764bcd718' class='xr-var-attrs-in' type='checkbox' ><label for='attrs-277bcd01-2fca-49fe-8d13-f96764bcd718' title='Show/Hide attributes'><svg class='icon xr-icon-file-text2'><use xlink:href='#icon-file-text2'></use></svg></label><input id='data-cfaad3a7-ce35-4646-a43d-7cd89ee9a5e1' class='xr-var-data-in' type='checkbox'><label for='data-cfaad3a7-ce35-4646-a43d-7cd89ee9a5e1' title='Show/Hide data repr'><svg class='icon xr-icon-database'><use xlink:href='#icon-database'></use></svg></label><div class='xr-var-attrs'><dl class='xr-attrs'><dt><span>long_name :</span></dt><dd>Wind B</dd><dt><span>units :</span></dt><dd>m s-1</dd><dt><span>description :</span></dt><dd>The wind B.</dd></dl></div><div class='xr-var-data'><pre>array([[1.5]])</pre></div></li><li class='xr-var-item'><div class='xr-var-name'><span>wind_c</span></div><div class='xr-var-dims'>(x, y)</div><div class='xr-var-dtype'>float64</div><div class='xr-var-preview xr-preview'>3.0</div><input id='attrs-506cde2e-2e3b-406a-870b-71cb79075d2b' class='xr-var-attrs-in' type='checkbox' ><label for='attrs-506cde2e-2e3b-406a-870b-71cb79075d2b' title='Show/Hide attributes'><svg class='icon xr-icon-file-text2'><use xlink:href='#icon-file-text2'></use></svg></label><input id='data-1d497d5b-d15d-42e4-af4f-3061cbac7dcd' class='xr-var-data-in' type='checkbox'><label for='data-1d497d5b-d15d-42e4-af4f-3061cbac7dcd' title='Show/Hide data repr'><svg class='icon xr-icon-database'><use xlink:href='#icon-database'></use></svg></label><div class='xr-var-attrs'><dl class='xr-attrs'><dt><span>long_name :</span></dt><dd>Wind C</dd><dt><span>units :</span></dt><dd>m s-1</dd><dt><span>description :</span></dt><dd>The wind C.</dd></dl></div><div class='xr-var-data'><pre>array([[3.]])</pre></div></li><li class='xr-var-item'><div class='xr-var-name'><span>wind_kh_kw</span></div><div class='xr-var-dims'>(x, y)</div><div class='xr-var-dtype'>float64</div><div class='xr-var-preview xr-preview'>1.0</div><input id='attrs-2c05de2c-c114-40be-b44a-a145287b80ee' class='xr-var-attrs-in' type='checkbox' ><label for='attrs-2c05de2c-c114-40be-b44a-a145287b80ee' title='Show/Hide attributes'><svg class='icon xr-icon-file-text2'><use xlink:href='#icon-file-text2'></use></svg></label><input id='data-acc45e83-1a8d-4627-a41c-2a43dde28d8f' class='xr-var-data-in' type='checkbox'><label for='data-acc45e83-1a8d-4627-a41c-2a43dde28d8f' title='Show/Hide data repr'><svg class='icon xr-icon-database'><use xlink:href='#icon-database'></use></svg></label><div class='xr-var-attrs'><dl class='xr-attrs'><dt><span>long_name :</span></dt><dd>Wind KH KW</dd><dt><span>units :</span></dt><dd>m s-1</dd><dt><span>description :</span></dt><dd>The wind KH KW.</dd></dl></div><div class='xr-var-data'><pre>array([[1.]])</pre></div></li></ul></div></li><li class='xr-section-item'><input id='section-4636b50e-fd71-4636-9373-a1b966fc9d68' class='xr-section-summary-in' type='checkbox'  ><label for='section-4636b50e-fd71-4636-9373-a1b966fc9d68' class='xr-section-summary' >Indexes: <span>(3)</span></label><div class='xr-section-inline-details'></div><div class='xr-section-details'><ul class='xr-var-list'><li class='xr-var-item'><div class='xr-index-name'><div>year</div></div><div class='xr-index-preview'>PandasIndex</div><div></div><input id='index-f043d0b7-c37d-4fde-9f7d-b114335a9f42' class='xr-index-data-in' type='checkbox'/><label for='index-f043d0b7-c37d-4fde-9f7d-b114335a9f42' title='Show/Hide index repr'><svg class='icon xr-icon-database'><use xlink:href='#icon-database'></use></svg></label><div class='xr-index-data'><pre>PandasIndex(Index([0], dtype=&#x27;int32&#x27;, name=&#x27;year&#x27;))</pre></div></li><li class='xr-var-item'><div class='xr-index-name'><div>x</div></div><div class='xr-index-preview'>PandasIndex</div><div></div><input id='index-e97c6cdc-f070-4af4-93d7-5eb7e751fba1' class='xr-index-data-in' type='checkbox'/><label for='index-e97c6cdc-f070-4af4-93d7-5eb7e751fba1' title='Show/Hide index repr'><svg class='icon xr-icon-database'><use xlink:href='#icon-database'></use></svg></label><div class='xr-index-data'><pre>PandasIndex(Index([1.0], dtype=&#x27;float64&#x27;, name=&#x27;x&#x27;))</pre></div></li><li class='xr-var-item'><div class='xr-index-name'><div>y</div></div><div class='xr-index-preview'>PandasIndex</div><div></div><input id='index-cf48a52d-3a90-43ca-bc9e-a11c82b56ca3' class='xr-index-data-in' type='checkbox'/><label for='index-cf48a52d-3a90-43ca-bc9e-a11c82b56ca3' title='Show/Hide index repr'><svg class='icon xr-icon-database'><use xlink:href='#icon-database'></use></svg></label><div class='xr-index-data'><pre>PandasIndex(Index([1.0], dtype=&#x27;float64&#x27;, name=&#x27;y&#x27;))</pre></div></li></ul></div></li><li class='xr-section-item'><input id='section-b529af21-3e13-4dd8-bf07-c5fe75f0f4b1' class='xr-section-summary-in' type='checkbox' disabled ><label for='section-b529af21-3e13-4dd8-bf07-c5fe75f0f4b1' class='xr-section-summary'  title='Expand/collapse section'>Attributes: <span>(0)</span></label><div class='xr-section-inline-details'></div><div class='xr-section-details'><dl class='xr-attrs'></dl></div></li></ul></div></div>"
      ],
      "text/plain": [
       "<xarray.Dataset>\n",
       "Dimensions:            (year: 1, x: 1, y: 1)\n",
       "Coordinates:\n",
       "  * year               (year) int32 0\n",
       "  * x                  (x) float64 1.0\n",
       "  * y                  (y) float64 1.0\n",
       "Data variables: (12/31)\n",
       "    water_temp_c       (year, x, y) int32 20\n",
       "    surface_area       (year, x, y) int32 1\n",
       "    volume             (year, x, y) int32 1\n",
       "    use_sed_temp       (x, y) bool True\n",
       "    stefan_boltzmann   (x, y) float64 5.67e-08\n",
       "    cp_air             (x, y) float64 1.005e+03\n",
       "    ...                 ...\n",
       "    cloudiness         (x, y) float64 0.1\n",
       "    wind_speed         (x, y) float64 3.0\n",
       "    wind_a             (x, y) float64 0.3\n",
       "    wind_b             (x, y) float64 1.5\n",
       "    wind_c             (x, y) float64 3.0\n",
       "    wind_kh_kw         (x, y) float64 1.0"
      ]
     },
     "execution_count": 4,
     "metadata": {},
     "output_type": "execute_result"
    }
   ],
   "source": [
    "import clearwater_modules as cwm\n",
    "import clearwater_modules.sorter as sorter\n",
    "import numba\n",
    "import random\n",
    "import hvplot.xarray\n",
    "import warnings\n",
    "warnings.filterwarnings(\"ignore\")\n",
    "\n",
    "initial_state_values = {'water_temp_c': 20, 'surface_area': 1, 'volume': 1}\n",
    "meteo_parameters = {\n",
    "    \n",
    "}\n",
    "\n",
    "temp_parameters = {\n",
    "    \n",
    "}\n",
    "\n",
    "static_variable_values = {\n",
    "    'use_sed_temp': False,\n",
    "    'stefan_boltzmann': 10,\n",
    "    'cp_air': 1,\n",
    "    'emissivity_water': 1,\n",
    "    'gravity': 9.82,\n",
    "    'a0': 3333,\n",
    "    'a1': 3333,\n",
    "    'a2': 3333,\n",
    "    'a3': 3333,\n",
    "    'a4': 3333,\n",
    "    'a5': 3333,\n",
    "    'a6': 3333,\n",
    "    'pb': 3333,\n",
    "    'cps': 3333,\n",
    "    'h2': 3333,\n",
    "    'alphas': 3333,\n",
    "    'richardson_option': True,\n",
    "    'air_temp_c': 20,\n",
    "    'q_solar': 400,\n",
    "    'sed_temp_c': 10,\n",
    "    'eair_mb': 2,\n",
    "    'pressure_mb': 1035,\n",
    "    'cloudiness': .1,\n",
    "    'wind_speed': 3,\n",
    "    'wind_a': 1,\n",
    "    'wind_b': 1,\n",
    "    'wind_c': 1,\n",
    "    'wind_kh_kw': 1\n",
    "}\n",
    "\n",
    "tsm_model = cwm.tsm.EnergyBudget(\n",
    "    initial_state_values=initial_state_values,  # mandatory\n",
    "    updateable_static_variables=static_variable_values,  # mandatory/optional depending on defaults\n",
    "    track_dynamic_variables=True,  # default is true\n",
    "    hotstart_dataset=None,  # default is None\n",
    "    time_dim='year',  # default is \"timestep\"\n",
    ")\n",
    "\n",
    "#print(tsm_model.get_state_variables())\n",
    "tsm_model.dataset"
   ]
  },
  {
   "cell_type": "code",
   "execution_count": 20,
   "id": "664a7267",
   "metadata": {},
   "outputs": [
    {
     "data": {
      "text/plain": [
       "[]"
      ]
     },
     "execution_count": 20,
     "metadata": {},
     "output_type": "execute_result"
    }
   ],
   "source": [
    "tsm_model.get_state_variables()"
   ]
  },
  {
   "cell_type": "markdown",
   "id": "9b3b4c00-7a20-4446-bad9-e67577cddf87",
   "metadata": {},
   "source": [
    "## Next, use the `register_variable` decorator to add a few variables\n",
    "\n",
    "To do this, make a sub-class of `base.Variable` but with the decorator pointed at the model(s) you want to add the variables too. Note that the `models` argument of the decorator must be either a single sub-class of `base.Model`, or a list of them.\n",
    "\n",
    "Next, just write instances of the new `base.Variable` sub-class. Each variable's `use` attribute must be set to `static`, `dynamic`, and `state`. Read below about what this means / how you should split up your variables.\n",
    "\n",
    "Note that anything that needs to be calculated or input into a model should be encapsulated by a variable!"
   ]
  },
  {
   "cell_type": "code",
   "execution_count": 11,
   "id": "0b00f982-d1b8-46bd-8060-fe95799eab30",
   "metadata": {
    "tags": []
   },
   "outputs": [],
   "source": [
    "@cwm.base.register_variable(models=CarbonSequestration)\n",
    "class Variable(cwm.base.Variable):\n",
    "    ..."
   ]
  },
  {
   "cell_type": "code",
   "execution_count": 12,
   "id": "0775943a-06fc-4fbe-b3f0-f8605cab58f7",
   "metadata": {
    "tags": []
   },
   "outputs": [
    {
     "data": {
      "text/plain": [
       "['npp', 'carbon_content']"
      ]
     },
     "metadata": {},
     "output_type": "display_data"
    }
   ],
   "source": [
    "Variable(\n",
    "    name='npp',\n",
    "    long_name='Net Primary Productivity (NPP)',\n",
    "    units='g/m^2/year',\n",
    "    description='The annual average NPP of the forest ecosystem.',\n",
    "    use='static',\n",
    ")\n",
    "Variable(\n",
    "    name='carbon_content',\n",
    "    long_name='Carbon Content ratio',\n",
    "    units='ratio',\n",
    "    description='The fraction of NPP that is composed of carbon (usually around 50%, but it can vary).',\n",
    "    use='static',\n",
    ")\n",
    "\n",
    "# display the variables we have registered so far\n",
    "display(CarbonSequestration.get_variable_names())"
   ]
  },
  {
   "cell_type": "markdown",
   "id": "da67c500-7980-4241-acda-cbcc746608ab",
   "metadata": {},
   "source": [
    "### Add our static variables\n",
    "\n",
    "**Working Definition:** Static variables are any variables that will not change across the course of a simulation, regardless of how many time-steps are run.\n",
    "\n",
    "Note that one can update static variables if they really want to by re-initializing the model class and providing new static variable inputs.\n",
    "\n",
    "Here we will use the following static variables:\n",
    "1. **Net Primary Productivity (NPP)**: The average annual NPP of the forest ecosystem (g/m²/year).\n",
    "2. **Carbon Content**: The fraction of NPP that is composed of carbon (usually around 50%, but it can vary)."
   ]
  },
  {
   "cell_type": "markdown",
   "id": "619d0f25-5048-4b50-a3f6-d36b468abb77",
   "metadata": {},
   "source": [
    "### Add our dynamic variables\n",
    "\n",
    "**Working Definition:** Dynamic variables are any intermediate variable calculation that don't need to be passed to the next timestep. All dynamic variables need to be associated with a function via the optional `Variable.process` attribute. This \"process\" function is used to calculate them. **Importantly, the arguments of said function should match the variable names that will be passed in!**\n",
    "\n",
    "In this simple example we will have only one dynamic variable:\n",
    "1. **Annual carbon sequestration** (delta_C_annual):\n",
    "\n",
    "   `delta_C_annual = npp * carbon_content * forest_area`"
   ]
  },
  {
   "cell_type": "code",
   "execution_count": null,
   "id": "f622cae1-4e0b-493e-8458-d441f5d125a2",
   "metadata": {
    "tags": []
   },
   "outputs": [],
   "source": [
    "@numba.njit\n",
    "def delta_C_annual(\n",
    "    npp: float,\n",
    "    carbon_content: float,\n",
    "    forest_area: float,\n",
    ") -> float:\n",
    "    return npp * carbon_content * forest_area"
   ]
  },
  {
   "cell_type": "code",
   "execution_count": null,
   "id": "774efcc3-3a9a-4f74-a1a9-3663daf21dd5",
   "metadata": {
    "tags": []
   },
   "outputs": [],
   "source": [
    "Variable(\n",
    "    name='delta_C_annual',\n",
    "    long_name='Annual Carbon Delta',\n",
    "    units='g',\n",
    "    description='Annual change in forest carbon content',\n",
    "    use='dynamic',\n",
    "    process=delta_C_annual,\n",
    ")\n",
    "\n",
    "# display the variables we have registered so far\n",
    "display(CarbonSequestration.get_variable_names())"
   ]
  },
  {
   "cell_type": "markdown",
   "id": "5af6cb2f-50c4-4cd9-91a9-a8d159595df9",
   "metadata": {},
   "source": [
    "### Add our state variable\n",
    "\n",
    "**Working Definition:** A state variable is the main input/output to each timestep. Notably, it can be updated between timesteps to allow interaction with other models. Our model needs to be initialized with state variable values, and no matter what settings are used in initialization, the state variable is stored in our main dataset (keep reading to see this).\n",
    "\n",
    "Our state variable is the total carbon stock of the forest, which is updated each year:\n",
    "1. **Total carbon stock** (C_total):\n",
    "\n",
    "    `C_total = C_total + delta_C_annual`\n",
    "    \n",
    "State variables also require a process function."
   ]
  },
  {
   "cell_type": "code",
   "execution_count": null,
   "id": "ac6f26ee-56d2-493f-9478-01407020b34c",
   "metadata": {
    "tags": []
   },
   "outputs": [],
   "source": [
    "@numba.njit\n",
    "def C_total(\n",
    "    C_total: float,\n",
    "    delta_C_annual: float,\n",
    ") -> float:\n",
    "    return C_total + delta_C_annual"
   ]
  },
  {
   "cell_type": "code",
   "execution_count": null,
   "id": "b8b9ba47-3c9a-4b8f-92b0-7a44182d7813",
   "metadata": {
    "tags": []
   },
   "outputs": [],
   "source": [
    "Variable(\n",
    "    name='C_total',\n",
    "    long_name='Carbon total',\n",
    "    units='g',\n",
    "    description='Total forest carbon content',\n",
    "    use='state',\n",
    "    process=C_total,\n",
    ")\n",
    "\n",
    "Variable(\n",
    "    name='forest_area',\n",
    "    long_name='Area of the forest',\n",
    "    units='m^2',\n",
    "    description='Area of the forest, may change year by year with deforestation.',\n",
    "    use='state',\n",
    "    process=forest_area,\n",
    ")\n",
    "\n",
    "# display the variables we have registered so far\n",
    "display(CarbonSequestration.get_variable_names())"
   ]
  },
  {
   "cell_type": "code",
   "execution_count": null,
   "id": "98b447fb-65fa-46bf-a52c-4a4b1390ba08",
   "metadata": {
    "tags": []
   },
   "outputs": [],
   "source": [
    "# for state variables we can see them before initialization\n",
    "display(CarbonSequestration.get_state_variables())"
   ]
  },
  {
   "cell_type": "markdown",
   "id": "95d04864-2b19-4081-a688-f6729b37a8fd",
   "metadata": {},
   "source": [
    "## Now let's instantiate our new model\n",
    "\n",
    "To instantiate a model we need to pass in a dictionary with our initial state variable values, any non-default changes to our static variables, and any other optional config settings."
   ]
  },
  {
   "cell_type": "code",
   "execution_count": null,
   "id": "f489f488-42e6-4e1d-b403-01ebf5738582",
   "metadata": {
    "tags": []
   },
   "outputs": [],
   "source": [
    "initial_state_values = {'C_total': 1000, 'forest_area': 1000}\n",
    "static_variable_values = {\n",
    "    'carbon_content': 0.5,\n",
    "    'npp': 10,\n",
    "}\n",
    "\n",
    "carbon_model = CarbonSequestration(\n",
    "    initial_state_values=initial_state_values,  # mandatory\n",
    "    static_variable_values=static_variable_values,  # mandatory/optional depending on defaults\n",
    "    track_dynamic_variables=True,  # default is true\n",
    "    hotstart_dataset=None,  # default is None\n",
    "    time_dim='year',  # default is \"timestep\"\n",
    ")"
   ]
  },
  {
   "cell_type": "markdown",
   "id": "f058c597-d808-4c1f-8c57-249ee0ba859f",
   "metadata": {
    "tags": []
   },
   "source": [
    "### All instantiated models have static, dynamic, and state variable properties"
   ]
  },
  {
   "cell_type": "code",
   "execution_count": null,
   "id": "b9316ecd-5372-4eab-8d0c-87c80c20ce90",
   "metadata": {
    "tags": []
   },
   "outputs": [],
   "source": [
    "display(carbon_model.state_variables)"
   ]
  },
  {
   "cell_type": "code",
   "execution_count": null,
   "id": "c131bccf-eb39-4abf-8e35-cfb6027c8df6",
   "metadata": {
    "tags": []
   },
   "outputs": [],
   "source": [
    "display(carbon_model.static_variables)"
   ]
  },
  {
   "cell_type": "code",
   "execution_count": null,
   "id": "37e64e74-9ec2-4d43-83ff-0f2bfdac7445",
   "metadata": {
    "tags": []
   },
   "outputs": [],
   "source": [
    "display(carbon_model.dynamic_variables)"
   ]
  },
  {
   "cell_type": "markdown",
   "id": "97639e68-ffcc-4d53-b315-4c79ce873139",
   "metadata": {
    "tags": []
   },
   "source": [
    "### One can access their \"computation order\" which is calculated using a \"dependency tree\" approach in `sorter.py`"
   ]
  },
  {
   "cell_type": "code",
   "execution_count": null,
   "id": "188344ee-ff6a-4ee0-8cde-cf0ab7817735",
   "metadata": {
    "tags": []
   },
   "outputs": [],
   "source": [
    "carbon_model.computation_order"
   ]
  },
  {
   "cell_type": "code",
   "execution_count": null,
   "id": "a2bbcfe5-5c23-4224-a505-f1fb79c2e661",
   "metadata": {
    "tags": []
   },
   "outputs": [],
   "source": [
    "print('Variable | Inputs\\n------------------')\n",
    "for i in carbon_model.computation_order:\n",
    "    print(f'{i.name} | {sorter.get_process_args(i.process)}')"
   ]
  },
  {
   "cell_type": "markdown",
   "id": "5be835a7-8a2b-4200-a962-e24147aa2e35",
   "metadata": {},
   "source": [
    "### Data is stored in `self.dataset`"
   ]
  },
  {
   "cell_type": "code",
   "execution_count": null,
   "id": "2897c1a4-520f-4a31-928e-038756da36af",
   "metadata": {
    "tags": []
   },
   "outputs": [],
   "source": [
    "carbon_model.dataset"
   ]
  },
  {
   "cell_type": "markdown",
   "id": "a7f8dabd-1f2b-4610-8280-29be9f18b016",
   "metadata": {},
   "source": [
    "## Running a timestep\n",
    "All timesteps can be run independently. Optionally, one can update the state values with a float or a `xarray.DataArray`."
   ]
  },
  {
   "cell_type": "code",
   "execution_count": null,
   "id": "09bb7808-dbca-4508-ba86-b0cb23b8f5e8",
   "metadata": {
    "tags": []
   },
   "outputs": [],
   "source": [
    "carbon_model.increment_timestep()\n",
    "carbon_model.dataset"
   ]
  },
  {
   "cell_type": "markdown",
   "id": "b824cec0-7385-4b21-937e-64af96bb10b7",
   "metadata": {},
   "source": [
    "## Running a loop of timesteps\n",
    "\n",
    "Here we run 100 years of our model with the following hypothetical:\n",
    "* For the first 50 years deforestation reduces forest area incrementally.\n",
    "* 50 years in, a program begins that ends deforestation, and the forest grows back incrementally.\n",
    "\n",
    "**This demonstrates how we can update state variables to interact with other models!**"
   ]
  },
  {
   "cell_type": "code",
   "execution_count": null,
   "id": "aec534de-846d-40d8-9d25-e4cf2e24c1b1",
   "metadata": {
    "tags": []
   },
   "outputs": [],
   "source": [
    "%%time\n",
    "for i in range(100):\n",
    "    forest_area_change = random.uniform(0.0, 25)\n",
    "    if i < 50:\n",
    "        forest_area_change = -forest_area_change\n",
    "    new_forest_area = (carbon_model.dataset.forest_area + forest_area_change).isel(year=-1)\n",
    "    carbon_model.increment_timestep(update_state_values={'forest_area': new_forest_area})\n",
    "carbon_model.dataset"
   ]
  },
  {
   "cell_type": "code",
   "execution_count": null,
   "id": "6b35b04a-9dfa-4af1-a7d3-f13e84019c3b",
   "metadata": {
    "tags": []
   },
   "outputs": [],
   "source": [
    "carbon_model.dataset.hvplot(x='year', y='delta_C_annual', title='delta_C_annual')"
   ]
  },
  {
   "cell_type": "code",
   "execution_count": null,
   "id": "49e9cb85-9d90-49c1-a308-dcb31a6f6092",
   "metadata": {
    "tags": []
   },
   "outputs": [],
   "source": [
    "carbon_model.dataset.hvplot(x='year', y='C_total', title='C_total')"
   ]
  },
  {
   "cell_type": "markdown",
   "id": "be48713d-1170-4195-b95d-35ee1c99dd3d",
   "metadata": {
    "tags": []
   },
   "source": [
    "# TSM `EnergyBudget` Example\n",
    "\n",
    "Now that we understand how the code architecture works, we can explore a real example."
   ]
  },
  {
   "cell_type": "code",
   "execution_count": null,
   "id": "d02e421d-e478-4c14-b08b-fbd8ffc82a5d",
   "metadata": {
    "tags": []
   },
   "outputs": [],
   "source": [
    "from clearwater_modules.tsm.model import EnergyBudget"
   ]
  },
  {
   "cell_type": "code",
   "execution_count": null,
   "id": "a963a7f9",
   "metadata": {
    "tags": []
   },
   "outputs": [],
   "source": [
    "# Confirm that sub-modules are imported\n",
    "dir(cwm.tsm)"
   ]
  },
  {
   "cell_type": "markdown",
   "id": "28e4266d-424e-47dc-bc26-5c2e66819b0a",
   "metadata": {
    "tags": []
   },
   "source": [
    "## Start by instantiating a `EnergyBudget`\n",
    "\n",
    "Initial state variable values are always required. To see the names/info of a model's state variables, we can use `Model.get_state_variables()`."
   ]
  },
  {
   "cell_type": "code",
   "execution_count": null,
   "id": "f6942a19-df9c-48c7-afc3-37e98d44c0d0",
   "metadata": {
    "tags": []
   },
   "outputs": [],
   "source": [
    "EnergyBudget.get_state_variables()"
   ]
  },
  {
   "cell_type": "code",
   "execution_count": null,
   "id": "be877b70-073a-4877-af10-c1ad3c386165",
   "metadata": {
    "tags": []
   },
   "outputs": [],
   "source": [
    "initial_state_values = {\n",
    "    'water_temp_c': 1.0,\n",
    "    'volume': 1.0,\n",
    "    'surface_area': 1.0,\n",
    "}"
   ]
  },
  {
   "cell_type": "code",
   "execution_count": null,
   "id": "299d062c-b981-45e6-a437-156c4a3d8388",
   "metadata": {
    "tags": []
   },
   "outputs": [],
   "source": [
    "my_model = EnergyBudget(\n",
    "    initial_state_values,\n",
    "    time_dim='my_time_step',\n",
    ")\n",
    "my_model"
   ]
  },
  {
   "cell_type": "code",
   "execution_count": null,
   "id": "5ee305a3-5990-47aa-885e-2771dda9fa5f",
   "metadata": {
    "tags": []
   },
   "outputs": [],
   "source": [
    "[i for i in dir(my_model) if i[0] != '_']"
   ]
  },
  {
   "cell_type": "markdown",
   "id": "825e288f-b51a-4590-91f0-dd706c118725",
   "metadata": {},
   "source": [
    "## TSM can be initialized with alternative met/temp parameter\n",
    "**This is an example of a model specific `__init__`**. As of now we are using the defaults."
   ]
  },
  {
   "cell_type": "code",
   "execution_count": null,
   "id": "ac36bc9f-aa8f-4e35-946e-1c69f32a3d27",
   "metadata": {
    "tags": []
   },
   "outputs": [],
   "source": [
    "my_model.met_parameters"
   ]
  },
  {
   "cell_type": "code",
   "execution_count": null,
   "id": "7411afa5-83ac-4ff7-9e95-a73a4d3a2aa8",
   "metadata": {
    "tags": []
   },
   "outputs": [],
   "source": [
    "my_model.temp_parameters"
   ]
  },
  {
   "cell_type": "code",
   "execution_count": null,
   "id": "a8da8894-a6ad-42dc-9618-dc899a1525ea",
   "metadata": {
    "tags": []
   },
   "outputs": [],
   "source": [
    "my_model.time_dim"
   ]
  },
  {
   "cell_type": "markdown",
   "id": "f74682c6-096c-4f41-b929-09027a6e335d",
   "metadata": {},
   "source": [
    "## All models have static, dynamic, and state variables"
   ]
  },
  {
   "cell_type": "code",
   "execution_count": null,
   "id": "2d0c2856-9012-4ebb-bb23-457f209c4e0f",
   "metadata": {
    "tags": []
   },
   "outputs": [],
   "source": [
    "display(my_model.static_variables)"
   ]
  },
  {
   "cell_type": "code",
   "execution_count": null,
   "id": "8f082754-055e-4c58-af74-2e2c73a023fb",
   "metadata": {
    "tags": []
   },
   "outputs": [],
   "source": [
    "display(my_model.dynamic_variables)"
   ]
  },
  {
   "cell_type": "markdown",
   "id": "7e672a66-3649-4d49-9616-232959fc3d40",
   "metadata": {},
   "source": [
    "## One can access their \"computation order\" which is calculated using a \"dependency tree\" approach in `sorter.py`"
   ]
  },
  {
   "cell_type": "code",
   "execution_count": null,
   "id": "301e91eb-fb88-468d-9a5c-5baba31cd21f",
   "metadata": {
    "tags": []
   },
   "outputs": [],
   "source": [
    "my_model.computation_order"
   ]
  },
  {
   "cell_type": "code",
   "execution_count": null,
   "id": "aca8eace-0ee4-4a3f-bb82-e3794098dbf5",
   "metadata": {
    "tags": []
   },
   "outputs": [],
   "source": [
    "for i in my_model.computation_order:\n",
    "    print(f'{i.name} | {sorter.get_process_args(i.process)}')"
   ]
  },
  {
   "cell_type": "markdown",
   "id": "f5b2234a-38b5-4ffc-a180-cf126be22544",
   "metadata": {},
   "source": [
    "## Run 5 timesteps"
   ]
  },
  {
   "cell_type": "code",
   "execution_count": null,
   "id": "aa7f69c8-d45d-4119-a353-7655327dcdb6",
   "metadata": {
    "tags": []
   },
   "outputs": [],
   "source": [
    "TIME_STEPS = 5"
   ]
  },
  {
   "cell_type": "code",
   "execution_count": null,
   "id": "bb7f2291-3df9-4464-b256-45abc8b225d0",
   "metadata": {
    "tags": []
   },
   "outputs": [],
   "source": [
    "@numba.jit(forceobj=True)\n",
    "def run_n_timesteps(time_steps: int, model: EnergyBudget):\n",
    "    for i in range(time_steps):\n",
    "        model.increment_timestep()"
   ]
  },
  {
   "cell_type": "code",
   "execution_count": null,
   "id": "b4ed28c4-301f-4fd2-9e70-e443b4ef909a",
   "metadata": {
    "tags": []
   },
   "outputs": [],
   "source": [
    "%%time\n",
    "run_n_timesteps(TIME_STEPS, my_model)"
   ]
  },
  {
   "cell_type": "code",
   "execution_count": null,
   "id": "df2bd00b-4dc0-4f1f-b527-c537c72a454a",
   "metadata": {
    "tags": []
   },
   "outputs": [],
   "source": [
    "my_model.dataset"
   ]
  }
 ],
 "metadata": {
  "kernelspec": {
   "display_name": "Python 3 (ipykernel)",
   "language": "python",
   "name": "python3"
  },
  "language_info": {
   "codemirror_mode": {
    "name": "ipython",
    "version": 3
   },
   "file_extension": ".py",
   "mimetype": "text/x-python",
   "name": "python",
   "nbconvert_exporter": "python",
   "pygments_lexer": "ipython3",
   "version": "2022.5.0"
  },
  "toc-autonumbering": true
 },
 "nbformat": 4,
 "nbformat_minor": 5
}
