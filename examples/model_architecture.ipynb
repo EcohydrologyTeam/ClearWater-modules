{
 "cells": [
  {
   "cell_type": "markdown",
   "id": "25bd6ed5-3bd1-4592-a813-5958221d5a21",
   "metadata": {
    "tags": []
   },
   "source": [
    "# Clearwater Modules Architecture\n",
    "\n",
    "**Author:** Xavier Nogueira\n",
    "**Overview:**\n",
    "* How the code organizes a model (static, dynamic, and state variables).\n",
    "* How the base.Model class handle all shared functionality."
   ]
  },
  {
   "cell_type": "code",
   "execution_count": 2,
   "id": "663a1e5a-4311-42e7-babc-6e254a5ff9cf",
   "metadata": {
    "tags": []
   },
   "outputs": [
    {
     "ename": "AttributeError",
     "evalue": "module 'clearwater_modules_python.tsm.processes' has no attribute 'density_air_saturation'",
     "output_type": "error",
     "traceback": [
      "\u001b[1;31m---------------------------------------------------------------------------\u001b[0m",
      "\u001b[1;31mAttributeError\u001b[0m                            Traceback (most recent call last)",
      "Cell \u001b[1;32mIn[2], line 1\u001b[0m\n\u001b[1;32m----> 1\u001b[0m \u001b[38;5;28;01mimport\u001b[39;00m \u001b[38;5;21;01mclearwater_modules_python\u001b[39;00m\n",
      "File \u001b[1;32m~\\Documents\\ClearWater-modules-python\\src\\clearwater_modules_python\\__init__.py:3\u001b[0m\n\u001b[0;32m      1\u001b[0m __version__ \u001b[38;5;241m=\u001b[39m \u001b[38;5;124m\"\u001b[39m\u001b[38;5;124m0.1.0\u001b[39m\u001b[38;5;124m\"\u001b[39m\n\u001b[0;32m      2\u001b[0m \u001b[38;5;28;01mfrom\u001b[39;00m \u001b[38;5;21;01mclearwater_modules_python\u001b[39;00m \u001b[38;5;28;01mimport\u001b[39;00m shared\n\u001b[1;32m----> 3\u001b[0m \u001b[38;5;28;01mfrom\u001b[39;00m \u001b[38;5;21;01mclearwater_modules_python\u001b[39;00m \u001b[38;5;28;01mimport\u001b[39;00m tsm\n",
      "File \u001b[1;32m~\\Documents\\ClearWater-modules-python\\src\\clearwater_modules_python\\tsm\\__init__.py:2\u001b[0m\n\u001b[0;32m      1\u001b[0m \u001b[38;5;28;01mfrom\u001b[39;00m \u001b[38;5;21;01mclearwater_modules_python\u001b[39;00m\u001b[38;5;21;01m.\u001b[39;00m\u001b[38;5;21;01mtsm\u001b[39;00m \u001b[38;5;28;01mimport\u001b[39;00m state_variables\n\u001b[1;32m----> 2\u001b[0m \u001b[38;5;28;01mfrom\u001b[39;00m \u001b[38;5;21;01mclearwater_modules_python\u001b[39;00m\u001b[38;5;21;01m.\u001b[39;00m\u001b[38;5;21;01mtsm\u001b[39;00m \u001b[38;5;28;01mimport\u001b[39;00m dynamic_variables\n\u001b[0;32m      3\u001b[0m \u001b[38;5;28;01mfrom\u001b[39;00m \u001b[38;5;21;01mclearwater_modules_python\u001b[39;00m\u001b[38;5;21;01m.\u001b[39;00m\u001b[38;5;21;01mtsm\u001b[39;00m \u001b[38;5;28;01mimport\u001b[39;00m static_variables\n",
      "File \u001b[1;32m~\\Documents\\ClearWater-modules-python\\src\\clearwater_modules_python\\tsm\\dynamic_variables.py:40\u001b[0m\n\u001b[0;32m     18\u001b[0m Variable(\n\u001b[0;32m     19\u001b[0m     name\u001b[38;5;241m=\u001b[39m\u001b[38;5;124m'\u001b[39m\u001b[38;5;124mmixing_ratio_air\u001b[39m\u001b[38;5;124m'\u001b[39m,\n\u001b[0;32m     20\u001b[0m     long_name\u001b[38;5;241m=\u001b[39m\u001b[38;5;124m'\u001b[39m\u001b[38;5;124mMixing ratio of air\u001b[39m\u001b[38;5;124m'\u001b[39m,\n\u001b[1;32m   (...)\u001b[0m\n\u001b[0;32m     24\u001b[0m     process\u001b[38;5;241m=\u001b[39mprocesses\u001b[38;5;241m.\u001b[39mmixing_ratio_air,\n\u001b[0;32m     25\u001b[0m )\n\u001b[0;32m     26\u001b[0m Variable(\n\u001b[0;32m     27\u001b[0m     name\u001b[38;5;241m=\u001b[39m\u001b[38;5;124m'\u001b[39m\u001b[38;5;124mdensity_air\u001b[39m\u001b[38;5;124m'\u001b[39m,\n\u001b[0;32m     28\u001b[0m     long_name\u001b[38;5;241m=\u001b[39m\u001b[38;5;124m'\u001b[39m\u001b[38;5;124mDensity of air\u001b[39m\u001b[38;5;124m'\u001b[39m,\n\u001b[1;32m   (...)\u001b[0m\n\u001b[0;32m     32\u001b[0m     process\u001b[38;5;241m=\u001b[39mprocesses\u001b[38;5;241m.\u001b[39mdensity_air,\n\u001b[0;32m     33\u001b[0m )\n\u001b[0;32m     34\u001b[0m Variable(\n\u001b[0;32m     35\u001b[0m     name\u001b[38;5;241m=\u001b[39m\u001b[38;5;124m'\u001b[39m\u001b[38;5;124mdensity_air_saturation\u001b[39m\u001b[38;5;124m'\u001b[39m,\n\u001b[0;32m     36\u001b[0m     long_name\u001b[38;5;241m=\u001b[39m\u001b[38;5;124m'\u001b[39m\u001b[38;5;124mDensity of air at saturation\u001b[39m\u001b[38;5;124m'\u001b[39m,\n\u001b[0;32m     37\u001b[0m     units\u001b[38;5;241m=\u001b[39m\u001b[38;5;124m'\u001b[39m\u001b[38;5;124mkg/m^3\u001b[39m\u001b[38;5;124m'\u001b[39m,\n\u001b[0;32m     38\u001b[0m     description\u001b[38;5;241m=\u001b[39m\u001b[38;5;124m'\u001b[39m\u001b[38;5;124mDensity of air at saturation\u001b[39m\u001b[38;5;124m'\u001b[39m,\n\u001b[0;32m     39\u001b[0m     use\u001b[38;5;241m=\u001b[39m\u001b[38;5;124m'\u001b[39m\u001b[38;5;124mdynamic\u001b[39m\u001b[38;5;124m'\u001b[39m,\n\u001b[1;32m---> 40\u001b[0m     process\u001b[38;5;241m=\u001b[39m\u001b[43mprocesses\u001b[49m\u001b[38;5;241;43m.\u001b[39;49m\u001b[43mdensity_air_saturation\u001b[49m,\n\u001b[0;32m     41\u001b[0m )\n\u001b[0;32m     42\u001b[0m Variable(\n\u001b[0;32m     43\u001b[0m     name\u001b[38;5;241m=\u001b[39m\u001b[38;5;124m'\u001b[39m\u001b[38;5;124memissivity_air\u001b[39m\u001b[38;5;124m'\u001b[39m,\n\u001b[0;32m     44\u001b[0m     long_name\u001b[38;5;241m=\u001b[39m\u001b[38;5;124m'\u001b[39m\u001b[38;5;124mEmissivity of air\u001b[39m\u001b[38;5;124m'\u001b[39m,\n\u001b[1;32m   (...)\u001b[0m\n\u001b[0;32m     48\u001b[0m     process\u001b[38;5;241m=\u001b[39mprocesses\u001b[38;5;241m.\u001b[39memissivity_air,\n\u001b[0;32m     49\u001b[0m )\n\u001b[0;32m     50\u001b[0m Variable(\n\u001b[0;32m     51\u001b[0m     name\u001b[38;5;241m=\u001b[39m\u001b[38;5;124m'\u001b[39m\u001b[38;5;124mwind_function\u001b[39m\u001b[38;5;124m'\u001b[39m,\n\u001b[0;32m     52\u001b[0m     long_name\u001b[38;5;241m=\u001b[39m\u001b[38;5;124m'\u001b[39m\u001b[38;5;124mWind function\u001b[39m\u001b[38;5;124m'\u001b[39m,\n\u001b[1;32m   (...)\u001b[0m\n\u001b[0;32m     56\u001b[0m     process\u001b[38;5;241m=\u001b[39mprocesses\u001b[38;5;241m.\u001b[39mwind_function,\n\u001b[0;32m     57\u001b[0m )\n",
      "\u001b[1;31mAttributeError\u001b[0m: module 'clearwater_modules_python.tsm.processes' has no attribute 'density_air_saturation'"
     ]
    }
   ],
   "source": [
    "import clearwater_modules_python"
   ]
  },
  {
   "cell_type": "code",
   "execution_count": null,
   "id": "4ea81c19-4a1e-4b7a-9061-e2d1af97a001",
   "metadata": {},
   "outputs": [],
   "source": []
  }
 ],
 "metadata": {
  "kernelspec": {
   "display_name": "Python 3 (ipykernel)",
   "language": "python",
   "name": "python3"
  },
  "language_info": {
   "codemirror_mode": {
    "name": "ipython",
    "version": 3
   },
   "file_extension": ".py",
   "mimetype": "text/x-python",
   "name": "python",
   "nbconvert_exporter": "python",
   "pygments_lexer": "ipython3",
   "version": "3.11.5"
  }
 },
 "nbformat": 4,
 "nbformat_minor": 5
}
