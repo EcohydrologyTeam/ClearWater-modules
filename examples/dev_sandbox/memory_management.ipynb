{
 "cells": [
  {
   "cell_type": "markdown",
   "metadata": {},
   "source": [
    "# Memory Managemnet\n",
    "\n",
    "## Load Packages"
   ]
  },
  {
   "cell_type": "code",
   "execution_count": 1,
   "metadata": {},
   "outputs": [
    {
     "name": "stdout",
     "output_type": "stream",
     "text": [
      "path exists, skipping c:\\Users\\sjordan\\OneDrive - LimnoTech\\Documents\\GitHub\\ClearWater-modules\\examples\\dev_sandbox\\'C:\\Users\\sjordan\\OneDrive\n",
      "completed operation for: c:\\Users\\sjordan\\OneDrive - LimnoTech\\Documents\\GitHub\\ClearWater-modules\\examples\\dev_sandbox\\'C:\\Users\\sjordan\\OneDrive\n",
      "path exists, skipping c:\\Users\\sjordan\\OneDrive - LimnoTech\\Documents\\GitHub\\ClearWater-modules\\examples\\dev_sandbox\\-\n",
      "completed operation for: c:\\Users\\sjordan\\OneDrive - LimnoTech\\Documents\\GitHub\\ClearWater-modules\\examples\\dev_sandbox\\-\n",
      "path exists, skipping c:\\Users\\sjordan\\OneDrive - LimnoTech\\Documents\\GitHub\\ClearWater-modules\\examples\\dev_sandbox\\LimnoTech\\Documents\\GitHub\\ClearWater-modules\\'\n",
      "completed operation for: c:\\Users\\sjordan\\OneDrive - LimnoTech\\Documents\\GitHub\\ClearWater-modules\\examples\\dev_sandbox\\LimnoTech\\Documents\\GitHub\\ClearWater-modules\\'\n"
     ]
    }
   ],
   "source": [
    "!conda develop 'C:\\Users\\sjordan\\OneDrive - LimnoTech\\Documents\\GitHub\\ClearWater-modules\\'"
   ]
  },
  {
   "cell_type": "code",
   "execution_count": 2,
   "metadata": {},
   "outputs": [],
   "source": [
    "from clearwater_modules.tsm.model import EnergyBudget\n",
    "import xarray as xr\n",
    "import pandas as pd\n",
    "\n",
    "from memory_prof import (\n",
    "    run_n_timesteps_profiled,\n",
    "    initialize_clearwater_modules,\n",
    "    initialize_clearwater_riverine,\n",
    "    define_meteo_params,\n",
    "    initialize_clearwater_modules\n",
    ")"
   ]
  },
  {
   "cell_type": "markdown",
   "metadata": {},
   "source": [
    "## Initialize"
   ]
  },
  {
   "cell_type": "code",
   "execution_count": 3,
   "metadata": {},
   "outputs": [],
   "source": [
    "transport_model = initialize_clearwater_riverine()"
   ]
  },
  {
   "cell_type": "code",
   "execution_count": 4,
   "metadata": {},
   "outputs": [],
   "source": [
    "initial_state_values = {\n",
    "    'water_temp_c': transport_model['concentration'].isel(time=0, nface=slice(0, transport_model.nreal + 1))* 0 + 100,\n",
    "    'volume': transport_model['volume'].isel(time=0, nface=slice(0, transport_model.nreal + 1))* 0 + 8,\n",
    "    'surface_area': transport_model['faces_surface_area'].isel(nface=slice(0, transport_model.nreal + 1))* 0 + 4,\n",
    "}\n",
    "\n"
   ]
  },
  {
   "cell_type": "code",
   "execution_count": 5,
   "metadata": {},
   "outputs": [],
   "source": [
    "all_meteo_params, initial_meteo_params = define_meteo_params(transport_model)\n",
    "\n"
   ]
  },
  {
   "cell_type": "code",
   "execution_count": 12,
   "metadata": {},
   "outputs": [
    {
     "ename": "TypeError",
     "evalue": "initialize_clearwater_modules() takes 2 positional arguments but 3 were given",
     "output_type": "error",
     "traceback": [
      "\u001b[1;31m---------------------------------------------------------------------------\u001b[0m",
      "\u001b[1;31mTypeError\u001b[0m                                 Traceback (most recent call last)",
      "Cell \u001b[1;32mIn[12], line 1\u001b[0m\n\u001b[1;32m----> 1\u001b[0m reaction_model \u001b[38;5;241m=\u001b[39m \u001b[43minitialize_clearwater_modules\u001b[49m\u001b[43m(\u001b[49m\u001b[38;5;28;43;01mTrue\u001b[39;49;00m\u001b[43m,\u001b[49m\u001b[43m \u001b[49m\u001b[43minitial_state_values\u001b[49m\u001b[43m,\u001b[49m\u001b[43m \u001b[49m\u001b[43minitial_meteo_params\u001b[49m\u001b[43m)\u001b[49m\n",
      "\u001b[1;31mTypeError\u001b[0m: initialize_clearwater_modules() takes 2 positional arguments but 3 were given"
     ]
    }
   ],
   "source": [
    "reaction_model = initialize_clearwater_modules(True, initial_state_values, initial_meteo_params)\n",
    "\n"
   ]
  },
  {
   "cell_type": "code",
   "execution_count": 7,
   "metadata": {},
   "outputs": [],
   "source": [
    "iters = 50"
   ]
  },
  {
   "cell_type": "code",
   "execution_count": 8,
   "metadata": {},
   "outputs": [],
   "source": [
    "run_n_timesteps_profiled(\n",
    "    iters,\n",
    "    reaction_model,\n",
    "    transport_model,\n",
    "    all_meteo_params,\n",
    ")"
   ]
  },
  {
   "cell_type": "code",
   "execution_count": 11,
   "metadata": {},
   "outputs": [
    {
     "data": {
      "text/plain": [
       "0.664478"
      ]
     },
     "execution_count": 11,
     "metadata": {},
     "output_type": "execute_result"
    }
   ],
   "source": [
    "reaction_model.dataset.nbytes * 1e-6"
   ]
  },
  {
   "cell_type": "code",
   "execution_count": null,
   "metadata": {},
   "outputs": [],
   "source": [
    "run_n_timesteps_profiled(\n",
    "    iters,\n",
    "    reaction_model,\n",
    "    transport_model,\n",
    "    all_meteo_params,\n",
    ")\n",
    "print(reaction_model.dataset.nbytes * 1e-6)"
   ]
  },
  {
   "cell_type": "code",
   "execution_count": null,
   "metadata": {},
   "outputs": [],
   "source": []
  }
 ],
 "metadata": {
  "kernelspec": {
   "display_name": "clearwater_dev_env",
   "language": "python",
   "name": "python3"
  },
  "language_info": {
   "codemirror_mode": {
    "name": "ipython",
    "version": 3
   },
   "file_extension": ".py",
   "mimetype": "text/x-python",
   "name": "python",
   "nbconvert_exporter": "python",
   "pygments_lexer": "ipython3",
   "version": "3.11.6"
  }
 },
 "nbformat": 4,
 "nbformat_minor": 2
}
