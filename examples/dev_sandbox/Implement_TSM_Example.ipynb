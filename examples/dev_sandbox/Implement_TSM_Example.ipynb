{
 "cells": [
  {
   "cell_type": "markdown",
   "metadata": {},
   "source": [
    "## Temperature Simulation Module - Intro"
   ]
  },
  {
   "cell_type": "markdown",
   "metadata": {},
   "source": [
    "#### This notebook will introduce users to the Temperature Simulation Module and familiarize them with the module architecture, inputs, and outputs."
   ]
  },
  {
   "cell_type": "markdown",
   "metadata": {},
   "source": [
    "## Installation and Setup\n",
    "\n"
   ]
  },
  {
   "cell_type": "markdown",
   "metadata": {},
   "source": [
    "## Import Python Dependancies"
   ]
  },
  {
   "cell_type": "code",
   "execution_count": null,
   "metadata": {},
   "outputs": [],
   "source": [
    "import clearwater_modules as cwm\n",
    "import clearwater_modules.sorter as sorter\n",
    "import random\n",
    "import warnings\n",
    "warnings.filterwarnings(\"ignore\")"
   ]
  },
  {
   "cell_type": "code",
   "execution_count": null,
   "metadata": {},
   "outputs": [],
   "source": [
    "# Confirm that sub-modules are imported\n",
    "dir(cwm)"
   ]
  },
  {
   "cell_type": "markdown",
   "metadata": {},
   "source": [
    "### If you get `ModuleNotFoundError`:\n",
    "\n",
    "If you get this error:\n",
    "```python\n",
    "ModuleNotFoundError: No module named 'clearwater_modules'\n",
    "```\n",
    "Then:\n",
    "1. Run the following terminal command with your local absolute path to this repo.\n",
    "    - NOTE: Here we use Jupyter `!` magic command to run from the terminal via this notebook. \n",
    "2. Restart the kernel.\n",
    "3. Rerun the import statements above.\n",
    "\n",
    "See [4. Add your `ClearWater-modules-python` Path to Miniconda/Anaconda sites-packages](..ReadMe.md#4-add-your-clearwater-modules-python-path-to-minicondaanaconda-sites-packages)."
   ]
  },
  {
   "cell_type": "markdown",
   "metadata": {},
   "source": []
  },
  {
   "cell_type": "code",
   "execution_count": null,
   "metadata": {},
   "outputs": [],
   "source": [
    "import clearwater_modules as cwm\n",
    "import clearwater_modules.sorter as sorter\n",
    "import numba\n",
    "import random\n",
    "import hvplot.xarray\n",
    "import warnings\n",
    "warnings.filterwarnings(\"ignore\")\n",
    "\n",
    "initial_state_values = {'water_temp_c': 20, 'surface_area': 1, 'volume': 1}\n",
    "meteo_parameters = {\n",
    "    'air_temp_c': 20,\n",
    "    'q_solar': 400,\n",
    "    'sed_temp_c': 5,\n",
    "    'eair_mb': 1,\n",
    "    'pressure_mb': 1013,\n",
    "    'cloudiness': .1,\n",
    "    'wind_speed': 3,\n",
    "    'wind_a': .3,\n",
    "    'wind_b': 1.5,\n",
    "    'wind_c': 1,\n",
    "    'wind_kh_kw': 1\n",
    "}\n",
    "\n",
    "temp_parameters = {\n",
    "    'use_sed_temp': False,\n",
    "    'stefan_boltzmann': 0.0000000567,\n",
    "    'cp_air': 1005,\n",
    "    'emissivity_water': 0.97,\n",
    "    'gravity': 9.806,\n",
    "    'a0': 6984.505294,\n",
    "    'a1': -188.903931,\n",
    "    'a2': 2.133357675,\n",
    "    'a3': -0.01288581,\n",
    "    'a4': 0.0000439359,\n",
    "    'a5': -.0000000802392,\n",
    "    'a6': .0000000000613682,\n",
    "    'pb': 1600,\n",
    "    'cps': 1673,\n",
    "    'h2': 0.1,\n",
    "    'alphas': 0.0432,\n",
    "    'richardson_option': True\n",
    "}\n",
    "\n",
    "time_step = 1\n",
    "\n",
    "tsm_model = cwm.tsm.EnergyBudget(\n",
    "    time_steps=time_step,\n",
    "    initial_state_values=initial_state_values,  # mandatory\n",
    "    temp_parameters=temp_parameters,\n",
    "    meteo_parameters=meteo_parameters,\n",
    "    track_dynamic_variables=True,  # default is true\n",
    "    hotstart_dataset=None,  # default is None\n",
    "    time_dim='tsm_time_step',  # default is \"timestep\"\n",
    ")\n",
    "\n",
    "tsm_model.increment_timestep()\n",
    "tsm_model.dataset\n"
   ]
  },
  {
   "cell_type": "code",
   "execution_count": null,
   "metadata": {},
   "outputs": [],
   "source": []
  }
 ],
 "metadata": {
  "language_info": {
   "name": "python"
  }
 },
 "nbformat": 4,
 "nbformat_minor": 2
}
