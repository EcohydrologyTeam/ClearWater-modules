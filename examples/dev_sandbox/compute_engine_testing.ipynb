{
 "cells": [
  {
   "cell_type": "markdown",
   "id": "0d1b61ac-5a4a-4ec1-a91e-41026b8656d7",
   "metadata": {},
   "source": [
    "# Testing different computation engine approaches\n",
    "\n",
    "Computation engine = the part of the code that is shared across all modules. AKA, the inherited `base.increment_timestep()` function, which current passes `Model.computation_order` into `utils.iter_computations()`.\n",
    "\n",
    "Note that `Model.computation_order` takes an optional dependency injection that overrides `utils.iter_computation()`, we use this to test different approaches.\n",
    "\n",
    "**Testing approaches:**\n",
    "* V1 approach: Have a `utils.iter_computations` has the following decorator `numba.jit(forceobj=True)` and attempts to JIT our custom `base.Variable` arguments as well as `xr.Dataset`.\n",
    "* V2 approach: The same as V1, except not JIT compiled at all.\n",
    "* V3 approach: A true JIT compile by using `numpy`, then writing back to `xarray`."
   ]
  },
  {
   "cell_type": "code",
   "execution_count": 1,
   "id": "d722148d-f20a-4c5d-8634-cc1171307571",
   "metadata": {
    "tags": []
   },
   "outputs": [],
   "source": [
    "import clearwater_modules\n",
    "import xarray as xr"
   ]
  },
  {
   "cell_type": "markdown",
   "id": "53b6edd1-8a11-402e-b173-03210d53286b",
   "metadata": {},
   "source": [
    "# Pull in test data"
   ]
  },
  {
   "cell_type": "code",
   "execution_count": 2,
   "id": "a2ddeb87-7396-4eec-a1b5-e51fe18f772c",
   "metadata": {
    "tags": []
   },
   "outputs": [
    {
     "name": "stdout",
     "output_type": "stream",
     "text": [
      "CPU times: total: 281 ms\n",
      "Wall time: 295 ms\n"
     ]
    },
    {
     "data": {
      "text/html": [
       "<div><svg style=\"position: absolute; width: 0; height: 0; overflow: hidden\">\n",
       "<defs>\n",
       "<symbol id=\"icon-database\" viewBox=\"0 0 32 32\">\n",
       "<path d=\"M16 0c-8.837 0-16 2.239-16 5v4c0 2.761 7.163 5 16 5s16-2.239 16-5v-4c0-2.761-7.163-5-16-5z\"></path>\n",
       "<path d=\"M16 17c-8.837 0-16-2.239-16-5v6c0 2.761 7.163 5 16 5s16-2.239 16-5v-6c0 2.761-7.163 5-16 5z\"></path>\n",
       "<path d=\"M16 26c-8.837 0-16-2.239-16-5v6c0 2.761 7.163 5 16 5s16-2.239 16-5v-6c0 2.761-7.163 5-16 5z\"></path>\n",
       "</symbol>\n",
       "<symbol id=\"icon-file-text2\" viewBox=\"0 0 32 32\">\n",
       "<path d=\"M28.681 7.159c-0.694-0.947-1.662-2.053-2.724-3.116s-2.169-2.030-3.116-2.724c-1.612-1.182-2.393-1.319-2.841-1.319h-15.5c-1.378 0-2.5 1.121-2.5 2.5v27c0 1.378 1.122 2.5 2.5 2.5h23c1.378 0 2.5-1.122 2.5-2.5v-19.5c0-0.448-0.137-1.23-1.319-2.841zM24.543 5.457c0.959 0.959 1.712 1.825 2.268 2.543h-4.811v-4.811c0.718 0.556 1.584 1.309 2.543 2.268zM28 29.5c0 0.271-0.229 0.5-0.5 0.5h-23c-0.271 0-0.5-0.229-0.5-0.5v-27c0-0.271 0.229-0.5 0.5-0.5 0 0 15.499-0 15.5 0v7c0 0.552 0.448 1 1 1h7v19.5z\"></path>\n",
       "<path d=\"M23 26h-14c-0.552 0-1-0.448-1-1s0.448-1 1-1h14c0.552 0 1 0.448 1 1s-0.448 1-1 1z\"></path>\n",
       "<path d=\"M23 22h-14c-0.552 0-1-0.448-1-1s0.448-1 1-1h14c0.552 0 1 0.448 1 1s-0.448 1-1 1z\"></path>\n",
       "<path d=\"M23 18h-14c-0.552 0-1-0.448-1-1s0.448-1 1-1h14c0.552 0 1 0.448 1 1s-0.448 1-1 1z\"></path>\n",
       "</symbol>\n",
       "</defs>\n",
       "</svg>\n",
       "<style>/* CSS stylesheet for displaying xarray objects in jupyterlab.\n",
       " *\n",
       " */\n",
       "\n",
       ":root {\n",
       "  --xr-font-color0: var(--jp-content-font-color0, rgba(0, 0, 0, 1));\n",
       "  --xr-font-color2: var(--jp-content-font-color2, rgba(0, 0, 0, 0.54));\n",
       "  --xr-font-color3: var(--jp-content-font-color3, rgba(0, 0, 0, 0.38));\n",
       "  --xr-border-color: var(--jp-border-color2, #e0e0e0);\n",
       "  --xr-disabled-color: var(--jp-layout-color3, #bdbdbd);\n",
       "  --xr-background-color: var(--jp-layout-color0, white);\n",
       "  --xr-background-color-row-even: var(--jp-layout-color1, white);\n",
       "  --xr-background-color-row-odd: var(--jp-layout-color2, #eeeeee);\n",
       "}\n",
       "\n",
       "html[theme=dark],\n",
       "body[data-theme=dark],\n",
       "body.vscode-dark {\n",
       "  --xr-font-color0: rgba(255, 255, 255, 1);\n",
       "  --xr-font-color2: rgba(255, 255, 255, 0.54);\n",
       "  --xr-font-color3: rgba(255, 255, 255, 0.38);\n",
       "  --xr-border-color: #1F1F1F;\n",
       "  --xr-disabled-color: #515151;\n",
       "  --xr-background-color: #111111;\n",
       "  --xr-background-color-row-even: #111111;\n",
       "  --xr-background-color-row-odd: #313131;\n",
       "}\n",
       "\n",
       ".xr-wrap {\n",
       "  display: block !important;\n",
       "  min-width: 300px;\n",
       "  max-width: 700px;\n",
       "}\n",
       "\n",
       ".xr-text-repr-fallback {\n",
       "  /* fallback to plain text repr when CSS is not injected (untrusted notebook) */\n",
       "  display: none;\n",
       "}\n",
       "\n",
       ".xr-header {\n",
       "  padding-top: 6px;\n",
       "  padding-bottom: 6px;\n",
       "  margin-bottom: 4px;\n",
       "  border-bottom: solid 1px var(--xr-border-color);\n",
       "}\n",
       "\n",
       ".xr-header > div,\n",
       ".xr-header > ul {\n",
       "  display: inline;\n",
       "  margin-top: 0;\n",
       "  margin-bottom: 0;\n",
       "}\n",
       "\n",
       ".xr-obj-type,\n",
       ".xr-array-name {\n",
       "  margin-left: 2px;\n",
       "  margin-right: 10px;\n",
       "}\n",
       "\n",
       ".xr-obj-type {\n",
       "  color: var(--xr-font-color2);\n",
       "}\n",
       "\n",
       ".xr-sections {\n",
       "  padding-left: 0 !important;\n",
       "  display: grid;\n",
       "  grid-template-columns: 150px auto auto 1fr 20px 20px;\n",
       "}\n",
       "\n",
       ".xr-section-item {\n",
       "  display: contents;\n",
       "}\n",
       "\n",
       ".xr-section-item input {\n",
       "  display: none;\n",
       "}\n",
       "\n",
       ".xr-section-item input + label {\n",
       "  color: var(--xr-disabled-color);\n",
       "}\n",
       "\n",
       ".xr-section-item input:enabled + label {\n",
       "  cursor: pointer;\n",
       "  color: var(--xr-font-color2);\n",
       "}\n",
       "\n",
       ".xr-section-item input:enabled + label:hover {\n",
       "  color: var(--xr-font-color0);\n",
       "}\n",
       "\n",
       ".xr-section-summary {\n",
       "  grid-column: 1;\n",
       "  color: var(--xr-font-color2);\n",
       "  font-weight: 500;\n",
       "}\n",
       "\n",
       ".xr-section-summary > span {\n",
       "  display: inline-block;\n",
       "  padding-left: 0.5em;\n",
       "}\n",
       "\n",
       ".xr-section-summary-in:disabled + label {\n",
       "  color: var(--xr-font-color2);\n",
       "}\n",
       "\n",
       ".xr-section-summary-in + label:before {\n",
       "  display: inline-block;\n",
       "  content: '►';\n",
       "  font-size: 11px;\n",
       "  width: 15px;\n",
       "  text-align: center;\n",
       "}\n",
       "\n",
       ".xr-section-summary-in:disabled + label:before {\n",
       "  color: var(--xr-disabled-color);\n",
       "}\n",
       "\n",
       ".xr-section-summary-in:checked + label:before {\n",
       "  content: '▼';\n",
       "}\n",
       "\n",
       ".xr-section-summary-in:checked + label > span {\n",
       "  display: none;\n",
       "}\n",
       "\n",
       ".xr-section-summary,\n",
       ".xr-section-inline-details {\n",
       "  padding-top: 4px;\n",
       "  padding-bottom: 4px;\n",
       "}\n",
       "\n",
       ".xr-section-inline-details {\n",
       "  grid-column: 2 / -1;\n",
       "}\n",
       "\n",
       ".xr-section-details {\n",
       "  display: none;\n",
       "  grid-column: 1 / -1;\n",
       "  margin-bottom: 5px;\n",
       "}\n",
       "\n",
       ".xr-section-summary-in:checked ~ .xr-section-details {\n",
       "  display: contents;\n",
       "}\n",
       "\n",
       ".xr-array-wrap {\n",
       "  grid-column: 1 / -1;\n",
       "  display: grid;\n",
       "  grid-template-columns: 20px auto;\n",
       "}\n",
       "\n",
       ".xr-array-wrap > label {\n",
       "  grid-column: 1;\n",
       "  vertical-align: top;\n",
       "}\n",
       "\n",
       ".xr-preview {\n",
       "  color: var(--xr-font-color3);\n",
       "}\n",
       "\n",
       ".xr-array-preview,\n",
       ".xr-array-data {\n",
       "  padding: 0 5px !important;\n",
       "  grid-column: 2;\n",
       "}\n",
       "\n",
       ".xr-array-data,\n",
       ".xr-array-in:checked ~ .xr-array-preview {\n",
       "  display: none;\n",
       "}\n",
       "\n",
       ".xr-array-in:checked ~ .xr-array-data,\n",
       ".xr-array-preview {\n",
       "  display: inline-block;\n",
       "}\n",
       "\n",
       ".xr-dim-list {\n",
       "  display: inline-block !important;\n",
       "  list-style: none;\n",
       "  padding: 0 !important;\n",
       "  margin: 0;\n",
       "}\n",
       "\n",
       ".xr-dim-list li {\n",
       "  display: inline-block;\n",
       "  padding: 0;\n",
       "  margin: 0;\n",
       "}\n",
       "\n",
       ".xr-dim-list:before {\n",
       "  content: '(';\n",
       "}\n",
       "\n",
       ".xr-dim-list:after {\n",
       "  content: ')';\n",
       "}\n",
       "\n",
       ".xr-dim-list li:not(:last-child):after {\n",
       "  content: ',';\n",
       "  padding-right: 5px;\n",
       "}\n",
       "\n",
       ".xr-has-index {\n",
       "  font-weight: bold;\n",
       "}\n",
       "\n",
       ".xr-var-list,\n",
       ".xr-var-item {\n",
       "  display: contents;\n",
       "}\n",
       "\n",
       ".xr-var-item > div,\n",
       ".xr-var-item label,\n",
       ".xr-var-item > .xr-var-name span {\n",
       "  background-color: var(--xr-background-color-row-even);\n",
       "  margin-bottom: 0;\n",
       "}\n",
       "\n",
       ".xr-var-item > .xr-var-name:hover span {\n",
       "  padding-right: 5px;\n",
       "}\n",
       "\n",
       ".xr-var-list > li:nth-child(odd) > div,\n",
       ".xr-var-list > li:nth-child(odd) > label,\n",
       ".xr-var-list > li:nth-child(odd) > .xr-var-name span {\n",
       "  background-color: var(--xr-background-color-row-odd);\n",
       "}\n",
       "\n",
       ".xr-var-name {\n",
       "  grid-column: 1;\n",
       "}\n",
       "\n",
       ".xr-var-dims {\n",
       "  grid-column: 2;\n",
       "}\n",
       "\n",
       ".xr-var-dtype {\n",
       "  grid-column: 3;\n",
       "  text-align: right;\n",
       "  color: var(--xr-font-color2);\n",
       "}\n",
       "\n",
       ".xr-var-preview {\n",
       "  grid-column: 4;\n",
       "}\n",
       "\n",
       ".xr-index-preview {\n",
       "  grid-column: 2 / 5;\n",
       "  color: var(--xr-font-color2);\n",
       "}\n",
       "\n",
       ".xr-var-name,\n",
       ".xr-var-dims,\n",
       ".xr-var-dtype,\n",
       ".xr-preview,\n",
       ".xr-attrs dt {\n",
       "  white-space: nowrap;\n",
       "  overflow: hidden;\n",
       "  text-overflow: ellipsis;\n",
       "  padding-right: 10px;\n",
       "}\n",
       "\n",
       ".xr-var-name:hover,\n",
       ".xr-var-dims:hover,\n",
       ".xr-var-dtype:hover,\n",
       ".xr-attrs dt:hover {\n",
       "  overflow: visible;\n",
       "  width: auto;\n",
       "  z-index: 1;\n",
       "}\n",
       "\n",
       ".xr-var-attrs,\n",
       ".xr-var-data,\n",
       ".xr-index-data {\n",
       "  display: none;\n",
       "  background-color: var(--xr-background-color) !important;\n",
       "  padding-bottom: 5px !important;\n",
       "}\n",
       "\n",
       ".xr-var-attrs-in:checked ~ .xr-var-attrs,\n",
       ".xr-var-data-in:checked ~ .xr-var-data,\n",
       ".xr-index-data-in:checked ~ .xr-index-data {\n",
       "  display: block;\n",
       "}\n",
       "\n",
       ".xr-var-data > table {\n",
       "  float: right;\n",
       "}\n",
       "\n",
       ".xr-var-name span,\n",
       ".xr-var-data,\n",
       ".xr-index-name div,\n",
       ".xr-index-data,\n",
       ".xr-attrs {\n",
       "  padding-left: 25px !important;\n",
       "}\n",
       "\n",
       ".xr-attrs,\n",
       ".xr-var-attrs,\n",
       ".xr-var-data,\n",
       ".xr-index-data {\n",
       "  grid-column: 1 / -1;\n",
       "}\n",
       "\n",
       "dl.xr-attrs {\n",
       "  padding: 0;\n",
       "  margin: 0;\n",
       "  display: grid;\n",
       "  grid-template-columns: 125px auto;\n",
       "}\n",
       "\n",
       ".xr-attrs dt,\n",
       ".xr-attrs dd {\n",
       "  padding: 0;\n",
       "  margin: 0;\n",
       "  float: left;\n",
       "  padding-right: 10px;\n",
       "  width: auto;\n",
       "}\n",
       "\n",
       ".xr-attrs dt {\n",
       "  font-weight: normal;\n",
       "  grid-column: 1;\n",
       "}\n",
       "\n",
       ".xr-attrs dt:hover span {\n",
       "  display: inline-block;\n",
       "  background: var(--xr-background-color);\n",
       "  padding-right: 10px;\n",
       "}\n",
       "\n",
       ".xr-attrs dd {\n",
       "  grid-column: 2;\n",
       "  white-space: pre-wrap;\n",
       "  word-break: break-all;\n",
       "}\n",
       "\n",
       ".xr-icon-database,\n",
       ".xr-icon-file-text2,\n",
       ".xr-no-icon {\n",
       "  display: inline-block;\n",
       "  vertical-align: middle;\n",
       "  width: 1em;\n",
       "  height: 1.5em !important;\n",
       "  stroke-width: 0;\n",
       "  stroke: currentColor;\n",
       "  fill: currentColor;\n",
       "}\n",
       "</style><pre class='xr-text-repr-fallback'>&lt;xarray.Dataset&gt;\n",
       "Dimensions:       (lat: 25, lon: 53)\n",
       "Coordinates:\n",
       "  * lat           (lat) float32 75.0 72.5 70.0 67.5 65.0 ... 22.5 20.0 17.5 15.0\n",
       "  * lon           (lon) float32 200.0 202.5 205.0 207.5 ... 325.0 327.5 330.0\n",
       "    time          datetime64[ns] 2013-01-01\n",
       "Data variables:\n",
       "    water_temp_c  (lat, lon) float32 241.2 242.5 243.5 ... 296.9 296.8 296.6\n",
       "    surface_area  (lat, lon) float32 1.0 1.0 1.0 1.0 1.0 ... 1.0 1.0 1.0 1.0 1.0\n",
       "    volume        (lat, lon) float32 1.0 1.0 1.0 1.0 1.0 ... 1.0 1.0 1.0 1.0 1.0</pre><div class='xr-wrap' style='display:none'><div class='xr-header'><div class='xr-obj-type'>xarray.Dataset</div></div><ul class='xr-sections'><li class='xr-section-item'><input id='section-de959843-e203-4a99-9e46-f13fc2cc1d1f' class='xr-section-summary-in' type='checkbox' disabled ><label for='section-de959843-e203-4a99-9e46-f13fc2cc1d1f' class='xr-section-summary'  title='Expand/collapse section'>Dimensions:</label><div class='xr-section-inline-details'><ul class='xr-dim-list'><li><span class='xr-has-index'>lat</span>: 25</li><li><span class='xr-has-index'>lon</span>: 53</li></ul></div><div class='xr-section-details'></div></li><li class='xr-section-item'><input id='section-2bc665f3-dd93-495e-a3b3-17143f9155dc' class='xr-section-summary-in' type='checkbox'  checked><label for='section-2bc665f3-dd93-495e-a3b3-17143f9155dc' class='xr-section-summary' >Coordinates: <span>(3)</span></label><div class='xr-section-inline-details'></div><div class='xr-section-details'><ul class='xr-var-list'><li class='xr-var-item'><div class='xr-var-name'><span class='xr-has-index'>lat</span></div><div class='xr-var-dims'>(lat)</div><div class='xr-var-dtype'>float32</div><div class='xr-var-preview xr-preview'>75.0 72.5 70.0 ... 20.0 17.5 15.0</div><input id='attrs-5c0e7732-0a86-4e96-86e3-6f0be5f60042' class='xr-var-attrs-in' type='checkbox' ><label for='attrs-5c0e7732-0a86-4e96-86e3-6f0be5f60042' title='Show/Hide attributes'><svg class='icon xr-icon-file-text2'><use xlink:href='#icon-file-text2'></use></svg></label><input id='data-0ffcec44-a6d1-41e0-9443-9b8e56e14fb0' class='xr-var-data-in' type='checkbox'><label for='data-0ffcec44-a6d1-41e0-9443-9b8e56e14fb0' title='Show/Hide data repr'><svg class='icon xr-icon-database'><use xlink:href='#icon-database'></use></svg></label><div class='xr-var-attrs'><dl class='xr-attrs'><dt><span>standard_name :</span></dt><dd>latitude</dd><dt><span>long_name :</span></dt><dd>Latitude</dd><dt><span>units :</span></dt><dd>degrees_north</dd><dt><span>axis :</span></dt><dd>Y</dd></dl></div><div class='xr-var-data'><pre>array([75. , 72.5, 70. , 67.5, 65. , 62.5, 60. , 57.5, 55. , 52.5, 50. , 47.5,\n",
       "       45. , 42.5, 40. , 37.5, 35. , 32.5, 30. , 27.5, 25. , 22.5, 20. , 17.5,\n",
       "       15. ], dtype=float32)</pre></div></li><li class='xr-var-item'><div class='xr-var-name'><span class='xr-has-index'>lon</span></div><div class='xr-var-dims'>(lon)</div><div class='xr-var-dtype'>float32</div><div class='xr-var-preview xr-preview'>200.0 202.5 205.0 ... 327.5 330.0</div><input id='attrs-d3739bee-e2e2-4699-904f-ca4547c0bfe5' class='xr-var-attrs-in' type='checkbox' ><label for='attrs-d3739bee-e2e2-4699-904f-ca4547c0bfe5' title='Show/Hide attributes'><svg class='icon xr-icon-file-text2'><use xlink:href='#icon-file-text2'></use></svg></label><input id='data-d8577230-9e32-4160-adc5-3c60bf50107e' class='xr-var-data-in' type='checkbox'><label for='data-d8577230-9e32-4160-adc5-3c60bf50107e' title='Show/Hide data repr'><svg class='icon xr-icon-database'><use xlink:href='#icon-database'></use></svg></label><div class='xr-var-attrs'><dl class='xr-attrs'><dt><span>standard_name :</span></dt><dd>longitude</dd><dt><span>long_name :</span></dt><dd>Longitude</dd><dt><span>units :</span></dt><dd>degrees_east</dd><dt><span>axis :</span></dt><dd>X</dd></dl></div><div class='xr-var-data'><pre>array([200. , 202.5, 205. , 207.5, 210. , 212.5, 215. , 217.5, 220. , 222.5,\n",
       "       225. , 227.5, 230. , 232.5, 235. , 237.5, 240. , 242.5, 245. , 247.5,\n",
       "       250. , 252.5, 255. , 257.5, 260. , 262.5, 265. , 267.5, 270. , 272.5,\n",
       "       275. , 277.5, 280. , 282.5, 285. , 287.5, 290. , 292.5, 295. , 297.5,\n",
       "       300. , 302.5, 305. , 307.5, 310. , 312.5, 315. , 317.5, 320. , 322.5,\n",
       "       325. , 327.5, 330. ], dtype=float32)</pre></div></li><li class='xr-var-item'><div class='xr-var-name'><span>time</span></div><div class='xr-var-dims'>()</div><div class='xr-var-dtype'>datetime64[ns]</div><div class='xr-var-preview xr-preview'>2013-01-01</div><input id='attrs-149c3c69-7174-4324-a2ba-ca54e810f706' class='xr-var-attrs-in' type='checkbox' ><label for='attrs-149c3c69-7174-4324-a2ba-ca54e810f706' title='Show/Hide attributes'><svg class='icon xr-icon-file-text2'><use xlink:href='#icon-file-text2'></use></svg></label><input id='data-56afea3c-dbcc-4a89-9b6a-e0e112b4be5c' class='xr-var-data-in' type='checkbox'><label for='data-56afea3c-dbcc-4a89-9b6a-e0e112b4be5c' title='Show/Hide data repr'><svg class='icon xr-icon-database'><use xlink:href='#icon-database'></use></svg></label><div class='xr-var-attrs'><dl class='xr-attrs'><dt><span>standard_name :</span></dt><dd>time</dd><dt><span>long_name :</span></dt><dd>Time</dd></dl></div><div class='xr-var-data'><pre>array(&#x27;2013-01-01T00:00:00.000000000&#x27;, dtype=&#x27;datetime64[ns]&#x27;)</pre></div></li></ul></div></li><li class='xr-section-item'><input id='section-29f42bea-d605-4efc-b369-b0d0ca46118d' class='xr-section-summary-in' type='checkbox'  checked><label for='section-29f42bea-d605-4efc-b369-b0d0ca46118d' class='xr-section-summary' >Data variables: <span>(3)</span></label><div class='xr-section-inline-details'></div><div class='xr-section-details'><ul class='xr-var-list'><li class='xr-var-item'><div class='xr-var-name'><span>water_temp_c</span></div><div class='xr-var-dims'>(lat, lon)</div><div class='xr-var-dtype'>float32</div><div class='xr-var-preview xr-preview'>241.2 242.5 243.5 ... 296.8 296.6</div><input id='attrs-029fa561-045e-4ab2-9a8b-826ada656489' class='xr-var-attrs-in' type='checkbox' ><label for='attrs-029fa561-045e-4ab2-9a8b-826ada656489' title='Show/Hide attributes'><svg class='icon xr-icon-file-text2'><use xlink:href='#icon-file-text2'></use></svg></label><input id='data-f38fb4bd-41ae-4a14-9490-35b43fdb6785' class='xr-var-data-in' type='checkbox'><label for='data-f38fb4bd-41ae-4a14-9490-35b43fdb6785' title='Show/Hide data repr'><svg class='icon xr-icon-database'><use xlink:href='#icon-database'></use></svg></label><div class='xr-var-attrs'><dl class='xr-attrs'><dt><span>long_name :</span></dt><dd>4xDaily Air temperature at sigma level 995</dd><dt><span>units :</span></dt><dd>degK</dd><dt><span>precision :</span></dt><dd>2</dd><dt><span>GRIB_id :</span></dt><dd>11</dd><dt><span>GRIB_name :</span></dt><dd>TMP</dd><dt><span>var_desc :</span></dt><dd>Air temperature</dd><dt><span>dataset :</span></dt><dd>NMC Reanalysis</dd><dt><span>level_desc :</span></dt><dd>Surface</dd><dt><span>statistic :</span></dt><dd>Individual Obs</dd><dt><span>parent_stat :</span></dt><dd>Other</dd><dt><span>actual_range :</span></dt><dd>[185.16 322.1 ]</dd></dl></div><div class='xr-var-data'><pre>array([[241.2    , 242.5    , 243.5    , ..., 232.79999, 235.5    ,\n",
       "        238.59999],\n",
       "       [243.79999, 244.5    , 244.7    , ..., 232.79999, 235.29999,\n",
       "        239.29999],\n",
       "       [250.     , 249.79999, 248.89   , ..., 233.2    , 236.39   ,\n",
       "        241.7    ],\n",
       "       ...,\n",
       "       [296.6    , 296.19998, 296.4    , ..., 295.4    , 295.1    ,\n",
       "        294.69998],\n",
       "       [295.9    , 296.19998, 296.79   , ..., 295.9    , 295.9    ,\n",
       "        295.19998],\n",
       "       [296.29   , 296.79   , 297.1    , ..., 296.9    , 296.79   ,\n",
       "        296.6    ]], dtype=float32)</pre></div></li><li class='xr-var-item'><div class='xr-var-name'><span>surface_area</span></div><div class='xr-var-dims'>(lat, lon)</div><div class='xr-var-dtype'>float32</div><div class='xr-var-preview xr-preview'>1.0 1.0 1.0 1.0 ... 1.0 1.0 1.0 1.0</div><input id='attrs-8e8fac12-1df2-4734-870e-3e76c9df1904' class='xr-var-attrs-in' type='checkbox' disabled><label for='attrs-8e8fac12-1df2-4734-870e-3e76c9df1904' title='Show/Hide attributes'><svg class='icon xr-icon-file-text2'><use xlink:href='#icon-file-text2'></use></svg></label><input id='data-25f341fe-2e66-4b67-882c-8a46c2334855' class='xr-var-data-in' type='checkbox'><label for='data-25f341fe-2e66-4b67-882c-8a46c2334855' title='Show/Hide data repr'><svg class='icon xr-icon-database'><use xlink:href='#icon-database'></use></svg></label><div class='xr-var-attrs'><dl class='xr-attrs'></dl></div><div class='xr-var-data'><pre>array([[1., 1., 1., ..., 1., 1., 1.],\n",
       "       [1., 1., 1., ..., 1., 1., 1.],\n",
       "       [1., 1., 1., ..., 1., 1., 1.],\n",
       "       ...,\n",
       "       [1., 1., 1., ..., 1., 1., 1.],\n",
       "       [1., 1., 1., ..., 1., 1., 1.],\n",
       "       [1., 1., 1., ..., 1., 1., 1.]], dtype=float32)</pre></div></li><li class='xr-var-item'><div class='xr-var-name'><span>volume</span></div><div class='xr-var-dims'>(lat, lon)</div><div class='xr-var-dtype'>float32</div><div class='xr-var-preview xr-preview'>1.0 1.0 1.0 1.0 ... 1.0 1.0 1.0 1.0</div><input id='attrs-a0ee4479-5429-4269-9264-a4cb95d415d5' class='xr-var-attrs-in' type='checkbox' disabled><label for='attrs-a0ee4479-5429-4269-9264-a4cb95d415d5' title='Show/Hide attributes'><svg class='icon xr-icon-file-text2'><use xlink:href='#icon-file-text2'></use></svg></label><input id='data-0d0ed503-407e-44ff-b0cc-0598c13e7dd8' class='xr-var-data-in' type='checkbox'><label for='data-0d0ed503-407e-44ff-b0cc-0598c13e7dd8' title='Show/Hide data repr'><svg class='icon xr-icon-database'><use xlink:href='#icon-database'></use></svg></label><div class='xr-var-attrs'><dl class='xr-attrs'></dl></div><div class='xr-var-data'><pre>array([[1., 1., 1., ..., 1., 1., 1.],\n",
       "       [1., 1., 1., ..., 1., 1., 1.],\n",
       "       [1., 1., 1., ..., 1., 1., 1.],\n",
       "       ...,\n",
       "       [1., 1., 1., ..., 1., 1., 1.],\n",
       "       [1., 1., 1., ..., 1., 1., 1.],\n",
       "       [1., 1., 1., ..., 1., 1., 1.]], dtype=float32)</pre></div></li></ul></div></li><li class='xr-section-item'><input id='section-91fd43c0-27d2-4a60-ad9c-a31eba5997de' class='xr-section-summary-in' type='checkbox'  ><label for='section-91fd43c0-27d2-4a60-ad9c-a31eba5997de' class='xr-section-summary' >Indexes: <span>(2)</span></label><div class='xr-section-inline-details'></div><div class='xr-section-details'><ul class='xr-var-list'><li class='xr-var-item'><div class='xr-index-name'><div>lat</div></div><div class='xr-index-preview'>PandasIndex</div><div></div><input id='index-588cbe4d-2d78-4d91-b8f9-0be0fb0b323d' class='xr-index-data-in' type='checkbox'/><label for='index-588cbe4d-2d78-4d91-b8f9-0be0fb0b323d' title='Show/Hide index repr'><svg class='icon xr-icon-database'><use xlink:href='#icon-database'></use></svg></label><div class='xr-index-data'><pre>PandasIndex(Index([75.0, 72.5, 70.0, 67.5, 65.0, 62.5, 60.0, 57.5, 55.0, 52.5, 50.0, 47.5,\n",
       "       45.0, 42.5, 40.0, 37.5, 35.0, 32.5, 30.0, 27.5, 25.0, 22.5, 20.0, 17.5,\n",
       "       15.0],\n",
       "      dtype=&#x27;float32&#x27;, name=&#x27;lat&#x27;))</pre></div></li><li class='xr-var-item'><div class='xr-index-name'><div>lon</div></div><div class='xr-index-preview'>PandasIndex</div><div></div><input id='index-d6eb8152-9491-47db-80f3-df203ce58248' class='xr-index-data-in' type='checkbox'/><label for='index-d6eb8152-9491-47db-80f3-df203ce58248' title='Show/Hide index repr'><svg class='icon xr-icon-database'><use xlink:href='#icon-database'></use></svg></label><div class='xr-index-data'><pre>PandasIndex(Index([200.0, 202.5, 205.0, 207.5, 210.0, 212.5, 215.0, 217.5, 220.0, 222.5,\n",
       "       225.0, 227.5, 230.0, 232.5, 235.0, 237.5, 240.0, 242.5, 245.0, 247.5,\n",
       "       250.0, 252.5, 255.0, 257.5, 260.0, 262.5, 265.0, 267.5, 270.0, 272.5,\n",
       "       275.0, 277.5, 280.0, 282.5, 285.0, 287.5, 290.0, 292.5, 295.0, 297.5,\n",
       "       300.0, 302.5, 305.0, 307.5, 310.0, 312.5, 315.0, 317.5, 320.0, 322.5,\n",
       "       325.0, 327.5, 330.0],\n",
       "      dtype=&#x27;float32&#x27;, name=&#x27;lon&#x27;))</pre></div></li></ul></div></li><li class='xr-section-item'><input id='section-97f15c82-443d-435a-80cc-732f3df6cc7f' class='xr-section-summary-in' type='checkbox' disabled ><label for='section-97f15c82-443d-435a-80cc-732f3df6cc7f' class='xr-section-summary'  title='Expand/collapse section'>Attributes: <span>(0)</span></label><div class='xr-section-inline-details'></div><div class='xr-section-details'><dl class='xr-attrs'></dl></div></li></ul></div></div>"
      ],
      "text/plain": [
       "<xarray.Dataset>\n",
       "Dimensions:       (lat: 25, lon: 53)\n",
       "Coordinates:\n",
       "  * lat           (lat) float32 75.0 72.5 70.0 67.5 65.0 ... 22.5 20.0 17.5 15.0\n",
       "  * lon           (lon) float32 200.0 202.5 205.0 207.5 ... 325.0 327.5 330.0\n",
       "    time          datetime64[ns] 2013-01-01\n",
       "Data variables:\n",
       "    water_temp_c  (lat, lon) float32 241.2 242.5 243.5 ... 296.9 296.8 296.6\n",
       "    surface_area  (lat, lon) float32 1.0 1.0 1.0 1.0 1.0 ... 1.0 1.0 1.0 1.0 1.0\n",
       "    volume        (lat, lon) float32 1.0 1.0 1.0 1.0 1.0 ... 1.0 1.0 1.0 1.0 1.0"
      ]
     },
     "execution_count": 2,
     "metadata": {},
     "output_type": "execute_result"
    }
   ],
   "source": [
    "%%time\n",
    "# get test xarray data\n",
    "test_ds: xr.Dataset = xr.tutorial.load_dataset('air_temperature')\n",
    "test_ds.attrs = {}\n",
    "test_ds: xr.DataArray = test_ds.rename_vars(\n",
    "    {'air': 'water_temp_c'}\n",
    ").isel(time=0)\n",
    "test_ds['surface_area'] = test_ds.water_temp_c / test_ds.water_temp_c\n",
    "test_ds['volume'] = test_ds.water_temp_c / test_ds.water_temp_c\n",
    "\n",
    "test_ds"
   ]
  },
  {
   "cell_type": "markdown",
   "id": "ce7fc452-52ca-479d-87d6-f393bef7c8f3",
   "metadata": {},
   "source": [
    "# Init TSM moel"
   ]
  },
  {
   "cell_type": "code",
   "execution_count": 3,
   "id": "d55daa37-b40e-46d4-a8be-bdd8a4e73a62",
   "metadata": {
    "tags": []
   },
   "outputs": [
    {
     "data": {
      "text/plain": [
       "['EnergyBudget',\n",
       " '__builtins__',\n",
       " '__cached__',\n",
       " '__doc__',\n",
       " '__file__',\n",
       " '__loader__',\n",
       " '__name__',\n",
       " '__package__',\n",
       " '__path__',\n",
       " '__spec__',\n",
       " 'constants',\n",
       " 'dynamic_variables',\n",
       " 'model',\n",
       " 'processes',\n",
       " 'state_variables',\n",
       " 'static_variables']"
      ]
     },
     "execution_count": 3,
     "metadata": {},
     "output_type": "execute_result"
    }
   ],
   "source": [
    "dir(clearwater_modules.tsm)"
   ]
  },
  {
   "cell_type": "code",
   "execution_count": 4,
   "id": "b8a95f05-7c84-4f2d-b930-55578dc020fc",
   "metadata": {
    "tags": []
   },
   "outputs": [
    {
     "data": {
      "text/plain": [
       "[Variable(name='water_temp_c', long_name='Water temperature', units='degC', description='TSM state variable for water temperature', use='state', process=CPUDispatcher(<function t_water_c at 0x000001F667EF47C0>)),\n",
       " Variable(name='surface_area', long_name='Surface area', units='m^2', description='Surface area', use='state', process=<function mock_surface_area at 0x000001F6642FE8E0>),\n",
       " Variable(name='volume', long_name='Volume', units='m^3', description='Volume', use='state', process=<function mock_volume at 0x000001F667EF4CC0>)]"
      ]
     },
     "execution_count": 4,
     "metadata": {},
     "output_type": "execute_result"
    }
   ],
   "source": [
    "clearwater_modules.tsm.EnergyBudget.get_state_variables()"
   ]
  },
  {
   "cell_type": "code",
   "execution_count": 5,
   "id": "cd098fea-65cc-470e-84a1-782f315e74c5",
   "metadata": {
    "tags": []
   },
   "outputs": [
    {
     "name": "stdout",
     "output_type": "stream",
     "text": [
      "Initializing from dicts...\n",
      "Model initialized from input dicts successfully!.\n",
      "CPU times: total: 78.1 ms\n",
      "Wall time: 72.7 ms\n"
     ]
    }
   ],
   "source": [
    "%%time\n",
    "tsm_model = clearwater_modules.tsm.EnergyBudget(\n",
    "    initial_state_values={\n",
    "        'water_temp_c': test_ds.water_temp_c,\n",
    "        'surface_area': test_ds.surface_area,\n",
    "        'volume': test_ds.volume,\n",
    "    },\n",
    ")"
   ]
  },
  {
   "cell_type": "markdown",
   "id": "b39fc1d3-19f3-4b7a-a9f5-3ca26b506722",
   "metadata": {},
   "source": [
    "# Define not-default approach"
   ]
  },
  {
   "cell_type": "code",
   "execution_count": 6,
   "id": "bb3152e5-fa0a-4237-9ff7-847a62a8e9d6",
   "metadata": {
    "tags": []
   },
   "outputs": [],
   "source": [
    "from clearwater_modules.utils import (\n",
    "    Variable,\n",
    "    sorter,\n",
    ")"
   ]
  },
  {
   "cell_type": "code",
   "execution_count": 7,
   "id": "bd069422-ba43-4f48-a6e7-26332f7c65e4",
   "metadata": {
    "tags": []
   },
   "outputs": [],
   "source": [
    "# V2: no JIT compile \n",
    "def v2_iter_computations(\n",
    "    input_dataset: xr.Dataset,\n",
    "    compute_order: list[Variable],\n",
    ") -> xr.Dataset:\n",
    "    for var in compute_order:\n",
    "        input_vars: list[str] = sorter.get_process_args(var.process)\n",
    "        input_dataset[var.name] = xr.apply_ufunc(\n",
    "            var.process,\n",
    "            *[input_dataset[name] for name in input_vars],\n",
    "        )\n",
    "    return input_dataset"
   ]
  },
  {
   "cell_type": "code",
   "execution_count": 8,
   "id": "86b85754-119d-4489-b8dd-1c52a9e02a0b",
   "metadata": {
    "tags": []
   },
   "outputs": [],
   "source": [
    "# V3: Trying to full JIT compile\n",
    "import numba\n",
    "import numpy as np\n",
    "\n",
    "def get_args(var: Variable) -> tuple[callable, list[np.ndarray]]:\n",
    "    func = var.process\n",
    "    args = sorter.get_process_args(var.process)\n",
    "    return (var.name, func, args)\n",
    "\n",
    "def get_arrays(input_dataset: xr.Dataset, arg_names: list[str]) -> list[np.array]:\n",
    "    return [input_dataset[name].values for name in arg_names]\n",
    "\n",
    "def get_inputs(input_dataset: xr.Dataset, var: Variable):\n",
    "    name, func, args = get_args(var)\n",
    "    arrays = get_arrays(input_dataset, args)\n",
    "    return name, func, args, arrays\n",
    "\n",
    "def v3_iter_computations(\n",
    "    input_dataset: xr.Dataset,\n",
    "    compute_order: list[Variable],\n",
    ") -> xr.Dataset:\n",
    "    #func_args: list[tuple[callable, list[str]]] = map(get_args, compute_order)\n",
    "    inputs = map(lambda x: get_inputs(input_dataset, x), compute_order)\n",
    "    for name, func, args, arrays in inputs:\n",
    "        array = func(*arrays)\n",
    "        input_dataset[name] = (input_dataset.dims, array)\n",
    "    return input_dataset"
   ]
  },
  {
   "cell_type": "markdown",
   "id": "624f5d1c-261b-4e0f-9c6c-68a800ab4083",
   "metadata": {},
   "source": [
    "# Run compute iterations with each version\n",
    "\n",
    "**Findings:**\n",
    "* The majority of the timestep is not running calculations, but rather `xarray` IO.\n",
    "* As is (`forceobj=True`), JIT compile vs non-JIT compile are about the same speed\n",
    "* `map_blocks()` instead of `apply_ufunc` seemed like it could be a decent approach, however, this passes `xr.DataArray`s into our process functions, which are currently JIT compiled, which throws an error."
   ]
  },
  {
   "cell_type": "code",
   "execution_count": 13,
   "id": "e59415cf-f52a-4674-a213-1a5e2223da00",
   "metadata": {
    "tags": []
   },
   "outputs": [
    {
     "name": "stdout",
     "output_type": "stream",
     "text": [
      "47.4 ms ± 3.18 ms per loop (mean ± std. dev. of 7 runs, 10 loops each)\n"
     ]
    }
   ],
   "source": [
    "%%timeit\n",
    "tsm_model.increment_timestep()"
   ]
  },
  {
   "cell_type": "code",
   "execution_count": 10,
   "id": "9584bda8-3a19-4fa3-845a-219d64b2a6e1",
   "metadata": {
    "tags": []
   },
   "outputs": [
    {
     "name": "stdout",
     "output_type": "stream",
     "text": [
      "36 ms ± 1.05 ms per loop (mean ± std. dev. of 7 runs, 10 loops each)\n"
     ]
    }
   ],
   "source": [
    "%%timeit\n",
    "clearwater_modules.utils.iter_computations(\n",
    "    tsm_model.dataset.isel(time_step=-1),\n",
    "    tsm_model.computation_order,\n",
    ")"
   ]
  },
  {
   "cell_type": "code",
   "execution_count": 11,
   "id": "adcf2992-c622-4e42-8973-138a554755a7",
   "metadata": {
    "tags": []
   },
   "outputs": [
    {
     "name": "stdout",
     "output_type": "stream",
     "text": [
      "35.8 ms ± 2.41 ms per loop (mean ± std. dev. of 7 runs, 10 loops each)\n"
     ]
    }
   ],
   "source": [
    "%%timeit\n",
    "v2_iter_computations(\n",
    "    tsm_model.dataset.isel(time_step=-1),\n",
    "    tsm_model.computation_order,\n",
    ")"
   ]
  },
  {
   "cell_type": "code",
   "execution_count": 12,
   "id": "a91e7ca3-3a04-4669-a746-365cb586ae2d",
   "metadata": {
    "tags": []
   },
   "outputs": [
    {
     "name": "stdout",
     "output_type": "stream",
     "text": [
      "19 ms ± 924 µs per loop (mean ± std. dev. of 7 runs, 10 loops each)\n"
     ]
    }
   ],
   "source": [
    "%%timeit\n",
    "v3_iter_computations(\n",
    "    tsm_model.dataset.isel(time_step=-1),\n",
    "    tsm_model.computation_order,\n",
    ")"
   ]
  },
  {
   "cell_type": "code",
   "execution_count": null,
   "id": "a09a98c2-d754-4d91-b178-3cd483a13fea",
   "metadata": {},
   "outputs": [],
   "source": []
  },
  {
   "cell_type": "code",
   "execution_count": null,
   "id": "4bad9f96-dc10-4e0c-8de2-298b991dddb1",
   "metadata": {},
   "outputs": [],
   "source": []
  }
 ],
 "metadata": {
  "kernelspec": {
   "display_name": "Python 3 (ipykernel)",
   "language": "python",
   "name": "python3"
  },
  "language_info": {
   "codemirror_mode": {
    "name": "ipython",
    "version": 3
   },
   "file_extension": ".py",
   "mimetype": "text/x-python",
   "name": "python",
   "nbconvert_exporter": "python",
   "pygments_lexer": "ipython3",
   "version": "3.11.5"
  }
 },
 "nbformat": 4,
 "nbformat_minor": 5
}
