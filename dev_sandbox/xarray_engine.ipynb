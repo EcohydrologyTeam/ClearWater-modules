{
 "cells": [
  {
   "cell_type": "markdown",
   "id": "66ec5457-a4e4-4b5b-b28d-b891ede45006",
   "metadata": {},
   "source": [
    "# Xarray-simlab dev notebook\n",
    "\n",
    "**Author:** Xavier R Nogueira\n",
    "\n",
    "This is primarily to explore how we could use `xarray-simlab` for ClearWater."
   ]
  },
  {
   "cell_type": "code",
   "execution_count": null,
   "id": "a735dc40-352e-44ef-8e1a-9dee1f56c211",
   "metadata": {},
   "outputs": [],
   "source": []
  }
 ],
 "metadata": {
  "kernelspec": {
   "display_name": "Python 3 (ipykernel)",
   "language": "python",
   "name": "python3"
  },
  "language_info": {
   "codemirror_mode": {
    "name": "ipython",
    "version": 3
   },
   "file_extension": ".py",
   "mimetype": "text/x-python",
   "name": "python",
   "nbconvert_exporter": "python",
   "pygments_lexer": "ipython3",
   "version": "3.11.5"
  }
 },
 "nbformat": 4,
 "nbformat_minor": 5
}
