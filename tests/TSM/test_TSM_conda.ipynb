{
 "cells": [
  {
   "cell_type": "code",
   "execution_count": 2,
   "id": "315df706",
   "metadata": {},
   "outputs": [
    {
     "name": "stderr",
     "output_type": "stream",
     "text": [
      "F\n",
      "======================================================================\n",
      "FAIL: test_wind_speed_eq_3mps (__main__.Test_TSM_energy_budget_method)\n",
      "----------------------------------------------------------------------\n",
      "Traceback (most recent call last):\n",
      "  File \"C:\\Users\\b2edhijm\\AppData\\Local\\Temp\\2\\ipykernel_17284\\3044226913.py\", line 51, in test_wind_speed_eq_3mps\n",
      "    self.assertAlmostEqual(TwaterC, 58.45, 2)\n",
      "AssertionError: -12.187055794653823 != 58.45 within 2 places (70.63705579465383 difference)\n",
      "\n",
      "----------------------------------------------------------------------\n",
      "Ran 1 test in 0.001s\n",
      "\n",
      "FAILED (failures=1)\n"
     ]
    },
    {
     "name": "stdout",
     "output_type": "stream",
     "text": [
      "Test if wind_speed = 3.0 m/s yields TwaterC == 15.34 degC\n",
      "Pathways:\n",
      "     q_longwave_down     337.823 W/m2\n",
      "               q_net   -2503.950 W/m2\n",
      "          q_sensible    -362.664 W/m2\n",
      "          q_sediment    -936.880 W/m2\n",
      "            q_latent    1413.272 W/m2\n",
      "       q_longwave_up     528.956 W/m2\n",
      "               Ta_Tw      32.187 degC\n",
      "           Esat_Eair      72.775 mb\n",
      "               Ri_No      -0.195 \n",
      "              Ri_fxn       3.788 \n",
      "            dTsedCdt     302.400 \n",
      "          dTwaterCdt     -52.187 degC\n",
      "             TwaterC     -12.187 degC\n",
      "         Density Air       1.202 degC\n",
      "         Density Sat       1.095 degC\n",
      "          Wind Speed       3.000 degC\n"
     ]
    }
   ],
   "source": [
    "import unittest\n",
    "import os\n",
    "import sys\n",
    "\n",
    "#base_path = os.path.dirname(\n",
    "    #os.path.dirname(\n",
    "        #os.path.dirname(\n",
    "            #os.path.realpath(r'C:\\Users\\b2edhijm\\Documents\\Projects\\ERDC Steiss\\DLL\\Github Practice\\GitTest1'))))\n",
    "#tsm_path = os.path.join(base_path, 'src', 'TSM')\n",
    "#tsm_path=r'C:\\Users\\b2edhijm\\Documents\\Projects\\ERDC Steiss\\DLL\\Github Practice\\GitTest1'\n",
    "#sys.path.append(tsm_path)\n",
    "\n",
    "\n",
    "import TSM\n",
    "\n",
    "class Test_TSM_energy_budget_method(unittest.TestCase):\n",
    "    # Locate module path and add to system path\n",
    "\n",
    "    def setUp(self):\n",
    "        self.TwaterC = 20.0\n",
    "        self.surface_area = 50.0\n",
    "        self.volume = 1.0\n",
    "        self.TairC = 20.0\n",
    "        self.TsedC = 5.0\n",
    "        self.q_solar = 400.0\n",
    "        self.wind_kh_kw = 1.0\n",
    "        self.eair_mb = 1.0\n",
    "        self.pressure_mb = 1013.0\n",
    "        self.cloudiness = 0.1\n",
    "        self.wind_speed = 3.0\n",
    "        self.wind_a = 0.3\n",
    "        self.wind_b = 1.5\n",
    "        self.wind_c = 1.0\n",
    "        self.use_SedTemp = True\n",
    "        self.num_iterations = 10\n",
    "        self.tolerance = 0.01\n",
    "        self.time_step = 86400\n",
    "\n",
    "    def test_wind_speed_eq_3mps(self):\n",
    "        print('Test if wind_speed = 3.0 m/s yields TwaterC == 15.34 degC')\n",
    "        self.TwaterC = 40\n",
    "        self.surface_area = 1\n",
    "        #self.time_step = 1\n",
    "        #tsm = TSM.TSM(self.TwaterC, self.surface_area, self.volume)\n",
    "        TSM.energy_budget_method(self.TwaterC, self.surface_area, self.volume,\n",
    "            self.TairC, self.q_solar, self.pressure_mb, self.eair_mb, self.cloudiness, self.wind_speed, self.wind_a,\n",
    "            self.wind_b, self.wind_c, self.wind_kh_kw, self.use_SedTemp, self.TsedC, self.num_iterations, self.\n",
    "            tolerance, self.time_step)\n",
    "        TSM.print_pathways()\n",
    "        TwaterC = TSM.pathways['TwaterC']['value']\n",
    "        self.assertAlmostEqual(TwaterC, 58.45, 2)\n",
    "        \n",
    "    \n",
    "if __name__ == '__main__':\n",
    "    unittest.main(argv=['first-arg-is-ignored'], exit=False)"
   ]
  },
  {
   "cell_type": "code",
   "execution_count": null,
   "id": "8a734f0d",
   "metadata": {},
   "outputs": [],
   "source": []
  }
 ],
 "metadata": {
  "kernelspec": {
   "display_name": "DLL",
   "language": "python",
   "name": "dll"
  },
  "language_info": {
   "codemirror_mode": {
    "name": "ipython",
    "version": 3
   },
   "file_extension": ".py",
   "mimetype": "text/x-python",
   "name": "python",
   "nbconvert_exporter": "python",
   "pygments_lexer": "ipython3",
   "version": "3.9.13"
  }
 },
 "nbformat": 4,
 "nbformat_minor": 5
}
